{
  "nbformat": 4,
  "nbformat_minor": 0,
  "metadata": {
    "colab": {
      "provenance": [],
      "toc_visible": true,
      "include_colab_link": true
    },
    "kernelspec": {
      "name": "python3",
      "display_name": "Python 3"
    },
    "language_info": {
      "name": "python"
    },
    "widgets": {
      "application/vnd.jupyter.widget-state+json": {
        "1100b900ac814d55abe84db0bd5d0017": {
          "model_module": "@jupyter-widgets/controls",
          "model_name": "HBoxModel",
          "model_module_version": "1.5.0",
          "state": {
            "_dom_classes": [],
            "_model_module": "@jupyter-widgets/controls",
            "_model_module_version": "1.5.0",
            "_model_name": "HBoxModel",
            "_view_count": null,
            "_view_module": "@jupyter-widgets/controls",
            "_view_module_version": "1.5.0",
            "_view_name": "HBoxView",
            "box_style": "",
            "children": [
              "IPY_MODEL_274350e5c1454643bfd69223dcb22dd5",
              "IPY_MODEL_c78bf0e07e0b4275aba21c3e86658347",
              "IPY_MODEL_3739e94b123048fba277b98c2b429b82"
            ],
            "layout": "IPY_MODEL_e2e3828b9228413eabbf8a7e1e00b632"
          }
        },
        "274350e5c1454643bfd69223dcb22dd5": {
          "model_module": "@jupyter-widgets/controls",
          "model_name": "HTMLModel",
          "model_module_version": "1.5.0",
          "state": {
            "_dom_classes": [],
            "_model_module": "@jupyter-widgets/controls",
            "_model_module_version": "1.5.0",
            "_model_name": "HTMLModel",
            "_view_count": null,
            "_view_module": "@jupyter-widgets/controls",
            "_view_module_version": "1.5.0",
            "_view_name": "HTMLView",
            "description": "",
            "description_tooltip": null,
            "layout": "IPY_MODEL_a9d20f1e021d4522adb022d98da6ef9b",
            "placeholder": "​",
            "style": "IPY_MODEL_991d6adc204445acbc3f59cfb2fa56c1",
            "value": "tokenizer_config.json: 100%"
          }
        },
        "c78bf0e07e0b4275aba21c3e86658347": {
          "model_module": "@jupyter-widgets/controls",
          "model_name": "FloatProgressModel",
          "model_module_version": "1.5.0",
          "state": {
            "_dom_classes": [],
            "_model_module": "@jupyter-widgets/controls",
            "_model_module_version": "1.5.0",
            "_model_name": "FloatProgressModel",
            "_view_count": null,
            "_view_module": "@jupyter-widgets/controls",
            "_view_module_version": "1.5.0",
            "_view_name": "ProgressView",
            "bar_style": "success",
            "description": "",
            "description_tooltip": null,
            "layout": "IPY_MODEL_4e6e36190c5c4ed1b82df6da11cc82e2",
            "max": 48,
            "min": 0,
            "orientation": "horizontal",
            "style": "IPY_MODEL_d6536e43002d4723bb026961403c53cb",
            "value": 48
          }
        },
        "3739e94b123048fba277b98c2b429b82": {
          "model_module": "@jupyter-widgets/controls",
          "model_name": "HTMLModel",
          "model_module_version": "1.5.0",
          "state": {
            "_dom_classes": [],
            "_model_module": "@jupyter-widgets/controls",
            "_model_module_version": "1.5.0",
            "_model_name": "HTMLModel",
            "_view_count": null,
            "_view_module": "@jupyter-widgets/controls",
            "_view_module_version": "1.5.0",
            "_view_name": "HTMLView",
            "description": "",
            "description_tooltip": null,
            "layout": "IPY_MODEL_5f2f2e7fb02e43b39983029b4a7b0dbf",
            "placeholder": "​",
            "style": "IPY_MODEL_57c9570752f7477d8edb32fdc246a70b",
            "value": " 48.0/48.0 [00:00&lt;00:00, 2.50kB/s]"
          }
        },
        "e2e3828b9228413eabbf8a7e1e00b632": {
          "model_module": "@jupyter-widgets/base",
          "model_name": "LayoutModel",
          "model_module_version": "1.2.0",
          "state": {
            "_model_module": "@jupyter-widgets/base",
            "_model_module_version": "1.2.0",
            "_model_name": "LayoutModel",
            "_view_count": null,
            "_view_module": "@jupyter-widgets/base",
            "_view_module_version": "1.2.0",
            "_view_name": "LayoutView",
            "align_content": null,
            "align_items": null,
            "align_self": null,
            "border": null,
            "bottom": null,
            "display": null,
            "flex": null,
            "flex_flow": null,
            "grid_area": null,
            "grid_auto_columns": null,
            "grid_auto_flow": null,
            "grid_auto_rows": null,
            "grid_column": null,
            "grid_gap": null,
            "grid_row": null,
            "grid_template_areas": null,
            "grid_template_columns": null,
            "grid_template_rows": null,
            "height": null,
            "justify_content": null,
            "justify_items": null,
            "left": null,
            "margin": null,
            "max_height": null,
            "max_width": null,
            "min_height": null,
            "min_width": null,
            "object_fit": null,
            "object_position": null,
            "order": null,
            "overflow": null,
            "overflow_x": null,
            "overflow_y": null,
            "padding": null,
            "right": null,
            "top": null,
            "visibility": null,
            "width": null
          }
        },
        "a9d20f1e021d4522adb022d98da6ef9b": {
          "model_module": "@jupyter-widgets/base",
          "model_name": "LayoutModel",
          "model_module_version": "1.2.0",
          "state": {
            "_model_module": "@jupyter-widgets/base",
            "_model_module_version": "1.2.0",
            "_model_name": "LayoutModel",
            "_view_count": null,
            "_view_module": "@jupyter-widgets/base",
            "_view_module_version": "1.2.0",
            "_view_name": "LayoutView",
            "align_content": null,
            "align_items": null,
            "align_self": null,
            "border": null,
            "bottom": null,
            "display": null,
            "flex": null,
            "flex_flow": null,
            "grid_area": null,
            "grid_auto_columns": null,
            "grid_auto_flow": null,
            "grid_auto_rows": null,
            "grid_column": null,
            "grid_gap": null,
            "grid_row": null,
            "grid_template_areas": null,
            "grid_template_columns": null,
            "grid_template_rows": null,
            "height": null,
            "justify_content": null,
            "justify_items": null,
            "left": null,
            "margin": null,
            "max_height": null,
            "max_width": null,
            "min_height": null,
            "min_width": null,
            "object_fit": null,
            "object_position": null,
            "order": null,
            "overflow": null,
            "overflow_x": null,
            "overflow_y": null,
            "padding": null,
            "right": null,
            "top": null,
            "visibility": null,
            "width": null
          }
        },
        "991d6adc204445acbc3f59cfb2fa56c1": {
          "model_module": "@jupyter-widgets/controls",
          "model_name": "DescriptionStyleModel",
          "model_module_version": "1.5.0",
          "state": {
            "_model_module": "@jupyter-widgets/controls",
            "_model_module_version": "1.5.0",
            "_model_name": "DescriptionStyleModel",
            "_view_count": null,
            "_view_module": "@jupyter-widgets/base",
            "_view_module_version": "1.2.0",
            "_view_name": "StyleView",
            "description_width": ""
          }
        },
        "4e6e36190c5c4ed1b82df6da11cc82e2": {
          "model_module": "@jupyter-widgets/base",
          "model_name": "LayoutModel",
          "model_module_version": "1.2.0",
          "state": {
            "_model_module": "@jupyter-widgets/base",
            "_model_module_version": "1.2.0",
            "_model_name": "LayoutModel",
            "_view_count": null,
            "_view_module": "@jupyter-widgets/base",
            "_view_module_version": "1.2.0",
            "_view_name": "LayoutView",
            "align_content": null,
            "align_items": null,
            "align_self": null,
            "border": null,
            "bottom": null,
            "display": null,
            "flex": null,
            "flex_flow": null,
            "grid_area": null,
            "grid_auto_columns": null,
            "grid_auto_flow": null,
            "grid_auto_rows": null,
            "grid_column": null,
            "grid_gap": null,
            "grid_row": null,
            "grid_template_areas": null,
            "grid_template_columns": null,
            "grid_template_rows": null,
            "height": null,
            "justify_content": null,
            "justify_items": null,
            "left": null,
            "margin": null,
            "max_height": null,
            "max_width": null,
            "min_height": null,
            "min_width": null,
            "object_fit": null,
            "object_position": null,
            "order": null,
            "overflow": null,
            "overflow_x": null,
            "overflow_y": null,
            "padding": null,
            "right": null,
            "top": null,
            "visibility": null,
            "width": null
          }
        },
        "d6536e43002d4723bb026961403c53cb": {
          "model_module": "@jupyter-widgets/controls",
          "model_name": "ProgressStyleModel",
          "model_module_version": "1.5.0",
          "state": {
            "_model_module": "@jupyter-widgets/controls",
            "_model_module_version": "1.5.0",
            "_model_name": "ProgressStyleModel",
            "_view_count": null,
            "_view_module": "@jupyter-widgets/base",
            "_view_module_version": "1.2.0",
            "_view_name": "StyleView",
            "bar_color": null,
            "description_width": ""
          }
        },
        "5f2f2e7fb02e43b39983029b4a7b0dbf": {
          "model_module": "@jupyter-widgets/base",
          "model_name": "LayoutModel",
          "model_module_version": "1.2.0",
          "state": {
            "_model_module": "@jupyter-widgets/base",
            "_model_module_version": "1.2.0",
            "_model_name": "LayoutModel",
            "_view_count": null,
            "_view_module": "@jupyter-widgets/base",
            "_view_module_version": "1.2.0",
            "_view_name": "LayoutView",
            "align_content": null,
            "align_items": null,
            "align_self": null,
            "border": null,
            "bottom": null,
            "display": null,
            "flex": null,
            "flex_flow": null,
            "grid_area": null,
            "grid_auto_columns": null,
            "grid_auto_flow": null,
            "grid_auto_rows": null,
            "grid_column": null,
            "grid_gap": null,
            "grid_row": null,
            "grid_template_areas": null,
            "grid_template_columns": null,
            "grid_template_rows": null,
            "height": null,
            "justify_content": null,
            "justify_items": null,
            "left": null,
            "margin": null,
            "max_height": null,
            "max_width": null,
            "min_height": null,
            "min_width": null,
            "object_fit": null,
            "object_position": null,
            "order": null,
            "overflow": null,
            "overflow_x": null,
            "overflow_y": null,
            "padding": null,
            "right": null,
            "top": null,
            "visibility": null,
            "width": null
          }
        },
        "57c9570752f7477d8edb32fdc246a70b": {
          "model_module": "@jupyter-widgets/controls",
          "model_name": "DescriptionStyleModel",
          "model_module_version": "1.5.0",
          "state": {
            "_model_module": "@jupyter-widgets/controls",
            "_model_module_version": "1.5.0",
            "_model_name": "DescriptionStyleModel",
            "_view_count": null,
            "_view_module": "@jupyter-widgets/base",
            "_view_module_version": "1.2.0",
            "_view_name": "StyleView",
            "description_width": ""
          }
        },
        "dd879d2409674c19b8c82a517dbd7677": {
          "model_module": "@jupyter-widgets/controls",
          "model_name": "HBoxModel",
          "model_module_version": "1.5.0",
          "state": {
            "_dom_classes": [],
            "_model_module": "@jupyter-widgets/controls",
            "_model_module_version": "1.5.0",
            "_model_name": "HBoxModel",
            "_view_count": null,
            "_view_module": "@jupyter-widgets/controls",
            "_view_module_version": "1.5.0",
            "_view_name": "HBoxView",
            "box_style": "",
            "children": [
              "IPY_MODEL_681e72f95f704160b0d99f52840aeecf",
              "IPY_MODEL_34ee388dcf124b75b9d9b514732244b6",
              "IPY_MODEL_a6f66ea3fbfb4b4ab218ad459873ade1"
            ],
            "layout": "IPY_MODEL_d3f7c10b79e84e589ce6b1de94e9ee51"
          }
        },
        "681e72f95f704160b0d99f52840aeecf": {
          "model_module": "@jupyter-widgets/controls",
          "model_name": "HTMLModel",
          "model_module_version": "1.5.0",
          "state": {
            "_dom_classes": [],
            "_model_module": "@jupyter-widgets/controls",
            "_model_module_version": "1.5.0",
            "_model_name": "HTMLModel",
            "_view_count": null,
            "_view_module": "@jupyter-widgets/controls",
            "_view_module_version": "1.5.0",
            "_view_name": "HTMLView",
            "description": "",
            "description_tooltip": null,
            "layout": "IPY_MODEL_8530acd88c5947e289cf479cae7cd89d",
            "placeholder": "​",
            "style": "IPY_MODEL_4a44f3114af043909c34211109d505c2",
            "value": "vocab.txt: 100%"
          }
        },
        "34ee388dcf124b75b9d9b514732244b6": {
          "model_module": "@jupyter-widgets/controls",
          "model_name": "FloatProgressModel",
          "model_module_version": "1.5.0",
          "state": {
            "_dom_classes": [],
            "_model_module": "@jupyter-widgets/controls",
            "_model_module_version": "1.5.0",
            "_model_name": "FloatProgressModel",
            "_view_count": null,
            "_view_module": "@jupyter-widgets/controls",
            "_view_module_version": "1.5.0",
            "_view_name": "ProgressView",
            "bar_style": "success",
            "description": "",
            "description_tooltip": null,
            "layout": "IPY_MODEL_fa5fffc6dba142dab29e2ddc8365031a",
            "max": 231508,
            "min": 0,
            "orientation": "horizontal",
            "style": "IPY_MODEL_363e298411644f42a3338c3f22f8a253",
            "value": 231508
          }
        },
        "a6f66ea3fbfb4b4ab218ad459873ade1": {
          "model_module": "@jupyter-widgets/controls",
          "model_name": "HTMLModel",
          "model_module_version": "1.5.0",
          "state": {
            "_dom_classes": [],
            "_model_module": "@jupyter-widgets/controls",
            "_model_module_version": "1.5.0",
            "_model_name": "HTMLModel",
            "_view_count": null,
            "_view_module": "@jupyter-widgets/controls",
            "_view_module_version": "1.5.0",
            "_view_name": "HTMLView",
            "description": "",
            "description_tooltip": null,
            "layout": "IPY_MODEL_8581f8881d5640ea8330beac48f8e952",
            "placeholder": "​",
            "style": "IPY_MODEL_21cc82d90fa94cb08bdb7c8be88d3944",
            "value": " 232k/232k [00:00&lt;00:00, 821kB/s]"
          }
        },
        "d3f7c10b79e84e589ce6b1de94e9ee51": {
          "model_module": "@jupyter-widgets/base",
          "model_name": "LayoutModel",
          "model_module_version": "1.2.0",
          "state": {
            "_model_module": "@jupyter-widgets/base",
            "_model_module_version": "1.2.0",
            "_model_name": "LayoutModel",
            "_view_count": null,
            "_view_module": "@jupyter-widgets/base",
            "_view_module_version": "1.2.0",
            "_view_name": "LayoutView",
            "align_content": null,
            "align_items": null,
            "align_self": null,
            "border": null,
            "bottom": null,
            "display": null,
            "flex": null,
            "flex_flow": null,
            "grid_area": null,
            "grid_auto_columns": null,
            "grid_auto_flow": null,
            "grid_auto_rows": null,
            "grid_column": null,
            "grid_gap": null,
            "grid_row": null,
            "grid_template_areas": null,
            "grid_template_columns": null,
            "grid_template_rows": null,
            "height": null,
            "justify_content": null,
            "justify_items": null,
            "left": null,
            "margin": null,
            "max_height": null,
            "max_width": null,
            "min_height": null,
            "min_width": null,
            "object_fit": null,
            "object_position": null,
            "order": null,
            "overflow": null,
            "overflow_x": null,
            "overflow_y": null,
            "padding": null,
            "right": null,
            "top": null,
            "visibility": null,
            "width": null
          }
        },
        "8530acd88c5947e289cf479cae7cd89d": {
          "model_module": "@jupyter-widgets/base",
          "model_name": "LayoutModel",
          "model_module_version": "1.2.0",
          "state": {
            "_model_module": "@jupyter-widgets/base",
            "_model_module_version": "1.2.0",
            "_model_name": "LayoutModel",
            "_view_count": null,
            "_view_module": "@jupyter-widgets/base",
            "_view_module_version": "1.2.0",
            "_view_name": "LayoutView",
            "align_content": null,
            "align_items": null,
            "align_self": null,
            "border": null,
            "bottom": null,
            "display": null,
            "flex": null,
            "flex_flow": null,
            "grid_area": null,
            "grid_auto_columns": null,
            "grid_auto_flow": null,
            "grid_auto_rows": null,
            "grid_column": null,
            "grid_gap": null,
            "grid_row": null,
            "grid_template_areas": null,
            "grid_template_columns": null,
            "grid_template_rows": null,
            "height": null,
            "justify_content": null,
            "justify_items": null,
            "left": null,
            "margin": null,
            "max_height": null,
            "max_width": null,
            "min_height": null,
            "min_width": null,
            "object_fit": null,
            "object_position": null,
            "order": null,
            "overflow": null,
            "overflow_x": null,
            "overflow_y": null,
            "padding": null,
            "right": null,
            "top": null,
            "visibility": null,
            "width": null
          }
        },
        "4a44f3114af043909c34211109d505c2": {
          "model_module": "@jupyter-widgets/controls",
          "model_name": "DescriptionStyleModel",
          "model_module_version": "1.5.0",
          "state": {
            "_model_module": "@jupyter-widgets/controls",
            "_model_module_version": "1.5.0",
            "_model_name": "DescriptionStyleModel",
            "_view_count": null,
            "_view_module": "@jupyter-widgets/base",
            "_view_module_version": "1.2.0",
            "_view_name": "StyleView",
            "description_width": ""
          }
        },
        "fa5fffc6dba142dab29e2ddc8365031a": {
          "model_module": "@jupyter-widgets/base",
          "model_name": "LayoutModel",
          "model_module_version": "1.2.0",
          "state": {
            "_model_module": "@jupyter-widgets/base",
            "_model_module_version": "1.2.0",
            "_model_name": "LayoutModel",
            "_view_count": null,
            "_view_module": "@jupyter-widgets/base",
            "_view_module_version": "1.2.0",
            "_view_name": "LayoutView",
            "align_content": null,
            "align_items": null,
            "align_self": null,
            "border": null,
            "bottom": null,
            "display": null,
            "flex": null,
            "flex_flow": null,
            "grid_area": null,
            "grid_auto_columns": null,
            "grid_auto_flow": null,
            "grid_auto_rows": null,
            "grid_column": null,
            "grid_gap": null,
            "grid_row": null,
            "grid_template_areas": null,
            "grid_template_columns": null,
            "grid_template_rows": null,
            "height": null,
            "justify_content": null,
            "justify_items": null,
            "left": null,
            "margin": null,
            "max_height": null,
            "max_width": null,
            "min_height": null,
            "min_width": null,
            "object_fit": null,
            "object_position": null,
            "order": null,
            "overflow": null,
            "overflow_x": null,
            "overflow_y": null,
            "padding": null,
            "right": null,
            "top": null,
            "visibility": null,
            "width": null
          }
        },
        "363e298411644f42a3338c3f22f8a253": {
          "model_module": "@jupyter-widgets/controls",
          "model_name": "ProgressStyleModel",
          "model_module_version": "1.5.0",
          "state": {
            "_model_module": "@jupyter-widgets/controls",
            "_model_module_version": "1.5.0",
            "_model_name": "ProgressStyleModel",
            "_view_count": null,
            "_view_module": "@jupyter-widgets/base",
            "_view_module_version": "1.2.0",
            "_view_name": "StyleView",
            "bar_color": null,
            "description_width": ""
          }
        },
        "8581f8881d5640ea8330beac48f8e952": {
          "model_module": "@jupyter-widgets/base",
          "model_name": "LayoutModel",
          "model_module_version": "1.2.0",
          "state": {
            "_model_module": "@jupyter-widgets/base",
            "_model_module_version": "1.2.0",
            "_model_name": "LayoutModel",
            "_view_count": null,
            "_view_module": "@jupyter-widgets/base",
            "_view_module_version": "1.2.0",
            "_view_name": "LayoutView",
            "align_content": null,
            "align_items": null,
            "align_self": null,
            "border": null,
            "bottom": null,
            "display": null,
            "flex": null,
            "flex_flow": null,
            "grid_area": null,
            "grid_auto_columns": null,
            "grid_auto_flow": null,
            "grid_auto_rows": null,
            "grid_column": null,
            "grid_gap": null,
            "grid_row": null,
            "grid_template_areas": null,
            "grid_template_columns": null,
            "grid_template_rows": null,
            "height": null,
            "justify_content": null,
            "justify_items": null,
            "left": null,
            "margin": null,
            "max_height": null,
            "max_width": null,
            "min_height": null,
            "min_width": null,
            "object_fit": null,
            "object_position": null,
            "order": null,
            "overflow": null,
            "overflow_x": null,
            "overflow_y": null,
            "padding": null,
            "right": null,
            "top": null,
            "visibility": null,
            "width": null
          }
        },
        "21cc82d90fa94cb08bdb7c8be88d3944": {
          "model_module": "@jupyter-widgets/controls",
          "model_name": "DescriptionStyleModel",
          "model_module_version": "1.5.0",
          "state": {
            "_model_module": "@jupyter-widgets/controls",
            "_model_module_version": "1.5.0",
            "_model_name": "DescriptionStyleModel",
            "_view_count": null,
            "_view_module": "@jupyter-widgets/base",
            "_view_module_version": "1.2.0",
            "_view_name": "StyleView",
            "description_width": ""
          }
        },
        "b576b6cbf5494f45966994c917cae41a": {
          "model_module": "@jupyter-widgets/controls",
          "model_name": "HBoxModel",
          "model_module_version": "1.5.0",
          "state": {
            "_dom_classes": [],
            "_model_module": "@jupyter-widgets/controls",
            "_model_module_version": "1.5.0",
            "_model_name": "HBoxModel",
            "_view_count": null,
            "_view_module": "@jupyter-widgets/controls",
            "_view_module_version": "1.5.0",
            "_view_name": "HBoxView",
            "box_style": "",
            "children": [
              "IPY_MODEL_2f69eb4364ad47369703ff9785fe4435",
              "IPY_MODEL_4545ef0b871c410898d48fa5821a88e4",
              "IPY_MODEL_32b6ad36d4f244519ca67e175e500a6c"
            ],
            "layout": "IPY_MODEL_265f551852cb49559136fb43c2db5c3d"
          }
        },
        "2f69eb4364ad47369703ff9785fe4435": {
          "model_module": "@jupyter-widgets/controls",
          "model_name": "HTMLModel",
          "model_module_version": "1.5.0",
          "state": {
            "_dom_classes": [],
            "_model_module": "@jupyter-widgets/controls",
            "_model_module_version": "1.5.0",
            "_model_name": "HTMLModel",
            "_view_count": null,
            "_view_module": "@jupyter-widgets/controls",
            "_view_module_version": "1.5.0",
            "_view_name": "HTMLView",
            "description": "",
            "description_tooltip": null,
            "layout": "IPY_MODEL_767f12f3e3704d50b2768b72dd46f420",
            "placeholder": "​",
            "style": "IPY_MODEL_8baef5a4bd854754ba7718aaf53efc82",
            "value": "tokenizer.json: 100%"
          }
        },
        "4545ef0b871c410898d48fa5821a88e4": {
          "model_module": "@jupyter-widgets/controls",
          "model_name": "FloatProgressModel",
          "model_module_version": "1.5.0",
          "state": {
            "_dom_classes": [],
            "_model_module": "@jupyter-widgets/controls",
            "_model_module_version": "1.5.0",
            "_model_name": "FloatProgressModel",
            "_view_count": null,
            "_view_module": "@jupyter-widgets/controls",
            "_view_module_version": "1.5.0",
            "_view_name": "ProgressView",
            "bar_style": "success",
            "description": "",
            "description_tooltip": null,
            "layout": "IPY_MODEL_d22045961cfc4700b9bc71c51445acbe",
            "max": 466062,
            "min": 0,
            "orientation": "horizontal",
            "style": "IPY_MODEL_40a83e8cd9194702983bf2e5a121d03f",
            "value": 466062
          }
        },
        "32b6ad36d4f244519ca67e175e500a6c": {
          "model_module": "@jupyter-widgets/controls",
          "model_name": "HTMLModel",
          "model_module_version": "1.5.0",
          "state": {
            "_dom_classes": [],
            "_model_module": "@jupyter-widgets/controls",
            "_model_module_version": "1.5.0",
            "_model_name": "HTMLModel",
            "_view_count": null,
            "_view_module": "@jupyter-widgets/controls",
            "_view_module_version": "1.5.0",
            "_view_name": "HTMLView",
            "description": "",
            "description_tooltip": null,
            "layout": "IPY_MODEL_1d67bf61fd454287a0b6c6bb1b844f11",
            "placeholder": "​",
            "style": "IPY_MODEL_8e7e1602436a4aa497e5a04b81eb5a9a",
            "value": " 466k/466k [00:00&lt;00:00, 5.31MB/s]"
          }
        },
        "265f551852cb49559136fb43c2db5c3d": {
          "model_module": "@jupyter-widgets/base",
          "model_name": "LayoutModel",
          "model_module_version": "1.2.0",
          "state": {
            "_model_module": "@jupyter-widgets/base",
            "_model_module_version": "1.2.0",
            "_model_name": "LayoutModel",
            "_view_count": null,
            "_view_module": "@jupyter-widgets/base",
            "_view_module_version": "1.2.0",
            "_view_name": "LayoutView",
            "align_content": null,
            "align_items": null,
            "align_self": null,
            "border": null,
            "bottom": null,
            "display": null,
            "flex": null,
            "flex_flow": null,
            "grid_area": null,
            "grid_auto_columns": null,
            "grid_auto_flow": null,
            "grid_auto_rows": null,
            "grid_column": null,
            "grid_gap": null,
            "grid_row": null,
            "grid_template_areas": null,
            "grid_template_columns": null,
            "grid_template_rows": null,
            "height": null,
            "justify_content": null,
            "justify_items": null,
            "left": null,
            "margin": null,
            "max_height": null,
            "max_width": null,
            "min_height": null,
            "min_width": null,
            "object_fit": null,
            "object_position": null,
            "order": null,
            "overflow": null,
            "overflow_x": null,
            "overflow_y": null,
            "padding": null,
            "right": null,
            "top": null,
            "visibility": null,
            "width": null
          }
        },
        "767f12f3e3704d50b2768b72dd46f420": {
          "model_module": "@jupyter-widgets/base",
          "model_name": "LayoutModel",
          "model_module_version": "1.2.0",
          "state": {
            "_model_module": "@jupyter-widgets/base",
            "_model_module_version": "1.2.0",
            "_model_name": "LayoutModel",
            "_view_count": null,
            "_view_module": "@jupyter-widgets/base",
            "_view_module_version": "1.2.0",
            "_view_name": "LayoutView",
            "align_content": null,
            "align_items": null,
            "align_self": null,
            "border": null,
            "bottom": null,
            "display": null,
            "flex": null,
            "flex_flow": null,
            "grid_area": null,
            "grid_auto_columns": null,
            "grid_auto_flow": null,
            "grid_auto_rows": null,
            "grid_column": null,
            "grid_gap": null,
            "grid_row": null,
            "grid_template_areas": null,
            "grid_template_columns": null,
            "grid_template_rows": null,
            "height": null,
            "justify_content": null,
            "justify_items": null,
            "left": null,
            "margin": null,
            "max_height": null,
            "max_width": null,
            "min_height": null,
            "min_width": null,
            "object_fit": null,
            "object_position": null,
            "order": null,
            "overflow": null,
            "overflow_x": null,
            "overflow_y": null,
            "padding": null,
            "right": null,
            "top": null,
            "visibility": null,
            "width": null
          }
        },
        "8baef5a4bd854754ba7718aaf53efc82": {
          "model_module": "@jupyter-widgets/controls",
          "model_name": "DescriptionStyleModel",
          "model_module_version": "1.5.0",
          "state": {
            "_model_module": "@jupyter-widgets/controls",
            "_model_module_version": "1.5.0",
            "_model_name": "DescriptionStyleModel",
            "_view_count": null,
            "_view_module": "@jupyter-widgets/base",
            "_view_module_version": "1.2.0",
            "_view_name": "StyleView",
            "description_width": ""
          }
        },
        "d22045961cfc4700b9bc71c51445acbe": {
          "model_module": "@jupyter-widgets/base",
          "model_name": "LayoutModel",
          "model_module_version": "1.2.0",
          "state": {
            "_model_module": "@jupyter-widgets/base",
            "_model_module_version": "1.2.0",
            "_model_name": "LayoutModel",
            "_view_count": null,
            "_view_module": "@jupyter-widgets/base",
            "_view_module_version": "1.2.0",
            "_view_name": "LayoutView",
            "align_content": null,
            "align_items": null,
            "align_self": null,
            "border": null,
            "bottom": null,
            "display": null,
            "flex": null,
            "flex_flow": null,
            "grid_area": null,
            "grid_auto_columns": null,
            "grid_auto_flow": null,
            "grid_auto_rows": null,
            "grid_column": null,
            "grid_gap": null,
            "grid_row": null,
            "grid_template_areas": null,
            "grid_template_columns": null,
            "grid_template_rows": null,
            "height": null,
            "justify_content": null,
            "justify_items": null,
            "left": null,
            "margin": null,
            "max_height": null,
            "max_width": null,
            "min_height": null,
            "min_width": null,
            "object_fit": null,
            "object_position": null,
            "order": null,
            "overflow": null,
            "overflow_x": null,
            "overflow_y": null,
            "padding": null,
            "right": null,
            "top": null,
            "visibility": null,
            "width": null
          }
        },
        "40a83e8cd9194702983bf2e5a121d03f": {
          "model_module": "@jupyter-widgets/controls",
          "model_name": "ProgressStyleModel",
          "model_module_version": "1.5.0",
          "state": {
            "_model_module": "@jupyter-widgets/controls",
            "_model_module_version": "1.5.0",
            "_model_name": "ProgressStyleModel",
            "_view_count": null,
            "_view_module": "@jupyter-widgets/base",
            "_view_module_version": "1.2.0",
            "_view_name": "StyleView",
            "bar_color": null,
            "description_width": ""
          }
        },
        "1d67bf61fd454287a0b6c6bb1b844f11": {
          "model_module": "@jupyter-widgets/base",
          "model_name": "LayoutModel",
          "model_module_version": "1.2.0",
          "state": {
            "_model_module": "@jupyter-widgets/base",
            "_model_module_version": "1.2.0",
            "_model_name": "LayoutModel",
            "_view_count": null,
            "_view_module": "@jupyter-widgets/base",
            "_view_module_version": "1.2.0",
            "_view_name": "LayoutView",
            "align_content": null,
            "align_items": null,
            "align_self": null,
            "border": null,
            "bottom": null,
            "display": null,
            "flex": null,
            "flex_flow": null,
            "grid_area": null,
            "grid_auto_columns": null,
            "grid_auto_flow": null,
            "grid_auto_rows": null,
            "grid_column": null,
            "grid_gap": null,
            "grid_row": null,
            "grid_template_areas": null,
            "grid_template_columns": null,
            "grid_template_rows": null,
            "height": null,
            "justify_content": null,
            "justify_items": null,
            "left": null,
            "margin": null,
            "max_height": null,
            "max_width": null,
            "min_height": null,
            "min_width": null,
            "object_fit": null,
            "object_position": null,
            "order": null,
            "overflow": null,
            "overflow_x": null,
            "overflow_y": null,
            "padding": null,
            "right": null,
            "top": null,
            "visibility": null,
            "width": null
          }
        },
        "8e7e1602436a4aa497e5a04b81eb5a9a": {
          "model_module": "@jupyter-widgets/controls",
          "model_name": "DescriptionStyleModel",
          "model_module_version": "1.5.0",
          "state": {
            "_model_module": "@jupyter-widgets/controls",
            "_model_module_version": "1.5.0",
            "_model_name": "DescriptionStyleModel",
            "_view_count": null,
            "_view_module": "@jupyter-widgets/base",
            "_view_module_version": "1.2.0",
            "_view_name": "StyleView",
            "description_width": ""
          }
        },
        "7fa1d4d0d6b24fc19861f3909036782d": {
          "model_module": "@jupyter-widgets/controls",
          "model_name": "HBoxModel",
          "model_module_version": "1.5.0",
          "state": {
            "_dom_classes": [],
            "_model_module": "@jupyter-widgets/controls",
            "_model_module_version": "1.5.0",
            "_model_name": "HBoxModel",
            "_view_count": null,
            "_view_module": "@jupyter-widgets/controls",
            "_view_module_version": "1.5.0",
            "_view_name": "HBoxView",
            "box_style": "",
            "children": [
              "IPY_MODEL_72862e696db144eb8707c0c7cbd3d352",
              "IPY_MODEL_0e2832a3a82849ccb8d060a6434049b3",
              "IPY_MODEL_599b668809784bdcbf6655c16fca20d0"
            ],
            "layout": "IPY_MODEL_bc08fe901c4440a8b74e35ede2c7da5e"
          }
        },
        "72862e696db144eb8707c0c7cbd3d352": {
          "model_module": "@jupyter-widgets/controls",
          "model_name": "HTMLModel",
          "model_module_version": "1.5.0",
          "state": {
            "_dom_classes": [],
            "_model_module": "@jupyter-widgets/controls",
            "_model_module_version": "1.5.0",
            "_model_name": "HTMLModel",
            "_view_count": null,
            "_view_module": "@jupyter-widgets/controls",
            "_view_module_version": "1.5.0",
            "_view_name": "HTMLView",
            "description": "",
            "description_tooltip": null,
            "layout": "IPY_MODEL_1a06c70783b94dbea54c4d9c7dee37fc",
            "placeholder": "​",
            "style": "IPY_MODEL_87b7c45aa99c459e81d52fb6138e8efd",
            "value": "config.json: 100%"
          }
        },
        "0e2832a3a82849ccb8d060a6434049b3": {
          "model_module": "@jupyter-widgets/controls",
          "model_name": "FloatProgressModel",
          "model_module_version": "1.5.0",
          "state": {
            "_dom_classes": [],
            "_model_module": "@jupyter-widgets/controls",
            "_model_module_version": "1.5.0",
            "_model_name": "FloatProgressModel",
            "_view_count": null,
            "_view_module": "@jupyter-widgets/controls",
            "_view_module_version": "1.5.0",
            "_view_name": "ProgressView",
            "bar_style": "success",
            "description": "",
            "description_tooltip": null,
            "layout": "IPY_MODEL_77e57326918f4a89a7e0f0df734e3ef6",
            "max": 570,
            "min": 0,
            "orientation": "horizontal",
            "style": "IPY_MODEL_b11108e1209f4d2cb9eb4b26db2792da",
            "value": 570
          }
        },
        "599b668809784bdcbf6655c16fca20d0": {
          "model_module": "@jupyter-widgets/controls",
          "model_name": "HTMLModel",
          "model_module_version": "1.5.0",
          "state": {
            "_dom_classes": [],
            "_model_module": "@jupyter-widgets/controls",
            "_model_module_version": "1.5.0",
            "_model_name": "HTMLModel",
            "_view_count": null,
            "_view_module": "@jupyter-widgets/controls",
            "_view_module_version": "1.5.0",
            "_view_name": "HTMLView",
            "description": "",
            "description_tooltip": null,
            "layout": "IPY_MODEL_6073920262c7417fbe9c8b35439e027e",
            "placeholder": "​",
            "style": "IPY_MODEL_791ca8d3e1f44ad4bab58522933a4ca3",
            "value": " 570/570 [00:00&lt;00:00, 26.8kB/s]"
          }
        },
        "bc08fe901c4440a8b74e35ede2c7da5e": {
          "model_module": "@jupyter-widgets/base",
          "model_name": "LayoutModel",
          "model_module_version": "1.2.0",
          "state": {
            "_model_module": "@jupyter-widgets/base",
            "_model_module_version": "1.2.0",
            "_model_name": "LayoutModel",
            "_view_count": null,
            "_view_module": "@jupyter-widgets/base",
            "_view_module_version": "1.2.0",
            "_view_name": "LayoutView",
            "align_content": null,
            "align_items": null,
            "align_self": null,
            "border": null,
            "bottom": null,
            "display": null,
            "flex": null,
            "flex_flow": null,
            "grid_area": null,
            "grid_auto_columns": null,
            "grid_auto_flow": null,
            "grid_auto_rows": null,
            "grid_column": null,
            "grid_gap": null,
            "grid_row": null,
            "grid_template_areas": null,
            "grid_template_columns": null,
            "grid_template_rows": null,
            "height": null,
            "justify_content": null,
            "justify_items": null,
            "left": null,
            "margin": null,
            "max_height": null,
            "max_width": null,
            "min_height": null,
            "min_width": null,
            "object_fit": null,
            "object_position": null,
            "order": null,
            "overflow": null,
            "overflow_x": null,
            "overflow_y": null,
            "padding": null,
            "right": null,
            "top": null,
            "visibility": null,
            "width": null
          }
        },
        "1a06c70783b94dbea54c4d9c7dee37fc": {
          "model_module": "@jupyter-widgets/base",
          "model_name": "LayoutModel",
          "model_module_version": "1.2.0",
          "state": {
            "_model_module": "@jupyter-widgets/base",
            "_model_module_version": "1.2.0",
            "_model_name": "LayoutModel",
            "_view_count": null,
            "_view_module": "@jupyter-widgets/base",
            "_view_module_version": "1.2.0",
            "_view_name": "LayoutView",
            "align_content": null,
            "align_items": null,
            "align_self": null,
            "border": null,
            "bottom": null,
            "display": null,
            "flex": null,
            "flex_flow": null,
            "grid_area": null,
            "grid_auto_columns": null,
            "grid_auto_flow": null,
            "grid_auto_rows": null,
            "grid_column": null,
            "grid_gap": null,
            "grid_row": null,
            "grid_template_areas": null,
            "grid_template_columns": null,
            "grid_template_rows": null,
            "height": null,
            "justify_content": null,
            "justify_items": null,
            "left": null,
            "margin": null,
            "max_height": null,
            "max_width": null,
            "min_height": null,
            "min_width": null,
            "object_fit": null,
            "object_position": null,
            "order": null,
            "overflow": null,
            "overflow_x": null,
            "overflow_y": null,
            "padding": null,
            "right": null,
            "top": null,
            "visibility": null,
            "width": null
          }
        },
        "87b7c45aa99c459e81d52fb6138e8efd": {
          "model_module": "@jupyter-widgets/controls",
          "model_name": "DescriptionStyleModel",
          "model_module_version": "1.5.0",
          "state": {
            "_model_module": "@jupyter-widgets/controls",
            "_model_module_version": "1.5.0",
            "_model_name": "DescriptionStyleModel",
            "_view_count": null,
            "_view_module": "@jupyter-widgets/base",
            "_view_module_version": "1.2.0",
            "_view_name": "StyleView",
            "description_width": ""
          }
        },
        "77e57326918f4a89a7e0f0df734e3ef6": {
          "model_module": "@jupyter-widgets/base",
          "model_name": "LayoutModel",
          "model_module_version": "1.2.0",
          "state": {
            "_model_module": "@jupyter-widgets/base",
            "_model_module_version": "1.2.0",
            "_model_name": "LayoutModel",
            "_view_count": null,
            "_view_module": "@jupyter-widgets/base",
            "_view_module_version": "1.2.0",
            "_view_name": "LayoutView",
            "align_content": null,
            "align_items": null,
            "align_self": null,
            "border": null,
            "bottom": null,
            "display": null,
            "flex": null,
            "flex_flow": null,
            "grid_area": null,
            "grid_auto_columns": null,
            "grid_auto_flow": null,
            "grid_auto_rows": null,
            "grid_column": null,
            "grid_gap": null,
            "grid_row": null,
            "grid_template_areas": null,
            "grid_template_columns": null,
            "grid_template_rows": null,
            "height": null,
            "justify_content": null,
            "justify_items": null,
            "left": null,
            "margin": null,
            "max_height": null,
            "max_width": null,
            "min_height": null,
            "min_width": null,
            "object_fit": null,
            "object_position": null,
            "order": null,
            "overflow": null,
            "overflow_x": null,
            "overflow_y": null,
            "padding": null,
            "right": null,
            "top": null,
            "visibility": null,
            "width": null
          }
        },
        "b11108e1209f4d2cb9eb4b26db2792da": {
          "model_module": "@jupyter-widgets/controls",
          "model_name": "ProgressStyleModel",
          "model_module_version": "1.5.0",
          "state": {
            "_model_module": "@jupyter-widgets/controls",
            "_model_module_version": "1.5.0",
            "_model_name": "ProgressStyleModel",
            "_view_count": null,
            "_view_module": "@jupyter-widgets/base",
            "_view_module_version": "1.2.0",
            "_view_name": "StyleView",
            "bar_color": null,
            "description_width": ""
          }
        },
        "6073920262c7417fbe9c8b35439e027e": {
          "model_module": "@jupyter-widgets/base",
          "model_name": "LayoutModel",
          "model_module_version": "1.2.0",
          "state": {
            "_model_module": "@jupyter-widgets/base",
            "_model_module_version": "1.2.0",
            "_model_name": "LayoutModel",
            "_view_count": null,
            "_view_module": "@jupyter-widgets/base",
            "_view_module_version": "1.2.0",
            "_view_name": "LayoutView",
            "align_content": null,
            "align_items": null,
            "align_self": null,
            "border": null,
            "bottom": null,
            "display": null,
            "flex": null,
            "flex_flow": null,
            "grid_area": null,
            "grid_auto_columns": null,
            "grid_auto_flow": null,
            "grid_auto_rows": null,
            "grid_column": null,
            "grid_gap": null,
            "grid_row": null,
            "grid_template_areas": null,
            "grid_template_columns": null,
            "grid_template_rows": null,
            "height": null,
            "justify_content": null,
            "justify_items": null,
            "left": null,
            "margin": null,
            "max_height": null,
            "max_width": null,
            "min_height": null,
            "min_width": null,
            "object_fit": null,
            "object_position": null,
            "order": null,
            "overflow": null,
            "overflow_x": null,
            "overflow_y": null,
            "padding": null,
            "right": null,
            "top": null,
            "visibility": null,
            "width": null
          }
        },
        "791ca8d3e1f44ad4bab58522933a4ca3": {
          "model_module": "@jupyter-widgets/controls",
          "model_name": "DescriptionStyleModel",
          "model_module_version": "1.5.0",
          "state": {
            "_model_module": "@jupyter-widgets/controls",
            "_model_module_version": "1.5.0",
            "_model_name": "DescriptionStyleModel",
            "_view_count": null,
            "_view_module": "@jupyter-widgets/base",
            "_view_module_version": "1.2.0",
            "_view_name": "StyleView",
            "description_width": ""
          }
        },
        "37ecc580b6754ea4a22d1a1d0e48ccf7": {
          "model_module": "@jupyter-widgets/controls",
          "model_name": "HBoxModel",
          "model_module_version": "1.5.0",
          "state": {
            "_dom_classes": [],
            "_model_module": "@jupyter-widgets/controls",
            "_model_module_version": "1.5.0",
            "_model_name": "HBoxModel",
            "_view_count": null,
            "_view_module": "@jupyter-widgets/controls",
            "_view_module_version": "1.5.0",
            "_view_name": "HBoxView",
            "box_style": "",
            "children": [
              "IPY_MODEL_66e47606ad934463928c653ad84d229b",
              "IPY_MODEL_2e9d85bf7b7e4f16b22238dcdead1d87",
              "IPY_MODEL_df65aea95e294abc85d8b4b2d8558720"
            ],
            "layout": "IPY_MODEL_10eb87af8e394905b8255658b640e3f0"
          }
        },
        "66e47606ad934463928c653ad84d229b": {
          "model_module": "@jupyter-widgets/controls",
          "model_name": "HTMLModel",
          "model_module_version": "1.5.0",
          "state": {
            "_dom_classes": [],
            "_model_module": "@jupyter-widgets/controls",
            "_model_module_version": "1.5.0",
            "_model_name": "HTMLModel",
            "_view_count": null,
            "_view_module": "@jupyter-widgets/controls",
            "_view_module_version": "1.5.0",
            "_view_name": "HTMLView",
            "description": "",
            "description_tooltip": null,
            "layout": "IPY_MODEL_50245b3e1fff46fba5175ef197caa7ea",
            "placeholder": "​",
            "style": "IPY_MODEL_d4271be9fbce4f85975cc81bd797ee9c",
            "value": "model.safetensors: 100%"
          }
        },
        "2e9d85bf7b7e4f16b22238dcdead1d87": {
          "model_module": "@jupyter-widgets/controls",
          "model_name": "FloatProgressModel",
          "model_module_version": "1.5.0",
          "state": {
            "_dom_classes": [],
            "_model_module": "@jupyter-widgets/controls",
            "_model_module_version": "1.5.0",
            "_model_name": "FloatProgressModel",
            "_view_count": null,
            "_view_module": "@jupyter-widgets/controls",
            "_view_module_version": "1.5.0",
            "_view_name": "ProgressView",
            "bar_style": "success",
            "description": "",
            "description_tooltip": null,
            "layout": "IPY_MODEL_1d450177602e45e3a85211650b4fa5f8",
            "max": 440449768,
            "min": 0,
            "orientation": "horizontal",
            "style": "IPY_MODEL_89ecd1a200b446bebc6e2dd026c319a5",
            "value": 440449768
          }
        },
        "df65aea95e294abc85d8b4b2d8558720": {
          "model_module": "@jupyter-widgets/controls",
          "model_name": "HTMLModel",
          "model_module_version": "1.5.0",
          "state": {
            "_dom_classes": [],
            "_model_module": "@jupyter-widgets/controls",
            "_model_module_version": "1.5.0",
            "_model_name": "HTMLModel",
            "_view_count": null,
            "_view_module": "@jupyter-widgets/controls",
            "_view_module_version": "1.5.0",
            "_view_name": "HTMLView",
            "description": "",
            "description_tooltip": null,
            "layout": "IPY_MODEL_d5c345a92e064b3f81875b2ea2bf7b42",
            "placeholder": "​",
            "style": "IPY_MODEL_c711624f81184ea6bcb84de485d5fa56",
            "value": " 440M/440M [00:04&lt;00:00, 112MB/s]"
          }
        },
        "10eb87af8e394905b8255658b640e3f0": {
          "model_module": "@jupyter-widgets/base",
          "model_name": "LayoutModel",
          "model_module_version": "1.2.0",
          "state": {
            "_model_module": "@jupyter-widgets/base",
            "_model_module_version": "1.2.0",
            "_model_name": "LayoutModel",
            "_view_count": null,
            "_view_module": "@jupyter-widgets/base",
            "_view_module_version": "1.2.0",
            "_view_name": "LayoutView",
            "align_content": null,
            "align_items": null,
            "align_self": null,
            "border": null,
            "bottom": null,
            "display": null,
            "flex": null,
            "flex_flow": null,
            "grid_area": null,
            "grid_auto_columns": null,
            "grid_auto_flow": null,
            "grid_auto_rows": null,
            "grid_column": null,
            "grid_gap": null,
            "grid_row": null,
            "grid_template_areas": null,
            "grid_template_columns": null,
            "grid_template_rows": null,
            "height": null,
            "justify_content": null,
            "justify_items": null,
            "left": null,
            "margin": null,
            "max_height": null,
            "max_width": null,
            "min_height": null,
            "min_width": null,
            "object_fit": null,
            "object_position": null,
            "order": null,
            "overflow": null,
            "overflow_x": null,
            "overflow_y": null,
            "padding": null,
            "right": null,
            "top": null,
            "visibility": null,
            "width": null
          }
        },
        "50245b3e1fff46fba5175ef197caa7ea": {
          "model_module": "@jupyter-widgets/base",
          "model_name": "LayoutModel",
          "model_module_version": "1.2.0",
          "state": {
            "_model_module": "@jupyter-widgets/base",
            "_model_module_version": "1.2.0",
            "_model_name": "LayoutModel",
            "_view_count": null,
            "_view_module": "@jupyter-widgets/base",
            "_view_module_version": "1.2.0",
            "_view_name": "LayoutView",
            "align_content": null,
            "align_items": null,
            "align_self": null,
            "border": null,
            "bottom": null,
            "display": null,
            "flex": null,
            "flex_flow": null,
            "grid_area": null,
            "grid_auto_columns": null,
            "grid_auto_flow": null,
            "grid_auto_rows": null,
            "grid_column": null,
            "grid_gap": null,
            "grid_row": null,
            "grid_template_areas": null,
            "grid_template_columns": null,
            "grid_template_rows": null,
            "height": null,
            "justify_content": null,
            "justify_items": null,
            "left": null,
            "margin": null,
            "max_height": null,
            "max_width": null,
            "min_height": null,
            "min_width": null,
            "object_fit": null,
            "object_position": null,
            "order": null,
            "overflow": null,
            "overflow_x": null,
            "overflow_y": null,
            "padding": null,
            "right": null,
            "top": null,
            "visibility": null,
            "width": null
          }
        },
        "d4271be9fbce4f85975cc81bd797ee9c": {
          "model_module": "@jupyter-widgets/controls",
          "model_name": "DescriptionStyleModel",
          "model_module_version": "1.5.0",
          "state": {
            "_model_module": "@jupyter-widgets/controls",
            "_model_module_version": "1.5.0",
            "_model_name": "DescriptionStyleModel",
            "_view_count": null,
            "_view_module": "@jupyter-widgets/base",
            "_view_module_version": "1.2.0",
            "_view_name": "StyleView",
            "description_width": ""
          }
        },
        "1d450177602e45e3a85211650b4fa5f8": {
          "model_module": "@jupyter-widgets/base",
          "model_name": "LayoutModel",
          "model_module_version": "1.2.0",
          "state": {
            "_model_module": "@jupyter-widgets/base",
            "_model_module_version": "1.2.0",
            "_model_name": "LayoutModel",
            "_view_count": null,
            "_view_module": "@jupyter-widgets/base",
            "_view_module_version": "1.2.0",
            "_view_name": "LayoutView",
            "align_content": null,
            "align_items": null,
            "align_self": null,
            "border": null,
            "bottom": null,
            "display": null,
            "flex": null,
            "flex_flow": null,
            "grid_area": null,
            "grid_auto_columns": null,
            "grid_auto_flow": null,
            "grid_auto_rows": null,
            "grid_column": null,
            "grid_gap": null,
            "grid_row": null,
            "grid_template_areas": null,
            "grid_template_columns": null,
            "grid_template_rows": null,
            "height": null,
            "justify_content": null,
            "justify_items": null,
            "left": null,
            "margin": null,
            "max_height": null,
            "max_width": null,
            "min_height": null,
            "min_width": null,
            "object_fit": null,
            "object_position": null,
            "order": null,
            "overflow": null,
            "overflow_x": null,
            "overflow_y": null,
            "padding": null,
            "right": null,
            "top": null,
            "visibility": null,
            "width": null
          }
        },
        "89ecd1a200b446bebc6e2dd026c319a5": {
          "model_module": "@jupyter-widgets/controls",
          "model_name": "ProgressStyleModel",
          "model_module_version": "1.5.0",
          "state": {
            "_model_module": "@jupyter-widgets/controls",
            "_model_module_version": "1.5.0",
            "_model_name": "ProgressStyleModel",
            "_view_count": null,
            "_view_module": "@jupyter-widgets/base",
            "_view_module_version": "1.2.0",
            "_view_name": "StyleView",
            "bar_color": null,
            "description_width": ""
          }
        },
        "d5c345a92e064b3f81875b2ea2bf7b42": {
          "model_module": "@jupyter-widgets/base",
          "model_name": "LayoutModel",
          "model_module_version": "1.2.0",
          "state": {
            "_model_module": "@jupyter-widgets/base",
            "_model_module_version": "1.2.0",
            "_model_name": "LayoutModel",
            "_view_count": null,
            "_view_module": "@jupyter-widgets/base",
            "_view_module_version": "1.2.0",
            "_view_name": "LayoutView",
            "align_content": null,
            "align_items": null,
            "align_self": null,
            "border": null,
            "bottom": null,
            "display": null,
            "flex": null,
            "flex_flow": null,
            "grid_area": null,
            "grid_auto_columns": null,
            "grid_auto_flow": null,
            "grid_auto_rows": null,
            "grid_column": null,
            "grid_gap": null,
            "grid_row": null,
            "grid_template_areas": null,
            "grid_template_columns": null,
            "grid_template_rows": null,
            "height": null,
            "justify_content": null,
            "justify_items": null,
            "left": null,
            "margin": null,
            "max_height": null,
            "max_width": null,
            "min_height": null,
            "min_width": null,
            "object_fit": null,
            "object_position": null,
            "order": null,
            "overflow": null,
            "overflow_x": null,
            "overflow_y": null,
            "padding": null,
            "right": null,
            "top": null,
            "visibility": null,
            "width": null
          }
        },
        "c711624f81184ea6bcb84de485d5fa56": {
          "model_module": "@jupyter-widgets/controls",
          "model_name": "DescriptionStyleModel",
          "model_module_version": "1.5.0",
          "state": {
            "_model_module": "@jupyter-widgets/controls",
            "_model_module_version": "1.5.0",
            "_model_name": "DescriptionStyleModel",
            "_view_count": null,
            "_view_module": "@jupyter-widgets/base",
            "_view_module_version": "1.2.0",
            "_view_name": "StyleView",
            "description_width": ""
          }
        }
      }
    }
  },
  "cells": [
    {
      "cell_type": "markdown",
      "metadata": {
        "id": "view-in-github",
        "colab_type": "text"
      },
      "source": [
        "<a href=\"https://colab.research.google.com/github/carlos-alves-one/-Amazon-Review-NLP/blob/main/Sentiment_Analysis_V2.ipynb\" target=\"_parent\"><img src=\"https://colab.research.google.com/assets/colab-badge.svg\" alt=\"Open In Colab\"/></a>"
      ]
    },
    {
      "cell_type": "markdown",
      "source": [
        "### Goldsmiths University of London\n",
        "### MSc. Data Science and Artificial Intelligence\n",
        "### Module: Natural Language Processing\n",
        "### Author: Carlos Manuel De Oliveira Alves\n",
        "### Student: cdeol003\n",
        "### Coursework Project"
      ],
      "metadata": {
        "id": "GpWkS9g3XYaG"
      }
    },
    {
      "cell_type": "markdown",
      "source": [
        "# Data Collection"
      ],
      "metadata": {
        "id": "LPQR5k8DZBHh"
      }
    },
    {
      "cell_type": "markdown",
      "source": [
        "### Load the data"
      ],
      "metadata": {
        "id": "Rdq1tWxhdNyw"
      }
    },
    {
      "cell_type": "code",
      "source": [
        "# Imports the 'drive' module from 'google.colab' and mounts the Google Drive to\n",
        "# the '/content/drive' directory in the Colab environment.\n",
        "from google.colab import drive\n",
        "drive.mount('/content/drive')\n"
      ],
      "metadata": {
        "colab": {
          "base_uri": "https://localhost:8080/"
        },
        "id": "tAfyl1E4Xhig",
        "outputId": "91242f9f-fa4e-4baf-c0d2-57ff1c2fffa4"
      },
      "execution_count": 1,
      "outputs": [
        {
          "output_type": "stream",
          "name": "stdout",
          "text": [
            "Mounted at /content/drive\n"
          ]
        }
      ]
    },
    {
      "cell_type": "markdown",
      "source": [
        "Dataset source: https://www.kaggle.com/datasets/akudnaver/amazon-reviews-dataset\n",
        "\n",
        "License: Unknown"
      ],
      "metadata": {
        "id": "UriCgHuhnXaB"
      }
    },
    {
      "cell_type": "code",
      "source": [
        "# Import the pandas library and give it the alias 'pd' for data manipulation and analysis\n",
        "import pandas as pd\n",
        "\n",
        "# Load the dataset Amazon Review Details from Google Drive\n",
        "data_path = '/content/drive/MyDrive/amazon_project/amazon-review-details.csv'\n",
        "data = pd.read_csv(data_path)\n",
        "\n",
        "# Display the first few rows of the dataframe\n",
        "data.head(3).T\n"
      ],
      "metadata": {
        "colab": {
          "base_uri": "https://localhost:8080/",
          "height": 1000
        },
        "id": "ShHZnYEod2V1",
        "outputId": "752aa1f7-74e1-4393-e762-fc6a10b58605"
      },
      "execution_count": 2,
      "outputs": [
        {
          "output_type": "execute_result",
          "data": {
            "text/plain": [
              "                                                                        0  \\\n",
              "report_date                                                    2019-01-02   \n",
              "online_store                                                  FRESHAMAZON   \n",
              "upc                                                         8718114216478   \n",
              "retailer_product_code                                          B0142CI6FC   \n",
              "brand                                                       Dove Men+Care   \n",
              "category                                                    Personal Care   \n",
              "sub_category                                                         Deos   \n",
              "product_description     Dove Men+Care Extra Fresh Anti-perspirant Deod...   \n",
              "review_date                                                    2019-01-01   \n",
              "review_rating                                                           5   \n",
              "review_title                                       Dove Men’s + Deodorant   \n",
              "review_text             As you get older, you know what you like and w...   \n",
              "is_competitor                                                           0   \n",
              "manufacturer                                              Unilever Global   \n",
              "market                                                                 UK   \n",
              "matched_keywords                                                      NaN   \n",
              "time_of_publication                                                   NaN   \n",
              "url                     http://www.amazon.co.uk/gp/customer-reviews/RE...   \n",
              "review_type                                                       Organic   \n",
              "parent_review                                                       Child   \n",
              "manufacturers_response                                                NaN   \n",
              "dimension1                                                           Deos   \n",
              "dimension2                                 Male Anti-Perspirant Deodorant   \n",
              "dimension3                            COTC Male Anti-Perspirant Deodorant   \n",
              "dimension4                                                            NaN   \n",
              "dimension5                                                            NaN   \n",
              "dimension6                                                            NaN   \n",
              "dimension7                            COTC Male Anti-Perspirant Deodorant   \n",
              "dimension8                                               Core of the Core   \n",
              "verified_purchase                                                    True   \n",
              "helpful_review_count                                                    0   \n",
              "review_hash_id                       3f129b02-ea76-0323-bd59-235d97a4f83f   \n",
              "\n",
              "                                                                        1  \\\n",
              "report_date                                                    2019-01-03   \n",
              "online_store                                                  FRESHAMAZON   \n",
              "upc                                                         5000184201199   \n",
              "retailer_product_code                                          B014DFNNRY   \n",
              "brand                                                             Marmite   \n",
              "category                                                            Foods   \n",
              "sub_category                                                      Savoury   \n",
              "product_description                    Marmite  Spread Yeast Extract 500g   \n",
              "review_date                                                    2019-01-02   \n",
              "review_rating                                                           5   \n",
              "review_title                                   Great for a marmite lover!   \n",
              "review_text             Three gigantic marmite jars that will last pro...   \n",
              "is_competitor                                                           0   \n",
              "manufacturer                                              Unilever Global   \n",
              "market                                                                 UK   \n",
              "matched_keywords                                                      NaN   \n",
              "time_of_publication                                                   NaN   \n",
              "url                     http://www.amazon.co.uk/gp/customer-reviews/R1...   \n",
              "review_type                                                       Organic   \n",
              "parent_review                                                       Child   \n",
              "manufacturers_response                                                NaN   \n",
              "dimension1                                                        Savoury   \n",
              "dimension2                                             COTC Yeast Extract   \n",
              "dimension3                                             COTC Yeast Extract   \n",
              "dimension4                                                            NaN   \n",
              "dimension5                                                            NaN   \n",
              "dimension6                                                            NaN   \n",
              "dimension7                                             COTC Yeast Extract   \n",
              "dimension8                                               Core of the Core   \n",
              "verified_purchase                                                    True   \n",
              "helpful_review_count                                                    0   \n",
              "review_hash_id                       d7f3b9aa-e8b3-626d-683b-374e201c8315   \n",
              "\n",
              "                                                                        2  \n",
              "report_date                                                    2019-01-03  \n",
              "online_store                                                  FRESHAMAZON  \n",
              "upc                                                         5000184201199  \n",
              "retailer_product_code                                          B014DFNNRY  \n",
              "brand                                                             Marmite  \n",
              "category                                                            Foods  \n",
              "sub_category                                                      Savoury  \n",
              "product_description                    Marmite  Spread Yeast Extract 500g  \n",
              "review_date                                                    2019-01-02  \n",
              "review_rating                                                           4  \n",
              "review_title                                                 Vitamin B12.  \n",
              "review_text                                                     Excellent  \n",
              "is_competitor                                                           0  \n",
              "manufacturer                                              Unilever Global  \n",
              "market                                                                 UK  \n",
              "matched_keywords                                                      NaN  \n",
              "time_of_publication                                                   NaN  \n",
              "url                     http://www.amazon.co.uk/gp/customer-reviews/RD...  \n",
              "review_type                                                       Organic  \n",
              "parent_review                                                       Child  \n",
              "manufacturers_response                                                NaN  \n",
              "dimension1                                                        Savoury  \n",
              "dimension2                                             COTC Yeast Extract  \n",
              "dimension3                                             COTC Yeast Extract  \n",
              "dimension4                                                            NaN  \n",
              "dimension5                                                            NaN  \n",
              "dimension6                                                            NaN  \n",
              "dimension7                                             COTC Yeast Extract  \n",
              "dimension8                                               Core of the Core  \n",
              "verified_purchase                                                    True  \n",
              "helpful_review_count                                                    0  \n",
              "review_hash_id                       e58a523d-0155-a366-f107-7ac6817ac3b7  "
            ],
            "text/html": [
              "\n",
              "  <div id=\"df-a8940cea-46c9-4185-969a-a27c1323d876\" class=\"colab-df-container\">\n",
              "    <div>\n",
              "<style scoped>\n",
              "    .dataframe tbody tr th:only-of-type {\n",
              "        vertical-align: middle;\n",
              "    }\n",
              "\n",
              "    .dataframe tbody tr th {\n",
              "        vertical-align: top;\n",
              "    }\n",
              "\n",
              "    .dataframe thead th {\n",
              "        text-align: right;\n",
              "    }\n",
              "</style>\n",
              "<table border=\"1\" class=\"dataframe\">\n",
              "  <thead>\n",
              "    <tr style=\"text-align: right;\">\n",
              "      <th></th>\n",
              "      <th>0</th>\n",
              "      <th>1</th>\n",
              "      <th>2</th>\n",
              "    </tr>\n",
              "  </thead>\n",
              "  <tbody>\n",
              "    <tr>\n",
              "      <th>report_date</th>\n",
              "      <td>2019-01-02</td>\n",
              "      <td>2019-01-03</td>\n",
              "      <td>2019-01-03</td>\n",
              "    </tr>\n",
              "    <tr>\n",
              "      <th>online_store</th>\n",
              "      <td>FRESHAMAZON</td>\n",
              "      <td>FRESHAMAZON</td>\n",
              "      <td>FRESHAMAZON</td>\n",
              "    </tr>\n",
              "    <tr>\n",
              "      <th>upc</th>\n",
              "      <td>8718114216478</td>\n",
              "      <td>5000184201199</td>\n",
              "      <td>5000184201199</td>\n",
              "    </tr>\n",
              "    <tr>\n",
              "      <th>retailer_product_code</th>\n",
              "      <td>B0142CI6FC</td>\n",
              "      <td>B014DFNNRY</td>\n",
              "      <td>B014DFNNRY</td>\n",
              "    </tr>\n",
              "    <tr>\n",
              "      <th>brand</th>\n",
              "      <td>Dove Men+Care</td>\n",
              "      <td>Marmite</td>\n",
              "      <td>Marmite</td>\n",
              "    </tr>\n",
              "    <tr>\n",
              "      <th>category</th>\n",
              "      <td>Personal Care</td>\n",
              "      <td>Foods</td>\n",
              "      <td>Foods</td>\n",
              "    </tr>\n",
              "    <tr>\n",
              "      <th>sub_category</th>\n",
              "      <td>Deos</td>\n",
              "      <td>Savoury</td>\n",
              "      <td>Savoury</td>\n",
              "    </tr>\n",
              "    <tr>\n",
              "      <th>product_description</th>\n",
              "      <td>Dove Men+Care Extra Fresh Anti-perspirant Deod...</td>\n",
              "      <td>Marmite  Spread Yeast Extract 500g</td>\n",
              "      <td>Marmite  Spread Yeast Extract 500g</td>\n",
              "    </tr>\n",
              "    <tr>\n",
              "      <th>review_date</th>\n",
              "      <td>2019-01-01</td>\n",
              "      <td>2019-01-02</td>\n",
              "      <td>2019-01-02</td>\n",
              "    </tr>\n",
              "    <tr>\n",
              "      <th>review_rating</th>\n",
              "      <td>5</td>\n",
              "      <td>5</td>\n",
              "      <td>4</td>\n",
              "    </tr>\n",
              "    <tr>\n",
              "      <th>review_title</th>\n",
              "      <td>Dove Men’s + Deodorant</td>\n",
              "      <td>Great for a marmite lover!</td>\n",
              "      <td>Vitamin B12.</td>\n",
              "    </tr>\n",
              "    <tr>\n",
              "      <th>review_text</th>\n",
              "      <td>As you get older, you know what you like and w...</td>\n",
              "      <td>Three gigantic marmite jars that will last pro...</td>\n",
              "      <td>Excellent</td>\n",
              "    </tr>\n",
              "    <tr>\n",
              "      <th>is_competitor</th>\n",
              "      <td>0</td>\n",
              "      <td>0</td>\n",
              "      <td>0</td>\n",
              "    </tr>\n",
              "    <tr>\n",
              "      <th>manufacturer</th>\n",
              "      <td>Unilever Global</td>\n",
              "      <td>Unilever Global</td>\n",
              "      <td>Unilever Global</td>\n",
              "    </tr>\n",
              "    <tr>\n",
              "      <th>market</th>\n",
              "      <td>UK</td>\n",
              "      <td>UK</td>\n",
              "      <td>UK</td>\n",
              "    </tr>\n",
              "    <tr>\n",
              "      <th>matched_keywords</th>\n",
              "      <td>NaN</td>\n",
              "      <td>NaN</td>\n",
              "      <td>NaN</td>\n",
              "    </tr>\n",
              "    <tr>\n",
              "      <th>time_of_publication</th>\n",
              "      <td>NaN</td>\n",
              "      <td>NaN</td>\n",
              "      <td>NaN</td>\n",
              "    </tr>\n",
              "    <tr>\n",
              "      <th>url</th>\n",
              "      <td>http://www.amazon.co.uk/gp/customer-reviews/RE...</td>\n",
              "      <td>http://www.amazon.co.uk/gp/customer-reviews/R1...</td>\n",
              "      <td>http://www.amazon.co.uk/gp/customer-reviews/RD...</td>\n",
              "    </tr>\n",
              "    <tr>\n",
              "      <th>review_type</th>\n",
              "      <td>Organic</td>\n",
              "      <td>Organic</td>\n",
              "      <td>Organic</td>\n",
              "    </tr>\n",
              "    <tr>\n",
              "      <th>parent_review</th>\n",
              "      <td>Child</td>\n",
              "      <td>Child</td>\n",
              "      <td>Child</td>\n",
              "    </tr>\n",
              "    <tr>\n",
              "      <th>manufacturers_response</th>\n",
              "      <td>NaN</td>\n",
              "      <td>NaN</td>\n",
              "      <td>NaN</td>\n",
              "    </tr>\n",
              "    <tr>\n",
              "      <th>dimension1</th>\n",
              "      <td>Deos</td>\n",
              "      <td>Savoury</td>\n",
              "      <td>Savoury</td>\n",
              "    </tr>\n",
              "    <tr>\n",
              "      <th>dimension2</th>\n",
              "      <td>Male Anti-Perspirant Deodorant</td>\n",
              "      <td>COTC Yeast Extract</td>\n",
              "      <td>COTC Yeast Extract</td>\n",
              "    </tr>\n",
              "    <tr>\n",
              "      <th>dimension3</th>\n",
              "      <td>COTC Male Anti-Perspirant Deodorant</td>\n",
              "      <td>COTC Yeast Extract</td>\n",
              "      <td>COTC Yeast Extract</td>\n",
              "    </tr>\n",
              "    <tr>\n",
              "      <th>dimension4</th>\n",
              "      <td>NaN</td>\n",
              "      <td>NaN</td>\n",
              "      <td>NaN</td>\n",
              "    </tr>\n",
              "    <tr>\n",
              "      <th>dimension5</th>\n",
              "      <td>NaN</td>\n",
              "      <td>NaN</td>\n",
              "      <td>NaN</td>\n",
              "    </tr>\n",
              "    <tr>\n",
              "      <th>dimension6</th>\n",
              "      <td>NaN</td>\n",
              "      <td>NaN</td>\n",
              "      <td>NaN</td>\n",
              "    </tr>\n",
              "    <tr>\n",
              "      <th>dimension7</th>\n",
              "      <td>COTC Male Anti-Perspirant Deodorant</td>\n",
              "      <td>COTC Yeast Extract</td>\n",
              "      <td>COTC Yeast Extract</td>\n",
              "    </tr>\n",
              "    <tr>\n",
              "      <th>dimension8</th>\n",
              "      <td>Core of the Core</td>\n",
              "      <td>Core of the Core</td>\n",
              "      <td>Core of the Core</td>\n",
              "    </tr>\n",
              "    <tr>\n",
              "      <th>verified_purchase</th>\n",
              "      <td>True</td>\n",
              "      <td>True</td>\n",
              "      <td>True</td>\n",
              "    </tr>\n",
              "    <tr>\n",
              "      <th>helpful_review_count</th>\n",
              "      <td>0</td>\n",
              "      <td>0</td>\n",
              "      <td>0</td>\n",
              "    </tr>\n",
              "    <tr>\n",
              "      <th>review_hash_id</th>\n",
              "      <td>3f129b02-ea76-0323-bd59-235d97a4f83f</td>\n",
              "      <td>d7f3b9aa-e8b3-626d-683b-374e201c8315</td>\n",
              "      <td>e58a523d-0155-a366-f107-7ac6817ac3b7</td>\n",
              "    </tr>\n",
              "  </tbody>\n",
              "</table>\n",
              "</div>\n",
              "    <div class=\"colab-df-buttons\">\n",
              "\n",
              "  <div class=\"colab-df-container\">\n",
              "    <button class=\"colab-df-convert\" onclick=\"convertToInteractive('df-a8940cea-46c9-4185-969a-a27c1323d876')\"\n",
              "            title=\"Convert this dataframe to an interactive table.\"\n",
              "            style=\"display:none;\">\n",
              "\n",
              "  <svg xmlns=\"http://www.w3.org/2000/svg\" height=\"24px\" viewBox=\"0 -960 960 960\">\n",
              "    <path d=\"M120-120v-720h720v720H120Zm60-500h600v-160H180v160Zm220 220h160v-160H400v160Zm0 220h160v-160H400v160ZM180-400h160v-160H180v160Zm440 0h160v-160H620v160ZM180-180h160v-160H180v160Zm440 0h160v-160H620v160Z\"/>\n",
              "  </svg>\n",
              "    </button>\n",
              "\n",
              "  <style>\n",
              "    .colab-df-container {\n",
              "      display:flex;\n",
              "      gap: 12px;\n",
              "    }\n",
              "\n",
              "    .colab-df-convert {\n",
              "      background-color: #E8F0FE;\n",
              "      border: none;\n",
              "      border-radius: 50%;\n",
              "      cursor: pointer;\n",
              "      display: none;\n",
              "      fill: #1967D2;\n",
              "      height: 32px;\n",
              "      padding: 0 0 0 0;\n",
              "      width: 32px;\n",
              "    }\n",
              "\n",
              "    .colab-df-convert:hover {\n",
              "      background-color: #E2EBFA;\n",
              "      box-shadow: 0px 1px 2px rgba(60, 64, 67, 0.3), 0px 1px 3px 1px rgba(60, 64, 67, 0.15);\n",
              "      fill: #174EA6;\n",
              "    }\n",
              "\n",
              "    .colab-df-buttons div {\n",
              "      margin-bottom: 4px;\n",
              "    }\n",
              "\n",
              "    [theme=dark] .colab-df-convert {\n",
              "      background-color: #3B4455;\n",
              "      fill: #D2E3FC;\n",
              "    }\n",
              "\n",
              "    [theme=dark] .colab-df-convert:hover {\n",
              "      background-color: #434B5C;\n",
              "      box-shadow: 0px 1px 3px 1px rgba(0, 0, 0, 0.15);\n",
              "      filter: drop-shadow(0px 1px 2px rgba(0, 0, 0, 0.3));\n",
              "      fill: #FFFFFF;\n",
              "    }\n",
              "  </style>\n",
              "\n",
              "    <script>\n",
              "      const buttonEl =\n",
              "        document.querySelector('#df-a8940cea-46c9-4185-969a-a27c1323d876 button.colab-df-convert');\n",
              "      buttonEl.style.display =\n",
              "        google.colab.kernel.accessAllowed ? 'block' : 'none';\n",
              "\n",
              "      async function convertToInteractive(key) {\n",
              "        const element = document.querySelector('#df-a8940cea-46c9-4185-969a-a27c1323d876');\n",
              "        const dataTable =\n",
              "          await google.colab.kernel.invokeFunction('convertToInteractive',\n",
              "                                                    [key], {});\n",
              "        if (!dataTable) return;\n",
              "\n",
              "        const docLinkHtml = 'Like what you see? Visit the ' +\n",
              "          '<a target=\"_blank\" href=https://colab.research.google.com/notebooks/data_table.ipynb>data table notebook</a>'\n",
              "          + ' to learn more about interactive tables.';\n",
              "        element.innerHTML = '';\n",
              "        dataTable['output_type'] = 'display_data';\n",
              "        await google.colab.output.renderOutput(dataTable, element);\n",
              "        const docLink = document.createElement('div');\n",
              "        docLink.innerHTML = docLinkHtml;\n",
              "        element.appendChild(docLink);\n",
              "      }\n",
              "    </script>\n",
              "  </div>\n",
              "\n",
              "\n",
              "<div id=\"df-b454c6ec-ce2c-400f-879c-ee858eba229b\">\n",
              "  <button class=\"colab-df-quickchart\" onclick=\"quickchart('df-b454c6ec-ce2c-400f-879c-ee858eba229b')\"\n",
              "            title=\"Suggest charts\"\n",
              "            style=\"display:none;\">\n",
              "\n",
              "<svg xmlns=\"http://www.w3.org/2000/svg\" height=\"24px\"viewBox=\"0 0 24 24\"\n",
              "     width=\"24px\">\n",
              "    <g>\n",
              "        <path d=\"M19 3H5c-1.1 0-2 .9-2 2v14c0 1.1.9 2 2 2h14c1.1 0 2-.9 2-2V5c0-1.1-.9-2-2-2zM9 17H7v-7h2v7zm4 0h-2V7h2v10zm4 0h-2v-4h2v4z\"/>\n",
              "    </g>\n",
              "</svg>\n",
              "  </button>\n",
              "\n",
              "<style>\n",
              "  .colab-df-quickchart {\n",
              "      --bg-color: #E8F0FE;\n",
              "      --fill-color: #1967D2;\n",
              "      --hover-bg-color: #E2EBFA;\n",
              "      --hover-fill-color: #174EA6;\n",
              "      --disabled-fill-color: #AAA;\n",
              "      --disabled-bg-color: #DDD;\n",
              "  }\n",
              "\n",
              "  [theme=dark] .colab-df-quickchart {\n",
              "      --bg-color: #3B4455;\n",
              "      --fill-color: #D2E3FC;\n",
              "      --hover-bg-color: #434B5C;\n",
              "      --hover-fill-color: #FFFFFF;\n",
              "      --disabled-bg-color: #3B4455;\n",
              "      --disabled-fill-color: #666;\n",
              "  }\n",
              "\n",
              "  .colab-df-quickchart {\n",
              "    background-color: var(--bg-color);\n",
              "    border: none;\n",
              "    border-radius: 50%;\n",
              "    cursor: pointer;\n",
              "    display: none;\n",
              "    fill: var(--fill-color);\n",
              "    height: 32px;\n",
              "    padding: 0;\n",
              "    width: 32px;\n",
              "  }\n",
              "\n",
              "  .colab-df-quickchart:hover {\n",
              "    background-color: var(--hover-bg-color);\n",
              "    box-shadow: 0 1px 2px rgba(60, 64, 67, 0.3), 0 1px 3px 1px rgba(60, 64, 67, 0.15);\n",
              "    fill: var(--button-hover-fill-color);\n",
              "  }\n",
              "\n",
              "  .colab-df-quickchart-complete:disabled,\n",
              "  .colab-df-quickchart-complete:disabled:hover {\n",
              "    background-color: var(--disabled-bg-color);\n",
              "    fill: var(--disabled-fill-color);\n",
              "    box-shadow: none;\n",
              "  }\n",
              "\n",
              "  .colab-df-spinner {\n",
              "    border: 2px solid var(--fill-color);\n",
              "    border-color: transparent;\n",
              "    border-bottom-color: var(--fill-color);\n",
              "    animation:\n",
              "      spin 1s steps(1) infinite;\n",
              "  }\n",
              "\n",
              "  @keyframes spin {\n",
              "    0% {\n",
              "      border-color: transparent;\n",
              "      border-bottom-color: var(--fill-color);\n",
              "      border-left-color: var(--fill-color);\n",
              "    }\n",
              "    20% {\n",
              "      border-color: transparent;\n",
              "      border-left-color: var(--fill-color);\n",
              "      border-top-color: var(--fill-color);\n",
              "    }\n",
              "    30% {\n",
              "      border-color: transparent;\n",
              "      border-left-color: var(--fill-color);\n",
              "      border-top-color: var(--fill-color);\n",
              "      border-right-color: var(--fill-color);\n",
              "    }\n",
              "    40% {\n",
              "      border-color: transparent;\n",
              "      border-right-color: var(--fill-color);\n",
              "      border-top-color: var(--fill-color);\n",
              "    }\n",
              "    60% {\n",
              "      border-color: transparent;\n",
              "      border-right-color: var(--fill-color);\n",
              "    }\n",
              "    80% {\n",
              "      border-color: transparent;\n",
              "      border-right-color: var(--fill-color);\n",
              "      border-bottom-color: var(--fill-color);\n",
              "    }\n",
              "    90% {\n",
              "      border-color: transparent;\n",
              "      border-bottom-color: var(--fill-color);\n",
              "    }\n",
              "  }\n",
              "</style>\n",
              "\n",
              "  <script>\n",
              "    async function quickchart(key) {\n",
              "      const quickchartButtonEl =\n",
              "        document.querySelector('#' + key + ' button');\n",
              "      quickchartButtonEl.disabled = true;  // To prevent multiple clicks.\n",
              "      quickchartButtonEl.classList.add('colab-df-spinner');\n",
              "      try {\n",
              "        const charts = await google.colab.kernel.invokeFunction(\n",
              "            'suggestCharts', [key], {});\n",
              "      } catch (error) {\n",
              "        console.error('Error during call to suggestCharts:', error);\n",
              "      }\n",
              "      quickchartButtonEl.classList.remove('colab-df-spinner');\n",
              "      quickchartButtonEl.classList.add('colab-df-quickchart-complete');\n",
              "    }\n",
              "    (() => {\n",
              "      let quickchartButtonEl =\n",
              "        document.querySelector('#df-b454c6ec-ce2c-400f-879c-ee858eba229b button');\n",
              "      quickchartButtonEl.style.display =\n",
              "        google.colab.kernel.accessAllowed ? 'block' : 'none';\n",
              "    })();\n",
              "  </script>\n",
              "</div>\n",
              "    </div>\n",
              "  </div>\n"
            ],
            "application/vnd.google.colaboratory.intrinsic+json": {
              "type": "dataframe",
              "variable_name": "data"
            }
          },
          "metadata": {},
          "execution_count": 2
        }
      ]
    },
    {
      "cell_type": "markdown",
      "source": [
        "# Data Preprocessing"
      ],
      "metadata": {
        "id": "SrPP-SNcMjXo"
      }
    },
    {
      "cell_type": "markdown",
      "source": [
        "The dataset contains multiple columns, but for our sentiment analysis, we will primarily focus on the 'review_rating' as our target variable and the text of the reviews for our feature.\n",
        "\n",
        "**Tasks :**\n",
        "\n",
        "- Select relevant columns ('review_rating' and the review text column).\n",
        "\n",
        "- Handle missing values if necessary.\n",
        "\n",
        "- Convert ratings to a binary sentiment (positive or negative).\n",
        "\n",
        "- Preprocess the text data (tokenization, lowercasing, removing stop words, etc.).\n"
      ],
      "metadata": {
        "id": "o3bn9Q3dQdYo"
      }
    },
    {
      "cell_type": "markdown",
      "source": [
        "## Import Libraries and Packages"
      ],
      "metadata": {
        "id": "2uwanN2KSCrg"
      }
    },
    {
      "cell_type": "code",
      "source": [
        "# Importing the 'stopwords' collection from the nltk.corpus module\n",
        "from nltk.corpus import stopwords\n",
        "\n",
        "# Imports the regular expression module for pattern matching in strings\n",
        "import re\n",
        "\n",
        "# Importing the 'word_tokenize' and 'sent_tokenize' functions from nltk.tokenize for tokenizing strings into words\n",
        "from nltk.tokenize import word_tokenize, sent_tokenize\n",
        "\n",
        "# Importing the nltk module, which is a suite of libraries for natural language processing\n",
        "import nltk\n",
        "\n",
        "# Downloading the 'punkt' tokenizer models, used by nltk for sentence tokenization\n",
        "nltk.download('punkt')\n",
        "\n",
        "# Downloading the 'stopwords' dataset, which contains lists of common stopwords in various languages\n",
        "nltk.download('stopwords')\n",
        "\n",
        "# Importing lemmatizer and stemmer for text normalization\n",
        "from nltk.stem import WordNetLemmatizer, PorterStemmer\n",
        "\n",
        "# Importing WordNet, a lexical database for the English language\n",
        "from nltk.corpus import wordnet\n",
        "\n",
        "# Import Word2Vec model from gensim library\n",
        "from gensim.models import Word2Vec\n",
        "\n",
        "# Import NumPy for numerical and array operations\n",
        "import numpy as np"
      ],
      "metadata": {
        "colab": {
          "base_uri": "https://localhost:8080/"
        },
        "id": "UTI5ftMGSP2o",
        "outputId": "39b66549-6c67-4be2-e996-ce8d36ddb863"
      },
      "execution_count": 3,
      "outputs": [
        {
          "output_type": "stream",
          "name": "stderr",
          "text": [
            "[nltk_data] Downloading package punkt to /root/nltk_data...\n",
            "[nltk_data]   Unzipping tokenizers/punkt.zip.\n",
            "[nltk_data] Downloading package stopwords to /root/nltk_data...\n",
            "[nltk_data]   Unzipping corpora/stopwords.zip.\n"
          ]
        }
      ]
    },
    {
      "cell_type": "markdown",
      "source": [
        "## Function for Cleaning & Preprocessing"
      ],
      "metadata": {
        "id": "86W50sqyTReK"
      }
    },
    {
      "cell_type": "code",
      "source": [
        "# Declare function for data cleaning and preprocessing\n",
        "def preprocess_text(text):\n",
        "\n",
        "    # Lowercasing\n",
        "    text = text.lower()\n",
        "\n",
        "    # Remove punctuation and numbers\n",
        "    text = re.sub(r'[^a-z\\s]', '', text)\n",
        "\n",
        "    # Tokenization\n",
        "    tokens = word_tokenize(text)\n",
        "\n",
        "    # Remove stopwords\n",
        "    stop_words = set(stopwords.words('english'))\n",
        "    tokens = [word for word in tokens if word not in stop_words]\n",
        "\n",
        "    # Returns a string where all elements in the list 'tokens'\n",
        "    # are concatenated into a single string, separated by spaces\n",
        "    return ' '.join(tokens)\n"
      ],
      "metadata": {
        "id": "PNSN1xizUhNw"
      },
      "execution_count": 4,
      "outputs": []
    },
    {
      "cell_type": "markdown",
      "source": [
        "## Preprocessing the Review Text"
      ],
      "metadata": {
        "id": "iLzzODO_Vgjg"
      }
    },
    {
      "cell_type": "code",
      "source": [
        "# Apply preprocessing to the review text\n",
        "data['processed_reviews'] = data['review_text'].apply(preprocess_text)\n"
      ],
      "metadata": {
        "id": "b_S20BBOVoj-"
      },
      "execution_count": 5,
      "outputs": []
    },
    {
      "cell_type": "markdown",
      "source": [
        "## Create Column Binary Sentiment"
      ],
      "metadata": {
        "id": "qo7uqeAdV3dB"
      }
    },
    {
      "cell_type": "code",
      "source": [
        "# Convert ratings to binary sentiment\n",
        "data['sentiment'] = data['review_rating'].apply(lambda x: 1 if x > 3 else 0)\n"
      ],
      "metadata": {
        "id": "rY0j9M-7Pw16"
      },
      "execution_count": 6,
      "outputs": []
    },
    {
      "cell_type": "markdown",
      "source": [
        "## Display Columns Preprocessed"
      ],
      "metadata": {
        "id": "WamVnz8-YUBD"
      }
    },
    {
      "cell_type": "code",
      "source": [
        "# Set the display option for max column width\n",
        "pd.set_option('display.max_colwidth', None)\n",
        "\n",
        "# Display the columns relevant to check results\n",
        "print(data[['review_rating', 'review_text', 'processed_reviews', 'sentiment']].head(3).T)\n"
      ],
      "metadata": {
        "colab": {
          "base_uri": "https://localhost:8080/"
        },
        "id": "f0h1bcK0XpxM",
        "outputId": "d8ab2040-bc55-476e-80bb-b980479734cb"
      },
      "execution_count": 7,
      "outputs": [
        {
          "output_type": "stream",
          "name": "stdout",
          "text": [
            "                                                                                                                                                                                                                            0  \\\n",
            "review_rating                                                                                                                                                                                                               5   \n",
            "review_text        As you get older, you know what you like and what is suitable for your body. I like all Dove products. Gives you that fresh all over, wide awake feeling and no dandruff or flakey skin. No smelly a/pits!   \n",
            "processed_reviews                                                                                       get older know like suitable body like dove products gives fresh wide awake feeling dandruff flakey skin smelly apits   \n",
            "sentiment                                                                                                                                                                                                                   1   \n",
            "\n",
            "                                                                                                                                                                                                 1  \\\n",
            "review_rating                                                                                                                                                                                    5   \n",
            "review_text        Three gigantic marmite jars that will last probably a whole life! What else would you possibly wish for? Order came in time, when mentioned, safely packed. Very happy with it.   \n",
            "processed_reviews                                                      three gigantic marmite jars last probably whole life else would possibly wish order came time mentioned safely packed happy   \n",
            "sentiment                                                                                                                                                                                        1   \n",
            "\n",
            "                           2  \n",
            "review_rating              4  \n",
            "review_text        Excellent  \n",
            "processed_reviews  excellent  \n",
            "sentiment                  1  \n"
          ]
        }
      ]
    },
    {
      "cell_type": "markdown",
      "source": [
        "The displayed results from the dataset reveal that the preprocessing steps effectively distilled key sentiment-related content from the original reviews, with all three examples showing high review ratings indicative of positive sentiments. The processed reviews retain critical information, focusing on aspects directly related to user experiences and satisfaction, while extraneous details are omitted. Sentiment labels consistently assigned as `1` align with the positive nature of the review ratings and the processed texts, indicating a successful preprocessing and sentiment labelling effort. This suggests that the data is well-prepared for further sentiment analysis tasks, with the preprocessing ensuring that models or analyses are based on relevant, succinct representations of the original reviews, accurately reflecting their positive sentiments."
      ],
      "metadata": {
        "id": "Jwk03d7iftrw"
      }
    },
    {
      "cell_type": "markdown",
      "source": [
        "## Extensive Data Inspection"
      ],
      "metadata": {
        "id": "-8lYSFw-8c8D"
      }
    },
    {
      "cell_type": "markdown",
      "source": [
        "### Check Missing Values\n",
        "\n",
        "> Check for missing values or inconsistent data entries"
      ],
      "metadata": {
        "id": "q-uCn_H18Nsn"
      }
    },
    {
      "cell_type": "code",
      "source": [
        "# Checking for missing values in 'review_rating' and 'review_text' columns\n",
        "missing_values = data[['review_rating', 'review_text']].isnull().sum()\n",
        "\n",
        "# Printing results in an aligned manner\n",
        "print(\"Missing values in selected columns:\")\n",
        "for column, value in missing_values.items():\n",
        "    print(f\"{column:15}= {value}\")\n"
      ],
      "metadata": {
        "colab": {
          "base_uri": "https://localhost:8080/"
        },
        "id": "nXbTFHjE8RCT",
        "outputId": "c36d0c83-b79d-45df-a4c4-45fe042ed9b8"
      },
      "execution_count": 8,
      "outputs": [
        {
          "output_type": "stream",
          "name": "stdout",
          "text": [
            "Missing values in selected columns:\n",
            "review_rating  = 0\n",
            "review_text    = 0\n"
          ]
        }
      ]
    },
    {
      "cell_type": "markdown",
      "source": [
        "The analysis confirms that the `review_rating` and `review_text` columns have no missing values, a crucial advantage for sentiment analysis. This completeness ensures the dataset is ready for sentiment analysis without needing data imputation or streamlining preprocessing like text cleaning and tokenization. It provides a solid model training and evaluation foundation, enhancing analysis reliability. The absence of missing values in these key columns simplifies project workflows and focuses on core analytical and modelling tasks."
      ],
      "metadata": {
        "id": "Uao-1Kyp_13t"
      }
    },
    {
      "cell_type": "code",
      "source": [
        "# Assuming 'review_rating' should be between 1 and 5\n",
        "# Checking for any ratings outside this range\n",
        "invalid_ratings = data[(data['review_rating'] < 1) | (data['review_rating'] > 5)]\n",
        "\n",
        "# Printing only the relevant columns: 'review_text' and 'review_rating'\n",
        "print(\"Invalid ratings:\\n\", invalid_ratings[['review_text', 'review_rating']])\n"
      ],
      "metadata": {
        "colab": {
          "base_uri": "https://localhost:8080/"
        },
        "id": "DCTmlendDtM8",
        "outputId": "0d059b6d-66a4-40dc-b9e1-585b40920aff"
      },
      "execution_count": 9,
      "outputs": [
        {
          "output_type": "stream",
          "name": "stdout",
          "text": [
            "Invalid ratings:\n",
            " Empty DataFrame\n",
            "Columns: [review_text, review_rating]\n",
            "Index: []\n"
          ]
        }
      ]
    },
    {
      "cell_type": "markdown",
      "source": [
        "The `review_rating` column analysis reveals that all ratings fall within the expected range of 1 to 5, indicating no invalid ratings in the dataset. This finding underscores the high quality of the dataset regarding rating data integrity. It eliminates the need for data cleaning steps for correcting or removing out-of-range ratings. Consequently, the dataset is well-prepared for further processing and analysis, particularly sentiment analysis, where these ratings can be directly utilized or transformed into categorical sentiment labels. This ensures a reliable foundation for the project's analytical and modelling endeavours."
      ],
      "metadata": {
        "id": "FMbmlrIzC0Rk"
      }
    },
    {
      "cell_type": "markdown",
      "source": [
        "### Data Distribution\n",
        "\n",
        "> Explore data distribution, such as the number of positive vs negative reviews."
      ],
      "metadata": {
        "id": "5QaZSFodEWd2"
      }
    },
    {
      "cell_type": "code",
      "source": [
        "# Define positive (e.g., ratings 4 and 5) and negative (e.g., ratings 1 and 2) reviews\n",
        "data['review_sentiment'] = data['review_rating'].apply(lambda x: 'Positive' if x > 3 else ('Negative' if x < 3 else 'Neutral'))\n",
        "\n",
        "# Count the number of positive vs. negative reviews\n",
        "sentiment_distribution = data['review_sentiment'].value_counts()\n",
        "\n",
        "print(sentiment_distribution)\n"
      ],
      "metadata": {
        "colab": {
          "base_uri": "https://localhost:8080/"
        },
        "id": "IBbg82PBEdcF",
        "outputId": "1417c566-3593-4efb-f0cc-5399882745fa"
      },
      "execution_count": 10,
      "outputs": [
        {
          "output_type": "stream",
          "name": "stdout",
          "text": [
            "Positive    2167\n",
            "Negative     227\n",
            "Neutral      107\n",
            "Name: review_sentiment, dtype: int64\n"
          ]
        }
      ]
    },
    {
      "cell_type": "markdown",
      "source": [
        "The dataset analyzed shows a dominant number of positive reviews (2,167) compared to negative (227) and neutral (107) reviews, indicating a general customer satisfaction or potential review collection bias. Positive reviews significantly outweigh negative and neutral ones, suggesting clear sentiment trends among reviewers, with few adopting a neutral stance. This imbalance highlights the importance of considering data diversity in sentiment analysis to avoid model biases toward positive outcomes."
      ],
      "metadata": {
        "id": "Q3c45-XnFu2U"
      }
    },
    {
      "cell_type": "markdown",
      "source": [
        "## Text Normalization\n"
      ],
      "metadata": {
        "id": "BNcyVLwTG7E_"
      }
    },
    {
      "cell_type": "markdown",
      "source": [
        "### Lemmatization and Stemming\n",
        "\n",
        "- Adding lemmatization and stemming. Lemmatization converts a word to its base form with a proper dictionary meaning, whereas stemming trims words to their root form, which might not be a valid word itself."
      ],
      "metadata": {
        "id": "qoTrzSE_PKWq"
      }
    },
    {
      "cell_type": "code",
      "source": [
        "# Ensure necessary NLTK resources are downloaded\n",
        "nltk.download('punkt')\n",
        "nltk.download('averaged_perceptron_tagger')\n",
        "nltk.download('omw-1.4')  # Make sure WordNet is up-to-date\n",
        "nltk.download('wordnet')\n"
      ],
      "metadata": {
        "colab": {
          "base_uri": "https://localhost:8080/"
        },
        "id": "Wn_mPVS_HG93",
        "outputId": "52046e6c-a14e-457f-ec4d-3cec9f2558c8"
      },
      "execution_count": 11,
      "outputs": [
        {
          "output_type": "stream",
          "name": "stderr",
          "text": [
            "[nltk_data] Downloading package punkt to /root/nltk_data...\n",
            "[nltk_data]   Package punkt is already up-to-date!\n",
            "[nltk_data] Downloading package averaged_perceptron_tagger to\n",
            "[nltk_data]     /root/nltk_data...\n",
            "[nltk_data]   Unzipping taggers/averaged_perceptron_tagger.zip.\n",
            "[nltk_data] Downloading package omw-1.4 to /root/nltk_data...\n",
            "[nltk_data] Downloading package wordnet to /root/nltk_data...\n"
          ]
        },
        {
          "output_type": "execute_result",
          "data": {
            "text/plain": [
              "True"
            ]
          },
          "metadata": {},
          "execution_count": 11
        }
      ]
    },
    {
      "cell_type": "code",
      "source": [
        "# Initialize the Lemmatizer and Stemmer\n",
        "lemmatizer = WordNetLemmatizer()\n",
        "stemmer = PorterStemmer()\n"
      ],
      "metadata": {
        "id": "BupUvAigMc7N"
      },
      "execution_count": 12,
      "outputs": []
    },
    {
      "cell_type": "code",
      "source": [
        "# Defines a function to map NLTK part-of-speech tags to WordNet part-of-speech tags\n",
        "def nltk_tag_to_wordnet_tag(nltk_tag):\n",
        "\n",
        "    if nltk_tag.startswith('J'):\n",
        "        return wordnet.ADJ\n",
        "        # If the tag starts with 'J', it's an adjective in NLTK, so return the WordNet tag for adjective\n",
        "\n",
        "    elif nltk_tag.startswith('V'):\n",
        "        return wordnet.VERB\n",
        "        # If the tag starts with 'V', it's a verb, so return the WordNet tag for verb\n",
        "\n",
        "    elif nltk_tag.startswith('N'):\n",
        "        return wordnet.NOUN\n",
        "        # If the tag starts with 'N', it's a noun, so return the WordNet tag for noun\n",
        "\n",
        "    elif nltk_tag.startswith('R'):\n",
        "        return wordnet.ADV\n",
        "        # If the tag starts with 'R', it's an adverb, so return the WordNet tag for adverb\n",
        "\n",
        "    else:\n",
        "        return None\n",
        "        # If the NLTK tag doesn't start with J, V, N, or R, return None as it doesn't match any WordNet tag categories\n"
      ],
      "metadata": {
        "id": "nWB6XRDuMrxn"
      },
      "execution_count": 13,
      "outputs": []
    },
    {
      "cell_type": "code",
      "source": [
        "# Defines a function to lemmatize each word in a sentence\n",
        "def lemmatize_sentence(sentence):\n",
        "\n",
        "    words = word_tokenize(sentence)\n",
        "    # Tokenizes the sentence into individual words\n",
        "\n",
        "    lemmatized_words = []\n",
        "    # Initializes an empty list to store the lemmatized words\n",
        "\n",
        "    for word, tag in nltk.pos_tag(words):\n",
        "        # Loops through each word and its part-of-speech tag\n",
        "\n",
        "        wordnet_tag = nltk_tag_to_wordnet_tag(tag)\n",
        "        # Converts the POS tag into a WordNet POS tag\n",
        "\n",
        "        if wordnet_tag is None:\n",
        "            # If there's no corresponding WordNet tag, keep the word as is\n",
        "            lemmatized_words.append(word)\n",
        "        else:\n",
        "            # If there is a corresponding WordNet tag, lemmatize the word\n",
        "            lemmatized_words.append(lemmatizer.lemmatize(word, wordnet_tag))\n",
        "\n",
        "    return ' '.join(lemmatized_words)\n",
        "    # Joins the list of lemmatized words into a single string and returns it\n"
      ],
      "metadata": {
        "id": "ruJGhiqsM3LP"
      },
      "execution_count": 14,
      "outputs": []
    },
    {
      "cell_type": "code",
      "source": [
        "# Defines a function to stem each word in a sentence\n",
        "def stem_sentence(sentence):\n",
        "\n",
        "    words = word_tokenize(sentence)\n",
        "    # Tokenizes the sentence into individual words\n",
        "\n",
        "    stemmed_words = [stemmer.stem(word) for word in words]\n",
        "    # Uses a list comprehension to apply the stemmer to each word in the list of words\n",
        "\n",
        "    return ' '.join(stemmed_words)\n",
        "    # Joins the list of stemmed words into a single string and returns it\n"
      ],
      "metadata": {
        "id": "E0de5E6TZX7q"
      },
      "execution_count": 15,
      "outputs": []
    },
    {
      "cell_type": "code",
      "source": [
        "# Apply Lemmatization and Stemming to the review_text column\n",
        "data['lemmatized_review'] = data['review_text'].apply(lemmatize_sentence)\n",
        "data['stemmed_review'] = data['review_text'].apply(stem_sentence)\n",
        "\n",
        "# Display the first few rows to verify\n",
        "print(data[['review_text', 'lemmatized_review', 'stemmed_review']].head())\n"
      ],
      "metadata": {
        "colab": {
          "base_uri": "https://localhost:8080/"
        },
        "id": "_kUy3SqmZyPV",
        "outputId": "0be3adbc-c484-4574-d97d-25778e03b439"
      },
      "execution_count": 16,
      "outputs": [
        {
          "output_type": "stream",
          "name": "stdout",
          "text": [
            "                                                                                                                                                                                                  review_text  \\\n",
            "0  As you get older, you know what you like and what is suitable for your body. I like all Dove products. Gives you that fresh all over, wide awake feeling and no dandruff or flakey skin. No smelly a/pits!   \n",
            "1                             Three gigantic marmite jars that will last probably a whole life! What else would you possibly wish for? Order came in time, when mentioned, safely packed. Very happy with it.   \n",
            "2                                                                                                                                                                                                   Excellent   \n",
            "3                                                                                                                                                                  A great flavour top - up for slow cooking.   \n",
            "4                                                                                                                                                                                   Does what is says it does   \n",
            "\n",
            "                                                                                                                                                                                               lemmatized_review  \\\n",
            "0  As you get old , you know what you like and what be suitable for your body . I like all Dove product . Gives you that fresh all over , wide awake feeling and no dandruff or flakey skin . No smelly a/pits !   \n",
            "1                               Three gigantic marmite jar that will last probably a whole life ! What else would you possibly wish for ? Order come in time , when mention , safely pack . Very happy with it .   \n",
            "2                                                                                                                                                                                                      Excellent   \n",
            "3                                                                                                                                                                    A great flavour top - up for slow cooking .   \n",
            "4                                                                                                                                                                                         Does what be say it do   \n",
            "\n",
            "                                                                                                                                                                                             stemmed_review  \n",
            "0  as you get older , you know what you like and what is suitabl for your bodi . i like all dove product . give you that fresh all over , wide awak feel and no dandruff or flakey skin . no smelli a/pit !  \n",
            "1                                  three gigant marmit jar that will last probabl a whole life ! what els would you possibl wish for ? order came in time , when mention , safe pack . veri happi with it .  \n",
            "2                                                                                                                                                                                                     excel  \n",
            "3                                                                                                                                                                  a great flavour top - up for slow cook .  \n",
            "4                                                                                                                                                                                    doe what is say it doe  \n"
          ]
        }
      ]
    },
    {
      "cell_type": "markdown",
      "source": [
        "The results demonstrate the application of lemmatization and stemming on review texts, highlighting key differences. Lemmatization retains words in a form closer to their lexicographic roots, ensuring grammatical correctness and preserving the original meaning. Stemming simplifies words more aggressively to their stem forms, often leading to non-words, but helps consolidate word variations. Lemmatization is preferable for tasks requiring semantic accuracy and grammatical integrity while stemming is beneficial for search and indexing applications where speed and matching word variations are prioritized. Both techniques reduce the complexity of natural language data, aiding in text analysis by decreasing the number of unique words."
      ],
      "metadata": {
        "id": "rSuIsjTBcwzX"
      }
    },
    {
      "cell_type": "markdown",
      "source": [
        "### Handling Negations\n",
        "\n",
        "Sometimes, negations (like \"not bad\") can be crucial for sentiment analysis. Define a strategy to handle such cases."
      ],
      "metadata": {
        "id": "D-yvGY-VawEr"
      }
    },
    {
      "cell_type": "code",
      "source": [
        "# Define a function to handle negations\n",
        "def handle_negations(text):\n",
        "\n",
        "    # Pattern to identify negations followed by an alphanumeric word\n",
        "    negation_pattern = re.compile(r'\\b(not|no|never|n\\'t)\\s([a-zA-Z]+)')\n",
        "\n",
        "    # Replace the identified pattern with the combined form (e.g., \"not_good\")\n",
        "    modified_text = negation_pattern.sub(lambda x: x.group(1) + '_' + x.group(2), text)\n",
        "\n",
        "    return modified_text\n"
      ],
      "metadata": {
        "id": "CXmqJv6OazJT"
      },
      "execution_count": 17,
      "outputs": []
    },
    {
      "cell_type": "code",
      "source": [
        "# Apply the function to the 'review_text' column\n",
        "data['handled_negations'] = data['review_text'].apply(handle_negations)\n",
        "\n",
        "# Display the first few rows to verify the changes\n",
        "print(data[['review_text', 'handled_negations']].head())\n"
      ],
      "metadata": {
        "colab": {
          "base_uri": "https://localhost:8080/"
        },
        "id": "qwxsITH0ejAB",
        "outputId": "e5d65fc7-28de-4a20-bba7-e6913e26b27f"
      },
      "execution_count": 18,
      "outputs": [
        {
          "output_type": "stream",
          "name": "stdout",
          "text": [
            "                                                                                                                                                                                                  review_text  \\\n",
            "0  As you get older, you know what you like and what is suitable for your body. I like all Dove products. Gives you that fresh all over, wide awake feeling and no dandruff or flakey skin. No smelly a/pits!   \n",
            "1                             Three gigantic marmite jars that will last probably a whole life! What else would you possibly wish for? Order came in time, when mentioned, safely packed. Very happy with it.   \n",
            "2                                                                                                                                                                                                   Excellent   \n",
            "3                                                                                                                                                                  A great flavour top - up for slow cooking.   \n",
            "4                                                                                                                                                                                   Does what is says it does   \n",
            "\n",
            "                                                                                                                                                                                            handled_negations  \n",
            "0  As you get older, you know what you like and what is suitable for your body. I like all Dove products. Gives you that fresh all over, wide awake feeling and no_dandruff or flakey skin. No smelly a/pits!  \n",
            "1                             Three gigantic marmite jars that will last probably a whole life! What else would you possibly wish for? Order came in time, when mentioned, safely packed. Very happy with it.  \n",
            "2                                                                                                                                                                                                   Excellent  \n",
            "3                                                                                                                                                                  A great flavour top - up for slow cooking.  \n",
            "4                                                                                                                                                                                   Does what is says it does  \n"
          ]
        }
      ]
    },
    {
      "cell_type": "markdown",
      "source": [
        "The function for handling negations within the dataset's `review_text` column successfully identifies and processes negations by merging them with the following word (e.g., \"no dandruff\" becomes \"no_dandruff\"). This method is selectively applied, altering the text only where negations are present and leaving other parts of the review unchanged. Such targeted modification is crucial for sentiment analysis, as it preserves the original sentiment's context, particularly in cases where negations can significantly alter the sentiment conveyed. This preprocessing step enhances the dataset's readiness for sentiment analysis by ensuring that negations' nuanced effects are accurately represented, thereby improving the analysis's overall accuracy and reliability."
      ],
      "metadata": {
        "id": "-SxUe9rMgyvG"
      }
    },
    {
      "cell_type": "markdown",
      "source": [
        "## Text Vectorization\n",
        "\n",
        "Converting text data into a format suitable for machine learning models. Common approaches are TF-IDF (Term Frequency-Inverse Document Frequency) and using word embeddings from models like Word2Vec and BERT (🤗 Transformers)."
      ],
      "metadata": {
        "id": "OvmnWiw9pC40"
      }
    },
    {
      "cell_type": "markdown",
      "source": [
        "### TF-IDF Vectorization\n"
      ],
      "metadata": {
        "id": "mEdvmwjXqdVW"
      }
    },
    {
      "cell_type": "code",
      "source": [
        "# Import TF-IDF Vectorizer from scikit-learn for text vectorization\n",
        "from sklearn.feature_extraction.text import TfidfVectorizer\n",
        "\n",
        "# Extract the 'review_text' column from the DataFrame to a variable for processing\n",
        "texts = data['review_text']\n",
        "\n",
        "# Initialize the TF-IDF Vectorizer\n",
        "tfidf_vectorizer = TfidfVectorizer()\n",
        "\n",
        "# Fit the vectorizer to the text data and transform the texts into TF-IDF vectors\n",
        "tfidf_vectors = tfidf_vectorizer.fit_transform(texts)\n",
        "# tfidf_vectors is a sparse matrix with TF-IDF values. It can be used for machine learning models\n"
      ],
      "metadata": {
        "id": "pTBHWxAxqmni"
      },
      "execution_count": 19,
      "outputs": []
    },
    {
      "cell_type": "markdown",
      "source": [
        "### BERT (🤗 Transformers) Embedding"
      ],
      "metadata": {
        "id": "MLWUNoqKtKh8"
      }
    },
    {
      "cell_type": "code",
      "source": [
        "# Import BERT tokenizer and model from the Hugging Face Transformers library for NLP tasks\n",
        "from transformers import BertTokenizer, BertModel\n",
        "\n",
        "# Import PyTorch, a deep learning library used for working with BERT and other transformers models\n",
        "import torch\n",
        "\n",
        "# Initialize BERT tokenizer and model\n",
        "bert_tokenizer = BertTokenizer.from_pretrained('bert-base-uncased')\n",
        "bert_model = BertModel.from_pretrained('bert-base-uncased')\n"
      ],
      "metadata": {
        "colab": {
          "base_uri": "https://localhost:8080/",
          "height": 281,
          "referenced_widgets": [
            "1100b900ac814d55abe84db0bd5d0017",
            "274350e5c1454643bfd69223dcb22dd5",
            "c78bf0e07e0b4275aba21c3e86658347",
            "3739e94b123048fba277b98c2b429b82",
            "e2e3828b9228413eabbf8a7e1e00b632",
            "a9d20f1e021d4522adb022d98da6ef9b",
            "991d6adc204445acbc3f59cfb2fa56c1",
            "4e6e36190c5c4ed1b82df6da11cc82e2",
            "d6536e43002d4723bb026961403c53cb",
            "5f2f2e7fb02e43b39983029b4a7b0dbf",
            "57c9570752f7477d8edb32fdc246a70b",
            "dd879d2409674c19b8c82a517dbd7677",
            "681e72f95f704160b0d99f52840aeecf",
            "34ee388dcf124b75b9d9b514732244b6",
            "a6f66ea3fbfb4b4ab218ad459873ade1",
            "d3f7c10b79e84e589ce6b1de94e9ee51",
            "8530acd88c5947e289cf479cae7cd89d",
            "4a44f3114af043909c34211109d505c2",
            "fa5fffc6dba142dab29e2ddc8365031a",
            "363e298411644f42a3338c3f22f8a253",
            "8581f8881d5640ea8330beac48f8e952",
            "21cc82d90fa94cb08bdb7c8be88d3944",
            "b576b6cbf5494f45966994c917cae41a",
            "2f69eb4364ad47369703ff9785fe4435",
            "4545ef0b871c410898d48fa5821a88e4",
            "32b6ad36d4f244519ca67e175e500a6c",
            "265f551852cb49559136fb43c2db5c3d",
            "767f12f3e3704d50b2768b72dd46f420",
            "8baef5a4bd854754ba7718aaf53efc82",
            "d22045961cfc4700b9bc71c51445acbe",
            "40a83e8cd9194702983bf2e5a121d03f",
            "1d67bf61fd454287a0b6c6bb1b844f11",
            "8e7e1602436a4aa497e5a04b81eb5a9a",
            "7fa1d4d0d6b24fc19861f3909036782d",
            "72862e696db144eb8707c0c7cbd3d352",
            "0e2832a3a82849ccb8d060a6434049b3",
            "599b668809784bdcbf6655c16fca20d0",
            "bc08fe901c4440a8b74e35ede2c7da5e",
            "1a06c70783b94dbea54c4d9c7dee37fc",
            "87b7c45aa99c459e81d52fb6138e8efd",
            "77e57326918f4a89a7e0f0df734e3ef6",
            "b11108e1209f4d2cb9eb4b26db2792da",
            "6073920262c7417fbe9c8b35439e027e",
            "791ca8d3e1f44ad4bab58522933a4ca3",
            "37ecc580b6754ea4a22d1a1d0e48ccf7",
            "66e47606ad934463928c653ad84d229b",
            "2e9d85bf7b7e4f16b22238dcdead1d87",
            "df65aea95e294abc85d8b4b2d8558720",
            "10eb87af8e394905b8255658b640e3f0",
            "50245b3e1fff46fba5175ef197caa7ea",
            "d4271be9fbce4f85975cc81bd797ee9c",
            "1d450177602e45e3a85211650b4fa5f8",
            "89ecd1a200b446bebc6e2dd026c319a5",
            "d5c345a92e064b3f81875b2ea2bf7b42",
            "c711624f81184ea6bcb84de485d5fa56"
          ]
        },
        "id": "ZcpAvJxJtLfL",
        "outputId": "cf96589d-c41a-4c8d-ccb8-cf4cc8368b04"
      },
      "execution_count": 20,
      "outputs": [
        {
          "output_type": "stream",
          "name": "stderr",
          "text": [
            "/usr/local/lib/python3.10/dist-packages/huggingface_hub/utils/_token.py:88: UserWarning: \n",
            "The secret `HF_TOKEN` does not exist in your Colab secrets.\n",
            "To authenticate with the Hugging Face Hub, create a token in your settings tab (https://huggingface.co/settings/tokens), set it as secret in your Google Colab and restart your session.\n",
            "You will be able to reuse this secret in all of your notebooks.\n",
            "Please note that authentication is recommended but still optional to access public models or datasets.\n",
            "  warnings.warn(\n"
          ]
        },
        {
          "output_type": "display_data",
          "data": {
            "text/plain": [
              "tokenizer_config.json:   0%|          | 0.00/48.0 [00:00<?, ?B/s]"
            ],
            "application/vnd.jupyter.widget-view+json": {
              "version_major": 2,
              "version_minor": 0,
              "model_id": "1100b900ac814d55abe84db0bd5d0017"
            }
          },
          "metadata": {}
        },
        {
          "output_type": "display_data",
          "data": {
            "text/plain": [
              "vocab.txt:   0%|          | 0.00/232k [00:00<?, ?B/s]"
            ],
            "application/vnd.jupyter.widget-view+json": {
              "version_major": 2,
              "version_minor": 0,
              "model_id": "dd879d2409674c19b8c82a517dbd7677"
            }
          },
          "metadata": {}
        },
        {
          "output_type": "display_data",
          "data": {
            "text/plain": [
              "tokenizer.json:   0%|          | 0.00/466k [00:00<?, ?B/s]"
            ],
            "application/vnd.jupyter.widget-view+json": {
              "version_major": 2,
              "version_minor": 0,
              "model_id": "b576b6cbf5494f45966994c917cae41a"
            }
          },
          "metadata": {}
        },
        {
          "output_type": "display_data",
          "data": {
            "text/plain": [
              "config.json:   0%|          | 0.00/570 [00:00<?, ?B/s]"
            ],
            "application/vnd.jupyter.widget-view+json": {
              "version_major": 2,
              "version_minor": 0,
              "model_id": "7fa1d4d0d6b24fc19861f3909036782d"
            }
          },
          "metadata": {}
        },
        {
          "output_type": "display_data",
          "data": {
            "text/plain": [
              "model.safetensors:   0%|          | 0.00/440M [00:00<?, ?B/s]"
            ],
            "application/vnd.jupyter.widget-view+json": {
              "version_major": 2,
              "version_minor": 0,
              "model_id": "37ecc580b6754ea4a22d1a1d0e48ccf7"
            }
          },
          "metadata": {}
        }
      ]
    },
    {
      "cell_type": "markdown",
      "source": [
        "> **BERT:** The operation can be very slow for large datasets due to BERT's computational complexity. Consider using a GPU available with Google Colab for faster results.\n",
        "\n",
        "> NVIDIA Tesla A100: Using Google Colab, the A100 is currently one of the most powerful GPUs offered on cloud platforms. It would provide the best performance for training and fine-tuning BERT models due to its superior computing capabilities, more significant memory, and faster bandwidth."
      ],
      "metadata": {
        "id": "P_nWgGcYvuTs"
      }
    },
    {
      "cell_type": "code",
      "source": [
        "# Define a function to get BERT embeddings for a piece of text\n",
        "def get_bert_embedding(text, tokenizer, model):\n",
        "\n",
        "    # Tokenize the input text, converting it to tensors, with truncation and padding applied as needed\n",
        "    inputs = tokenizer(text, return_tensors='pt', max_length=512, truncation=True, padding=True)\n",
        "\n",
        "    # Disable gradient calculation to save memory and computations during inference\n",
        "    with torch.no_grad():\n",
        "\n",
        "        # Pass the tokenized inputs to the BERT model to obtain embeddings\n",
        "        outputs = model(**inputs)\n",
        "\n",
        "    # Calculate the mean of the last hidden state across the input sequence dimension to get a single embedding vector per input\n",
        "    embeddings = outputs.last_hidden_state.mean(dim=1).squeeze().numpy()\n",
        "\n",
        "    # Return the computed embeddings as a NumPy array\n",
        "    return embeddings\n",
        "\n",
        "# Apply the function to each row in the review_text column\n",
        "data['bert_embedding'] = data['review_text'].apply(lambda x: get_bert_embedding(x, bert_tokenizer, bert_model))\n"
      ],
      "metadata": {
        "id": "g0u8QnUOvOyN"
      },
      "execution_count": 21,
      "outputs": []
    },
    {
      "cell_type": "code",
      "source": [
        "# Import the display function from IPython for displaying various types of content (e.g., DataFrames, images) in Jupyter notebooks\n",
        "from IPython.display import display\n",
        "\n",
        "# Convert 'data' to a pandas DataFrame for better handling\n",
        "data = pd.DataFrame(data)\n",
        "\n",
        "# Display the first few rows for specified columns with better formatting\n",
        "display(data[['review_text', 'bert_embedding']].head().transpose())\n"
      ],
      "metadata": {
        "colab": {
          "base_uri": "https://localhost:8080/",
          "height": 754
        },
        "id": "7lMfoseWzpER",
        "outputId": "e2dc1aee-378e-40ef-807c-692aef1bcae8"
      },
      "execution_count": 22,
      "outputs": [
        {
          "output_type": "display_data",
          "data": {
            "text/plain": [
              "                                                                                                                                                                                                                                                                                                                                                                                                                                                                                                                                                                                                                                                                                                                                                                                                                                                                                                                                                                                                                                                                                                                                                                                                                                                                                                                 0  \\\n",
              "review_text                                                                                                                                                                                                                                                                                                                                                                                                                                                                                                                                                                                                                                                                                                                                                                                                                                                                                                                                                                                                                                                                                             As you get older, you know what you like and what is suitable for your body. I like all Dove products. Gives you that fresh all over, wide awake feeling and no dandruff or flakey skin. No smelly a/pits!   \n",
              "bert_embedding  [-0.012894258, -0.033465985, 0.57750016, -0.008548573, 0.41595542, -0.10795555, 0.04796891, 0.629654, 0.11756572, -0.28134662, 0.1312769, -0.28511527, -0.065397635, 0.31463918, -0.27102596, 0.50063705, 0.21445706, 0.17960624, -0.10273602, 0.6261045, 0.22607493, -0.10568845, -0.13871284, 0.54132634, 0.49035108, 0.02690764, 0.12900496, 0.13980953, -0.103207916, -0.23791873, 0.21250643, 0.15990636, -0.2669118, -0.23586473, -0.058294937, -0.09820997, -0.21120022, -0.13981588, -0.08335457, -0.08404711, -0.7080052, -0.1852609, 0.09819824, 0.08144633, -0.2219529, -0.2718587, 0.18632334, 0.12132088, -0.074111454, -0.07861741, 0.01465922, -0.12716477, -0.19413261, -0.34396508, 0.15510517, 0.5391602, -0.02591813, -0.27146575, -0.37028563, -0.15713887, 0.12363933, 0.0047309874, 0.17865723, -0.15237789, 0.12247207, 0.21680927, -0.13355011, -0.018876314, -0.63954496, 0.25545096, -0.23382995, -0.1410331, 0.13640244, -0.14475946, -0.02438852, 0.23285633, -0.15507776, 0.12941451, 0.17981246, 0.27727035, -0.14452985, 0.11631071, -0.058328915, 0.61304986, 0.2154135, 0.25480622, -0.06468125, 0.1735329, -0.27817592, 0.620528, 0.017308185, -0.22454408, 0.4980002, 0.16278249, 0.18932672, -0.285808, 0.131524, -0.010175334, -0.016083293, 0.40693274, ...]   \n",
              "\n",
              "                                                                                                                                                                                                                                                                                                                                                                                                                                                                                                                                                                                                                                                                                                                                                                                                                                                                                                                                                                                                                                                                                                                                                                                                                                                                                                           1  \\\n",
              "review_text                                                                                                                                                                                                                                                                                                                                                                                                                                                                                                                                                                                                                                                                                                                                                                                                                                                                                                                                                                                                                                                                                                                  Three gigantic marmite jars that will last probably a whole life! What else would you possibly wish for? Order came in time, when mentioned, safely packed. Very happy with it.   \n",
              "bert_embedding  [0.13458301, 0.11581164, 0.34413344, -0.05803241, 0.2297585, 0.3184651, 0.078012735, 0.7243847, -0.17957862, -0.11425268, 0.2542618, -0.4688732, -0.20061421, 0.36377108, -0.19671889, 0.3857461, -0.09184212, 0.16666919, -0.20291585, 0.290787, 0.2716571, -0.11319948, -0.23489098, 0.3552769, 0.47482178, -0.040610917, -0.007642778, 0.052373447, -0.045040157, -0.25712112, 0.58792233, 0.15223198, 0.02133943, -0.15826587, 0.27664807, -0.22014701, -0.018751258, 0.08987044, -0.35188764, 0.10764172, -0.6454846, -0.36875296, 0.2135961, -0.1530616, -0.30056322, -0.22549304, 0.3215311, -0.20438407, 0.030520892, -0.2264705, -0.29883096, 0.30530158, -0.2801896, -0.33962843, 0.25699228, 0.32651296, -0.46633127, -0.39705178, -0.3933273, -0.019956036, -0.19327773, -0.336155, 0.11291294, -0.2677312, 0.1726254, 0.16501445, 0.13967374, 0.38323256, -0.4854975, -0.09284829, -0.26193848, -0.5823113, -0.008890073, -0.20703891, -0.2921197, -0.1777295, -0.22414237, -0.12874718, -0.012187815, -0.067776345, -0.2786656, 0.33735552, -0.34875005, 0.22933158, 0.012600561, 0.26920393, -0.19465141, 0.23808655, -0.2750175, 0.6287712, 0.06251084, -0.3222331, 0.34807372, 0.098910205, 0.20040417, -0.16970986, 0.035492722, 0.050802507, -0.14886044, 0.4218911, ...]   \n",
              "\n",
              "                                                                                                                                                                                                                                                                                                                                                                                                                                                                                                                                                                                                                                                                                                                                                                                                                                                                                                                                                                                                                                                                                                                                                                                                                                                                                                                            2  \\\n",
              "review_text                                                                                                                                                                                                                                                                                                                                                                                                                                                                                                                                                                                                                                                                                                                                                                                                                                                                                                                                                                                                                                                                                                                                                                                                                                                                                                         Excellent   \n",
              "bert_embedding  [0.29201812, 0.29987356, -0.24443269, -0.01647679, -0.024466446, -0.25771075, 0.13405156, 0.14172669, 0.18477257, -0.22432506, -0.040148467, 0.035029978, 0.2691551, 0.12542401, -0.029278299, -0.13269223, 0.15799926, 0.08229507, -0.12709202, 0.021226073, -0.027569989, -0.109184675, 0.06694746, 0.18524826, 0.09274772, 0.20396882, 0.09003022, -0.1794007, -0.33819225, -0.08479444, 0.062693276, -0.070455864, 0.056923687, 0.21404974, -0.36055723, -0.32038173, 0.07356014, -0.072995596, -0.31129432, -0.14796773, 0.25797895, -0.10952581, 0.20944087, 0.19062598, -0.14694345, 0.044059545, -0.18891579, 0.213937, 0.0560473, 0.14163725, -0.22695403, 0.31692633, -0.2608218, 0.18198048, 0.1748815, -0.040641174, 0.013912384, -0.037199378, -0.13463736, -0.039275188, -0.15434586, -0.060877938, -0.16287807, 0.07040398, 0.24257253, 0.053229574, 0.36479834, -0.19611657, -0.3781159, 0.42245212, 0.05565667, -0.4125441, 0.23508294, -0.20082076, 0.02638712, -0.053658914, -0.19963647, 0.11130613, -0.08430814, -0.18258701, 0.18265128, 0.19542658, -0.04197301, 0.4849021, 0.080563776, 0.19562191, -0.19304287, -0.19692457, -0.39366224, 0.22581607, 0.093238, 0.18416627, 0.03610611, 0.10085056, 0.21816315, -0.15769495, -0.1719697, -0.09007607, -0.28808478, -0.48815942, ...]   \n",
              "\n",
              "                                                                                                                                                                                                                                                                                                                                                                                                                                                                                                                                                                                                                                                                                                                                                                                                                                                                                                                                                                                                                                                                                                                                                                                                                                                                                                        3  \\\n",
              "review_text                                                                                                                                                                                                                                                                                                                                                                                                                                                                                                                                                                                                                                                                                                                                                                                                                                                                                                                                                                                                                                                                                                                                                                                                                                                    A great flavour top - up for slow cooking.   \n",
              "bert_embedding  [-0.07420994, -0.40000597, 0.270199, 0.1670053, -0.053395584, -0.1233947, -0.21695147, 0.48775446, -0.040795207, -0.1919881, 0.5683319, -0.13277067, 0.15326136, 0.18057962, -0.24763711, -0.03201825, 0.17564303, 0.29079738, 0.0195527, 0.19659352, 0.5055013, -0.43453285, -0.1693927, 0.5831835, 0.2494331, 0.13885559, 0.21117114, -0.0670658, 0.13114077, -0.112187885, 0.6078732, 0.3614963, -0.0036318414, -0.3915089, 0.45242867, -0.094242565, 0.22924446, 0.106241256, -0.2819994, 0.14252599, -0.536688, -0.19625269, 0.57322186, -0.011335437, 0.066551395, -0.20673281, -0.1663856, 0.029146379, 0.14591622, -0.43624568, 0.4062307, -0.3121343, -0.1657537, -0.48375472, 0.059880298, 0.55504847, -0.3382912, -0.43843606, -0.22349586, 0.43569866, -0.52188677, 0.016617225, -0.13875529, -0.061125267, 0.1978746, -0.066876, -0.17839311, 0.18424201, -0.5195902, 0.23983221, -0.40065542, -0.26741746, 0.023121988, -0.031267118, -0.4212654, -0.09580501, 0.09888828, 0.07428327, 0.28791755, 0.19443248, -0.3720155, -0.08774986, -0.10509198, 0.6760327, 0.24872237, 0.45609638, -0.33621892, -0.15483111, -0.3876536, 0.8662811, -0.066530265, -0.0393763, 0.5844153, -0.11986143, -0.0037281488, -0.19092017, 0.104436815, 0.09970171, 0.06198812, 0.1934377, ...]   \n",
              "\n",
              "                                                                                                                                                                                                                                                                                                                                                                                                                                                                                                                                                                                                                                                                                                                                                                                                                                                                                                                                                                                                                                                                                                                                                                                                                                                                                                             4  \n",
              "review_text                                                                                                                                                                                                                                                                                                                                                                                                                                                                                                                                                                                                                                                                                                                                                                                                                                                                                                                                                                                                                                                                                                                                                                                                                                                                          Does what is says it does  \n",
              "bert_embedding  [0.31448156, -0.12155436, 0.08247554, -0.27606168, 0.37338746, -0.32440513, 0.5123527, 0.29917943, 0.33164996, -0.59623796, -0.15178886, -0.18281336, -0.004521845, -0.13762923, -0.7165216, 0.26614738, 0.6281396, 0.07577017, 0.21164301, -0.019244028, -0.13767394, 0.2690244, -0.18077117, -0.12493787, 0.58656317, 0.44565994, 0.15511991, -0.5066895, -0.07234696, -0.19723232, 0.25353828, 0.0802968, -0.31449234, -0.2371032, -0.45114613, -0.4293086, 0.06382426, -0.043551404, -0.47986293, 0.050400853, -0.8986982, -0.3873327, 0.09137924, -0.37130535, -0.11543221, -0.23006144, 0.21727872, 0.021656003, 0.041997183, 0.30549318, -0.38894397, 0.05228602, -0.62998784, 0.3958407, 0.08761704, 0.1529133, 0.42872977, -0.35617182, -0.36065018, -0.30025858, 0.06064379, 0.14224659, 0.24494976, -0.07479174, 0.3451649, 0.13370314, -0.1336913, 0.029799536, -0.1790857, 0.35993245, -0.45603123, -0.5783876, 0.019507684, 0.21088189, -0.11812252, -0.30393833, -0.31505126, 0.37060994, 0.27440825, 0.006380126, -0.13915844, 0.41925773, -0.06571461, 0.5471825, 0.25352004, -0.26986268, -0.18640944, 0.28561732, -0.4442562, 0.14515917, 0.43338737, -0.5371207, -0.20061618, -0.24079102, -0.07500025, -0.3020065, -0.15244521, 0.20711762, 0.019145407, 0.41151166, ...]  "
            ],
            "text/html": [
              "\n",
              "  <div id=\"df-24b87c2d-fd76-4b0a-a404-c90534cc31f8\" class=\"colab-df-container\">\n",
              "    <div>\n",
              "<style scoped>\n",
              "    .dataframe tbody tr th:only-of-type {\n",
              "        vertical-align: middle;\n",
              "    }\n",
              "\n",
              "    .dataframe tbody tr th {\n",
              "        vertical-align: top;\n",
              "    }\n",
              "\n",
              "    .dataframe thead th {\n",
              "        text-align: right;\n",
              "    }\n",
              "</style>\n",
              "<table border=\"1\" class=\"dataframe\">\n",
              "  <thead>\n",
              "    <tr style=\"text-align: right;\">\n",
              "      <th></th>\n",
              "      <th>0</th>\n",
              "      <th>1</th>\n",
              "      <th>2</th>\n",
              "      <th>3</th>\n",
              "      <th>4</th>\n",
              "    </tr>\n",
              "  </thead>\n",
              "  <tbody>\n",
              "    <tr>\n",
              "      <th>review_text</th>\n",
              "      <td>As you get older, you know what you like and what is suitable for your body. I like all Dove products. Gives you that fresh all over, wide awake feeling and no dandruff or flakey skin. No smelly a/pits!</td>\n",
              "      <td>Three gigantic marmite jars that will last probably a whole life! What else would you possibly wish for? Order came in time, when mentioned, safely packed. Very happy with it.</td>\n",
              "      <td>Excellent</td>\n",
              "      <td>A great flavour top - up for slow cooking.</td>\n",
              "      <td>Does what is says it does</td>\n",
              "    </tr>\n",
              "    <tr>\n",
              "      <th>bert_embedding</th>\n",
              "      <td>[-0.012894258, -0.033465985, 0.57750016, -0.008548573, 0.41595542, -0.10795555, 0.04796891, 0.629654, 0.11756572, -0.28134662, 0.1312769, -0.28511527, -0.065397635, 0.31463918, -0.27102596, 0.50063705, 0.21445706, 0.17960624, -0.10273602, 0.6261045, 0.22607493, -0.10568845, -0.13871284, 0.54132634, 0.49035108, 0.02690764, 0.12900496, 0.13980953, -0.103207916, -0.23791873, 0.21250643, 0.15990636, -0.2669118, -0.23586473, -0.058294937, -0.09820997, -0.21120022, -0.13981588, -0.08335457, -0.08404711, -0.7080052, -0.1852609, 0.09819824, 0.08144633, -0.2219529, -0.2718587, 0.18632334, 0.12132088, -0.074111454, -0.07861741, 0.01465922, -0.12716477, -0.19413261, -0.34396508, 0.15510517, 0.5391602, -0.02591813, -0.27146575, -0.37028563, -0.15713887, 0.12363933, 0.0047309874, 0.17865723, -0.15237789, 0.12247207, 0.21680927, -0.13355011, -0.018876314, -0.63954496, 0.25545096, -0.23382995, -0.1410331, 0.13640244, -0.14475946, -0.02438852, 0.23285633, -0.15507776, 0.12941451, 0.17981246, 0.27727035, -0.14452985, 0.11631071, -0.058328915, 0.61304986, 0.2154135, 0.25480622, -0.06468125, 0.1735329, -0.27817592, 0.620528, 0.017308185, -0.22454408, 0.4980002, 0.16278249, 0.18932672, -0.285808, 0.131524, -0.010175334, -0.016083293, 0.40693274, ...]</td>\n",
              "      <td>[0.13458301, 0.11581164, 0.34413344, -0.05803241, 0.2297585, 0.3184651, 0.078012735, 0.7243847, -0.17957862, -0.11425268, 0.2542618, -0.4688732, -0.20061421, 0.36377108, -0.19671889, 0.3857461, -0.09184212, 0.16666919, -0.20291585, 0.290787, 0.2716571, -0.11319948, -0.23489098, 0.3552769, 0.47482178, -0.040610917, -0.007642778, 0.052373447, -0.045040157, -0.25712112, 0.58792233, 0.15223198, 0.02133943, -0.15826587, 0.27664807, -0.22014701, -0.018751258, 0.08987044, -0.35188764, 0.10764172, -0.6454846, -0.36875296, 0.2135961, -0.1530616, -0.30056322, -0.22549304, 0.3215311, -0.20438407, 0.030520892, -0.2264705, -0.29883096, 0.30530158, -0.2801896, -0.33962843, 0.25699228, 0.32651296, -0.46633127, -0.39705178, -0.3933273, -0.019956036, -0.19327773, -0.336155, 0.11291294, -0.2677312, 0.1726254, 0.16501445, 0.13967374, 0.38323256, -0.4854975, -0.09284829, -0.26193848, -0.5823113, -0.008890073, -0.20703891, -0.2921197, -0.1777295, -0.22414237, -0.12874718, -0.012187815, -0.067776345, -0.2786656, 0.33735552, -0.34875005, 0.22933158, 0.012600561, 0.26920393, -0.19465141, 0.23808655, -0.2750175, 0.6287712, 0.06251084, -0.3222331, 0.34807372, 0.098910205, 0.20040417, -0.16970986, 0.035492722, 0.050802507, -0.14886044, 0.4218911, ...]</td>\n",
              "      <td>[0.29201812, 0.29987356, -0.24443269, -0.01647679, -0.024466446, -0.25771075, 0.13405156, 0.14172669, 0.18477257, -0.22432506, -0.040148467, 0.035029978, 0.2691551, 0.12542401, -0.029278299, -0.13269223, 0.15799926, 0.08229507, -0.12709202, 0.021226073, -0.027569989, -0.109184675, 0.06694746, 0.18524826, 0.09274772, 0.20396882, 0.09003022, -0.1794007, -0.33819225, -0.08479444, 0.062693276, -0.070455864, 0.056923687, 0.21404974, -0.36055723, -0.32038173, 0.07356014, -0.072995596, -0.31129432, -0.14796773, 0.25797895, -0.10952581, 0.20944087, 0.19062598, -0.14694345, 0.044059545, -0.18891579, 0.213937, 0.0560473, 0.14163725, -0.22695403, 0.31692633, -0.2608218, 0.18198048, 0.1748815, -0.040641174, 0.013912384, -0.037199378, -0.13463736, -0.039275188, -0.15434586, -0.060877938, -0.16287807, 0.07040398, 0.24257253, 0.053229574, 0.36479834, -0.19611657, -0.3781159, 0.42245212, 0.05565667, -0.4125441, 0.23508294, -0.20082076, 0.02638712, -0.053658914, -0.19963647, 0.11130613, -0.08430814, -0.18258701, 0.18265128, 0.19542658, -0.04197301, 0.4849021, 0.080563776, 0.19562191, -0.19304287, -0.19692457, -0.39366224, 0.22581607, 0.093238, 0.18416627, 0.03610611, 0.10085056, 0.21816315, -0.15769495, -0.1719697, -0.09007607, -0.28808478, -0.48815942, ...]</td>\n",
              "      <td>[-0.07420994, -0.40000597, 0.270199, 0.1670053, -0.053395584, -0.1233947, -0.21695147, 0.48775446, -0.040795207, -0.1919881, 0.5683319, -0.13277067, 0.15326136, 0.18057962, -0.24763711, -0.03201825, 0.17564303, 0.29079738, 0.0195527, 0.19659352, 0.5055013, -0.43453285, -0.1693927, 0.5831835, 0.2494331, 0.13885559, 0.21117114, -0.0670658, 0.13114077, -0.112187885, 0.6078732, 0.3614963, -0.0036318414, -0.3915089, 0.45242867, -0.094242565, 0.22924446, 0.106241256, -0.2819994, 0.14252599, -0.536688, -0.19625269, 0.57322186, -0.011335437, 0.066551395, -0.20673281, -0.1663856, 0.029146379, 0.14591622, -0.43624568, 0.4062307, -0.3121343, -0.1657537, -0.48375472, 0.059880298, 0.55504847, -0.3382912, -0.43843606, -0.22349586, 0.43569866, -0.52188677, 0.016617225, -0.13875529, -0.061125267, 0.1978746, -0.066876, -0.17839311, 0.18424201, -0.5195902, 0.23983221, -0.40065542, -0.26741746, 0.023121988, -0.031267118, -0.4212654, -0.09580501, 0.09888828, 0.07428327, 0.28791755, 0.19443248, -0.3720155, -0.08774986, -0.10509198, 0.6760327, 0.24872237, 0.45609638, -0.33621892, -0.15483111, -0.3876536, 0.8662811, -0.066530265, -0.0393763, 0.5844153, -0.11986143, -0.0037281488, -0.19092017, 0.104436815, 0.09970171, 0.06198812, 0.1934377, ...]</td>\n",
              "      <td>[0.31448156, -0.12155436, 0.08247554, -0.27606168, 0.37338746, -0.32440513, 0.5123527, 0.29917943, 0.33164996, -0.59623796, -0.15178886, -0.18281336, -0.004521845, -0.13762923, -0.7165216, 0.26614738, 0.6281396, 0.07577017, 0.21164301, -0.019244028, -0.13767394, 0.2690244, -0.18077117, -0.12493787, 0.58656317, 0.44565994, 0.15511991, -0.5066895, -0.07234696, -0.19723232, 0.25353828, 0.0802968, -0.31449234, -0.2371032, -0.45114613, -0.4293086, 0.06382426, -0.043551404, -0.47986293, 0.050400853, -0.8986982, -0.3873327, 0.09137924, -0.37130535, -0.11543221, -0.23006144, 0.21727872, 0.021656003, 0.041997183, 0.30549318, -0.38894397, 0.05228602, -0.62998784, 0.3958407, 0.08761704, 0.1529133, 0.42872977, -0.35617182, -0.36065018, -0.30025858, 0.06064379, 0.14224659, 0.24494976, -0.07479174, 0.3451649, 0.13370314, -0.1336913, 0.029799536, -0.1790857, 0.35993245, -0.45603123, -0.5783876, 0.019507684, 0.21088189, -0.11812252, -0.30393833, -0.31505126, 0.37060994, 0.27440825, 0.006380126, -0.13915844, 0.41925773, -0.06571461, 0.5471825, 0.25352004, -0.26986268, -0.18640944, 0.28561732, -0.4442562, 0.14515917, 0.43338737, -0.5371207, -0.20061618, -0.24079102, -0.07500025, -0.3020065, -0.15244521, 0.20711762, 0.019145407, 0.41151166, ...]</td>\n",
              "    </tr>\n",
              "  </tbody>\n",
              "</table>\n",
              "</div>\n",
              "    <div class=\"colab-df-buttons\">\n",
              "\n",
              "  <div class=\"colab-df-container\">\n",
              "    <button class=\"colab-df-convert\" onclick=\"convertToInteractive('df-24b87c2d-fd76-4b0a-a404-c90534cc31f8')\"\n",
              "            title=\"Convert this dataframe to an interactive table.\"\n",
              "            style=\"display:none;\">\n",
              "\n",
              "  <svg xmlns=\"http://www.w3.org/2000/svg\" height=\"24px\" viewBox=\"0 -960 960 960\">\n",
              "    <path d=\"M120-120v-720h720v720H120Zm60-500h600v-160H180v160Zm220 220h160v-160H400v160Zm0 220h160v-160H400v160ZM180-400h160v-160H180v160Zm440 0h160v-160H620v160ZM180-180h160v-160H180v160Zm440 0h160v-160H620v160Z\"/>\n",
              "  </svg>\n",
              "    </button>\n",
              "\n",
              "  <style>\n",
              "    .colab-df-container {\n",
              "      display:flex;\n",
              "      gap: 12px;\n",
              "    }\n",
              "\n",
              "    .colab-df-convert {\n",
              "      background-color: #E8F0FE;\n",
              "      border: none;\n",
              "      border-radius: 50%;\n",
              "      cursor: pointer;\n",
              "      display: none;\n",
              "      fill: #1967D2;\n",
              "      height: 32px;\n",
              "      padding: 0 0 0 0;\n",
              "      width: 32px;\n",
              "    }\n",
              "\n",
              "    .colab-df-convert:hover {\n",
              "      background-color: #E2EBFA;\n",
              "      box-shadow: 0px 1px 2px rgba(60, 64, 67, 0.3), 0px 1px 3px 1px rgba(60, 64, 67, 0.15);\n",
              "      fill: #174EA6;\n",
              "    }\n",
              "\n",
              "    .colab-df-buttons div {\n",
              "      margin-bottom: 4px;\n",
              "    }\n",
              "\n",
              "    [theme=dark] .colab-df-convert {\n",
              "      background-color: #3B4455;\n",
              "      fill: #D2E3FC;\n",
              "    }\n",
              "\n",
              "    [theme=dark] .colab-df-convert:hover {\n",
              "      background-color: #434B5C;\n",
              "      box-shadow: 0px 1px 3px 1px rgba(0, 0, 0, 0.15);\n",
              "      filter: drop-shadow(0px 1px 2px rgba(0, 0, 0, 0.3));\n",
              "      fill: #FFFFFF;\n",
              "    }\n",
              "  </style>\n",
              "\n",
              "    <script>\n",
              "      const buttonEl =\n",
              "        document.querySelector('#df-24b87c2d-fd76-4b0a-a404-c90534cc31f8 button.colab-df-convert');\n",
              "      buttonEl.style.display =\n",
              "        google.colab.kernel.accessAllowed ? 'block' : 'none';\n",
              "\n",
              "      async function convertToInteractive(key) {\n",
              "        const element = document.querySelector('#df-24b87c2d-fd76-4b0a-a404-c90534cc31f8');\n",
              "        const dataTable =\n",
              "          await google.colab.kernel.invokeFunction('convertToInteractive',\n",
              "                                                    [key], {});\n",
              "        if (!dataTable) return;\n",
              "\n",
              "        const docLinkHtml = 'Like what you see? Visit the ' +\n",
              "          '<a target=\"_blank\" href=https://colab.research.google.com/notebooks/data_table.ipynb>data table notebook</a>'\n",
              "          + ' to learn more about interactive tables.';\n",
              "        element.innerHTML = '';\n",
              "        dataTable['output_type'] = 'display_data';\n",
              "        await google.colab.output.renderOutput(dataTable, element);\n",
              "        const docLink = document.createElement('div');\n",
              "        docLink.innerHTML = docLinkHtml;\n",
              "        element.appendChild(docLink);\n",
              "      }\n",
              "    </script>\n",
              "  </div>\n",
              "\n",
              "\n",
              "<div id=\"df-b6b9e789-e32d-4183-b1b8-fa22ecd1c3d5\">\n",
              "  <button class=\"colab-df-quickchart\" onclick=\"quickchart('df-b6b9e789-e32d-4183-b1b8-fa22ecd1c3d5')\"\n",
              "            title=\"Suggest charts\"\n",
              "            style=\"display:none;\">\n",
              "\n",
              "<svg xmlns=\"http://www.w3.org/2000/svg\" height=\"24px\"viewBox=\"0 0 24 24\"\n",
              "     width=\"24px\">\n",
              "    <g>\n",
              "        <path d=\"M19 3H5c-1.1 0-2 .9-2 2v14c0 1.1.9 2 2 2h14c1.1 0 2-.9 2-2V5c0-1.1-.9-2-2-2zM9 17H7v-7h2v7zm4 0h-2V7h2v10zm4 0h-2v-4h2v4z\"/>\n",
              "    </g>\n",
              "</svg>\n",
              "  </button>\n",
              "\n",
              "<style>\n",
              "  .colab-df-quickchart {\n",
              "      --bg-color: #E8F0FE;\n",
              "      --fill-color: #1967D2;\n",
              "      --hover-bg-color: #E2EBFA;\n",
              "      --hover-fill-color: #174EA6;\n",
              "      --disabled-fill-color: #AAA;\n",
              "      --disabled-bg-color: #DDD;\n",
              "  }\n",
              "\n",
              "  [theme=dark] .colab-df-quickchart {\n",
              "      --bg-color: #3B4455;\n",
              "      --fill-color: #D2E3FC;\n",
              "      --hover-bg-color: #434B5C;\n",
              "      --hover-fill-color: #FFFFFF;\n",
              "      --disabled-bg-color: #3B4455;\n",
              "      --disabled-fill-color: #666;\n",
              "  }\n",
              "\n",
              "  .colab-df-quickchart {\n",
              "    background-color: var(--bg-color);\n",
              "    border: none;\n",
              "    border-radius: 50%;\n",
              "    cursor: pointer;\n",
              "    display: none;\n",
              "    fill: var(--fill-color);\n",
              "    height: 32px;\n",
              "    padding: 0;\n",
              "    width: 32px;\n",
              "  }\n",
              "\n",
              "  .colab-df-quickchart:hover {\n",
              "    background-color: var(--hover-bg-color);\n",
              "    box-shadow: 0 1px 2px rgba(60, 64, 67, 0.3), 0 1px 3px 1px rgba(60, 64, 67, 0.15);\n",
              "    fill: var(--button-hover-fill-color);\n",
              "  }\n",
              "\n",
              "  .colab-df-quickchart-complete:disabled,\n",
              "  .colab-df-quickchart-complete:disabled:hover {\n",
              "    background-color: var(--disabled-bg-color);\n",
              "    fill: var(--disabled-fill-color);\n",
              "    box-shadow: none;\n",
              "  }\n",
              "\n",
              "  .colab-df-spinner {\n",
              "    border: 2px solid var(--fill-color);\n",
              "    border-color: transparent;\n",
              "    border-bottom-color: var(--fill-color);\n",
              "    animation:\n",
              "      spin 1s steps(1) infinite;\n",
              "  }\n",
              "\n",
              "  @keyframes spin {\n",
              "    0% {\n",
              "      border-color: transparent;\n",
              "      border-bottom-color: var(--fill-color);\n",
              "      border-left-color: var(--fill-color);\n",
              "    }\n",
              "    20% {\n",
              "      border-color: transparent;\n",
              "      border-left-color: var(--fill-color);\n",
              "      border-top-color: var(--fill-color);\n",
              "    }\n",
              "    30% {\n",
              "      border-color: transparent;\n",
              "      border-left-color: var(--fill-color);\n",
              "      border-top-color: var(--fill-color);\n",
              "      border-right-color: var(--fill-color);\n",
              "    }\n",
              "    40% {\n",
              "      border-color: transparent;\n",
              "      border-right-color: var(--fill-color);\n",
              "      border-top-color: var(--fill-color);\n",
              "    }\n",
              "    60% {\n",
              "      border-color: transparent;\n",
              "      border-right-color: var(--fill-color);\n",
              "    }\n",
              "    80% {\n",
              "      border-color: transparent;\n",
              "      border-right-color: var(--fill-color);\n",
              "      border-bottom-color: var(--fill-color);\n",
              "    }\n",
              "    90% {\n",
              "      border-color: transparent;\n",
              "      border-bottom-color: var(--fill-color);\n",
              "    }\n",
              "  }\n",
              "</style>\n",
              "\n",
              "  <script>\n",
              "    async function quickchart(key) {\n",
              "      const quickchartButtonEl =\n",
              "        document.querySelector('#' + key + ' button');\n",
              "      quickchartButtonEl.disabled = true;  // To prevent multiple clicks.\n",
              "      quickchartButtonEl.classList.add('colab-df-spinner');\n",
              "      try {\n",
              "        const charts = await google.colab.kernel.invokeFunction(\n",
              "            'suggestCharts', [key], {});\n",
              "      } catch (error) {\n",
              "        console.error('Error during call to suggestCharts:', error);\n",
              "      }\n",
              "      quickchartButtonEl.classList.remove('colab-df-spinner');\n",
              "      quickchartButtonEl.classList.add('colab-df-quickchart-complete');\n",
              "    }\n",
              "    (() => {\n",
              "      let quickchartButtonEl =\n",
              "        document.querySelector('#df-b6b9e789-e32d-4183-b1b8-fa22ecd1c3d5 button');\n",
              "      quickchartButtonEl.style.display =\n",
              "        google.colab.kernel.accessAllowed ? 'block' : 'none';\n",
              "    })();\n",
              "  </script>\n",
              "</div>\n",
              "    </div>\n",
              "  </div>\n"
            ],
            "application/vnd.google.colaboratory.intrinsic+json": {
              "type": "dataframe",
              "summary": "{\n  \"name\": \"display(data[['review_text', 'bert_embedding']]\",\n  \"rows\": 2,\n  \"fields\": [\n    {\n      \"column\": 0,\n      \"properties\": {\n        \"dtype\": \"object\",\n        \"semantic_type\": \"\",\n        \"description\": \"\"\n      }\n    },\n    {\n      \"column\": 1,\n      \"properties\": {\n        \"dtype\": \"object\",\n        \"semantic_type\": \"\",\n        \"description\": \"\"\n      }\n    },\n    {\n      \"column\": 2,\n      \"properties\": {\n        \"dtype\": \"object\",\n        \"semantic_type\": \"\",\n        \"description\": \"\"\n      }\n    },\n    {\n      \"column\": 3,\n      \"properties\": {\n        \"dtype\": \"object\",\n        \"semantic_type\": \"\",\n        \"description\": \"\"\n      }\n    },\n    {\n      \"column\": 4,\n      \"properties\": {\n        \"dtype\": \"object\",\n        \"semantic_type\": \"\",\n        \"description\": \"\"\n      }\n    }\n  ]\n}"
            }
          },
          "metadata": {}
        }
      ]
    },
    {
      "cell_type": "markdown",
      "source": [
        "### Train Word2Vec model"
      ],
      "metadata": {
        "id": "5nWmWI9BUbva"
      }
    },
    {
      "cell_type": "code",
      "source": [
        "# Extract the 'review_text' column from the DataFrame to a variable for processing\n",
        "text_data = data['review_text']\n",
        "\n",
        "# Define a function Preprocess text data\n",
        "def preprocess_text(text):\n",
        "\n",
        "    # Convert all characters in the text to lowercase to ensure uniformity\n",
        "    text = text.lower()\n",
        "\n",
        "    # Remove all non-alphabetic characters, keeping spaces\n",
        "    text = re.sub(r'[^a-z\\s]', '', text)\n",
        "\n",
        "    # Tokenize the cleaned text into individual words\n",
        "    tokens = word_tokenize(text)\n",
        "\n",
        "    # Retrieve the set of English stopwords\n",
        "    stop_words = set(stopwords.words('english'))\n",
        "\n",
        "    # Filter out stopwords from tokens\n",
        "    tokens = [word for word in tokens if word not in stop_words]\n",
        "\n",
        "    # Return the list of filtered tokens\n",
        "    return tokens\n",
        "\n",
        "# Apply the preprocessing function to each sentence in the text data\n",
        "preprocessed_text = [preprocess_text(sentence) for sentence in text_data]\n",
        "\n",
        "# Train a Word2Vec model with the preprocessed text\n",
        "word2vec_model = Word2Vec(sentences=preprocessed_text, vector_size=100, window=5, min_count=1, workers=4)\n",
        "# Now we can use word2vec_model to vectorize text as shown in previous examples\n"
      ],
      "metadata": {
        "id": "qOMIYppaPpjG"
      },
      "execution_count": 23,
      "outputs": []
    },
    {
      "cell_type": "markdown",
      "source": [
        "### Use Word2Vec model"
      ],
      "metadata": {
        "id": "1LzNwg58-tIK"
      }
    },
    {
      "cell_type": "code",
      "source": [
        "# Define a function to vectorize text using a trained Word2Vec model\n",
        "def vectorize_text_with_word2vec(text, word2vec_model):\n",
        "    \"\"\"\n",
        "    This function vectorizes a piece of text using a trained Word2Vec model by averaging the vectors of the words in the text\n",
        "    \"\"\"\n",
        "    # Check if the input text is a string\n",
        "    if not isinstance(text, str):\n",
        "\n",
        "        # Return None if input is not a string to indicate error\n",
        "        return None\n",
        "\n",
        "    # Tokenize the text after converting it to lowercase\n",
        "    tokens = word_tokenize(text.lower())\n",
        "\n",
        "    # Filter tokens to ensure they are in the Word2Vec model's vocabulary\n",
        "    tokens = [token for token in tokens if token in word2vec_model.wv.key_to_index]\n",
        "\n",
        "    # Check if there are no valid tokens after filtering\n",
        "    if not tokens:\n",
        "\n",
        "      # Return a zero vector of the model's vector size\n",
        "      return np.zeros(word2vec_model.vector_size)\n",
        "\n",
        "    # Calculate the mean vector by averaging the vectors of the tokens\n",
        "    vector = np.mean([word2vec_model.wv[token] for token in tokens], axis=0)\n",
        "\n",
        "    # Return the averaged vector representation of the text\n",
        "    return vector\n",
        "\n",
        "# Extract the 'review_text' column from the DataFrame to a variable for processing\n",
        "text = data['review_text']\n",
        "\n",
        "# Use .apply() to vectorize each piece of text in the DataFrame's Series\n",
        "vectorized_texts = texts.apply(lambda text: vectorize_text_with_word2vec(text, word2vec_model))\n",
        "# `vectorized_texts` now contains the vectorized representation of each piece of text in the Series.\n",
        "\n",
        "print(vectorized_texts)  # Print the vectorized texts for review\n"
      ],
      "metadata": {
        "colab": {
          "base_uri": "https://localhost:8080/"
        },
        "id": "9E_q6b1c-tuc",
        "outputId": "620eb6b1-48ae-4a0b-8e80-a10fe2a3b11d"
      },
      "execution_count": 24,
      "outputs": [
        {
          "output_type": "stream",
          "name": "stdout",
          "text": [
            "0                          [-0.16387078, 0.2986472, 0.075496234, -0.03231235, 0.12364403, -0.55417, 0.06615218, 0.78195226, -0.1731177, -0.110663086, -0.19156155, -0.46301454, 0.018338718, 0.20037657, 0.06524529, -0.26868612, -0.008914433, -0.4221971, 0.009803758, -0.5177098, 0.20724836, 0.106191516, -0.07103042, -0.116596274, -0.21323055, 0.0018572768, -0.30395165, -0.15922253, -0.32135427, -0.0060822796, 0.24264696, 0.09040653, 0.14504717, -0.1390302, -0.20949028, 0.34594294, 0.05250903, -0.34952137, -0.23629802, -0.6002771, -0.07715445, -0.25787598, -0.15440297, -0.029536583, 0.31132558, -0.21666388, -0.23257883, -0.08037314, 0.13927431, 0.21006262, 0.1699266, -0.25799435, -0.12590106, 0.034395806, -0.050580367, 0.14977758, 0.2426424, 0.10004831, -0.41224518, 0.27619588, 0.11277538, 0.21858725, -0.18304992, 0.041773885, -0.42706206, 0.24510871, 0.24135378, 0.12954481, -0.42239416, 0.58885473, -0.345779, 0.061940815, 0.21448977, -0.16444606, 0.24583279, 0.17530997, 0.0062845815, -0.1117104, -0.23167092, 0.05580563, -0.06218477, -0.02114939, -0.4484413, 0.55395055, -0.1691114, 0.23738286, 0.10654669, 0.48449242, 0.37624514, 0.1997864, 0.477116, 0.09470579, -0.11294337, 0.096658505, 0.4252802, 0.28085092, 0.23012836, -0.3184053, 0.10036723, -0.10545515]\n",
            "1              [-0.10900519, 0.20066328, 0.049505588, -0.015276696, 0.08393987, -0.37087038, 0.04873134, 0.5245016, -0.11970711, -0.07044349, -0.12739941, -0.31435508, 0.009807065, 0.12903304, 0.042436365, -0.18040007, -0.005240491, -0.2821291, 0.0062369555, -0.3475948, 0.140732, 0.069868505, -0.044225793, -0.07687996, -0.14713982, 0.0017773145, -0.19959293, -0.11072058, -0.21066515, -0.0046077627, 0.16539903, 0.055649802, 0.09648415, -0.094566286, -0.14097671, 0.23566352, 0.035234723, -0.2314758, -0.16167533, -0.4011448, -0.047500297, -0.17637363, -0.09945184, -0.01784781, 0.2079387, -0.1424957, -0.15582328, -0.05185551, 0.08951364, 0.14075983, 0.108292125, -0.17074598, -0.0831078, 0.02261678, -0.037122387, 0.099525236, 0.16390789, 0.06733761, -0.2766507, 0.1839422, 0.076277256, 0.14625648, -0.12539533, 0.02469266, -0.2840453, 0.15850466, 0.16038524, 0.09075388, -0.2808783, 0.39017117, -0.2328048, 0.038526073, 0.14181559, -0.10391602, 0.16066073, 0.121372245, 0.0024672223, -0.07505521, -0.15809608, 0.036472093, -0.039721955, -0.019748345, -0.2992673, 0.36490807, -0.117171764, 0.15850529, 0.06500723, 0.32277632, 0.24876404, 0.13464718, 0.3152396, 0.0678328, -0.08188605, 0.06494682, 0.28039834, 0.1909234, 0.15614796, -0.21264666, 0.06812801, -0.07021731]\n",
            "2             [-0.1173426, 0.21950941, 0.0570961, -0.014411916, 0.09690126, -0.40364835, 0.03489421, 0.56675136, -0.13098355, -0.076930456, -0.12579866, -0.3484236, 0.015891321, 0.15126732, 0.03592182, -0.20373677, 0.007409605, -0.31557128, 0.020273339, -0.37047884, 0.16003917, 0.070634305, -0.05415172, -0.080433406, -0.15661408, 0.008440718, -0.20250213, -0.107999794, -0.22849587, -0.0040683164, 0.18890773, 0.055245686, 0.089510456, -0.1194706, -0.16224334, 0.24625804, 0.0476408, -0.26979712, -0.17817096, -0.45034093, -0.061028965, -0.20270249, -0.11630471, -0.019358452, 0.23786727, -0.16474272, -0.16634044, -0.062572636, 0.08505775, 0.1528946, 0.122610606, -0.18509728, -0.104963675, 0.024404852, -0.04667144, 0.107431, 0.17406152, 0.07244355, -0.30237815, 0.21242104, 0.08480383, 0.15279159, -0.12991354, 0.029375957, -0.2954522, 0.16799515, 0.17904343, 0.08857748, -0.30461144, 0.437358, -0.2621965, 0.051306613, 0.1602294, -0.10949423, 0.1870733, 0.13096593, -0.0069528776, -0.06779821, -0.16150832, 0.036191456, -0.054625392, -0.0133103365, -0.3326418, 0.40154848, -0.12886912, 0.16205123, 0.07497837, 0.35198075, 0.26793012, 0.14370388, 0.33827862, 0.08319739, -0.080206126, 0.08021811, 0.3012172, 0.21530817, 0.17677003, -0.2222675, 0.07580896, -0.08227103]\n",
            "3             [-0.123966835, 0.23818655, 0.05444758, -0.018375102, 0.09625781, -0.4210055, 0.049461536, 0.6057412, -0.13730745, -0.07893881, -0.1398941, -0.36204186, 0.013724719, 0.14955047, 0.050569646, -0.2091639, -0.00083877926, -0.32822996, 0.007896068, -0.4006411, 0.15596077, 0.0778393, -0.05158309, -0.08850555, -0.16393337, -0.0003233837, -0.22242697, -0.12679562, -0.24582806, 0.000110066685, 0.19370258, 0.05951608, 0.101677835, -0.11019995, -0.16208372, 0.26759443, 0.041082926, -0.27297348, -0.18823662, -0.46653572, -0.054347612, -0.20346197, -0.118221365, -0.018891314, 0.2390482, -0.1632893, -0.18252411, -0.061073344, 0.101348296, 0.15782997, 0.12795296, -0.19917212, -0.0974312, 0.021371452, -0.043305364, 0.113544405, 0.18513158, 0.07721408, -0.320282, 0.20808634, 0.09035982, 0.16075179, -0.13904384, 0.032923583, -0.32701185, 0.186211, 0.18731938, 0.10477775, -0.3290173, 0.4494342, -0.27039653, 0.046437014, 0.16049097, -0.1194198, 0.187033, 0.13898376, -3.9771385e-05, -0.07480641, -0.17785248, 0.040076353, -0.047675345, -0.020860156, -0.34971976, 0.42175713, -0.13114126, 0.18276872, 0.07698654, 0.3672567, 0.2952335, 0.15223359, 0.36058375, 0.07218109, -0.09269063, 0.06961098, 0.3232978, 0.22297458, 0.18396278, -0.25001544, 0.077509, -0.08504947]\n",
            "4       [-0.14010367, 0.2385519, 0.062362794, -0.026959924, 0.09416316, -0.4479399, 0.058634877, 0.62373435, -0.13967432, -0.07832633, -0.14528744, -0.38731235, 0.0029816118, 0.17142706, 0.052450493, -0.22533722, -0.006533495, -0.33795595, 0.0009512267, -0.41125053, 0.16678767, 0.07212867, -0.058483943, -0.0995901, -0.18000424, 0.0067789447, -0.23592596, -0.12219667, -0.26106277, -0.0021802508, 0.20780149, 0.078909844, 0.113556266, -0.11192927, -0.17045408, 0.28266802, 0.04738291, -0.27982545, -0.1945858, -0.4847536, -0.06784944, -0.21931472, -0.13115975, -0.026043117, 0.24548301, -0.1631253, -0.18474352, -0.06855152, 0.10541414, 0.16398387, 0.14097287, -0.20769845, -0.096139595, 0.034098733, -0.04972464, 0.119922906, 0.20052387, 0.076409906, -0.33883688, 0.23570763, 0.10200284, 0.17233428, -0.1458477, 0.026662813, -0.3534602, 0.19647494, 0.19720837, 0.105700076, -0.3341028, 0.4678244, -0.28378645, 0.052217387, 0.17679285, -0.12531279, 0.20786831, 0.15261613, -0.00541621, -0.09204725, -0.19300291, 0.037231058, -0.040832657, -0.010535595, -0.3579325, 0.4498671, -0.13346072, 0.19256087, 0.084376566, 0.38011512, 0.30469385, 0.15524536, 0.39012647, 0.085597634, -0.08878391, 0.07840296, 0.33864728, 0.21844429, 0.18839823, -0.25745338, 0.08192668, -0.0913265]\n",
            "                                                                                                                                                                                                                                                                                                                                                                                                                                                                                                                                                                                                                                                              ...                                                                                                                                                                                                                                                                                                                                                                                                                                                                                                                                                                                                                                                        \n",
            "2496              [-0.16228673, 0.31099847, 0.07136936, -0.034719326, 0.13136676, -0.5690398, 0.06091625, 0.80250627, -0.17835613, -0.10994616, -0.19404048, -0.4798352, 0.016570896, 0.20464495, 0.06841322, -0.27618423, -0.009991489, -0.43618092, 0.017836208, -0.53018695, 0.21264222, 0.0989171, -0.07129627, -0.120338455, -0.22170407, 0.00086772756, -0.30590117, -0.16403507, -0.32545885, -0.0018812274, 0.2475793, 0.092640184, 0.14734036, -0.14557765, -0.20931837, 0.3502767, 0.05357529, -0.35903072, -0.24299009, -0.61462903, -0.079658814, -0.26595783, -0.15415666, -0.026801204, 0.31737962, -0.2239252, -0.23293169, -0.082589135, 0.14303018, 0.21769314, 0.16892397, -0.25927296, -0.12831137, 0.033985, -0.04633371, 0.15355977, 0.24798626, 0.10392163, -0.42148095, 0.29010287, 0.11662479, 0.22294028, -0.19444367, 0.04229035, -0.43586317, 0.24933064, 0.25386265, 0.13470279, -0.43142518, 0.60636765, -0.35372514, 0.059250113, 0.21741039, -0.17089888, 0.25035647, 0.18529138, 0.0041787894, -0.11403314, -0.23421283, 0.057849932, -0.06265457, -0.014663587, -0.4564611, 0.566516, -0.17433846, 0.24547544, 0.09923378, 0.49496266, 0.39106277, 0.20308676, 0.4872146, 0.0966893, -0.119205944, 0.09968031, 0.42769134, 0.28414664, 0.23444512, -0.32169256, 0.10283171, -0.10380107]\n",
            "2497            [-0.11999882, 0.22255953, 0.04957635, -0.019037856, 0.09036649, -0.40669253, 0.05114106, 0.5728813, -0.13332555, -0.07492815, -0.13954698, -0.34007597, 0.01114318, 0.14562203, 0.05275216, -0.19906102, -0.007023603, -0.31539837, 0.0088830665, -0.38312322, 0.15416381, 0.076757774, -0.045586567, -0.08201285, -0.1560407, 0.002413474, -0.22316101, -0.12282205, -0.23718724, -0.005341857, 0.18703721, 0.06448428, 0.102195695, -0.10635671, -0.15052186, 0.25757048, 0.035351656, -0.25821373, -0.17578934, -0.445645, -0.05356048, -0.19413212, -0.113413915, -0.020660672, 0.23024763, -0.1606544, -0.1752676, -0.052408025, 0.10341768, 0.15549698, 0.1199122, -0.19140561, -0.09265144, 0.02548757, -0.03881502, 0.11009205, 0.17912793, 0.070407026, -0.30474165, 0.20010075, 0.08629064, 0.15971883, -0.13567851, 0.03159881, -0.31644374, 0.17584647, 0.17564797, 0.09858377, -0.30978903, 0.43056673, -0.2564583, 0.041933205, 0.15765333, -0.119694725, 0.17659375, 0.13226481, 0.004151005, -0.07820202, -0.16772272, 0.0370078, -0.042781506, -0.021810476, -0.3276878, 0.4033465, -0.12589018, 0.17340349, 0.073642105, 0.35592896, 0.27606124, 0.1454239, 0.34841648, 0.07312068, -0.08783706, 0.07017265, 0.31112668, 0.20979775, 0.16886708, -0.23844418, 0.074538805, -0.07578114]\n",
            "2498                          [-0.14299715, 0.265333, 0.06254063, -0.028409746, 0.10958635, -0.4882262, 0.055108942, 0.6909234, -0.15665224, -0.0894879, -0.16491924, -0.41421157, 0.016378762, 0.17521462, 0.05625139, -0.23848109, -0.0048298775, -0.378506, 0.007871971, -0.4553428, 0.18454531, 0.089246266, -0.061430857, -0.10172872, -0.18974932, 0.00037284117, -0.26146415, -0.1466976, -0.2843168, -0.004328407, 0.21523777, 0.07794054, 0.12527461, -0.12653103, -0.1838939, 0.31036904, 0.04358907, -0.31513634, -0.21034528, -0.5323821, -0.062298745, -0.23336017, -0.12839305, -0.022934003, 0.27497542, -0.18804733, -0.20387325, -0.072010376, 0.11510808, 0.18824536, 0.1445928, -0.22531691, -0.10869917, 0.028700775, -0.0422249, 0.13069831, 0.21332102, 0.092842236, -0.36557266, 0.24196556, 0.10116542, 0.19410495, -0.16748382, 0.035316236, -0.3773959, 0.21555872, 0.21581651, 0.11977348, -0.37087876, 0.517584, -0.3061179, 0.05213679, 0.18797287, -0.14296708, 0.21527201, 0.15997975, 0.004031721, -0.09553781, -0.20441827, 0.0521456, -0.05264011, -0.023287648, -0.39004773, 0.4872536, -0.15230985, 0.20924205, 0.0887535, 0.42665008, 0.3336887, 0.17793539, 0.4168123, 0.08667432, -0.10299791, 0.08546632, 0.36950177, 0.24931292, 0.20390518, -0.280436, 0.09063216, -0.09249337]\n",
            "2499                [-0.1519804, 0.28660172, 0.06175852, -0.03098999, 0.123661675, -0.515695, 0.05770842, 0.7365715, -0.16743885, -0.10132556, -0.17191051, -0.44092336, 0.017383002, 0.18284757, 0.06329797, -0.25075924, -0.0045737415, -0.39839277, 0.0052832975, -0.48775235, 0.18887463, 0.09504708, -0.060008414, -0.111411534, -0.19847399, 0.0042126565, -0.27443185, -0.15491122, -0.30586466, -0.00536991, 0.23148601, 0.07898649, 0.12294439, -0.13181755, -0.19289175, 0.32852197, 0.044154577, -0.32814458, -0.22953108, -0.56529343, -0.06309133, -0.24854355, -0.14137463, -0.022353597, 0.28892753, -0.2026324, -0.2172614, -0.073710665, 0.1220115, 0.19612198, 0.15447791, -0.24193731, -0.11903504, 0.02891237, -0.05293811, 0.14300893, 0.22827625, 0.09499623, -0.38843343, 0.26270485, 0.108452655, 0.20140691, -0.17337291, 0.04427717, -0.40108696, 0.22939834, 0.23313811, 0.12975398, -0.39886886, 0.5531123, -0.3201123, 0.0573032, 0.20002456, -0.15124872, 0.2286835, 0.17051268, 0.009387141, -0.102170184, -0.21876743, 0.055799298, -0.05537954, -0.023666738, -0.42076153, 0.51594895, -0.16220005, 0.22118917, 0.091411315, 0.45017558, 0.3536892, 0.1808584, 0.44118863, 0.092969924, -0.10960205, 0.09349605, 0.39398244, 0.26462215, 0.22212219, -0.2989675, 0.10030942, -0.1048706]\n",
            "2500         [-0.11368162, 0.2150079, 0.051184308, -0.018324781, 0.09126587, -0.39834994, 0.047537845, 0.56064475, -0.12914872, -0.07345739, -0.13722938, -0.33752438, 0.0095576355, 0.13978171, 0.046255466, -0.19386186, -0.0061245034, -0.30173635, 0.003576576, -0.3752513, 0.14875221, 0.07308372, -0.04622059, -0.08183997, -0.15682949, 8.506494e-05, -0.21405677, -0.11796425, -0.22633293, -0.0017615537, 0.17640603, 0.057895575, 0.10167438, -0.100438945, -0.14980784, 0.25327072, 0.039175, -0.24819192, -0.17239422, -0.43146524, -0.050078355, -0.1899043, -0.107423544, -0.020058189, 0.22605518, -0.15477051, -0.16745073, -0.058423914, 0.09636104, 0.1478851, 0.11748466, -0.18670046, -0.08661613, 0.025381532, -0.04097937, 0.10607023, 0.17558412, 0.07129508, -0.2953491, 0.19496906, 0.08296527, 0.15431371, -0.12973146, 0.02644306, -0.30524233, 0.17248246, 0.17424269, 0.09651811, -0.30291834, 0.4169595, -0.25186792, 0.043600686, 0.15493737, -0.111635, 0.1737922, 0.1312486, 0.0037176113, -0.07697563, -0.16637205, 0.038451135, -0.040685266, -0.019114062, -0.31926805, 0.39053607, -0.12433753, 0.16827291, 0.06954163, 0.3449609, 0.27065054, 0.144206, 0.33901218, 0.071698956, -0.08570672, 0.0681663, 0.30343172, 0.20484434, 0.16775875, -0.22690411, 0.07527426, -0.073863074]\n",
            "Name: review_text, Length: 2501, dtype: object\n"
          ]
        }
      ]
    },
    {
      "cell_type": "markdown",
      "source": [
        "# Advanced Text Preprocessing and Feature Engineering\n",
        "\n"
      ],
      "metadata": {
        "id": "JKzmWnzijrAU"
      }
    },
    {
      "cell_type": "markdown",
      "source": [
        "## Custom Stopword Removal"
      ],
      "metadata": {
        "id": "udfv4ao-kVZk"
      }
    },
    {
      "cell_type": "code",
      "source": [
        "# Define function Removes custom stopwords from a given text\n",
        "def remove_custom_stopwords(text, custom_stopwords):\n",
        "\n",
        "    # Tokenize the input text into individual words\n",
        "    tokens = word_tokenize(text)\n",
        "\n",
        "    # Create a list of tokens that are not in the custom stopwords list, case-insensitively\n",
        "    filtered_tokens = [word for word in tokens if word.lower() not in custom_stopwords]\n",
        "\n",
        "    # Join the filtered tokens back into a string and return it\n",
        "    return ' '.join(filtered_tokens)\n",
        "\n",
        "# Define a list of additional stopwords based on domain knowledge or frequent but less informative words\n",
        "custom_stopwords = ['amazon', 'product', 'really', 'like', 'would', 'buy']\n",
        "\n",
        "# Apply the custom stopword removal function to each review in the dataset, updating the 'processed_reviews' column\n",
        "data['processed_reviews'] = data['review_text'].apply(lambda x: remove_custom_stopwords(x, custom_stopwords))\n"
      ],
      "metadata": {
        "id": "OV1AO-85kIN-"
      },
      "execution_count": 25,
      "outputs": []
    },
    {
      "cell_type": "markdown",
      "source": [
        "## Synonym Handling"
      ],
      "metadata": {
        "id": "2uqdZy6D0r7R"
      }
    },
    {
      "cell_type": "code",
      "source": [
        "# Define a function Replaces words with their most common synonym to reduce feature space\n",
        "def replace_synonyms(text):\n",
        "\n",
        "    # Tokenize the input text into individual words\n",
        "    tokens = word_tokenize(text)\n",
        "\n",
        "    # Initialize an empty list to hold the new tokens after synonym replacement\n",
        "    new_tokens = []\n",
        "\n",
        "    for word in tokens:\n",
        "\n",
        "        # Retrieve a set of synonyms for the current word\n",
        "        synonyms = wordnet.synsets(word)\n",
        "\n",
        "        if synonyms:\n",
        "          # Select the first synonym's first lemma (most common synonym) if synonyms are available\n",
        "          most_common_synonym = synonyms[0].lemmas()[0].name()\n",
        "\n",
        "          # Add the most common synonym to the new tokens list\n",
        "          new_tokens.append(most_common_synonym)\n",
        "\n",
        "        else:\n",
        "\n",
        "          # If no synonyms are found, add the original word to the new tokens list\n",
        "          new_tokens.append(word)\n",
        "\n",
        "    # Join the new tokens back into a string and return it\n",
        "    return ' '.join(new_tokens)\n",
        "\n",
        "# Apply the synonym replacement function to each review in the dataset, updating the 'processed_reviews' column\n",
        "data['processed_reviews'] = data['review_text'].apply(replace_synonyms)\n"
      ],
      "metadata": {
        "id": "IVEF7y5D0sxE"
      },
      "execution_count": 26,
      "outputs": []
    },
    {
      "cell_type": "markdown",
      "source": [
        "## N-Grams"
      ],
      "metadata": {
        "id": "SbMXGPRp1wbr"
      }
    },
    {
      "cell_type": "code",
      "source": [
        "# Import CountVectorizer for text feature extraction\n",
        "from sklearn.feature_extraction.text import CountVectorizer\n",
        "\n",
        "# Initialize CountVectorizer with n-gram range to include both unigrams and bigrams for richer text representation\n",
        "vectorizer = CountVectorizer(ngram_range=(1, 2))\n",
        "\n",
        "# Transform the processed reviews into a sparse matrix of token counts, capturing both unigram and bigram frequencies\n",
        "X = vectorizer.fit_transform(data['processed_reviews'])\n"
      ],
      "metadata": {
        "id": "2uFc9g801zg7"
      },
      "execution_count": 27,
      "outputs": []
    },
    {
      "cell_type": "markdown",
      "source": [
        "## Feature Scaling"
      ],
      "metadata": {
        "id": "ZJz4gSBc2sOR"
      }
    },
    {
      "cell_type": "code",
      "source": [
        "# Import StandardScaler for feature scaling\n",
        "from sklearn.preprocessing import StandardScaler\n",
        "\n",
        "# Initialize a StandardScaler to scale features to zero mean and unit variance\n",
        "scaler = StandardScaler(with_mean=False)\n",
        "\n",
        "# Apply the scaler to the TF-IDF vectors, standardizing them to have zero mean and unit variance\n",
        "tfidf_scaled = scaler.fit_transform(tfidf_vectors)\n"
      ],
      "metadata": {
        "id": "pA_HzuEE2tJN"
      },
      "execution_count": 28,
      "outputs": []
    },
    {
      "cell_type": "markdown",
      "source": [
        "# Models Building and Evaluation"
      ],
      "metadata": {
        "id": "eZcBpz8s3gk5"
      }
    },
    {
      "cell_type": "code",
      "source": [
        "# Import train_test_split to divide data into training and testing sets\n",
        "from sklearn.model_selection import train_test_split\n",
        "\n",
        "# Import LogisticRegression for logistic regression modeling\n",
        "from sklearn.linear_model import LogisticRegression\n",
        "\n",
        "# Import SVC for Support Vector Machine classification\n",
        "from sklearn.svm import SVC\n",
        "\n",
        "# Import RandomForestClassifier for random forest modeling\n",
        "from sklearn.ensemble import RandomForestClassifier\n",
        "\n",
        "# Import metrics for model evaluation\n",
        "from sklearn.metrics import accuracy_score, f1_score, confusion_matrix\n",
        "\n",
        "# Split the standardized TF-IDF vectors and sentiment labels into training and testing sets with a 20% test size\n",
        "X_train, X_test, y_train, y_test = train_test_split(tfidf_scaled, data['sentiment'], test_size=0.2, random_state=42)\n",
        "\n",
        "# Initialize a list of tuples where each tuple contains a model name and its corresponding initialized object\n",
        "models = [\n",
        "\n",
        "    # Logistic regression model\n",
        "    ('Logistic Regression', LogisticRegression()),\n",
        "\n",
        "    # Linear Support Vector Machine model\n",
        "    ('Support Vector Machine', SVC(kernel='linear')),\n",
        "\n",
        "    # Random Forest model\n",
        "    ('Random Forest', RandomForestClassifier())\n",
        "]\n",
        "\n",
        "# Loop through each model to train and evaluate them on the test data\n",
        "for name, model in models:\n",
        "\n",
        "    # Train the model on the training set\n",
        "    model.fit(X_train, y_train)\n",
        "\n",
        "    # Predict sentiment labels for the test set\n",
        "    y_pred = model.predict(X_test)\n",
        "\n",
        "    # Calculate the accuracy of the model\n",
        "    accuracy = accuracy_score(y_test, y_pred)\n",
        "\n",
        "    # Calculate the F1 score of the model\n",
        "    f1 = f1_score(y_test, y_pred)\n",
        "\n",
        "    # Print the model's name along with its accuracy and F1 score for evaluation\n",
        "    print(f\"{name}: Accuracy = {accuracy:.2f}, F1-score = {f1:.2f}\")\n",
        "\n",
        "    # Print the confusion matrix to understand the model's performance in detail\n",
        "    print(confusion_matrix(y_test, y_pred))\n"
      ],
      "metadata": {
        "colab": {
          "base_uri": "https://localhost:8080/"
        },
        "id": "O6Bk54tc3hMR",
        "outputId": "19dc2e2b-f141-4c96-f6c9-e91ee6b0a078"
      },
      "execution_count": 29,
      "outputs": [
        {
          "output_type": "stream",
          "name": "stdout",
          "text": [
            "Logistic Regression: Accuracy = 0.92, F1-score = 0.95\n",
            "[[ 30  37]\n",
            " [  4 430]]\n",
            "Support Vector Machine: Accuracy = 0.92, F1-score = 0.95\n",
            "[[ 34  33]\n",
            " [  9 425]]\n",
            "Random Forest: Accuracy = 0.92, F1-score = 0.95\n",
            "[[ 26  41]\n",
            " [  0 434]]\n"
          ]
        }
      ]
    },
    {
      "cell_type": "markdown",
      "source": [
        "## Comparing Model Performance"
      ],
      "metadata": {
        "id": "t6pAO1rT_04A"
      }
    },
    {
      "cell_type": "code",
      "source": [
        "# Import matplotlib's pyplot for plotting graphs\n",
        "import matplotlib.pyplot as plt\n",
        "\n",
        "# Import seaborn for enhanced visualization features\n",
        "import seaborn as sns\n",
        "\n",
        "# Initialize empty lists to store the accuracies, F1-scores, and model names\n",
        "accuracies  = []\n",
        "f1_scores   = []\n",
        "model_names = []\n",
        "\n",
        "# Iterate through the models to store their performance metrics\n",
        "for name, _ in models:\n",
        "\n",
        "    # Adding the model's name to the list\n",
        "    model_names.append(name)\n",
        "\n",
        "    # Append the accuracy of the current model to the list\n",
        "    accuracies.append(accuracy)\n",
        "\n",
        "    # Append the F1-score of the current model to the list\n",
        "    f1_scores.append(f1)\n",
        "\n",
        "# Print a newline for better readability\n",
        "print(\"\\n\")\n"
      ],
      "metadata": {
        "colab": {
          "base_uri": "https://localhost:8080/"
        },
        "id": "v4RUQ745_5vI",
        "outputId": "91a109aa-c400-4267-a582-2259b481e0af"
      },
      "execution_count": 30,
      "outputs": [
        {
          "output_type": "stream",
          "name": "stdout",
          "text": [
            "\n",
            "\n"
          ]
        }
      ]
    },
    {
      "cell_type": "markdown",
      "source": [
        "## Plotting the Accuracies"
      ],
      "metadata": {
        "id": "v71kWJ5sAcB7"
      }
    },
    {
      "cell_type": "code",
      "source": [
        "# Set the figure size for the plot\n",
        "plt.figure(figsize=(10, 6))\n",
        "\n",
        "# Create a bar plot for accuracies\n",
        "sns.barplot(x=model_names, y=accuracies)\n",
        "\n",
        "# Set the title of the plot\n",
        "plt.title('Model Accuracy Comparison')\n",
        "\n",
        "# Label for the y-axis\n",
        "plt.ylabel('Accuracy')\n",
        "\n",
        "# Label for the x-axis\n",
        "plt.xlabel('Model')\n",
        "\n",
        "# Rotate the x-axis labels for better readability\n",
        "plt.xticks(rotation=45)\n",
        "\n",
        "# Display the plot\n",
        "plt.show()\n",
        "\n",
        "print(\"\\n\")  # Print a newline for better readability\n"
      ],
      "metadata": {
        "colab": {
          "base_uri": "https://localhost:8080/",
          "height": 712
        },
        "id": "eS3ck5DNAdx5",
        "outputId": "9272b186-a24c-407e-92ea-0d8d1405ede8"
      },
      "execution_count": 31,
      "outputs": [
        {
          "output_type": "display_data",
          "data": {
            "text/plain": [
              "<Figure size 1000x600 with 1 Axes>"
            ],
            "image/png": "[encoded data removed]"
          },
          "metadata": {}
        },
        {
          "output_type": "stream",
          "name": "stdout",
          "text": [
            "\n",
            "\n"
          ]
        }
      ]
    },
    {
      "cell_type": "markdown",
      "source": [
        "## Plotting the F1-Scores"
      ],
      "metadata": {
        "id": "W0wOGNZ7A4DG"
      }
    },
    {
      "cell_type": "code",
      "source": [
        "# Set the figure size for the plot\n",
        "plt.figure(figsize=(10, 6))\n",
        "\n",
        "# Create a bar plot for F1-scores\n",
        "sns.barplot(x=model_names, y=f1_scores)\n",
        "\n",
        "# Set the title of the plot\n",
        "plt.title('Model F1-Score Comparison')\n",
        "\n",
        " # Label for the y-axis\n",
        "plt.ylabel('F1-Score')\n",
        "\n",
        "# Label for the x-axis\n",
        "plt.xlabel('Model')\n",
        "\n",
        "# Rotate the x-axis labels for better readability\n",
        "plt.xticks(rotation=45)\n",
        "\n",
        "# Display the plot\n",
        "plt.show()\n",
        "\n",
        "print(\"\\n\")  # Print a newline for better readability\n"
      ],
      "metadata": {
        "colab": {
          "base_uri": "https://localhost:8080/",
          "height": 712
        },
        "id": "1tKk8OUrA5WX",
        "outputId": "ec9e8250-a9d3-4ca7-de94-a26e48f92f31"
      },
      "execution_count": 32,
      "outputs": [
        {
          "output_type": "display_data",
          "data": {
            "text/plain": [
              "<Figure size 1000x600 with 1 Axes>"
            ],
            "image/png": "[encoded data removed]"
          },
          "metadata": {}
        },
        {
          "output_type": "stream",
          "name": "stdout",
          "text": [
            "\n",
            "\n"
          ]
        }
      ]
    },
    {
      "cell_type": "markdown",
      "source": [
        "## Plotting Confusion Matrices"
      ],
      "metadata": {
        "id": "J6El0AEaBglh"
      }
    },
    {
      "cell_type": "code",
      "source": [
        "# Loop through each model\n",
        "for name, model in models:\n",
        "\n",
        "    # Predict the labels for the test set\n",
        "    y_pred = model.predict(X_test)\n",
        "\n",
        "    # Compute the confusion matrix\n",
        "    cm = confusion_matrix(y_test, y_pred)\n",
        "\n",
        "\n",
        "    # Set the figure size for the heatmap\n",
        "    plt.figure(figsize=(8, 6))\n",
        "\n",
        "    # Create a heatmap of the confusion matrix\n",
        "    sns.heatmap(cm, annot=True, fmt=\"d\", cmap=\"Blues\")\n",
        "\n",
        "    # Set the title of the heatmap\n",
        "    plt.title(f'Confusion Matrix: {name}')\n",
        "\n",
        "    # Label for the x-axis\n",
        "    plt.xlabel('Predicted labels')\n",
        "\n",
        "    # Label for the y-axis\n",
        "    plt.ylabel('True labels')\n",
        "\n",
        "    # Display the heatmap\n",
        "    plt.show()\n",
        "\n",
        "    print(\"\\n\")  # Print a newline for a line break between each confusion matrix visualization\n"
      ],
      "metadata": {
        "colab": {
          "base_uri": "https://localhost:8080/",
          "height": 1000
        },
        "id": "nyX77WQYBhPG",
        "outputId": "c1ea345a-497f-46e1-ea7c-fa663267be30"
      },
      "execution_count": 33,
      "outputs": [
        {
          "output_type": "display_data",
          "data": {
            "text/plain": [
              "<Figure size 800x600 with 2 Axes>"
            ],
            "image/png": "[encoded data removed]"
          },
          "metadata": {}
        },
        {
          "output_type": "stream",
          "name": "stdout",
          "text": [
            "\n",
            "\n"
          ]
        },
        {
          "output_type": "display_data",
          "data": {
            "text/plain": [
              "<Figure size 800x600 with 2 Axes>"
            ],
            "image/png": "[encoded data removed]"
          },
          "metadata": {}
        },
        {
          "output_type": "stream",
          "name": "stdout",
          "text": [
            "\n",
            "\n"
          ]
        },
        {
          "output_type": "display_data",
          "data": {
            "text/plain": [
              "<Figure size 800x600 with 2 Axes>"
            ],
            "image/png": "[encoded data removed]"
          },
          "metadata": {}
        },
        {
          "output_type": "stream",
          "name": "stdout",
          "text": [
            "\n",
            "\n"
          ]
        }
      ]
    }
  ]
}