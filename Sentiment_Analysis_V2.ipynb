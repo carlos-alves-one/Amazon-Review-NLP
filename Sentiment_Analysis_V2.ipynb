{
  "nbformat": 4,
  "nbformat_minor": 0,
  "metadata": {
    "colab": {
      "provenance": [],
      "toc_visible": true,
      "include_colab_link": true
    },
    "kernelspec": {
      "name": "python3",
      "display_name": "Python 3"
    },
    "language_info": {
      "name": "python"
    },
    "widgets": {
      "application/vnd.jupyter.widget-state+json": {
        "78c5723488dc4ffaa31b2d8074d29912": {
          "model_module": "@jupyter-widgets/controls",
          "model_name": "HBoxModel",
          "model_module_version": "1.5.0",
          "state": {
            "_dom_classes": [],
            "_model_module": "@jupyter-widgets/controls",
            "_model_module_version": "1.5.0",
            "_model_name": "HBoxModel",
            "_view_count": null,
            "_view_module": "@jupyter-widgets/controls",
            "_view_module_version": "1.5.0",
            "_view_name": "HBoxView",
            "box_style": "",
            "children": [
              "IPY_MODEL_b016a2d392f74c3db777d79c4016af5d",
              "IPY_MODEL_e2efbe7820aa49c49f97d79da0ad7711",
              "IPY_MODEL_566b7f00639549ad990b0c31d720841e"
            ],
            "layout": "IPY_MODEL_7f740177c11046cab8bd3a2bbe6a527c"
          }
        },
        "b016a2d392f74c3db777d79c4016af5d": {
          "model_module": "@jupyter-widgets/controls",
          "model_name": "HTMLModel",
          "model_module_version": "1.5.0",
          "state": {
            "_dom_classes": [],
            "_model_module": "@jupyter-widgets/controls",
            "_model_module_version": "1.5.0",
            "_model_name": "HTMLModel",
            "_view_count": null,
            "_view_module": "@jupyter-widgets/controls",
            "_view_module_version": "1.5.0",
            "_view_name": "HTMLView",
            "description": "",
            "description_tooltip": null,
            "layout": "IPY_MODEL_8fc14f937f2c4b479df907edc53c61ac",
            "placeholder": "​",
            "style": "IPY_MODEL_fbc6699b92184bc285e92cbf80c730d0",
            "value": "tokenizer_config.json: 100%"
          }
        },
        "e2efbe7820aa49c49f97d79da0ad7711": {
          "model_module": "@jupyter-widgets/controls",
          "model_name": "FloatProgressModel",
          "model_module_version": "1.5.0",
          "state": {
            "_dom_classes": [],
            "_model_module": "@jupyter-widgets/controls",
            "_model_module_version": "1.5.0",
            "_model_name": "FloatProgressModel",
            "_view_count": null,
            "_view_module": "@jupyter-widgets/controls",
            "_view_module_version": "1.5.0",
            "_view_name": "ProgressView",
            "bar_style": "success",
            "description": "",
            "description_tooltip": null,
            "layout": "IPY_MODEL_7d40e3c747844e61b637a55226633491",
            "max": 48,
            "min": 0,
            "orientation": "horizontal",
            "style": "IPY_MODEL_56b4866fb9104120965e3ae619d03644",
            "value": 48
          }
        },
        "566b7f00639549ad990b0c31d720841e": {
          "model_module": "@jupyter-widgets/controls",
          "model_name": "HTMLModel",
          "model_module_version": "1.5.0",
          "state": {
            "_dom_classes": [],
            "_model_module": "@jupyter-widgets/controls",
            "_model_module_version": "1.5.0",
            "_model_name": "HTMLModel",
            "_view_count": null,
            "_view_module": "@jupyter-widgets/controls",
            "_view_module_version": "1.5.0",
            "_view_name": "HTMLView",
            "description": "",
            "description_tooltip": null,
            "layout": "IPY_MODEL_144d460850234d258a49e372df15b8c8",
            "placeholder": "​",
            "style": "IPY_MODEL_e95676de1c9a449f9a2b6d2337ef98ee",
            "value": " 48.0/48.0 [00:00&lt;00:00, 4.28kB/s]"
          }
        },
        "7f740177c11046cab8bd3a2bbe6a527c": {
          "model_module": "@jupyter-widgets/base",
          "model_name": "LayoutModel",
          "model_module_version": "1.2.0",
          "state": {
            "_model_module": "@jupyter-widgets/base",
            "_model_module_version": "1.2.0",
            "_model_name": "LayoutModel",
            "_view_count": null,
            "_view_module": "@jupyter-widgets/base",
            "_view_module_version": "1.2.0",
            "_view_name": "LayoutView",
            "align_content": null,
            "align_items": null,
            "align_self": null,
            "border": null,
            "bottom": null,
            "display": null,
            "flex": null,
            "flex_flow": null,
            "grid_area": null,
            "grid_auto_columns": null,
            "grid_auto_flow": null,
            "grid_auto_rows": null,
            "grid_column": null,
            "grid_gap": null,
            "grid_row": null,
            "grid_template_areas": null,
            "grid_template_columns": null,
            "grid_template_rows": null,
            "height": null,
            "justify_content": null,
            "justify_items": null,
            "left": null,
            "margin": null,
            "max_height": null,
            "max_width": null,
            "min_height": null,
            "min_width": null,
            "object_fit": null,
            "object_position": null,
            "order": null,
            "overflow": null,
            "overflow_x": null,
            "overflow_y": null,
            "padding": null,
            "right": null,
            "top": null,
            "visibility": null,
            "width": null
          }
        },
        "8fc14f937f2c4b479df907edc53c61ac": {
          "model_module": "@jupyter-widgets/base",
          "model_name": "LayoutModel",
          "model_module_version": "1.2.0",
          "state": {
            "_model_module": "@jupyter-widgets/base",
            "_model_module_version": "1.2.0",
            "_model_name": "LayoutModel",
            "_view_count": null,
            "_view_module": "@jupyter-widgets/base",
            "_view_module_version": "1.2.0",
            "_view_name": "LayoutView",
            "align_content": null,
            "align_items": null,
            "align_self": null,
            "border": null,
            "bottom": null,
            "display": null,
            "flex": null,
            "flex_flow": null,
            "grid_area": null,
            "grid_auto_columns": null,
            "grid_auto_flow": null,
            "grid_auto_rows": null,
            "grid_column": null,
            "grid_gap": null,
            "grid_row": null,
            "grid_template_areas": null,
            "grid_template_columns": null,
            "grid_template_rows": null,
            "height": null,
            "justify_content": null,
            "justify_items": null,
            "left": null,
            "margin": null,
            "max_height": null,
            "max_width": null,
            "min_height": null,
            "min_width": null,
            "object_fit": null,
            "object_position": null,
            "order": null,
            "overflow": null,
            "overflow_x": null,
            "overflow_y": null,
            "padding": null,
            "right": null,
            "top": null,
            "visibility": null,
            "width": null
          }
        },
        "fbc6699b92184bc285e92cbf80c730d0": {
          "model_module": "@jupyter-widgets/controls",
          "model_name": "DescriptionStyleModel",
          "model_module_version": "1.5.0",
          "state": {
            "_model_module": "@jupyter-widgets/controls",
            "_model_module_version": "1.5.0",
            "_model_name": "DescriptionStyleModel",
            "_view_count": null,
            "_view_module": "@jupyter-widgets/base",
            "_view_module_version": "1.2.0",
            "_view_name": "StyleView",
            "description_width": ""
          }
        },
        "7d40e3c747844e61b637a55226633491": {
          "model_module": "@jupyter-widgets/base",
          "model_name": "LayoutModel",
          "model_module_version": "1.2.0",
          "state": {
            "_model_module": "@jupyter-widgets/base",
            "_model_module_version": "1.2.0",
            "_model_name": "LayoutModel",
            "_view_count": null,
            "_view_module": "@jupyter-widgets/base",
            "_view_module_version": "1.2.0",
            "_view_name": "LayoutView",
            "align_content": null,
            "align_items": null,
            "align_self": null,
            "border": null,
            "bottom": null,
            "display": null,
            "flex": null,
            "flex_flow": null,
            "grid_area": null,
            "grid_auto_columns": null,
            "grid_auto_flow": null,
            "grid_auto_rows": null,
            "grid_column": null,
            "grid_gap": null,
            "grid_row": null,
            "grid_template_areas": null,
            "grid_template_columns": null,
            "grid_template_rows": null,
            "height": null,
            "justify_content": null,
            "justify_items": null,
            "left": null,
            "margin": null,
            "max_height": null,
            "max_width": null,
            "min_height": null,
            "min_width": null,
            "object_fit": null,
            "object_position": null,
            "order": null,
            "overflow": null,
            "overflow_x": null,
            "overflow_y": null,
            "padding": null,
            "right": null,
            "top": null,
            "visibility": null,
            "width": null
          }
        },
        "56b4866fb9104120965e3ae619d03644": {
          "model_module": "@jupyter-widgets/controls",
          "model_name": "ProgressStyleModel",
          "model_module_version": "1.5.0",
          "state": {
            "_model_module": "@jupyter-widgets/controls",
            "_model_module_version": "1.5.0",
            "_model_name": "ProgressStyleModel",
            "_view_count": null,
            "_view_module": "@jupyter-widgets/base",
            "_view_module_version": "1.2.0",
            "_view_name": "StyleView",
            "bar_color": null,
            "description_width": ""
          }
        },
        "144d460850234d258a49e372df15b8c8": {
          "model_module": "@jupyter-widgets/base",
          "model_name": "LayoutModel",
          "model_module_version": "1.2.0",
          "state": {
            "_model_module": "@jupyter-widgets/base",
            "_model_module_version": "1.2.0",
            "_model_name": "LayoutModel",
            "_view_count": null,
            "_view_module": "@jupyter-widgets/base",
            "_view_module_version": "1.2.0",
            "_view_name": "LayoutView",
            "align_content": null,
            "align_items": null,
            "align_self": null,
            "border": null,
            "bottom": null,
            "display": null,
            "flex": null,
            "flex_flow": null,
            "grid_area": null,
            "grid_auto_columns": null,
            "grid_auto_flow": null,
            "grid_auto_rows": null,
            "grid_column": null,
            "grid_gap": null,
            "grid_row": null,
            "grid_template_areas": null,
            "grid_template_columns": null,
            "grid_template_rows": null,
            "height": null,
            "justify_content": null,
            "justify_items": null,
            "left": null,
            "margin": null,
            "max_height": null,
            "max_width": null,
            "min_height": null,
            "min_width": null,
            "object_fit": null,
            "object_position": null,
            "order": null,
            "overflow": null,
            "overflow_x": null,
            "overflow_y": null,
            "padding": null,
            "right": null,
            "top": null,
            "visibility": null,
            "width": null
          }
        },
        "e95676de1c9a449f9a2b6d2337ef98ee": {
          "model_module": "@jupyter-widgets/controls",
          "model_name": "DescriptionStyleModel",
          "model_module_version": "1.5.0",
          "state": {
            "_model_module": "@jupyter-widgets/controls",
            "_model_module_version": "1.5.0",
            "_model_name": "DescriptionStyleModel",
            "_view_count": null,
            "_view_module": "@jupyter-widgets/base",
            "_view_module_version": "1.2.0",
            "_view_name": "StyleView",
            "description_width": ""
          }
        },
        "56dff6478fa34b8f9568eaea5fe317fb": {
          "model_module": "@jupyter-widgets/controls",
          "model_name": "HBoxModel",
          "model_module_version": "1.5.0",
          "state": {
            "_dom_classes": [],
            "_model_module": "@jupyter-widgets/controls",
            "_model_module_version": "1.5.0",
            "_model_name": "HBoxModel",
            "_view_count": null,
            "_view_module": "@jupyter-widgets/controls",
            "_view_module_version": "1.5.0",
            "_view_name": "HBoxView",
            "box_style": "",
            "children": [
              "IPY_MODEL_cc5d102f24b54792986409c638cfa294",
              "IPY_MODEL_df78978228ba4973aa2768100c20ff02",
              "IPY_MODEL_4559873b8cdf40fe95492590746544f7"
            ],
            "layout": "IPY_MODEL_3ed575dd040347feae02567c2feba891"
          }
        },
        "cc5d102f24b54792986409c638cfa294": {
          "model_module": "@jupyter-widgets/controls",
          "model_name": "HTMLModel",
          "model_module_version": "1.5.0",
          "state": {
            "_dom_classes": [],
            "_model_module": "@jupyter-widgets/controls",
            "_model_module_version": "1.5.0",
            "_model_name": "HTMLModel",
            "_view_count": null,
            "_view_module": "@jupyter-widgets/controls",
            "_view_module_version": "1.5.0",
            "_view_name": "HTMLView",
            "description": "",
            "description_tooltip": null,
            "layout": "IPY_MODEL_705c5a26af37469597931d37c2c291f3",
            "placeholder": "​",
            "style": "IPY_MODEL_8eb9322f2540442191520c5f03dad921",
            "value": "vocab.txt: 100%"
          }
        },
        "df78978228ba4973aa2768100c20ff02": {
          "model_module": "@jupyter-widgets/controls",
          "model_name": "FloatProgressModel",
          "model_module_version": "1.5.0",
          "state": {
            "_dom_classes": [],
            "_model_module": "@jupyter-widgets/controls",
            "_model_module_version": "1.5.0",
            "_model_name": "FloatProgressModel",
            "_view_count": null,
            "_view_module": "@jupyter-widgets/controls",
            "_view_module_version": "1.5.0",
            "_view_name": "ProgressView",
            "bar_style": "success",
            "description": "",
            "description_tooltip": null,
            "layout": "IPY_MODEL_91b13b82b75c4885838ecbfc4a0a5ce4",
            "max": 231508,
            "min": 0,
            "orientation": "horizontal",
            "style": "IPY_MODEL_09cc7b8f21484308b21fe29c91a19adf",
            "value": 231508
          }
        },
        "4559873b8cdf40fe95492590746544f7": {
          "model_module": "@jupyter-widgets/controls",
          "model_name": "HTMLModel",
          "model_module_version": "1.5.0",
          "state": {
            "_dom_classes": [],
            "_model_module": "@jupyter-widgets/controls",
            "_model_module_version": "1.5.0",
            "_model_name": "HTMLModel",
            "_view_count": null,
            "_view_module": "@jupyter-widgets/controls",
            "_view_module_version": "1.5.0",
            "_view_name": "HTMLView",
            "description": "",
            "description_tooltip": null,
            "layout": "IPY_MODEL_1bfcc00f1eb644fea4f71b258bf466eb",
            "placeholder": "​",
            "style": "IPY_MODEL_d40d5160d794402daad2ae7b7756f85c",
            "value": " 232k/232k [00:00&lt;00:00, 7.26MB/s]"
          }
        },
        "3ed575dd040347feae02567c2feba891": {
          "model_module": "@jupyter-widgets/base",
          "model_name": "LayoutModel",
          "model_module_version": "1.2.0",
          "state": {
            "_model_module": "@jupyter-widgets/base",
            "_model_module_version": "1.2.0",
            "_model_name": "LayoutModel",
            "_view_count": null,
            "_view_module": "@jupyter-widgets/base",
            "_view_module_version": "1.2.0",
            "_view_name": "LayoutView",
            "align_content": null,
            "align_items": null,
            "align_self": null,
            "border": null,
            "bottom": null,
            "display": null,
            "flex": null,
            "flex_flow": null,
            "grid_area": null,
            "grid_auto_columns": null,
            "grid_auto_flow": null,
            "grid_auto_rows": null,
            "grid_column": null,
            "grid_gap": null,
            "grid_row": null,
            "grid_template_areas": null,
            "grid_template_columns": null,
            "grid_template_rows": null,
            "height": null,
            "justify_content": null,
            "justify_items": null,
            "left": null,
            "margin": null,
            "max_height": null,
            "max_width": null,
            "min_height": null,
            "min_width": null,
            "object_fit": null,
            "object_position": null,
            "order": null,
            "overflow": null,
            "overflow_x": null,
            "overflow_y": null,
            "padding": null,
            "right": null,
            "top": null,
            "visibility": null,
            "width": null
          }
        },
        "705c5a26af37469597931d37c2c291f3": {
          "model_module": "@jupyter-widgets/base",
          "model_name": "LayoutModel",
          "model_module_version": "1.2.0",
          "state": {
            "_model_module": "@jupyter-widgets/base",
            "_model_module_version": "1.2.0",
            "_model_name": "LayoutModel",
            "_view_count": null,
            "_view_module": "@jupyter-widgets/base",
            "_view_module_version": "1.2.0",
            "_view_name": "LayoutView",
            "align_content": null,
            "align_items": null,
            "align_self": null,
            "border": null,
            "bottom": null,
            "display": null,
            "flex": null,
            "flex_flow": null,
            "grid_area": null,
            "grid_auto_columns": null,
            "grid_auto_flow": null,
            "grid_auto_rows": null,
            "grid_column": null,
            "grid_gap": null,
            "grid_row": null,
            "grid_template_areas": null,
            "grid_template_columns": null,
            "grid_template_rows": null,
            "height": null,
            "justify_content": null,
            "justify_items": null,
            "left": null,
            "margin": null,
            "max_height": null,
            "max_width": null,
            "min_height": null,
            "min_width": null,
            "object_fit": null,
            "object_position": null,
            "order": null,
            "overflow": null,
            "overflow_x": null,
            "overflow_y": null,
            "padding": null,
            "right": null,
            "top": null,
            "visibility": null,
            "width": null
          }
        },
        "8eb9322f2540442191520c5f03dad921": {
          "model_module": "@jupyter-widgets/controls",
          "model_name": "DescriptionStyleModel",
          "model_module_version": "1.5.0",
          "state": {
            "_model_module": "@jupyter-widgets/controls",
            "_model_module_version": "1.5.0",
            "_model_name": "DescriptionStyleModel",
            "_view_count": null,
            "_view_module": "@jupyter-widgets/base",
            "_view_module_version": "1.2.0",
            "_view_name": "StyleView",
            "description_width": ""
          }
        },
        "91b13b82b75c4885838ecbfc4a0a5ce4": {
          "model_module": "@jupyter-widgets/base",
          "model_name": "LayoutModel",
          "model_module_version": "1.2.0",
          "state": {
            "_model_module": "@jupyter-widgets/base",
            "_model_module_version": "1.2.0",
            "_model_name": "LayoutModel",
            "_view_count": null,
            "_view_module": "@jupyter-widgets/base",
            "_view_module_version": "1.2.0",
            "_view_name": "LayoutView",
            "align_content": null,
            "align_items": null,
            "align_self": null,
            "border": null,
            "bottom": null,
            "display": null,
            "flex": null,
            "flex_flow": null,
            "grid_area": null,
            "grid_auto_columns": null,
            "grid_auto_flow": null,
            "grid_auto_rows": null,
            "grid_column": null,
            "grid_gap": null,
            "grid_row": null,
            "grid_template_areas": null,
            "grid_template_columns": null,
            "grid_template_rows": null,
            "height": null,
            "justify_content": null,
            "justify_items": null,
            "left": null,
            "margin": null,
            "max_height": null,
            "max_width": null,
            "min_height": null,
            "min_width": null,
            "object_fit": null,
            "object_position": null,
            "order": null,
            "overflow": null,
            "overflow_x": null,
            "overflow_y": null,
            "padding": null,
            "right": null,
            "top": null,
            "visibility": null,
            "width": null
          }
        },
        "09cc7b8f21484308b21fe29c91a19adf": {
          "model_module": "@jupyter-widgets/controls",
          "model_name": "ProgressStyleModel",
          "model_module_version": "1.5.0",
          "state": {
            "_model_module": "@jupyter-widgets/controls",
            "_model_module_version": "1.5.0",
            "_model_name": "ProgressStyleModel",
            "_view_count": null,
            "_view_module": "@jupyter-widgets/base",
            "_view_module_version": "1.2.0",
            "_view_name": "StyleView",
            "bar_color": null,
            "description_width": ""
          }
        },
        "1bfcc00f1eb644fea4f71b258bf466eb": {
          "model_module": "@jupyter-widgets/base",
          "model_name": "LayoutModel",
          "model_module_version": "1.2.0",
          "state": {
            "_model_module": "@jupyter-widgets/base",
            "_model_module_version": "1.2.0",
            "_model_name": "LayoutModel",
            "_view_count": null,
            "_view_module": "@jupyter-widgets/base",
            "_view_module_version": "1.2.0",
            "_view_name": "LayoutView",
            "align_content": null,
            "align_items": null,
            "align_self": null,
            "border": null,
            "bottom": null,
            "display": null,
            "flex": null,
            "flex_flow": null,
            "grid_area": null,
            "grid_auto_columns": null,
            "grid_auto_flow": null,
            "grid_auto_rows": null,
            "grid_column": null,
            "grid_gap": null,
            "grid_row": null,
            "grid_template_areas": null,
            "grid_template_columns": null,
            "grid_template_rows": null,
            "height": null,
            "justify_content": null,
            "justify_items": null,
            "left": null,
            "margin": null,
            "max_height": null,
            "max_width": null,
            "min_height": null,
            "min_width": null,
            "object_fit": null,
            "object_position": null,
            "order": null,
            "overflow": null,
            "overflow_x": null,
            "overflow_y": null,
            "padding": null,
            "right": null,
            "top": null,
            "visibility": null,
            "width": null
          }
        },
        "d40d5160d794402daad2ae7b7756f85c": {
          "model_module": "@jupyter-widgets/controls",
          "model_name": "DescriptionStyleModel",
          "model_module_version": "1.5.0",
          "state": {
            "_model_module": "@jupyter-widgets/controls",
            "_model_module_version": "1.5.0",
            "_model_name": "DescriptionStyleModel",
            "_view_count": null,
            "_view_module": "@jupyter-widgets/base",
            "_view_module_version": "1.2.0",
            "_view_name": "StyleView",
            "description_width": ""
          }
        },
        "b4cee41b683e49bf87c1c2ef9162c3ec": {
          "model_module": "@jupyter-widgets/controls",
          "model_name": "HBoxModel",
          "model_module_version": "1.5.0",
          "state": {
            "_dom_classes": [],
            "_model_module": "@jupyter-widgets/controls",
            "_model_module_version": "1.5.0",
            "_model_name": "HBoxModel",
            "_view_count": null,
            "_view_module": "@jupyter-widgets/controls",
            "_view_module_version": "1.5.0",
            "_view_name": "HBoxView",
            "box_style": "",
            "children": [
              "IPY_MODEL_17fdc58fb2ba45bc8cd0bbf385b316b3",
              "IPY_MODEL_532973517d76478d8d9ef158ef39d221",
              "IPY_MODEL_021b92d793204e17a8141334c692a2f4"
            ],
            "layout": "IPY_MODEL_285b5d093ddf404e9640d5aa0a6a943b"
          }
        },
        "17fdc58fb2ba45bc8cd0bbf385b316b3": {
          "model_module": "@jupyter-widgets/controls",
          "model_name": "HTMLModel",
          "model_module_version": "1.5.0",
          "state": {
            "_dom_classes": [],
            "_model_module": "@jupyter-widgets/controls",
            "_model_module_version": "1.5.0",
            "_model_name": "HTMLModel",
            "_view_count": null,
            "_view_module": "@jupyter-widgets/controls",
            "_view_module_version": "1.5.0",
            "_view_name": "HTMLView",
            "description": "",
            "description_tooltip": null,
            "layout": "IPY_MODEL_43e39fe60ce242649b486931200fd9f3",
            "placeholder": "​",
            "style": "IPY_MODEL_595b86f08648467fbc0172e9203ed891",
            "value": "tokenizer.json: 100%"
          }
        },
        "532973517d76478d8d9ef158ef39d221": {
          "model_module": "@jupyter-widgets/controls",
          "model_name": "FloatProgressModel",
          "model_module_version": "1.5.0",
          "state": {
            "_dom_classes": [],
            "_model_module": "@jupyter-widgets/controls",
            "_model_module_version": "1.5.0",
            "_model_name": "FloatProgressModel",
            "_view_count": null,
            "_view_module": "@jupyter-widgets/controls",
            "_view_module_version": "1.5.0",
            "_view_name": "ProgressView",
            "bar_style": "success",
            "description": "",
            "description_tooltip": null,
            "layout": "IPY_MODEL_2a85dfa1b1ee4c2a95757cf626df3b37",
            "max": 466062,
            "min": 0,
            "orientation": "horizontal",
            "style": "IPY_MODEL_5d72d15b077f44c0acb3260cf04c8bac",
            "value": 466062
          }
        },
        "021b92d793204e17a8141334c692a2f4": {
          "model_module": "@jupyter-widgets/controls",
          "model_name": "HTMLModel",
          "model_module_version": "1.5.0",
          "state": {
            "_dom_classes": [],
            "_model_module": "@jupyter-widgets/controls",
            "_model_module_version": "1.5.0",
            "_model_name": "HTMLModel",
            "_view_count": null,
            "_view_module": "@jupyter-widgets/controls",
            "_view_module_version": "1.5.0",
            "_view_name": "HTMLView",
            "description": "",
            "description_tooltip": null,
            "layout": "IPY_MODEL_510cc7268dcf41a0b7c2b69440aa4ec7",
            "placeholder": "​",
            "style": "IPY_MODEL_c1e2d42f410a4836a12302cfd48265d9",
            "value": " 466k/466k [00:00&lt;00:00, 6.31MB/s]"
          }
        },
        "285b5d093ddf404e9640d5aa0a6a943b": {
          "model_module": "@jupyter-widgets/base",
          "model_name": "LayoutModel",
          "model_module_version": "1.2.0",
          "state": {
            "_model_module": "@jupyter-widgets/base",
            "_model_module_version": "1.2.0",
            "_model_name": "LayoutModel",
            "_view_count": null,
            "_view_module": "@jupyter-widgets/base",
            "_view_module_version": "1.2.0",
            "_view_name": "LayoutView",
            "align_content": null,
            "align_items": null,
            "align_self": null,
            "border": null,
            "bottom": null,
            "display": null,
            "flex": null,
            "flex_flow": null,
            "grid_area": null,
            "grid_auto_columns": null,
            "grid_auto_flow": null,
            "grid_auto_rows": null,
            "grid_column": null,
            "grid_gap": null,
            "grid_row": null,
            "grid_template_areas": null,
            "grid_template_columns": null,
            "grid_template_rows": null,
            "height": null,
            "justify_content": null,
            "justify_items": null,
            "left": null,
            "margin": null,
            "max_height": null,
            "max_width": null,
            "min_height": null,
            "min_width": null,
            "object_fit": null,
            "object_position": null,
            "order": null,
            "overflow": null,
            "overflow_x": null,
            "overflow_y": null,
            "padding": null,
            "right": null,
            "top": null,
            "visibility": null,
            "width": null
          }
        },
        "43e39fe60ce242649b486931200fd9f3": {
          "model_module": "@jupyter-widgets/base",
          "model_name": "LayoutModel",
          "model_module_version": "1.2.0",
          "state": {
            "_model_module": "@jupyter-widgets/base",
            "_model_module_version": "1.2.0",
            "_model_name": "LayoutModel",
            "_view_count": null,
            "_view_module": "@jupyter-widgets/base",
            "_view_module_version": "1.2.0",
            "_view_name": "LayoutView",
            "align_content": null,
            "align_items": null,
            "align_self": null,
            "border": null,
            "bottom": null,
            "display": null,
            "flex": null,
            "flex_flow": null,
            "grid_area": null,
            "grid_auto_columns": null,
            "grid_auto_flow": null,
            "grid_auto_rows": null,
            "grid_column": null,
            "grid_gap": null,
            "grid_row": null,
            "grid_template_areas": null,
            "grid_template_columns": null,
            "grid_template_rows": null,
            "height": null,
            "justify_content": null,
            "justify_items": null,
            "left": null,
            "margin": null,
            "max_height": null,
            "max_width": null,
            "min_height": null,
            "min_width": null,
            "object_fit": null,
            "object_position": null,
            "order": null,
            "overflow": null,
            "overflow_x": null,
            "overflow_y": null,
            "padding": null,
            "right": null,
            "top": null,
            "visibility": null,
            "width": null
          }
        },
        "595b86f08648467fbc0172e9203ed891": {
          "model_module": "@jupyter-widgets/controls",
          "model_name": "DescriptionStyleModel",
          "model_module_version": "1.5.0",
          "state": {
            "_model_module": "@jupyter-widgets/controls",
            "_model_module_version": "1.5.0",
            "_model_name": "DescriptionStyleModel",
            "_view_count": null,
            "_view_module": "@jupyter-widgets/base",
            "_view_module_version": "1.2.0",
            "_view_name": "StyleView",
            "description_width": ""
          }
        },
        "2a85dfa1b1ee4c2a95757cf626df3b37": {
          "model_module": "@jupyter-widgets/base",
          "model_name": "LayoutModel",
          "model_module_version": "1.2.0",
          "state": {
            "_model_module": "@jupyter-widgets/base",
            "_model_module_version": "1.2.0",
            "_model_name": "LayoutModel",
            "_view_count": null,
            "_view_module": "@jupyter-widgets/base",
            "_view_module_version": "1.2.0",
            "_view_name": "LayoutView",
            "align_content": null,
            "align_items": null,
            "align_self": null,
            "border": null,
            "bottom": null,
            "display": null,
            "flex": null,
            "flex_flow": null,
            "grid_area": null,
            "grid_auto_columns": null,
            "grid_auto_flow": null,
            "grid_auto_rows": null,
            "grid_column": null,
            "grid_gap": null,
            "grid_row": null,
            "grid_template_areas": null,
            "grid_template_columns": null,
            "grid_template_rows": null,
            "height": null,
            "justify_content": null,
            "justify_items": null,
            "left": null,
            "margin": null,
            "max_height": null,
            "max_width": null,
            "min_height": null,
            "min_width": null,
            "object_fit": null,
            "object_position": null,
            "order": null,
            "overflow": null,
            "overflow_x": null,
            "overflow_y": null,
            "padding": null,
            "right": null,
            "top": null,
            "visibility": null,
            "width": null
          }
        },
        "5d72d15b077f44c0acb3260cf04c8bac": {
          "model_module": "@jupyter-widgets/controls",
          "model_name": "ProgressStyleModel",
          "model_module_version": "1.5.0",
          "state": {
            "_model_module": "@jupyter-widgets/controls",
            "_model_module_version": "1.5.0",
            "_model_name": "ProgressStyleModel",
            "_view_count": null,
            "_view_module": "@jupyter-widgets/base",
            "_view_module_version": "1.2.0",
            "_view_name": "StyleView",
            "bar_color": null,
            "description_width": ""
          }
        },
        "510cc7268dcf41a0b7c2b69440aa4ec7": {
          "model_module": "@jupyter-widgets/base",
          "model_name": "LayoutModel",
          "model_module_version": "1.2.0",
          "state": {
            "_model_module": "@jupyter-widgets/base",
            "_model_module_version": "1.2.0",
            "_model_name": "LayoutModel",
            "_view_count": null,
            "_view_module": "@jupyter-widgets/base",
            "_view_module_version": "1.2.0",
            "_view_name": "LayoutView",
            "align_content": null,
            "align_items": null,
            "align_self": null,
            "border": null,
            "bottom": null,
            "display": null,
            "flex": null,
            "flex_flow": null,
            "grid_area": null,
            "grid_auto_columns": null,
            "grid_auto_flow": null,
            "grid_auto_rows": null,
            "grid_column": null,
            "grid_gap": null,
            "grid_row": null,
            "grid_template_areas": null,
            "grid_template_columns": null,
            "grid_template_rows": null,
            "height": null,
            "justify_content": null,
            "justify_items": null,
            "left": null,
            "margin": null,
            "max_height": null,
            "max_width": null,
            "min_height": null,
            "min_width": null,
            "object_fit": null,
            "object_position": null,
            "order": null,
            "overflow": null,
            "overflow_x": null,
            "overflow_y": null,
            "padding": null,
            "right": null,
            "top": null,
            "visibility": null,
            "width": null
          }
        },
        "c1e2d42f410a4836a12302cfd48265d9": {
          "model_module": "@jupyter-widgets/controls",
          "model_name": "DescriptionStyleModel",
          "model_module_version": "1.5.0",
          "state": {
            "_model_module": "@jupyter-widgets/controls",
            "_model_module_version": "1.5.0",
            "_model_name": "DescriptionStyleModel",
            "_view_count": null,
            "_view_module": "@jupyter-widgets/base",
            "_view_module_version": "1.2.0",
            "_view_name": "StyleView",
            "description_width": ""
          }
        },
        "550c395a7604433f99d5717c5ba29d88": {
          "model_module": "@jupyter-widgets/controls",
          "model_name": "HBoxModel",
          "model_module_version": "1.5.0",
          "state": {
            "_dom_classes": [],
            "_model_module": "@jupyter-widgets/controls",
            "_model_module_version": "1.5.0",
            "_model_name": "HBoxModel",
            "_view_count": null,
            "_view_module": "@jupyter-widgets/controls",
            "_view_module_version": "1.5.0",
            "_view_name": "HBoxView",
            "box_style": "",
            "children": [
              "IPY_MODEL_2d3393e7b15b428abde0850e15fd6b33",
              "IPY_MODEL_e0272a227c8e4fb9bf1beff627e917ee",
              "IPY_MODEL_ffd8f636f2534c448b47f2f7eb7ec68c"
            ],
            "layout": "IPY_MODEL_df049af974bc44e99364054d3fe2d3d8"
          }
        },
        "2d3393e7b15b428abde0850e15fd6b33": {
          "model_module": "@jupyter-widgets/controls",
          "model_name": "HTMLModel",
          "model_module_version": "1.5.0",
          "state": {
            "_dom_classes": [],
            "_model_module": "@jupyter-widgets/controls",
            "_model_module_version": "1.5.0",
            "_model_name": "HTMLModel",
            "_view_count": null,
            "_view_module": "@jupyter-widgets/controls",
            "_view_module_version": "1.5.0",
            "_view_name": "HTMLView",
            "description": "",
            "description_tooltip": null,
            "layout": "IPY_MODEL_ae0bc3c02f1d4c909352d45d1877bb7b",
            "placeholder": "​",
            "style": "IPY_MODEL_5caf4d46897444d585895bfcd22a191b",
            "value": "config.json: 100%"
          }
        },
        "e0272a227c8e4fb9bf1beff627e917ee": {
          "model_module": "@jupyter-widgets/controls",
          "model_name": "FloatProgressModel",
          "model_module_version": "1.5.0",
          "state": {
            "_dom_classes": [],
            "_model_module": "@jupyter-widgets/controls",
            "_model_module_version": "1.5.0",
            "_model_name": "FloatProgressModel",
            "_view_count": null,
            "_view_module": "@jupyter-widgets/controls",
            "_view_module_version": "1.5.0",
            "_view_name": "ProgressView",
            "bar_style": "success",
            "description": "",
            "description_tooltip": null,
            "layout": "IPY_MODEL_26cb4176669d475ea467f63f57d36085",
            "max": 570,
            "min": 0,
            "orientation": "horizontal",
            "style": "IPY_MODEL_2739deb6f5894629a014a084e94ddfe0",
            "value": 570
          }
        },
        "ffd8f636f2534c448b47f2f7eb7ec68c": {
          "model_module": "@jupyter-widgets/controls",
          "model_name": "HTMLModel",
          "model_module_version": "1.5.0",
          "state": {
            "_dom_classes": [],
            "_model_module": "@jupyter-widgets/controls",
            "_model_module_version": "1.5.0",
            "_model_name": "HTMLModel",
            "_view_count": null,
            "_view_module": "@jupyter-widgets/controls",
            "_view_module_version": "1.5.0",
            "_view_name": "HTMLView",
            "description": "",
            "description_tooltip": null,
            "layout": "IPY_MODEL_121c42e618bd41e0945e76131f376ab0",
            "placeholder": "​",
            "style": "IPY_MODEL_128fa0ac2ff64741865014427a9ff4d2",
            "value": " 570/570 [00:00&lt;00:00, 37.3kB/s]"
          }
        },
        "df049af974bc44e99364054d3fe2d3d8": {
          "model_module": "@jupyter-widgets/base",
          "model_name": "LayoutModel",
          "model_module_version": "1.2.0",
          "state": {
            "_model_module": "@jupyter-widgets/base",
            "_model_module_version": "1.2.0",
            "_model_name": "LayoutModel",
            "_view_count": null,
            "_view_module": "@jupyter-widgets/base",
            "_view_module_version": "1.2.0",
            "_view_name": "LayoutView",
            "align_content": null,
            "align_items": null,
            "align_self": null,
            "border": null,
            "bottom": null,
            "display": null,
            "flex": null,
            "flex_flow": null,
            "grid_area": null,
            "grid_auto_columns": null,
            "grid_auto_flow": null,
            "grid_auto_rows": null,
            "grid_column": null,
            "grid_gap": null,
            "grid_row": null,
            "grid_template_areas": null,
            "grid_template_columns": null,
            "grid_template_rows": null,
            "height": null,
            "justify_content": null,
            "justify_items": null,
            "left": null,
            "margin": null,
            "max_height": null,
            "max_width": null,
            "min_height": null,
            "min_width": null,
            "object_fit": null,
            "object_position": null,
            "order": null,
            "overflow": null,
            "overflow_x": null,
            "overflow_y": null,
            "padding": null,
            "right": null,
            "top": null,
            "visibility": null,
            "width": null
          }
        },
        "ae0bc3c02f1d4c909352d45d1877bb7b": {
          "model_module": "@jupyter-widgets/base",
          "model_name": "LayoutModel",
          "model_module_version": "1.2.0",
          "state": {
            "_model_module": "@jupyter-widgets/base",
            "_model_module_version": "1.2.0",
            "_model_name": "LayoutModel",
            "_view_count": null,
            "_view_module": "@jupyter-widgets/base",
            "_view_module_version": "1.2.0",
            "_view_name": "LayoutView",
            "align_content": null,
            "align_items": null,
            "align_self": null,
            "border": null,
            "bottom": null,
            "display": null,
            "flex": null,
            "flex_flow": null,
            "grid_area": null,
            "grid_auto_columns": null,
            "grid_auto_flow": null,
            "grid_auto_rows": null,
            "grid_column": null,
            "grid_gap": null,
            "grid_row": null,
            "grid_template_areas": null,
            "grid_template_columns": null,
            "grid_template_rows": null,
            "height": null,
            "justify_content": null,
            "justify_items": null,
            "left": null,
            "margin": null,
            "max_height": null,
            "max_width": null,
            "min_height": null,
            "min_width": null,
            "object_fit": null,
            "object_position": null,
            "order": null,
            "overflow": null,
            "overflow_x": null,
            "overflow_y": null,
            "padding": null,
            "right": null,
            "top": null,
            "visibility": null,
            "width": null
          }
        },
        "5caf4d46897444d585895bfcd22a191b": {
          "model_module": "@jupyter-widgets/controls",
          "model_name": "DescriptionStyleModel",
          "model_module_version": "1.5.0",
          "state": {
            "_model_module": "@jupyter-widgets/controls",
            "_model_module_version": "1.5.0",
            "_model_name": "DescriptionStyleModel",
            "_view_count": null,
            "_view_module": "@jupyter-widgets/base",
            "_view_module_version": "1.2.0",
            "_view_name": "StyleView",
            "description_width": ""
          }
        },
        "26cb4176669d475ea467f63f57d36085": {
          "model_module": "@jupyter-widgets/base",
          "model_name": "LayoutModel",
          "model_module_version": "1.2.0",
          "state": {
            "_model_module": "@jupyter-widgets/base",
            "_model_module_version": "1.2.0",
            "_model_name": "LayoutModel",
            "_view_count": null,
            "_view_module": "@jupyter-widgets/base",
            "_view_module_version": "1.2.0",
            "_view_name": "LayoutView",
            "align_content": null,
            "align_items": null,
            "align_self": null,
            "border": null,
            "bottom": null,
            "display": null,
            "flex": null,
            "flex_flow": null,
            "grid_area": null,
            "grid_auto_columns": null,
            "grid_auto_flow": null,
            "grid_auto_rows": null,
            "grid_column": null,
            "grid_gap": null,
            "grid_row": null,
            "grid_template_areas": null,
            "grid_template_columns": null,
            "grid_template_rows": null,
            "height": null,
            "justify_content": null,
            "justify_items": null,
            "left": null,
            "margin": null,
            "max_height": null,
            "max_width": null,
            "min_height": null,
            "min_width": null,
            "object_fit": null,
            "object_position": null,
            "order": null,
            "overflow": null,
            "overflow_x": null,
            "overflow_y": null,
            "padding": null,
            "right": null,
            "top": null,
            "visibility": null,
            "width": null
          }
        },
        "2739deb6f5894629a014a084e94ddfe0": {
          "model_module": "@jupyter-widgets/controls",
          "model_name": "ProgressStyleModel",
          "model_module_version": "1.5.0",
          "state": {
            "_model_module": "@jupyter-widgets/controls",
            "_model_module_version": "1.5.0",
            "_model_name": "ProgressStyleModel",
            "_view_count": null,
            "_view_module": "@jupyter-widgets/base",
            "_view_module_version": "1.2.0",
            "_view_name": "StyleView",
            "bar_color": null,
            "description_width": ""
          }
        },
        "121c42e618bd41e0945e76131f376ab0": {
          "model_module": "@jupyter-widgets/base",
          "model_name": "LayoutModel",
          "model_module_version": "1.2.0",
          "state": {
            "_model_module": "@jupyter-widgets/base",
            "_model_module_version": "1.2.0",
            "_model_name": "LayoutModel",
            "_view_count": null,
            "_view_module": "@jupyter-widgets/base",
            "_view_module_version": "1.2.0",
            "_view_name": "LayoutView",
            "align_content": null,
            "align_items": null,
            "align_self": null,
            "border": null,
            "bottom": null,
            "display": null,
            "flex": null,
            "flex_flow": null,
            "grid_area": null,
            "grid_auto_columns": null,
            "grid_auto_flow": null,
            "grid_auto_rows": null,
            "grid_column": null,
            "grid_gap": null,
            "grid_row": null,
            "grid_template_areas": null,
            "grid_template_columns": null,
            "grid_template_rows": null,
            "height": null,
            "justify_content": null,
            "justify_items": null,
            "left": null,
            "margin": null,
            "max_height": null,
            "max_width": null,
            "min_height": null,
            "min_width": null,
            "object_fit": null,
            "object_position": null,
            "order": null,
            "overflow": null,
            "overflow_x": null,
            "overflow_y": null,
            "padding": null,
            "right": null,
            "top": null,
            "visibility": null,
            "width": null
          }
        },
        "128fa0ac2ff64741865014427a9ff4d2": {
          "model_module": "@jupyter-widgets/controls",
          "model_name": "DescriptionStyleModel",
          "model_module_version": "1.5.0",
          "state": {
            "_model_module": "@jupyter-widgets/controls",
            "_model_module_version": "1.5.0",
            "_model_name": "DescriptionStyleModel",
            "_view_count": null,
            "_view_module": "@jupyter-widgets/base",
            "_view_module_version": "1.2.0",
            "_view_name": "StyleView",
            "description_width": ""
          }
        },
        "e133497ec4d04ba4964bbd95445fd045": {
          "model_module": "@jupyter-widgets/controls",
          "model_name": "HBoxModel",
          "model_module_version": "1.5.0",
          "state": {
            "_dom_classes": [],
            "_model_module": "@jupyter-widgets/controls",
            "_model_module_version": "1.5.0",
            "_model_name": "HBoxModel",
            "_view_count": null,
            "_view_module": "@jupyter-widgets/controls",
            "_view_module_version": "1.5.0",
            "_view_name": "HBoxView",
            "box_style": "",
            "children": [
              "IPY_MODEL_e155fe5c48324270933856a02e58e80d",
              "IPY_MODEL_b48fca1bf21545b69e3730f4e0f92486",
              "IPY_MODEL_997e9eb26fbb49e3b510d7a44ee902b2"
            ],
            "layout": "IPY_MODEL_11513c803bd248a384165b8a8abe4867"
          }
        },
        "e155fe5c48324270933856a02e58e80d": {
          "model_module": "@jupyter-widgets/controls",
          "model_name": "HTMLModel",
          "model_module_version": "1.5.0",
          "state": {
            "_dom_classes": [],
            "_model_module": "@jupyter-widgets/controls",
            "_model_module_version": "1.5.0",
            "_model_name": "HTMLModel",
            "_view_count": null,
            "_view_module": "@jupyter-widgets/controls",
            "_view_module_version": "1.5.0",
            "_view_name": "HTMLView",
            "description": "",
            "description_tooltip": null,
            "layout": "IPY_MODEL_ca01da0d04b24c49a26757b3e637d625",
            "placeholder": "​",
            "style": "IPY_MODEL_ba12ca92276b40bca65c71a28af95a2d",
            "value": "model.safetensors: 100%"
          }
        },
        "b48fca1bf21545b69e3730f4e0f92486": {
          "model_module": "@jupyter-widgets/controls",
          "model_name": "FloatProgressModel",
          "model_module_version": "1.5.0",
          "state": {
            "_dom_classes": [],
            "_model_module": "@jupyter-widgets/controls",
            "_model_module_version": "1.5.0",
            "_model_name": "FloatProgressModel",
            "_view_count": null,
            "_view_module": "@jupyter-widgets/controls",
            "_view_module_version": "1.5.0",
            "_view_name": "ProgressView",
            "bar_style": "success",
            "description": "",
            "description_tooltip": null,
            "layout": "IPY_MODEL_4a74104203eb4e6392eec4ac71d0c59d",
            "max": 440449768,
            "min": 0,
            "orientation": "horizontal",
            "style": "IPY_MODEL_37753411afd24ff2a4e7f04ecbd0ba70",
            "value": 440449768
          }
        },
        "997e9eb26fbb49e3b510d7a44ee902b2": {
          "model_module": "@jupyter-widgets/controls",
          "model_name": "HTMLModel",
          "model_module_version": "1.5.0",
          "state": {
            "_dom_classes": [],
            "_model_module": "@jupyter-widgets/controls",
            "_model_module_version": "1.5.0",
            "_model_name": "HTMLModel",
            "_view_count": null,
            "_view_module": "@jupyter-widgets/controls",
            "_view_module_version": "1.5.0",
            "_view_name": "HTMLView",
            "description": "",
            "description_tooltip": null,
            "layout": "IPY_MODEL_1944ac9ac95247adb954471da4b8f74d",
            "placeholder": "​",
            "style": "IPY_MODEL_e5408e6c65784fcaba077963c61e88cb",
            "value": " 440M/440M [00:10&lt;00:00, 47.9MB/s]"
          }
        },
        "11513c803bd248a384165b8a8abe4867": {
          "model_module": "@jupyter-widgets/base",
          "model_name": "LayoutModel",
          "model_module_version": "1.2.0",
          "state": {
            "_model_module": "@jupyter-widgets/base",
            "_model_module_version": "1.2.0",
            "_model_name": "LayoutModel",
            "_view_count": null,
            "_view_module": "@jupyter-widgets/base",
            "_view_module_version": "1.2.0",
            "_view_name": "LayoutView",
            "align_content": null,
            "align_items": null,
            "align_self": null,
            "border": null,
            "bottom": null,
            "display": null,
            "flex": null,
            "flex_flow": null,
            "grid_area": null,
            "grid_auto_columns": null,
            "grid_auto_flow": null,
            "grid_auto_rows": null,
            "grid_column": null,
            "grid_gap": null,
            "grid_row": null,
            "grid_template_areas": null,
            "grid_template_columns": null,
            "grid_template_rows": null,
            "height": null,
            "justify_content": null,
            "justify_items": null,
            "left": null,
            "margin": null,
            "max_height": null,
            "max_width": null,
            "min_height": null,
            "min_width": null,
            "object_fit": null,
            "object_position": null,
            "order": null,
            "overflow": null,
            "overflow_x": null,
            "overflow_y": null,
            "padding": null,
            "right": null,
            "top": null,
            "visibility": null,
            "width": null
          }
        },
        "ca01da0d04b24c49a26757b3e637d625": {
          "model_module": "@jupyter-widgets/base",
          "model_name": "LayoutModel",
          "model_module_version": "1.2.0",
          "state": {
            "_model_module": "@jupyter-widgets/base",
            "_model_module_version": "1.2.0",
            "_model_name": "LayoutModel",
            "_view_count": null,
            "_view_module": "@jupyter-widgets/base",
            "_view_module_version": "1.2.0",
            "_view_name": "LayoutView",
            "align_content": null,
            "align_items": null,
            "align_self": null,
            "border": null,
            "bottom": null,
            "display": null,
            "flex": null,
            "flex_flow": null,
            "grid_area": null,
            "grid_auto_columns": null,
            "grid_auto_flow": null,
            "grid_auto_rows": null,
            "grid_column": null,
            "grid_gap": null,
            "grid_row": null,
            "grid_template_areas": null,
            "grid_template_columns": null,
            "grid_template_rows": null,
            "height": null,
            "justify_content": null,
            "justify_items": null,
            "left": null,
            "margin": null,
            "max_height": null,
            "max_width": null,
            "min_height": null,
            "min_width": null,
            "object_fit": null,
            "object_position": null,
            "order": null,
            "overflow": null,
            "overflow_x": null,
            "overflow_y": null,
            "padding": null,
            "right": null,
            "top": null,
            "visibility": null,
            "width": null
          }
        },
        "ba12ca92276b40bca65c71a28af95a2d": {
          "model_module": "@jupyter-widgets/controls",
          "model_name": "DescriptionStyleModel",
          "model_module_version": "1.5.0",
          "state": {
            "_model_module": "@jupyter-widgets/controls",
            "_model_module_version": "1.5.0",
            "_model_name": "DescriptionStyleModel",
            "_view_count": null,
            "_view_module": "@jupyter-widgets/base",
            "_view_module_version": "1.2.0",
            "_view_name": "StyleView",
            "description_width": ""
          }
        },
        "4a74104203eb4e6392eec4ac71d0c59d": {
          "model_module": "@jupyter-widgets/base",
          "model_name": "LayoutModel",
          "model_module_version": "1.2.0",
          "state": {
            "_model_module": "@jupyter-widgets/base",
            "_model_module_version": "1.2.0",
            "_model_name": "LayoutModel",
            "_view_count": null,
            "_view_module": "@jupyter-widgets/base",
            "_view_module_version": "1.2.0",
            "_view_name": "LayoutView",
            "align_content": null,
            "align_items": null,
            "align_self": null,
            "border": null,
            "bottom": null,
            "display": null,
            "flex": null,
            "flex_flow": null,
            "grid_area": null,
            "grid_auto_columns": null,
            "grid_auto_flow": null,
            "grid_auto_rows": null,
            "grid_column": null,
            "grid_gap": null,
            "grid_row": null,
            "grid_template_areas": null,
            "grid_template_columns": null,
            "grid_template_rows": null,
            "height": null,
            "justify_content": null,
            "justify_items": null,
            "left": null,
            "margin": null,
            "max_height": null,
            "max_width": null,
            "min_height": null,
            "min_width": null,
            "object_fit": null,
            "object_position": null,
            "order": null,
            "overflow": null,
            "overflow_x": null,
            "overflow_y": null,
            "padding": null,
            "right": null,
            "top": null,
            "visibility": null,
            "width": null
          }
        },
        "37753411afd24ff2a4e7f04ecbd0ba70": {
          "model_module": "@jupyter-widgets/controls",
          "model_name": "ProgressStyleModel",
          "model_module_version": "1.5.0",
          "state": {
            "_model_module": "@jupyter-widgets/controls",
            "_model_module_version": "1.5.0",
            "_model_name": "ProgressStyleModel",
            "_view_count": null,
            "_view_module": "@jupyter-widgets/base",
            "_view_module_version": "1.2.0",
            "_view_name": "StyleView",
            "bar_color": null,
            "description_width": ""
          }
        },
        "1944ac9ac95247adb954471da4b8f74d": {
          "model_module": "@jupyter-widgets/base",
          "model_name": "LayoutModel",
          "model_module_version": "1.2.0",
          "state": {
            "_model_module": "@jupyter-widgets/base",
            "_model_module_version": "1.2.0",
            "_model_name": "LayoutModel",
            "_view_count": null,
            "_view_module": "@jupyter-widgets/base",
            "_view_module_version": "1.2.0",
            "_view_name": "LayoutView",
            "align_content": null,
            "align_items": null,
            "align_self": null,
            "border": null,
            "bottom": null,
            "display": null,
            "flex": null,
            "flex_flow": null,
            "grid_area": null,
            "grid_auto_columns": null,
            "grid_auto_flow": null,
            "grid_auto_rows": null,
            "grid_column": null,
            "grid_gap": null,
            "grid_row": null,
            "grid_template_areas": null,
            "grid_template_columns": null,
            "grid_template_rows": null,
            "height": null,
            "justify_content": null,
            "justify_items": null,
            "left": null,
            "margin": null,
            "max_height": null,
            "max_width": null,
            "min_height": null,
            "min_width": null,
            "object_fit": null,
            "object_position": null,
            "order": null,
            "overflow": null,
            "overflow_x": null,
            "overflow_y": null,
            "padding": null,
            "right": null,
            "top": null,
            "visibility": null,
            "width": null
          }
        },
        "e5408e6c65784fcaba077963c61e88cb": {
          "model_module": "@jupyter-widgets/controls",
          "model_name": "DescriptionStyleModel",
          "model_module_version": "1.5.0",
          "state": {
            "_model_module": "@jupyter-widgets/controls",
            "_model_module_version": "1.5.0",
            "_model_name": "DescriptionStyleModel",
            "_view_count": null,
            "_view_module": "@jupyter-widgets/base",
            "_view_module_version": "1.2.0",
            "_view_name": "StyleView",
            "description_width": ""
          }
        }
      }
    }
  },
  "cells": [
    {
      "cell_type": "markdown",
      "metadata": {
        "id": "view-in-github",
        "colab_type": "text"
      },
      "source": [
        "<a href=\"https://colab.research.google.com/github/carlos-alves-one/-Amazon-Review-NLP/blob/main/Sentiment_Analysis_V2.ipynb\" target=\"_parent\"><img src=\"https://colab.research.google.com/assets/colab-badge.svg\" alt=\"Open In Colab\"/></a>"
      ]
    },
    {
      "cell_type": "markdown",
      "source": [
        "### Goldsmiths University of London\n",
        "### MSc. Data Science and Artificial Intelligence\n",
        "### Module: Natural Language Processing\n",
        "### Author: Carlos Manuel De Oliveira Alves\n",
        "### Student: cdeol003\n",
        "### Coursework Project"
      ],
      "metadata": {
        "id": "GpWkS9g3XYaG"
      }
    },
    {
      "cell_type": "markdown",
      "source": [
        "# Data Collection"
      ],
      "metadata": {
        "id": "LPQR5k8DZBHh"
      }
    },
    {
      "cell_type": "markdown",
      "source": [
        "### Load the data"
      ],
      "metadata": {
        "id": "Rdq1tWxhdNyw"
      }
    },
    {
      "cell_type": "code",
      "source": [
        "# Imports the 'drive' module from 'google.colab' and mounts the Google Drive to\n",
        "# the '/content/drive' directory in the Colab environment.\n",
        "from google.colab import drive\n",
        "drive.mount('/content/drive')\n"
      ],
      "metadata": {
        "colab": {
          "base_uri": "https://localhost:8080/"
        },
        "id": "tAfyl1E4Xhig",
        "outputId": "63eea86b-f16c-443b-8652-033868a2bb77"
      },
      "execution_count": 1,
      "outputs": [
        {
          "output_type": "stream",
          "name": "stdout",
          "text": [
            "Mounted at /content/drive\n"
          ]
        }
      ]
    },
    {
      "cell_type": "markdown",
      "source": [
        "Dataset source: https://www.kaggle.com/datasets/akudnaver/amazon-reviews-dataset\n",
        "\n",
        "License: Unknown"
      ],
      "metadata": {
        "id": "UriCgHuhnXaB"
      }
    },
    {
      "cell_type": "code",
      "source": [
        "# Import the pandas library and give it the alias 'pd' for data manipulation and analysis\n",
        "import pandas as pd\n",
        "\n",
        "# Load the dataset Amazon Review Details from Google Drive\n",
        "data_path = '/content/drive/MyDrive/amazon_project/amazon-review-details.csv'\n",
        "data = pd.read_csv(data_path)\n",
        "\n",
        "# Display the first few rows of the dataframe\n",
        "data.head(3).T\n"
      ],
      "metadata": {
        "colab": {
          "base_uri": "https://localhost:8080/",
          "height": 1000
        },
        "id": "ShHZnYEod2V1",
        "outputId": "8a66b9e2-b764-4dff-a7b2-ca8952fc7573"
      },
      "execution_count": 2,
      "outputs": [
        {
          "output_type": "execute_result",
          "data": {
            "text/plain": [
              "                                                                        0  \\\n",
              "report_date                                                    2019-01-02   \n",
              "online_store                                                  FRESHAMAZON   \n",
              "upc                                                         8718114216478   \n",
              "retailer_product_code                                          B0142CI6FC   \n",
              "brand                                                       Dove Men+Care   \n",
              "category                                                    Personal Care   \n",
              "sub_category                                                         Deos   \n",
              "product_description     Dove Men+Care Extra Fresh Anti-perspirant Deod...   \n",
              "review_date                                                    2019-01-01   \n",
              "review_rating                                                           5   \n",
              "review_title                                       Dove Men’s + Deodorant   \n",
              "review_text             As you get older, you know what you like and w...   \n",
              "is_competitor                                                           0   \n",
              "manufacturer                                              Unilever Global   \n",
              "market                                                                 UK   \n",
              "matched_keywords                                                      NaN   \n",
              "time_of_publication                                                   NaN   \n",
              "url                     http://www.amazon.co.uk/gp/customer-reviews/RE...   \n",
              "review_type                                                       Organic   \n",
              "parent_review                                                       Child   \n",
              "manufacturers_response                                                NaN   \n",
              "dimension1                                                           Deos   \n",
              "dimension2                                 Male Anti-Perspirant Deodorant   \n",
              "dimension3                            COTC Male Anti-Perspirant Deodorant   \n",
              "dimension4                                                            NaN   \n",
              "dimension5                                                            NaN   \n",
              "dimension6                                                            NaN   \n",
              "dimension7                            COTC Male Anti-Perspirant Deodorant   \n",
              "dimension8                                               Core of the Core   \n",
              "verified_purchase                                                    True   \n",
              "helpful_review_count                                                    0   \n",
              "review_hash_id                       3f129b02-ea76-0323-bd59-235d97a4f83f   \n",
              "\n",
              "                                                                        1  \\\n",
              "report_date                                                    2019-01-03   \n",
              "online_store                                                  FRESHAMAZON   \n",
              "upc                                                         5000184201199   \n",
              "retailer_product_code                                          B014DFNNRY   \n",
              "brand                                                             Marmite   \n",
              "category                                                            Foods   \n",
              "sub_category                                                      Savoury   \n",
              "product_description                    Marmite  Spread Yeast Extract 500g   \n",
              "review_date                                                    2019-01-02   \n",
              "review_rating                                                           5   \n",
              "review_title                                   Great for a marmite lover!   \n",
              "review_text             Three gigantic marmite jars that will last pro...   \n",
              "is_competitor                                                           0   \n",
              "manufacturer                                              Unilever Global   \n",
              "market                                                                 UK   \n",
              "matched_keywords                                                      NaN   \n",
              "time_of_publication                                                   NaN   \n",
              "url                     http://www.amazon.co.uk/gp/customer-reviews/R1...   \n",
              "review_type                                                       Organic   \n",
              "parent_review                                                       Child   \n",
              "manufacturers_response                                                NaN   \n",
              "dimension1                                                        Savoury   \n",
              "dimension2                                             COTC Yeast Extract   \n",
              "dimension3                                             COTC Yeast Extract   \n",
              "dimension4                                                            NaN   \n",
              "dimension5                                                            NaN   \n",
              "dimension6                                                            NaN   \n",
              "dimension7                                             COTC Yeast Extract   \n",
              "dimension8                                               Core of the Core   \n",
              "verified_purchase                                                    True   \n",
              "helpful_review_count                                                    0   \n",
              "review_hash_id                       d7f3b9aa-e8b3-626d-683b-374e201c8315   \n",
              "\n",
              "                                                                        2  \n",
              "report_date                                                    2019-01-03  \n",
              "online_store                                                  FRESHAMAZON  \n",
              "upc                                                         5000184201199  \n",
              "retailer_product_code                                          B014DFNNRY  \n",
              "brand                                                             Marmite  \n",
              "category                                                            Foods  \n",
              "sub_category                                                      Savoury  \n",
              "product_description                    Marmite  Spread Yeast Extract 500g  \n",
              "review_date                                                    2019-01-02  \n",
              "review_rating                                                           4  \n",
              "review_title                                                 Vitamin B12.  \n",
              "review_text                                                     Excellent  \n",
              "is_competitor                                                           0  \n",
              "manufacturer                                              Unilever Global  \n",
              "market                                                                 UK  \n",
              "matched_keywords                                                      NaN  \n",
              "time_of_publication                                                   NaN  \n",
              "url                     http://www.amazon.co.uk/gp/customer-reviews/RD...  \n",
              "review_type                                                       Organic  \n",
              "parent_review                                                       Child  \n",
              "manufacturers_response                                                NaN  \n",
              "dimension1                                                        Savoury  \n",
              "dimension2                                             COTC Yeast Extract  \n",
              "dimension3                                             COTC Yeast Extract  \n",
              "dimension4                                                            NaN  \n",
              "dimension5                                                            NaN  \n",
              "dimension6                                                            NaN  \n",
              "dimension7                                             COTC Yeast Extract  \n",
              "dimension8                                               Core of the Core  \n",
              "verified_purchase                                                    True  \n",
              "helpful_review_count                                                    0  \n",
              "review_hash_id                       e58a523d-0155-a366-f107-7ac6817ac3b7  "
            ],
            "text/html": [
              "\n",
              "  <div id=\"df-60e88a59-53a5-4791-a167-ae4ecb8fb4b2\" class=\"colab-df-container\">\n",
              "    <div>\n",
              "<style scoped>\n",
              "    .dataframe tbody tr th:only-of-type {\n",
              "        vertical-align: middle;\n",
              "    }\n",
              "\n",
              "    .dataframe tbody tr th {\n",
              "        vertical-align: top;\n",
              "    }\n",
              "\n",
              "    .dataframe thead th {\n",
              "        text-align: right;\n",
              "    }\n",
              "</style>\n",
              "<table border=\"1\" class=\"dataframe\">\n",
              "  <thead>\n",
              "    <tr style=\"text-align: right;\">\n",
              "      <th></th>\n",
              "      <th>0</th>\n",
              "      <th>1</th>\n",
              "      <th>2</th>\n",
              "    </tr>\n",
              "  </thead>\n",
              "  <tbody>\n",
              "    <tr>\n",
              "      <th>report_date</th>\n",
              "      <td>2019-01-02</td>\n",
              "      <td>2019-01-03</td>\n",
              "      <td>2019-01-03</td>\n",
              "    </tr>\n",
              "    <tr>\n",
              "      <th>online_store</th>\n",
              "      <td>FRESHAMAZON</td>\n",
              "      <td>FRESHAMAZON</td>\n",
              "      <td>FRESHAMAZON</td>\n",
              "    </tr>\n",
              "    <tr>\n",
              "      <th>upc</th>\n",
              "      <td>8718114216478</td>\n",
              "      <td>5000184201199</td>\n",
              "      <td>5000184201199</td>\n",
              "    </tr>\n",
              "    <tr>\n",
              "      <th>retailer_product_code</th>\n",
              "      <td>B0142CI6FC</td>\n",
              "      <td>B014DFNNRY</td>\n",
              "      <td>B014DFNNRY</td>\n",
              "    </tr>\n",
              "    <tr>\n",
              "      <th>brand</th>\n",
              "      <td>Dove Men+Care</td>\n",
              "      <td>Marmite</td>\n",
              "      <td>Marmite</td>\n",
              "    </tr>\n",
              "    <tr>\n",
              "      <th>category</th>\n",
              "      <td>Personal Care</td>\n",
              "      <td>Foods</td>\n",
              "      <td>Foods</td>\n",
              "    </tr>\n",
              "    <tr>\n",
              "      <th>sub_category</th>\n",
              "      <td>Deos</td>\n",
              "      <td>Savoury</td>\n",
              "      <td>Savoury</td>\n",
              "    </tr>\n",
              "    <tr>\n",
              "      <th>product_description</th>\n",
              "      <td>Dove Men+Care Extra Fresh Anti-perspirant Deod...</td>\n",
              "      <td>Marmite  Spread Yeast Extract 500g</td>\n",
              "      <td>Marmite  Spread Yeast Extract 500g</td>\n",
              "    </tr>\n",
              "    <tr>\n",
              "      <th>review_date</th>\n",
              "      <td>2019-01-01</td>\n",
              "      <td>2019-01-02</td>\n",
              "      <td>2019-01-02</td>\n",
              "    </tr>\n",
              "    <tr>\n",
              "      <th>review_rating</th>\n",
              "      <td>5</td>\n",
              "      <td>5</td>\n",
              "      <td>4</td>\n",
              "    </tr>\n",
              "    <tr>\n",
              "      <th>review_title</th>\n",
              "      <td>Dove Men’s + Deodorant</td>\n",
              "      <td>Great for a marmite lover!</td>\n",
              "      <td>Vitamin B12.</td>\n",
              "    </tr>\n",
              "    <tr>\n",
              "      <th>review_text</th>\n",
              "      <td>As you get older, you know what you like and w...</td>\n",
              "      <td>Three gigantic marmite jars that will last pro...</td>\n",
              "      <td>Excellent</td>\n",
              "    </tr>\n",
              "    <tr>\n",
              "      <th>is_competitor</th>\n",
              "      <td>0</td>\n",
              "      <td>0</td>\n",
              "      <td>0</td>\n",
              "    </tr>\n",
              "    <tr>\n",
              "      <th>manufacturer</th>\n",
              "      <td>Unilever Global</td>\n",
              "      <td>Unilever Global</td>\n",
              "      <td>Unilever Global</td>\n",
              "    </tr>\n",
              "    <tr>\n",
              "      <th>market</th>\n",
              "      <td>UK</td>\n",
              "      <td>UK</td>\n",
              "      <td>UK</td>\n",
              "    </tr>\n",
              "    <tr>\n",
              "      <th>matched_keywords</th>\n",
              "      <td>NaN</td>\n",
              "      <td>NaN</td>\n",
              "      <td>NaN</td>\n",
              "    </tr>\n",
              "    <tr>\n",
              "      <th>time_of_publication</th>\n",
              "      <td>NaN</td>\n",
              "      <td>NaN</td>\n",
              "      <td>NaN</td>\n",
              "    </tr>\n",
              "    <tr>\n",
              "      <th>url</th>\n",
              "      <td>http://www.amazon.co.uk/gp/customer-reviews/RE...</td>\n",
              "      <td>http://www.amazon.co.uk/gp/customer-reviews/R1...</td>\n",
              "      <td>http://www.amazon.co.uk/gp/customer-reviews/RD...</td>\n",
              "    </tr>\n",
              "    <tr>\n",
              "      <th>review_type</th>\n",
              "      <td>Organic</td>\n",
              "      <td>Organic</td>\n",
              "      <td>Organic</td>\n",
              "    </tr>\n",
              "    <tr>\n",
              "      <th>parent_review</th>\n",
              "      <td>Child</td>\n",
              "      <td>Child</td>\n",
              "      <td>Child</td>\n",
              "    </tr>\n",
              "    <tr>\n",
              "      <th>manufacturers_response</th>\n",
              "      <td>NaN</td>\n",
              "      <td>NaN</td>\n",
              "      <td>NaN</td>\n",
              "    </tr>\n",
              "    <tr>\n",
              "      <th>dimension1</th>\n",
              "      <td>Deos</td>\n",
              "      <td>Savoury</td>\n",
              "      <td>Savoury</td>\n",
              "    </tr>\n",
              "    <tr>\n",
              "      <th>dimension2</th>\n",
              "      <td>Male Anti-Perspirant Deodorant</td>\n",
              "      <td>COTC Yeast Extract</td>\n",
              "      <td>COTC Yeast Extract</td>\n",
              "    </tr>\n",
              "    <tr>\n",
              "      <th>dimension3</th>\n",
              "      <td>COTC Male Anti-Perspirant Deodorant</td>\n",
              "      <td>COTC Yeast Extract</td>\n",
              "      <td>COTC Yeast Extract</td>\n",
              "    </tr>\n",
              "    <tr>\n",
              "      <th>dimension4</th>\n",
              "      <td>NaN</td>\n",
              "      <td>NaN</td>\n",
              "      <td>NaN</td>\n",
              "    </tr>\n",
              "    <tr>\n",
              "      <th>dimension5</th>\n",
              "      <td>NaN</td>\n",
              "      <td>NaN</td>\n",
              "      <td>NaN</td>\n",
              "    </tr>\n",
              "    <tr>\n",
              "      <th>dimension6</th>\n",
              "      <td>NaN</td>\n",
              "      <td>NaN</td>\n",
              "      <td>NaN</td>\n",
              "    </tr>\n",
              "    <tr>\n",
              "      <th>dimension7</th>\n",
              "      <td>COTC Male Anti-Perspirant Deodorant</td>\n",
              "      <td>COTC Yeast Extract</td>\n",
              "      <td>COTC Yeast Extract</td>\n",
              "    </tr>\n",
              "    <tr>\n",
              "      <th>dimension8</th>\n",
              "      <td>Core of the Core</td>\n",
              "      <td>Core of the Core</td>\n",
              "      <td>Core of the Core</td>\n",
              "    </tr>\n",
              "    <tr>\n",
              "      <th>verified_purchase</th>\n",
              "      <td>True</td>\n",
              "      <td>True</td>\n",
              "      <td>True</td>\n",
              "    </tr>\n",
              "    <tr>\n",
              "      <th>helpful_review_count</th>\n",
              "      <td>0</td>\n",
              "      <td>0</td>\n",
              "      <td>0</td>\n",
              "    </tr>\n",
              "    <tr>\n",
              "      <th>review_hash_id</th>\n",
              "      <td>3f129b02-ea76-0323-bd59-235d97a4f83f</td>\n",
              "      <td>d7f3b9aa-e8b3-626d-683b-374e201c8315</td>\n",
              "      <td>e58a523d-0155-a366-f107-7ac6817ac3b7</td>\n",
              "    </tr>\n",
              "  </tbody>\n",
              "</table>\n",
              "</div>\n",
              "    <div class=\"colab-df-buttons\">\n",
              "\n",
              "  <div class=\"colab-df-container\">\n",
              "    <button class=\"colab-df-convert\" onclick=\"convertToInteractive('df-60e88a59-53a5-4791-a167-ae4ecb8fb4b2')\"\n",
              "            title=\"Convert this dataframe to an interactive table.\"\n",
              "            style=\"display:none;\">\n",
              "\n",
              "  <svg xmlns=\"http://www.w3.org/2000/svg\" height=\"24px\" viewBox=\"0 -960 960 960\">\n",
              "    <path d=\"M120-120v-720h720v720H120Zm60-500h600v-160H180v160Zm220 220h160v-160H400v160Zm0 220h160v-160H400v160ZM180-400h160v-160H180v160Zm440 0h160v-160H620v160ZM180-180h160v-160H180v160Zm440 0h160v-160H620v160Z\"/>\n",
              "  </svg>\n",
              "    </button>\n",
              "\n",
              "  <style>\n",
              "    .colab-df-container {\n",
              "      display:flex;\n",
              "      gap: 12px;\n",
              "    }\n",
              "\n",
              "    .colab-df-convert {\n",
              "      background-color: #E8F0FE;\n",
              "      border: none;\n",
              "      border-radius: 50%;\n",
              "      cursor: pointer;\n",
              "      display: none;\n",
              "      fill: #1967D2;\n",
              "      height: 32px;\n",
              "      padding: 0 0 0 0;\n",
              "      width: 32px;\n",
              "    }\n",
              "\n",
              "    .colab-df-convert:hover {\n",
              "      background-color: #E2EBFA;\n",
              "      box-shadow: 0px 1px 2px rgba(60, 64, 67, 0.3), 0px 1px 3px 1px rgba(60, 64, 67, 0.15);\n",
              "      fill: #174EA6;\n",
              "    }\n",
              "\n",
              "    .colab-df-buttons div {\n",
              "      margin-bottom: 4px;\n",
              "    }\n",
              "\n",
              "    [theme=dark] .colab-df-convert {\n",
              "      background-color: #3B4455;\n",
              "      fill: #D2E3FC;\n",
              "    }\n",
              "\n",
              "    [theme=dark] .colab-df-convert:hover {\n",
              "      background-color: #434B5C;\n",
              "      box-shadow: 0px 1px 3px 1px rgba(0, 0, 0, 0.15);\n",
              "      filter: drop-shadow(0px 1px 2px rgba(0, 0, 0, 0.3));\n",
              "      fill: #FFFFFF;\n",
              "    }\n",
              "  </style>\n",
              "\n",
              "    <script>\n",
              "      const buttonEl =\n",
              "        document.querySelector('#df-60e88a59-53a5-4791-a167-ae4ecb8fb4b2 button.colab-df-convert');\n",
              "      buttonEl.style.display =\n",
              "        google.colab.kernel.accessAllowed ? 'block' : 'none';\n",
              "\n",
              "      async function convertToInteractive(key) {\n",
              "        const element = document.querySelector('#df-60e88a59-53a5-4791-a167-ae4ecb8fb4b2');\n",
              "        const dataTable =\n",
              "          await google.colab.kernel.invokeFunction('convertToInteractive',\n",
              "                                                    [key], {});\n",
              "        if (!dataTable) return;\n",
              "\n",
              "        const docLinkHtml = 'Like what you see? Visit the ' +\n",
              "          '<a target=\"_blank\" href=https://colab.research.google.com/notebooks/data_table.ipynb>data table notebook</a>'\n",
              "          + ' to learn more about interactive tables.';\n",
              "        element.innerHTML = '';\n",
              "        dataTable['output_type'] = 'display_data';\n",
              "        await google.colab.output.renderOutput(dataTable, element);\n",
              "        const docLink = document.createElement('div');\n",
              "        docLink.innerHTML = docLinkHtml;\n",
              "        element.appendChild(docLink);\n",
              "      }\n",
              "    </script>\n",
              "  </div>\n",
              "\n",
              "\n",
              "<div id=\"df-077630fb-53f9-4d3b-af50-81b923d83a0f\">\n",
              "  <button class=\"colab-df-quickchart\" onclick=\"quickchart('df-077630fb-53f9-4d3b-af50-81b923d83a0f')\"\n",
              "            title=\"Suggest charts\"\n",
              "            style=\"display:none;\">\n",
              "\n",
              "<svg xmlns=\"http://www.w3.org/2000/svg\" height=\"24px\"viewBox=\"0 0 24 24\"\n",
              "     width=\"24px\">\n",
              "    <g>\n",
              "        <path d=\"M19 3H5c-1.1 0-2 .9-2 2v14c0 1.1.9 2 2 2h14c1.1 0 2-.9 2-2V5c0-1.1-.9-2-2-2zM9 17H7v-7h2v7zm4 0h-2V7h2v10zm4 0h-2v-4h2v4z\"/>\n",
              "    </g>\n",
              "</svg>\n",
              "  </button>\n",
              "\n",
              "<style>\n",
              "  .colab-df-quickchart {\n",
              "      --bg-color: #E8F0FE;\n",
              "      --fill-color: #1967D2;\n",
              "      --hover-bg-color: #E2EBFA;\n",
              "      --hover-fill-color: #174EA6;\n",
              "      --disabled-fill-color: #AAA;\n",
              "      --disabled-bg-color: #DDD;\n",
              "  }\n",
              "\n",
              "  [theme=dark] .colab-df-quickchart {\n",
              "      --bg-color: #3B4455;\n",
              "      --fill-color: #D2E3FC;\n",
              "      --hover-bg-color: #434B5C;\n",
              "      --hover-fill-color: #FFFFFF;\n",
              "      --disabled-bg-color: #3B4455;\n",
              "      --disabled-fill-color: #666;\n",
              "  }\n",
              "\n",
              "  .colab-df-quickchart {\n",
              "    background-color: var(--bg-color);\n",
              "    border: none;\n",
              "    border-radius: 50%;\n",
              "    cursor: pointer;\n",
              "    display: none;\n",
              "    fill: var(--fill-color);\n",
              "    height: 32px;\n",
              "    padding: 0;\n",
              "    width: 32px;\n",
              "  }\n",
              "\n",
              "  .colab-df-quickchart:hover {\n",
              "    background-color: var(--hover-bg-color);\n",
              "    box-shadow: 0 1px 2px rgba(60, 64, 67, 0.3), 0 1px 3px 1px rgba(60, 64, 67, 0.15);\n",
              "    fill: var(--button-hover-fill-color);\n",
              "  }\n",
              "\n",
              "  .colab-df-quickchart-complete:disabled,\n",
              "  .colab-df-quickchart-complete:disabled:hover {\n",
              "    background-color: var(--disabled-bg-color);\n",
              "    fill: var(--disabled-fill-color);\n",
              "    box-shadow: none;\n",
              "  }\n",
              "\n",
              "  .colab-df-spinner {\n",
              "    border: 2px solid var(--fill-color);\n",
              "    border-color: transparent;\n",
              "    border-bottom-color: var(--fill-color);\n",
              "    animation:\n",
              "      spin 1s steps(1) infinite;\n",
              "  }\n",
              "\n",
              "  @keyframes spin {\n",
              "    0% {\n",
              "      border-color: transparent;\n",
              "      border-bottom-color: var(--fill-color);\n",
              "      border-left-color: var(--fill-color);\n",
              "    }\n",
              "    20% {\n",
              "      border-color: transparent;\n",
              "      border-left-color: var(--fill-color);\n",
              "      border-top-color: var(--fill-color);\n",
              "    }\n",
              "    30% {\n",
              "      border-color: transparent;\n",
              "      border-left-color: var(--fill-color);\n",
              "      border-top-color: var(--fill-color);\n",
              "      border-right-color: var(--fill-color);\n",
              "    }\n",
              "    40% {\n",
              "      border-color: transparent;\n",
              "      border-right-color: var(--fill-color);\n",
              "      border-top-color: var(--fill-color);\n",
              "    }\n",
              "    60% {\n",
              "      border-color: transparent;\n",
              "      border-right-color: var(--fill-color);\n",
              "    }\n",
              "    80% {\n",
              "      border-color: transparent;\n",
              "      border-right-color: var(--fill-color);\n",
              "      border-bottom-color: var(--fill-color);\n",
              "    }\n",
              "    90% {\n",
              "      border-color: transparent;\n",
              "      border-bottom-color: var(--fill-color);\n",
              "    }\n",
              "  }\n",
              "</style>\n",
              "\n",
              "  <script>\n",
              "    async function quickchart(key) {\n",
              "      const quickchartButtonEl =\n",
              "        document.querySelector('#' + key + ' button');\n",
              "      quickchartButtonEl.disabled = true;  // To prevent multiple clicks.\n",
              "      quickchartButtonEl.classList.add('colab-df-spinner');\n",
              "      try {\n",
              "        const charts = await google.colab.kernel.invokeFunction(\n",
              "            'suggestCharts', [key], {});\n",
              "      } catch (error) {\n",
              "        console.error('Error during call to suggestCharts:', error);\n",
              "      }\n",
              "      quickchartButtonEl.classList.remove('colab-df-spinner');\n",
              "      quickchartButtonEl.classList.add('colab-df-quickchart-complete');\n",
              "    }\n",
              "    (() => {\n",
              "      let quickchartButtonEl =\n",
              "        document.querySelector('#df-077630fb-53f9-4d3b-af50-81b923d83a0f button');\n",
              "      quickchartButtonEl.style.display =\n",
              "        google.colab.kernel.accessAllowed ? 'block' : 'none';\n",
              "    })();\n",
              "  </script>\n",
              "</div>\n",
              "    </div>\n",
              "  </div>\n"
            ],
            "application/vnd.google.colaboratory.intrinsic+json": {
              "type": "dataframe",
              "variable_name": "data"
            }
          },
          "metadata": {},
          "execution_count": 2
        }
      ]
    },
    {
      "cell_type": "markdown",
      "source": [
        "# Data Preprocessing"
      ],
      "metadata": {
        "id": "SrPP-SNcMjXo"
      }
    },
    {
      "cell_type": "markdown",
      "source": [
        "The dataset contains multiple columns, but for our sentiment analysis, we will primarily focus on the 'review_rating' as our target variable and the text of the reviews for our feature.\n",
        "\n",
        "**Tasks :**\n",
        "\n",
        "- Select relevant columns ('review_rating' and the review text column).\n",
        "\n",
        "- Handle missing values if necessary.\n",
        "\n",
        "- Convert ratings to a binary sentiment (positive or negative).\n",
        "\n",
        "- Preprocess the text data (tokenization, lowercasing, removing stop words, etc.).\n"
      ],
      "metadata": {
        "id": "o3bn9Q3dQdYo"
      }
    },
    {
      "cell_type": "markdown",
      "source": [
        "## Import Libraries and Packages"
      ],
      "metadata": {
        "id": "2uwanN2KSCrg"
      }
    },
    {
      "cell_type": "code",
      "source": [
        "# Importing the 'stopwords' collection from the nltk.corpus module\n",
        "from nltk.corpus import stopwords\n",
        "\n",
        "# Imports the regular expression module for pattern matching in strings\n",
        "import re\n",
        "\n",
        "# Importing the 'word_tokenize' and 'sent_tokenize' functions from nltk.tokenize for tokenizing strings into words\n",
        "from nltk.tokenize import word_tokenize, sent_tokenize\n",
        "\n",
        "# Importing the nltk module, which is a suite of libraries for natural language processing\n",
        "import nltk\n",
        "\n",
        "# Downloading the 'punkt' tokenizer models, used by nltk for sentence tokenization\n",
        "nltk.download('punkt')\n",
        "\n",
        "# Downloading the 'stopwords' dataset, which contains lists of common stopwords in various languages\n",
        "nltk.download('stopwords')\n",
        "\n",
        "# Importing lemmatizer and stemmer for text normalization\n",
        "from nltk.stem import WordNetLemmatizer, PorterStemmer\n",
        "\n",
        "# Importing WordNet, a lexical database for the English language\n",
        "from nltk.corpus import wordnet\n",
        "\n",
        "# Import Word2Vec model from gensim library\n",
        "from gensim.models import Word2Vec\n",
        "\n",
        "# Import NumPy for numerical and array operations\n",
        "import numpy as np"
      ],
      "metadata": {
        "colab": {
          "base_uri": "https://localhost:8080/"
        },
        "id": "UTI5ftMGSP2o",
        "outputId": "c831a2f4-bc77-49ba-8fe0-d84cab14dc05"
      },
      "execution_count": 3,
      "outputs": [
        {
          "output_type": "stream",
          "name": "stderr",
          "text": [
            "[nltk_data] Downloading package punkt to /root/nltk_data...\n",
            "[nltk_data]   Unzipping tokenizers/punkt.zip.\n",
            "[nltk_data] Downloading package stopwords to /root/nltk_data...\n",
            "[nltk_data]   Unzipping corpora/stopwords.zip.\n"
          ]
        }
      ]
    },
    {
      "cell_type": "markdown",
      "source": [
        "## Function for Cleaning & Preprocessing"
      ],
      "metadata": {
        "id": "86W50sqyTReK"
      }
    },
    {
      "cell_type": "code",
      "source": [
        "# Declare function for data cleaning and preprocessing\n",
        "def preprocess_text(text):\n",
        "\n",
        "    # Lowercasing\n",
        "    text = text.lower()\n",
        "\n",
        "    # Remove punctuation and numbers\n",
        "    text = re.sub(r'[^a-z\\s]', '', text)\n",
        "\n",
        "    # Tokenization\n",
        "    tokens = word_tokenize(text)\n",
        "\n",
        "    # Remove stopwords\n",
        "    stop_words = set(stopwords.words('english'))\n",
        "    tokens = [word for word in tokens if word not in stop_words]\n",
        "\n",
        "    # Returns a string where all elements in the list 'tokens'\n",
        "    # are concatenated into a single string, separated by spaces\n",
        "    return ' '.join(tokens)\n"
      ],
      "metadata": {
        "id": "PNSN1xizUhNw"
      },
      "execution_count": 4,
      "outputs": []
    },
    {
      "cell_type": "markdown",
      "source": [
        "## Preprocessing the Review Text"
      ],
      "metadata": {
        "id": "iLzzODO_Vgjg"
      }
    },
    {
      "cell_type": "code",
      "source": [
        "# Apply preprocessing to the review text\n",
        "data['processed_reviews'] = data['review_text'].apply(preprocess_text)\n"
      ],
      "metadata": {
        "id": "b_S20BBOVoj-"
      },
      "execution_count": 5,
      "outputs": []
    },
    {
      "cell_type": "markdown",
      "source": [
        "## Create Column Binary Sentiment"
      ],
      "metadata": {
        "id": "qo7uqeAdV3dB"
      }
    },
    {
      "cell_type": "code",
      "source": [
        "# Convert ratings to binary sentiment\n",
        "data['sentiment'] = data['review_rating'].apply(lambda x: 1 if x > 3 else 0)\n"
      ],
      "metadata": {
        "id": "rY0j9M-7Pw16"
      },
      "execution_count": 6,
      "outputs": []
    },
    {
      "cell_type": "markdown",
      "source": [
        "## Display Columns Preprocessed"
      ],
      "metadata": {
        "id": "WamVnz8-YUBD"
      }
    },
    {
      "cell_type": "code",
      "source": [
        "# Set the display option for max column width\n",
        "pd.set_option('display.max_colwidth', None)\n",
        "\n",
        "# Display the columns relevant to check results\n",
        "print(data[['review_rating', 'review_text', 'processed_reviews', 'sentiment']].head(3).T)\n"
      ],
      "metadata": {
        "colab": {
          "base_uri": "https://localhost:8080/"
        },
        "id": "f0h1bcK0XpxM",
        "outputId": "13f65613-92a2-4ae8-d2e8-b9747ccc56d0"
      },
      "execution_count": 7,
      "outputs": [
        {
          "output_type": "stream",
          "name": "stdout",
          "text": [
            "                                                                                                                                                                                                                            0  \\\n",
            "review_rating                                                                                                                                                                                                               5   \n",
            "review_text        As you get older, you know what you like and what is suitable for your body. I like all Dove products. Gives you that fresh all over, wide awake feeling and no dandruff or flakey skin. No smelly a/pits!   \n",
            "processed_reviews                                                                                       get older know like suitable body like dove products gives fresh wide awake feeling dandruff flakey skin smelly apits   \n",
            "sentiment                                                                                                                                                                                                                   1   \n",
            "\n",
            "                                                                                                                                                                                                 1  \\\n",
            "review_rating                                                                                                                                                                                    5   \n",
            "review_text        Three gigantic marmite jars that will last probably a whole life! What else would you possibly wish for? Order came in time, when mentioned, safely packed. Very happy with it.   \n",
            "processed_reviews                                                      three gigantic marmite jars last probably whole life else would possibly wish order came time mentioned safely packed happy   \n",
            "sentiment                                                                                                                                                                                        1   \n",
            "\n",
            "                           2  \n",
            "review_rating              4  \n",
            "review_text        Excellent  \n",
            "processed_reviews  excellent  \n",
            "sentiment                  1  \n"
          ]
        }
      ]
    },
    {
      "cell_type": "markdown",
      "source": [
        "The displayed results from the dataset reveal that the preprocessing steps effectively distilled key sentiment-related content from the original reviews, with all three examples showing high review ratings indicative of positive sentiments. The processed reviews retain critical information, focusing on aspects directly related to user experiences and satisfaction, while extraneous details are omitted. Sentiment labels consistently assigned as `1` align with the positive nature of the review ratings and the processed texts, indicating a successful preprocessing and sentiment labelling effort. This suggests that the data is well-prepared for further sentiment analysis tasks, with the preprocessing ensuring that models or analyses are based on relevant, succinct representations of the original reviews, accurately reflecting their positive sentiments."
      ],
      "metadata": {
        "id": "Jwk03d7iftrw"
      }
    },
    {
      "cell_type": "markdown",
      "source": [
        "## Extensive Data Inspection"
      ],
      "metadata": {
        "id": "-8lYSFw-8c8D"
      }
    },
    {
      "cell_type": "markdown",
      "source": [
        "### Check Missing Values\n",
        "\n",
        "> Check for missing values or inconsistent data entries"
      ],
      "metadata": {
        "id": "q-uCn_H18Nsn"
      }
    },
    {
      "cell_type": "code",
      "source": [
        "# Checking for missing values in 'review_rating' and 'review_text' columns\n",
        "missing_values = data[['review_rating', 'review_text']].isnull().sum()\n",
        "\n",
        "# Printing results in an aligned manner\n",
        "print(\"Missing values in selected columns:\")\n",
        "for column, value in missing_values.items():\n",
        "    print(f\"{column:15}= {value}\")\n"
      ],
      "metadata": {
        "colab": {
          "base_uri": "https://localhost:8080/"
        },
        "id": "nXbTFHjE8RCT",
        "outputId": "fed17a79-d0e2-476d-cb60-d0408aad00e6"
      },
      "execution_count": 8,
      "outputs": [
        {
          "output_type": "stream",
          "name": "stdout",
          "text": [
            "Missing values in selected columns:\n",
            "review_rating  = 0\n",
            "review_text    = 0\n"
          ]
        }
      ]
    },
    {
      "cell_type": "markdown",
      "source": [
        "The analysis confirms that the `review_rating` and `review_text` columns have no missing values, a crucial advantage for sentiment analysis. This completeness ensures the dataset is ready for sentiment analysis without needing data imputation or streamlining preprocessing like text cleaning and tokenization. It provides a solid model training and evaluation foundation, enhancing analysis reliability. The absence of missing values in these key columns simplifies project workflows and focuses on core analytical and modelling tasks."
      ],
      "metadata": {
        "id": "Uao-1Kyp_13t"
      }
    },
    {
      "cell_type": "code",
      "source": [
        "# Assuming 'review_rating' should be between 1 and 5\n",
        "# Checking for any ratings outside this range\n",
        "invalid_ratings = data[(data['review_rating'] < 1) | (data['review_rating'] > 5)]\n",
        "\n",
        "# Printing only the relevant columns: 'review_text' and 'review_rating'\n",
        "print(\"Invalid ratings:\\n\", invalid_ratings[['review_text', 'review_rating']])\n"
      ],
      "metadata": {
        "colab": {
          "base_uri": "https://localhost:8080/"
        },
        "id": "DCTmlendDtM8",
        "outputId": "5c48dad6-895b-48cc-c110-457f33b3a561"
      },
      "execution_count": 9,
      "outputs": [
        {
          "output_type": "stream",
          "name": "stdout",
          "text": [
            "Invalid ratings:\n",
            " Empty DataFrame\n",
            "Columns: [review_text, review_rating]\n",
            "Index: []\n"
          ]
        }
      ]
    },
    {
      "cell_type": "markdown",
      "source": [
        "The `review_rating` column analysis reveals that all ratings fall within the expected range of 1 to 5, indicating no invalid ratings in the dataset. This finding underscores the high quality of the dataset regarding rating data integrity. It eliminates the need for data cleaning steps for correcting or removing out-of-range ratings. Consequently, the dataset is well-prepared for further processing and analysis, particularly sentiment analysis, where these ratings can be directly utilized or transformed into categorical sentiment labels. This ensures a reliable foundation for the project's analytical and modelling endeavours."
      ],
      "metadata": {
        "id": "FMbmlrIzC0Rk"
      }
    },
    {
      "cell_type": "markdown",
      "source": [
        "### Data Distribution\n",
        "\n",
        "> Explore data distribution, such as the number of positive vs negative reviews."
      ],
      "metadata": {
        "id": "5QaZSFodEWd2"
      }
    },
    {
      "cell_type": "code",
      "source": [
        "# Define positive (e.g., ratings 4 and 5) and negative (e.g., ratings 1 and 2) reviews\n",
        "data['review_sentiment'] = data['review_rating'].apply(lambda x: 'Positive' if x > 3 else ('Negative' if x < 3 else 'Neutral'))\n",
        "\n",
        "# Count the number of positive vs. negative reviews\n",
        "sentiment_distribution = data['review_sentiment'].value_counts()\n",
        "\n",
        "print(sentiment_distribution)\n"
      ],
      "metadata": {
        "colab": {
          "base_uri": "https://localhost:8080/"
        },
        "id": "IBbg82PBEdcF",
        "outputId": "8abf4807-1966-4deb-fd99-23a333b4fdcf"
      },
      "execution_count": 10,
      "outputs": [
        {
          "output_type": "stream",
          "name": "stdout",
          "text": [
            "Positive    2167\n",
            "Negative     227\n",
            "Neutral      107\n",
            "Name: review_sentiment, dtype: int64\n"
          ]
        }
      ]
    },
    {
      "cell_type": "markdown",
      "source": [
        "The dataset analyzed shows a dominant number of positive reviews (2,167) compared to negative (227) and neutral (107) reviews, indicating a general customer satisfaction or potential review collection bias. Positive reviews significantly outweigh negative and neutral ones, suggesting clear sentiment trends among reviewers, with few adopting a neutral stance. This imbalance highlights the importance of considering data diversity in sentiment analysis to avoid model biases toward positive outcomes."
      ],
      "metadata": {
        "id": "Q3c45-XnFu2U"
      }
    },
    {
      "cell_type": "markdown",
      "source": [
        "## Text Normalization\n"
      ],
      "metadata": {
        "id": "BNcyVLwTG7E_"
      }
    },
    {
      "cell_type": "markdown",
      "source": [
        "### Lemmatization and Stemming\n",
        "\n",
        "- Adding lemmatization and stemming. Lemmatization converts a word to its base form with a proper dictionary meaning, whereas stemming trims words to their root form, which might not be a valid word itself."
      ],
      "metadata": {
        "id": "qoTrzSE_PKWq"
      }
    },
    {
      "cell_type": "code",
      "source": [
        "# Ensure necessary NLTK resources are downloaded\n",
        "nltk.download('punkt')\n",
        "nltk.download('averaged_perceptron_tagger')\n",
        "nltk.download('omw-1.4')  # Make sure WordNet is up-to-date\n",
        "nltk.download('wordnet')\n"
      ],
      "metadata": {
        "colab": {
          "base_uri": "https://localhost:8080/"
        },
        "id": "Wn_mPVS_HG93",
        "outputId": "a73cb9d8-b4d3-46a8-dcc7-47af734b4401"
      },
      "execution_count": 11,
      "outputs": [
        {
          "output_type": "stream",
          "name": "stderr",
          "text": [
            "[nltk_data] Downloading package punkt to /root/nltk_data...\n",
            "[nltk_data]   Package punkt is already up-to-date!\n",
            "[nltk_data] Downloading package averaged_perceptron_tagger to\n",
            "[nltk_data]     /root/nltk_data...\n",
            "[nltk_data]   Unzipping taggers/averaged_perceptron_tagger.zip.\n",
            "[nltk_data] Downloading package omw-1.4 to /root/nltk_data...\n",
            "[nltk_data] Downloading package wordnet to /root/nltk_data...\n"
          ]
        },
        {
          "output_type": "execute_result",
          "data": {
            "text/plain": [
              "True"
            ]
          },
          "metadata": {},
          "execution_count": 11
        }
      ]
    },
    {
      "cell_type": "code",
      "source": [
        "# Initialize the Lemmatizer and Stemmer\n",
        "lemmatizer = WordNetLemmatizer()\n",
        "stemmer = PorterStemmer()\n"
      ],
      "metadata": {
        "id": "BupUvAigMc7N"
      },
      "execution_count": 12,
      "outputs": []
    },
    {
      "cell_type": "code",
      "source": [
        "# Defines a function to map NLTK part-of-speech tags to WordNet part-of-speech tags\n",
        "def nltk_tag_to_wordnet_tag(nltk_tag):\n",
        "\n",
        "    if nltk_tag.startswith('J'):\n",
        "        return wordnet.ADJ\n",
        "        # If the tag starts with 'J', it's an adjective in NLTK, so return the WordNet tag for adjective\n",
        "\n",
        "    elif nltk_tag.startswith('V'):\n",
        "        return wordnet.VERB\n",
        "        # If the tag starts with 'V', it's a verb, so return the WordNet tag for verb\n",
        "\n",
        "    elif nltk_tag.startswith('N'):\n",
        "        return wordnet.NOUN\n",
        "        # If the tag starts with 'N', it's a noun, so return the WordNet tag for noun\n",
        "\n",
        "    elif nltk_tag.startswith('R'):\n",
        "        return wordnet.ADV\n",
        "        # If the tag starts with 'R', it's an adverb, so return the WordNet tag for adverb\n",
        "\n",
        "    else:\n",
        "        return None\n",
        "        # If the NLTK tag doesn't start with J, V, N, or R, return None as it doesn't match any WordNet tag categories\n"
      ],
      "metadata": {
        "id": "nWB6XRDuMrxn"
      },
      "execution_count": 13,
      "outputs": []
    },
    {
      "cell_type": "code",
      "source": [
        "# Defines a function to lemmatize each word in a sentence\n",
        "def lemmatize_sentence(sentence):\n",
        "\n",
        "    words = word_tokenize(sentence)\n",
        "    # Tokenizes the sentence into individual words\n",
        "\n",
        "    lemmatized_words = []\n",
        "    # Initializes an empty list to store the lemmatized words\n",
        "\n",
        "    for word, tag in nltk.pos_tag(words):\n",
        "        # Loops through each word and its part-of-speech tag\n",
        "\n",
        "        wordnet_tag = nltk_tag_to_wordnet_tag(tag)\n",
        "        # Converts the POS tag into a WordNet POS tag\n",
        "\n",
        "        if wordnet_tag is None:\n",
        "            # If there's no corresponding WordNet tag, keep the word as is\n",
        "            lemmatized_words.append(word)\n",
        "        else:\n",
        "            # If there is a corresponding WordNet tag, lemmatize the word\n",
        "            lemmatized_words.append(lemmatizer.lemmatize(word, wordnet_tag))\n",
        "\n",
        "    return ' '.join(lemmatized_words)\n",
        "    # Joins the list of lemmatized words into a single string and returns it\n"
      ],
      "metadata": {
        "id": "ruJGhiqsM3LP"
      },
      "execution_count": 14,
      "outputs": []
    },
    {
      "cell_type": "code",
      "source": [
        "# Defines a function to stem each word in a sentence\n",
        "def stem_sentence(sentence):\n",
        "\n",
        "    words = word_tokenize(sentence)\n",
        "    # Tokenizes the sentence into individual words\n",
        "\n",
        "    stemmed_words = [stemmer.stem(word) for word in words]\n",
        "    # Uses a list comprehension to apply the stemmer to each word in the list of words\n",
        "\n",
        "    return ' '.join(stemmed_words)\n",
        "    # Joins the list of stemmed words into a single string and returns it\n"
      ],
      "metadata": {
        "id": "E0de5E6TZX7q"
      },
      "execution_count": 15,
      "outputs": []
    },
    {
      "cell_type": "code",
      "source": [
        "# Apply Lemmatization and Stemming to the review_text column\n",
        "data['lemmatized_review'] = data['review_text'].apply(lemmatize_sentence)\n",
        "data['stemmed_review'] = data['review_text'].apply(stem_sentence)\n",
        "\n",
        "# Display the first few rows to verify\n",
        "print(data[['review_text', 'lemmatized_review', 'stemmed_review']].head())\n"
      ],
      "metadata": {
        "colab": {
          "base_uri": "https://localhost:8080/"
        },
        "id": "_kUy3SqmZyPV",
        "outputId": "d3303b83-ce5a-4498-8866-54d212d62883"
      },
      "execution_count": 16,
      "outputs": [
        {
          "output_type": "stream",
          "name": "stdout",
          "text": [
            "                                                                                                                                                                                                  review_text  \\\n",
            "0  As you get older, you know what you like and what is suitable for your body. I like all Dove products. Gives you that fresh all over, wide awake feeling and no dandruff or flakey skin. No smelly a/pits!   \n",
            "1                             Three gigantic marmite jars that will last probably a whole life! What else would you possibly wish for? Order came in time, when mentioned, safely packed. Very happy with it.   \n",
            "2                                                                                                                                                                                                   Excellent   \n",
            "3                                                                                                                                                                  A great flavour top - up for slow cooking.   \n",
            "4                                                                                                                                                                                   Does what is says it does   \n",
            "\n",
            "                                                                                                                                                                                               lemmatized_review  \\\n",
            "0  As you get old , you know what you like and what be suitable for your body . I like all Dove product . Gives you that fresh all over , wide awake feeling and no dandruff or flakey skin . No smelly a/pits !   \n",
            "1                               Three gigantic marmite jar that will last probably a whole life ! What else would you possibly wish for ? Order come in time , when mention , safely pack . Very happy with it .   \n",
            "2                                                                                                                                                                                                      Excellent   \n",
            "3                                                                                                                                                                    A great flavour top - up for slow cooking .   \n",
            "4                                                                                                                                                                                         Does what be say it do   \n",
            "\n",
            "                                                                                                                                                                                             stemmed_review  \n",
            "0  as you get older , you know what you like and what is suitabl for your bodi . i like all dove product . give you that fresh all over , wide awak feel and no dandruff or flakey skin . no smelli a/pit !  \n",
            "1                                  three gigant marmit jar that will last probabl a whole life ! what els would you possibl wish for ? order came in time , when mention , safe pack . veri happi with it .  \n",
            "2                                                                                                                                                                                                     excel  \n",
            "3                                                                                                                                                                  a great flavour top - up for slow cook .  \n",
            "4                                                                                                                                                                                    doe what is say it doe  \n"
          ]
        }
      ]
    },
    {
      "cell_type": "markdown",
      "source": [
        "The results demonstrate the application of lemmatization and stemming on review texts, highlighting key differences. Lemmatization retains words in a form closer to their lexicographic roots, ensuring grammatical correctness and preserving the original meaning. Stemming simplifies words more aggressively to their stem forms, often leading to non-words, but helps consolidate word variations. Lemmatization is preferable for tasks requiring semantic accuracy and grammatical integrity while stemming is beneficial for search and indexing applications where speed and matching word variations are prioritized. Both techniques reduce the complexity of natural language data, aiding in text analysis by decreasing the number of unique words."
      ],
      "metadata": {
        "id": "rSuIsjTBcwzX"
      }
    },
    {
      "cell_type": "markdown",
      "source": [
        "### Handling Negations\n",
        "\n",
        "Sometimes, negations (like \"not bad\") can be crucial for sentiment analysis. Define a strategy to handle such cases."
      ],
      "metadata": {
        "id": "D-yvGY-VawEr"
      }
    },
    {
      "cell_type": "code",
      "source": [
        "# Define a function to handle negations\n",
        "def handle_negations(text):\n",
        "\n",
        "    # Pattern to identify negations followed by an alphanumeric word\n",
        "    negation_pattern = re.compile(r'\\b(not|no|never|n\\'t)\\s([a-zA-Z]+)')\n",
        "\n",
        "    # Replace the identified pattern with the combined form (e.g., \"not_good\")\n",
        "    modified_text = negation_pattern.sub(lambda x: x.group(1) + '_' + x.group(2), text)\n",
        "\n",
        "    return modified_text\n"
      ],
      "metadata": {
        "id": "CXmqJv6OazJT"
      },
      "execution_count": 17,
      "outputs": []
    },
    {
      "cell_type": "code",
      "source": [
        "# Apply the function to the 'review_text' column\n",
        "data['handled_negations'] = data['review_text'].apply(handle_negations)\n",
        "\n",
        "# Display the first few rows to verify the changes\n",
        "print(data[['review_text', 'handled_negations']].head())\n"
      ],
      "metadata": {
        "colab": {
          "base_uri": "https://localhost:8080/"
        },
        "id": "qwxsITH0ejAB",
        "outputId": "3985ba7b-5915-4e3e-e396-6c5014b814e8"
      },
      "execution_count": 18,
      "outputs": [
        {
          "output_type": "stream",
          "name": "stdout",
          "text": [
            "                                                                                                                                                                                                  review_text  \\\n",
            "0  As you get older, you know what you like and what is suitable for your body. I like all Dove products. Gives you that fresh all over, wide awake feeling and no dandruff or flakey skin. No smelly a/pits!   \n",
            "1                             Three gigantic marmite jars that will last probably a whole life! What else would you possibly wish for? Order came in time, when mentioned, safely packed. Very happy with it.   \n",
            "2                                                                                                                                                                                                   Excellent   \n",
            "3                                                                                                                                                                  A great flavour top - up for slow cooking.   \n",
            "4                                                                                                                                                                                   Does what is says it does   \n",
            "\n",
            "                                                                                                                                                                                            handled_negations  \n",
            "0  As you get older, you know what you like and what is suitable for your body. I like all Dove products. Gives you that fresh all over, wide awake feeling and no_dandruff or flakey skin. No smelly a/pits!  \n",
            "1                             Three gigantic marmite jars that will last probably a whole life! What else would you possibly wish for? Order came in time, when mentioned, safely packed. Very happy with it.  \n",
            "2                                                                                                                                                                                                   Excellent  \n",
            "3                                                                                                                                                                  A great flavour top - up for slow cooking.  \n",
            "4                                                                                                                                                                                   Does what is says it does  \n"
          ]
        }
      ]
    },
    {
      "cell_type": "markdown",
      "source": [
        "The function for handling negations within the dataset's `review_text` column successfully identifies and processes negations by merging them with the following word (e.g., \"no dandruff\" becomes \"no_dandruff\"). This method is selectively applied, altering the text only where negations are present and leaving other parts of the review unchanged. Such targeted modification is crucial for sentiment analysis, as it preserves the original sentiment's context, particularly in cases where negations can significantly alter the sentiment conveyed. This preprocessing step enhances the dataset's readiness for sentiment analysis by ensuring that negations' nuanced effects are accurately represented, thereby improving the analysis's overall accuracy and reliability."
      ],
      "metadata": {
        "id": "-SxUe9rMgyvG"
      }
    },
    {
      "cell_type": "markdown",
      "source": [
        "## Text Vectorization\n",
        "\n",
        "Converting text data into a format suitable for machine learning models. Common approaches are TF-IDF (Term Frequency-Inverse Document Frequency) and using word embeddings from models like Word2Vec and BERT (🤗 Transformers)."
      ],
      "metadata": {
        "id": "OvmnWiw9pC40"
      }
    },
    {
      "cell_type": "markdown",
      "source": [
        "### TF-IDF Vectorization\n"
      ],
      "metadata": {
        "id": "mEdvmwjXqdVW"
      }
    },
    {
      "cell_type": "code",
      "source": [
        "# Import TF-IDF Vectorizer from scikit-learn for text vectorization\n",
        "from sklearn.feature_extraction.text import TfidfVectorizer\n",
        "\n",
        "# Extract the 'review_text' column from the DataFrame to a variable for processing\n",
        "texts = data['review_text']\n",
        "\n",
        "# Initialize the TF-IDF Vectorizer\n",
        "tfidf_vectorizer = TfidfVectorizer()\n",
        "\n",
        "# Fit the vectorizer to the text data and transform the texts into TF-IDF vectors\n",
        "tfidf_vectors = tfidf_vectorizer.fit_transform(texts)\n",
        "# tfidf_vectors is a sparse matrix with TF-IDF values. It can be used for machine learning models\n"
      ],
      "metadata": {
        "id": "pTBHWxAxqmni"
      },
      "execution_count": 19,
      "outputs": []
    },
    {
      "cell_type": "markdown",
      "source": [
        "### BERT (🤗 Transformers) Embedding"
      ],
      "metadata": {
        "id": "MLWUNoqKtKh8"
      }
    },
    {
      "cell_type": "code",
      "source": [
        "# Import BERT tokenizer and model from the Hugging Face Transformers library for NLP tasks\n",
        "from transformers import BertTokenizer, BertModel\n",
        "\n",
        "# Import PyTorch, a deep learning library used for working with BERT and other transformers models\n",
        "import torch\n",
        "\n",
        "# Initialize BERT tokenizer and model\n",
        "bert_tokenizer = BertTokenizer.from_pretrained('bert-base-uncased')\n",
        "bert_model = BertModel.from_pretrained('bert-base-uncased')\n"
      ],
      "metadata": {
        "colab": {
          "base_uri": "https://localhost:8080/",
          "height": 281,
          "referenced_widgets": [
            "78c5723488dc4ffaa31b2d8074d29912",
            "b016a2d392f74c3db777d79c4016af5d",
            "e2efbe7820aa49c49f97d79da0ad7711",
            "566b7f00639549ad990b0c31d720841e",
            "7f740177c11046cab8bd3a2bbe6a527c",
            "8fc14f937f2c4b479df907edc53c61ac",
            "fbc6699b92184bc285e92cbf80c730d0",
            "7d40e3c747844e61b637a55226633491",
            "56b4866fb9104120965e3ae619d03644",
            "144d460850234d258a49e372df15b8c8",
            "e95676de1c9a449f9a2b6d2337ef98ee",
            "56dff6478fa34b8f9568eaea5fe317fb",
            "cc5d102f24b54792986409c638cfa294",
            "df78978228ba4973aa2768100c20ff02",
            "4559873b8cdf40fe95492590746544f7",
            "3ed575dd040347feae02567c2feba891",
            "705c5a26af37469597931d37c2c291f3",
            "8eb9322f2540442191520c5f03dad921",
            "91b13b82b75c4885838ecbfc4a0a5ce4",
            "09cc7b8f21484308b21fe29c91a19adf",
            "1bfcc00f1eb644fea4f71b258bf466eb",
            "d40d5160d794402daad2ae7b7756f85c",
            "b4cee41b683e49bf87c1c2ef9162c3ec",
            "17fdc58fb2ba45bc8cd0bbf385b316b3",
            "532973517d76478d8d9ef158ef39d221",
            "021b92d793204e17a8141334c692a2f4",
            "285b5d093ddf404e9640d5aa0a6a943b",
            "43e39fe60ce242649b486931200fd9f3",
            "595b86f08648467fbc0172e9203ed891",
            "2a85dfa1b1ee4c2a95757cf626df3b37",
            "5d72d15b077f44c0acb3260cf04c8bac",
            "510cc7268dcf41a0b7c2b69440aa4ec7",
            "c1e2d42f410a4836a12302cfd48265d9",
            "550c395a7604433f99d5717c5ba29d88",
            "2d3393e7b15b428abde0850e15fd6b33",
            "e0272a227c8e4fb9bf1beff627e917ee",
            "ffd8f636f2534c448b47f2f7eb7ec68c",
            "df049af974bc44e99364054d3fe2d3d8",
            "ae0bc3c02f1d4c909352d45d1877bb7b",
            "5caf4d46897444d585895bfcd22a191b",
            "26cb4176669d475ea467f63f57d36085",
            "2739deb6f5894629a014a084e94ddfe0",
            "121c42e618bd41e0945e76131f376ab0",
            "128fa0ac2ff64741865014427a9ff4d2",
            "e133497ec4d04ba4964bbd95445fd045",
            "e155fe5c48324270933856a02e58e80d",
            "b48fca1bf21545b69e3730f4e0f92486",
            "997e9eb26fbb49e3b510d7a44ee902b2",
            "11513c803bd248a384165b8a8abe4867",
            "ca01da0d04b24c49a26757b3e637d625",
            "ba12ca92276b40bca65c71a28af95a2d",
            "4a74104203eb4e6392eec4ac71d0c59d",
            "37753411afd24ff2a4e7f04ecbd0ba70",
            "1944ac9ac95247adb954471da4b8f74d",
            "e5408e6c65784fcaba077963c61e88cb"
          ]
        },
        "id": "ZcpAvJxJtLfL",
        "outputId": "73244037-63d5-41f9-d84b-97fcd67ccb56"
      },
      "execution_count": 20,
      "outputs": [
        {
          "output_type": "stream",
          "name": "stderr",
          "text": [
            "/usr/local/lib/python3.10/dist-packages/huggingface_hub/utils/_token.py:88: UserWarning: \n",
            "The secret `HF_TOKEN` does not exist in your Colab secrets.\n",
            "To authenticate with the Hugging Face Hub, create a token in your settings tab (https://huggingface.co/settings/tokens), set it as secret in your Google Colab and restart your session.\n",
            "You will be able to reuse this secret in all of your notebooks.\n",
            "Please note that authentication is recommended but still optional to access public models or datasets.\n",
            "  warnings.warn(\n"
          ]
        },
        {
          "output_type": "display_data",
          "data": {
            "text/plain": [
              "tokenizer_config.json:   0%|          | 0.00/48.0 [00:00<?, ?B/s]"
            ],
            "application/vnd.jupyter.widget-view+json": {
              "version_major": 2,
              "version_minor": 0,
              "model_id": "78c5723488dc4ffaa31b2d8074d29912"
            }
          },
          "metadata": {}
        },
        {
          "output_type": "display_data",
          "data": {
            "text/plain": [
              "vocab.txt:   0%|          | 0.00/232k [00:00<?, ?B/s]"
            ],
            "application/vnd.jupyter.widget-view+json": {
              "version_major": 2,
              "version_minor": 0,
              "model_id": "56dff6478fa34b8f9568eaea5fe317fb"
            }
          },
          "metadata": {}
        },
        {
          "output_type": "display_data",
          "data": {
            "text/plain": [
              "tokenizer.json:   0%|          | 0.00/466k [00:00<?, ?B/s]"
            ],
            "application/vnd.jupyter.widget-view+json": {
              "version_major": 2,
              "version_minor": 0,
              "model_id": "b4cee41b683e49bf87c1c2ef9162c3ec"
            }
          },
          "metadata": {}
        },
        {
          "output_type": "display_data",
          "data": {
            "text/plain": [
              "config.json:   0%|          | 0.00/570 [00:00<?, ?B/s]"
            ],
            "application/vnd.jupyter.widget-view+json": {
              "version_major": 2,
              "version_minor": 0,
              "model_id": "550c395a7604433f99d5717c5ba29d88"
            }
          },
          "metadata": {}
        },
        {
          "output_type": "display_data",
          "data": {
            "text/plain": [
              "model.safetensors:   0%|          | 0.00/440M [00:00<?, ?B/s]"
            ],
            "application/vnd.jupyter.widget-view+json": {
              "version_major": 2,
              "version_minor": 0,
              "model_id": "e133497ec4d04ba4964bbd95445fd045"
            }
          },
          "metadata": {}
        }
      ]
    },
    {
      "cell_type": "markdown",
      "source": [
        "> **BERT:** The operation can be very slow for large datasets due to BERT's computational complexity. Consider using a GPU available with Google Colab for faster results.\n",
        "\n",
        "> NVIDIA Tesla A100: Using Google Colab, the A100 is currently one of the most powerful GPUs offered on cloud platforms. It would provide the best performance for training and fine-tuning BERT models due to its superior computing capabilities, more significant memory, and faster bandwidth."
      ],
      "metadata": {
        "id": "P_nWgGcYvuTs"
      }
    },
    {
      "cell_type": "code",
      "source": [
        "# Define a function to get BERT embeddings for a piece of text\n",
        "def get_bert_embedding(text, tokenizer, model):\n",
        "\n",
        "    # Tokenize the input text, converting it to tensors, with truncation and padding applied as needed\n",
        "    inputs = tokenizer(text, return_tensors='pt', max_length=512, truncation=True, padding=True)\n",
        "\n",
        "    # Disable gradient calculation to save memory and computations during inference\n",
        "    with torch.no_grad():\n",
        "\n",
        "        # Pass the tokenized inputs to the BERT model to obtain embeddings\n",
        "        outputs = model(**inputs)\n",
        "\n",
        "    # Calculate the mean of the last hidden state across the input sequence dimension to get a single embedding vector per input\n",
        "    embeddings = outputs.last_hidden_state.mean(dim=1).squeeze().numpy()\n",
        "\n",
        "    # Return the computed embeddings as a NumPy array\n",
        "    return embeddings\n",
        "\n",
        "# Apply the function to each row in the review_text column\n",
        "data['bert_embedding'] = data['review_text'].apply(lambda x: get_bert_embedding(x, bert_tokenizer, bert_model))\n"
      ],
      "metadata": {
        "id": "g0u8QnUOvOyN"
      },
      "execution_count": 21,
      "outputs": []
    },
    {
      "cell_type": "code",
      "source": [
        "# Import the display function from IPython for displaying various types of content (e.g., DataFrames, images) in Jupyter notebooks\n",
        "from IPython.display import display\n",
        "\n",
        "# Convert 'data' to a pandas DataFrame for better handling\n",
        "data = pd.DataFrame(data)\n",
        "\n",
        "# Display the first few rows for specified columns with better formatting\n",
        "display(data[['review_text', 'bert_embedding']].head().transpose())\n"
      ],
      "metadata": {
        "colab": {
          "base_uri": "https://localhost:8080/",
          "height": 754
        },
        "id": "7lMfoseWzpER",
        "outputId": "9307c50a-963f-4c5b-8add-7f4f528bbfaa"
      },
      "execution_count": 22,
      "outputs": [
        {
          "output_type": "display_data",
          "data": {
            "text/plain": [
              "                                                                                                                                                                                                                                                                                                                                                                                                                                                                                                                                                                                                                                                                                                                                                                                                                                                                                                                                                                                                                                                                                                                                                                                                                                                                                                                          0  \\\n",
              "review_text                                                                                                                                                                                                                                                                                                                                                                                                                                                                                                                                                                                                                                                                                                                                                                                                                                                                                                                                                                                                                                                                                                      As you get older, you know what you like and what is suitable for your body. I like all Dove products. Gives you that fresh all over, wide awake feeling and no dandruff or flakey skin. No smelly a/pits!   \n",
              "bert_embedding  [-0.012894374, -0.033466015, 0.5775001, -0.008548661, 0.4159554, -0.107955515, 0.047968976, 0.6296541, 0.117565855, -0.2813466, 0.13127682, -0.28511518, -0.06539772, 0.31463906, -0.27102605, 0.50063705, 0.21445698, 0.17960623, -0.10273593, 0.6261044, 0.22607489, -0.10568842, -0.13871293, 0.5413264, 0.49035096, 0.02690766, 0.12900479, 0.13980943, -0.10320773, -0.23791888, 0.21250632, 0.15990634, -0.2669117, -0.23586485, -0.058295116, -0.09820992, -0.21120004, -0.13981596, -0.08335457, -0.084047034, -0.7080053, -0.18526103, 0.09819827, 0.081446394, -0.22195283, -0.2718587, 0.18632336, 0.121321, -0.07411146, -0.078617215, 0.014659281, -0.12716474, -0.19413272, -0.34396517, 0.15510508, 0.5391602, -0.025918258, -0.27146566, -0.37028563, -0.1571389, 0.12363938, 0.0047309464, 0.17865723, -0.15237795, 0.12247211, 0.21680929, -0.13355011, -0.018876009, -0.63954496, 0.2554509, -0.23382999, -0.14103307, 0.13640243, -0.14475954, -0.024388498, 0.23285624, -0.15507779, 0.12941442, 0.17981248, 0.27727038, -0.1445299, 0.116310745, -0.058328997, 0.61305, 0.21541345, 0.25480607, -0.064681254, 0.17353287, -0.27817604, 0.62052804, 0.017307954, -0.22454414, 0.4980002, 0.16278258, 0.18932664, -0.28580797, 0.13152409, -0.010175243, -0.016083341, 0.40693268, ...]   \n",
              "\n",
              "                                                                                                                                                                                                                                                                                                                                                                                                                                                                                                                                                                                                                                                                                                                                                                                                                                                                                                                                                                                                                                                                                                                                                                                                                                                                                                                 1  \\\n",
              "review_text                                                                                                                                                                                                                                                                                                                                                                                                                                                                                                                                                                                                                                                                                                                                                                                                                                                                                                                                                                                                                                                                                                                        Three gigantic marmite jars that will last probably a whole life! What else would you possibly wish for? Order came in time, when mentioned, safely packed. Very happy with it.   \n",
              "bert_embedding  [0.13458304, 0.11581127, 0.3441332, -0.058032148, 0.22975887, 0.3184651, 0.07801269, 0.72438467, -0.17957854, -0.11425268, 0.25426176, -0.46887305, -0.20061408, 0.3637709, -0.19671893, 0.385746, -0.09184233, 0.16666919, -0.20291564, 0.29078686, 0.27165696, -0.11319967, -0.23489086, 0.35527673, 0.474822, -0.040610783, -0.0076428796, 0.05237347, -0.045040186, -0.257121, 0.58792233, 0.15223207, 0.02133933, -0.15826593, 0.27664798, -0.22014709, -0.018751493, 0.0898702, -0.35188782, 0.10764181, -0.64548457, -0.36875305, 0.21359596, -0.1530616, -0.3005632, -0.22549282, 0.32153082, -0.20438398, 0.030520812, -0.22647046, -0.29883105, 0.30530128, -0.28018945, -0.33962846, 0.25699216, 0.32651317, -0.4663314, -0.39705175, -0.39332712, -0.019956194, -0.19327755, -0.33615482, 0.11291305, -0.26773125, 0.1726253, 0.1650145, 0.13967402, 0.3832324, -0.48549753, -0.09284822, -0.2619383, -0.5823112, -0.008890231, -0.20703912, -0.2921195, -0.17772953, -0.22414239, -0.12874721, -0.012187726, -0.067776315, -0.27866542, 0.3373554, -0.34874994, 0.22933146, 0.012600565, 0.2692041, -0.19465116, 0.2380865, -0.27501753, 0.6287708, 0.062510885, -0.32223305, 0.34807378, 0.09891029, 0.20040427, -0.16970985, 0.035492726, 0.05080241, -0.14886054, 0.42189115, ...]   \n",
              "\n",
              "                                                                                                                                                                                                                                                                                                                                                                                                                                                                                                                                                                                                                                                                                                                                                                                                                                                                                                                                                                                                                                                                                                                                                                                                                                                                                                                              2  \\\n",
              "review_text                                                                                                                                                                                                                                                                                                                                                                                                                                                                                                                                                                                                                                                                                                                                                                                                                                                                                                                                                                                                                                                                                                                                                                                                                                                                                                           Excellent   \n",
              "bert_embedding  [0.29201838, 0.2998735, -0.24443285, -0.016476939, -0.024466446, -0.25771067, 0.13405164, 0.14172682, 0.18477309, -0.22432488, -0.040148627, 0.03503036, 0.26915526, 0.12542424, -0.0292779, -0.13269217, 0.15799923, 0.08229523, -0.12709174, 0.021225946, -0.02757001, -0.10918486, 0.06694741, 0.18524814, 0.09274755, 0.20396928, 0.09003028, -0.17940085, -0.33819234, -0.08479466, 0.06269323, -0.07045523, 0.056923795, 0.21404953, -0.36055756, -0.32038167, 0.07356016, -0.072996184, -0.311294, -0.14796801, 0.25797907, -0.109526485, 0.20944072, 0.1906258, -0.14694309, 0.044059824, -0.18891592, 0.21393676, 0.056047108, 0.14163728, -0.22695418, 0.3169262, -0.26082215, 0.18197979, 0.17488141, -0.040641353, 0.013912082, -0.037198912, -0.13463758, -0.039275657, -0.15434651, -0.06087788, -0.16287838, 0.07040399, 0.24257238, 0.053229842, 0.36479846, -0.1961164, -0.37811542, 0.42245212, 0.0556569, -0.41254392, 0.23508298, -0.20082074, 0.026387447, -0.053658586, -0.19963636, 0.111305974, -0.08430786, -0.18258683, 0.18265148, 0.19542672, -0.041973066, 0.4849019, 0.08056391, 0.19562203, -0.19304283, -0.19692416, -0.39366212, 0.22581641, 0.09323809, 0.18416603, 0.03610572, 0.10085099, 0.21816337, -0.15769495, -0.17196943, -0.09007618, -0.28808513, -0.48815966, ...]   \n",
              "\n",
              "                                                                                                                                                                                                                                                                                                                                                                                                                                                                                                                                                                                                                                                                                                                                                                                                                                                                                                                                                                                                                                                                                                                                                                                                                                                                                                                    3  \\\n",
              "review_text                                                                                                                                                                                                                                                                                                                                                                                                                                                                                                                                                                                                                                                                                                                                                                                                                                                                                                                                                                                                                                                                                                                                                                                                                                                                A great flavour top - up for slow cooking.   \n",
              "bert_embedding  [-0.07421097, -0.40000704, 0.27019957, 0.16700542, -0.053395998, -0.1233935, -0.21695139, 0.4877553, -0.040795844, -0.1919875, 0.5683321, -0.13277103, 0.15326037, 0.18058003, -0.24763697, -0.032018345, 0.17564352, 0.29079822, 0.019552331, 0.196594, 0.50550085, -0.43453285, -0.16939314, 0.5831832, 0.24943332, 0.13885604, 0.21117187, -0.06706667, 0.13114168, -0.112187296, 0.60787326, 0.36149624, -0.0036314416, -0.39150965, 0.45242903, -0.094242655, 0.22924511, 0.106241874, -0.2820004, 0.14252616, -0.5366891, -0.19625215, 0.573223, -0.011335894, 0.066552445, -0.2067325, -0.16638623, 0.029145854, 0.14591557, -0.43624723, 0.40622994, -0.31213507, -0.16575211, -0.48375443, 0.059880536, 0.5550478, -0.33829212, -0.43843523, -0.2234959, 0.4356992, -0.5218869, 0.016616965, -0.13875516, -0.06112544, 0.19787534, -0.066876404, -0.17839186, 0.18424356, -0.5195903, 0.23983335, -0.40065503, -0.2674168, 0.02312137, -0.031268016, -0.4212654, -0.09580648, 0.09888911, 0.074282385, 0.28791773, 0.1944318, -0.3720164, -0.08774978, -0.10509198, 0.6760327, 0.24872166, 0.45609736, -0.3362187, -0.1548314, -0.3876547, 0.86628264, -0.06653041, -0.039377335, 0.5844154, -0.119861305, -0.0037281886, -0.19092071, 0.10443743, 0.099701576, 0.06198907, 0.19343711, ...]   \n",
              "\n",
              "                                                                                                                                                                                                                                                                                                                                                                                                                                                                                                                                                                                                                                                                                                                                                                                                                                                                                                                                                                                                                                                                                                                                                                                                                                                                                                  4  \n",
              "review_text                                                                                                                                                                                                                                                                                                                                                                                                                                                                                                                                                                                                                                                                                                                                                                                                                                                                                                                                                                                                                                                                                                                                                                                                                                                               Does what is says it does  \n",
              "bert_embedding  [0.31448126, -0.121554114, 0.08247549, -0.2760619, 0.3733873, -0.32440537, 0.512353, 0.29917976, 0.33165, -0.5962382, -0.15178914, -0.18281356, -0.004521724, -0.13762881, -0.71652144, 0.2661477, 0.62813956, 0.07576993, 0.211643, -0.019244246, -0.13767402, 0.26902434, -0.1807715, -0.12493794, 0.5865634, 0.44565997, 0.1551201, -0.50668937, -0.07234681, -0.19723226, 0.2535382, 0.08029683, -0.3144923, -0.23710313, -0.45114642, -0.42930883, 0.0638245, -0.043551177, -0.47986308, 0.050400913, -0.89869833, -0.3873329, 0.09137916, -0.37130556, -0.11543198, -0.23006159, 0.21727857, 0.02165594, 0.04199721, 0.30549327, -0.3889436, 0.052285995, -0.62998825, 0.39584112, 0.0876171, 0.15291345, 0.42872998, -0.3561719, -0.3606502, -0.30025852, 0.06064391, 0.14224629, 0.2449498, -0.074792065, 0.34516475, 0.13370314, -0.13369179, 0.029799588, -0.17908564, 0.35993284, -0.4560313, -0.5783877, 0.01950813, 0.21088144, -0.11812239, -0.30393818, -0.31505132, 0.37060997, 0.27440834, 0.006379813, -0.13915879, 0.4192577, -0.06571477, 0.5471825, 0.25351965, -0.26986235, -0.18640971, 0.2856174, -0.44425604, 0.14515904, 0.43338716, -0.53712064, -0.20061633, -0.24079119, -0.07500007, -0.3020068, -0.15244548, 0.20711751, 0.019145463, 0.411512, ...]  "
            ],
            "text/html": [
              "\n",
              "  <div id=\"df-6b4366d1-8cf6-40d4-8985-f29d3f9a1e65\" class=\"colab-df-container\">\n",
              "    <div>\n",
              "<style scoped>\n",
              "    .dataframe tbody tr th:only-of-type {\n",
              "        vertical-align: middle;\n",
              "    }\n",
              "\n",
              "    .dataframe tbody tr th {\n",
              "        vertical-align: top;\n",
              "    }\n",
              "\n",
              "    .dataframe thead th {\n",
              "        text-align: right;\n",
              "    }\n",
              "</style>\n",
              "<table border=\"1\" class=\"dataframe\">\n",
              "  <thead>\n",
              "    <tr style=\"text-align: right;\">\n",
              "      <th></th>\n",
              "      <th>0</th>\n",
              "      <th>1</th>\n",
              "      <th>2</th>\n",
              "      <th>3</th>\n",
              "      <th>4</th>\n",
              "    </tr>\n",
              "  </thead>\n",
              "  <tbody>\n",
              "    <tr>\n",
              "      <th>review_text</th>\n",
              "      <td>As you get older, you know what you like and what is suitable for your body. I like all Dove products. Gives you that fresh all over, wide awake feeling and no dandruff or flakey skin. No smelly a/pits!</td>\n",
              "      <td>Three gigantic marmite jars that will last probably a whole life! What else would you possibly wish for? Order came in time, when mentioned, safely packed. Very happy with it.</td>\n",
              "      <td>Excellent</td>\n",
              "      <td>A great flavour top - up for slow cooking.</td>\n",
              "      <td>Does what is says it does</td>\n",
              "    </tr>\n",
              "    <tr>\n",
              "      <th>bert_embedding</th>\n",
              "      <td>[-0.012894374, -0.033466015, 0.5775001, -0.008548661, 0.4159554, -0.107955515, 0.047968976, 0.6296541, 0.117565855, -0.2813466, 0.13127682, -0.28511518, -0.06539772, 0.31463906, -0.27102605, 0.50063705, 0.21445698, 0.17960623, -0.10273593, 0.6261044, 0.22607489, -0.10568842, -0.13871293, 0.5413264, 0.49035096, 0.02690766, 0.12900479, 0.13980943, -0.10320773, -0.23791888, 0.21250632, 0.15990634, -0.2669117, -0.23586485, -0.058295116, -0.09820992, -0.21120004, -0.13981596, -0.08335457, -0.084047034, -0.7080053, -0.18526103, 0.09819827, 0.081446394, -0.22195283, -0.2718587, 0.18632336, 0.121321, -0.07411146, -0.078617215, 0.014659281, -0.12716474, -0.19413272, -0.34396517, 0.15510508, 0.5391602, -0.025918258, -0.27146566, -0.37028563, -0.1571389, 0.12363938, 0.0047309464, 0.17865723, -0.15237795, 0.12247211, 0.21680929, -0.13355011, -0.018876009, -0.63954496, 0.2554509, -0.23382999, -0.14103307, 0.13640243, -0.14475954, -0.024388498, 0.23285624, -0.15507779, 0.12941442, 0.17981248, 0.27727038, -0.1445299, 0.116310745, -0.058328997, 0.61305, 0.21541345, 0.25480607, -0.064681254, 0.17353287, -0.27817604, 0.62052804, 0.017307954, -0.22454414, 0.4980002, 0.16278258, 0.18932664, -0.28580797, 0.13152409, -0.010175243, -0.016083341, 0.40693268, ...]</td>\n",
              "      <td>[0.13458304, 0.11581127, 0.3441332, -0.058032148, 0.22975887, 0.3184651, 0.07801269, 0.72438467, -0.17957854, -0.11425268, 0.25426176, -0.46887305, -0.20061408, 0.3637709, -0.19671893, 0.385746, -0.09184233, 0.16666919, -0.20291564, 0.29078686, 0.27165696, -0.11319967, -0.23489086, 0.35527673, 0.474822, -0.040610783, -0.0076428796, 0.05237347, -0.045040186, -0.257121, 0.58792233, 0.15223207, 0.02133933, -0.15826593, 0.27664798, -0.22014709, -0.018751493, 0.0898702, -0.35188782, 0.10764181, -0.64548457, -0.36875305, 0.21359596, -0.1530616, -0.3005632, -0.22549282, 0.32153082, -0.20438398, 0.030520812, -0.22647046, -0.29883105, 0.30530128, -0.28018945, -0.33962846, 0.25699216, 0.32651317, -0.4663314, -0.39705175, -0.39332712, -0.019956194, -0.19327755, -0.33615482, 0.11291305, -0.26773125, 0.1726253, 0.1650145, 0.13967402, 0.3832324, -0.48549753, -0.09284822, -0.2619383, -0.5823112, -0.008890231, -0.20703912, -0.2921195, -0.17772953, -0.22414239, -0.12874721, -0.012187726, -0.067776315, -0.27866542, 0.3373554, -0.34874994, 0.22933146, 0.012600565, 0.2692041, -0.19465116, 0.2380865, -0.27501753, 0.6287708, 0.062510885, -0.32223305, 0.34807378, 0.09891029, 0.20040427, -0.16970985, 0.035492726, 0.05080241, -0.14886054, 0.42189115, ...]</td>\n",
              "      <td>[0.29201838, 0.2998735, -0.24443285, -0.016476939, -0.024466446, -0.25771067, 0.13405164, 0.14172682, 0.18477309, -0.22432488, -0.040148627, 0.03503036, 0.26915526, 0.12542424, -0.0292779, -0.13269217, 0.15799923, 0.08229523, -0.12709174, 0.021225946, -0.02757001, -0.10918486, 0.06694741, 0.18524814, 0.09274755, 0.20396928, 0.09003028, -0.17940085, -0.33819234, -0.08479466, 0.06269323, -0.07045523, 0.056923795, 0.21404953, -0.36055756, -0.32038167, 0.07356016, -0.072996184, -0.311294, -0.14796801, 0.25797907, -0.109526485, 0.20944072, 0.1906258, -0.14694309, 0.044059824, -0.18891592, 0.21393676, 0.056047108, 0.14163728, -0.22695418, 0.3169262, -0.26082215, 0.18197979, 0.17488141, -0.040641353, 0.013912082, -0.037198912, -0.13463758, -0.039275657, -0.15434651, -0.06087788, -0.16287838, 0.07040399, 0.24257238, 0.053229842, 0.36479846, -0.1961164, -0.37811542, 0.42245212, 0.0556569, -0.41254392, 0.23508298, -0.20082074, 0.026387447, -0.053658586, -0.19963636, 0.111305974, -0.08430786, -0.18258683, 0.18265148, 0.19542672, -0.041973066, 0.4849019, 0.08056391, 0.19562203, -0.19304283, -0.19692416, -0.39366212, 0.22581641, 0.09323809, 0.18416603, 0.03610572, 0.10085099, 0.21816337, -0.15769495, -0.17196943, -0.09007618, -0.28808513, -0.48815966, ...]</td>\n",
              "      <td>[-0.07421097, -0.40000704, 0.27019957, 0.16700542, -0.053395998, -0.1233935, -0.21695139, 0.4877553, -0.040795844, -0.1919875, 0.5683321, -0.13277103, 0.15326037, 0.18058003, -0.24763697, -0.032018345, 0.17564352, 0.29079822, 0.019552331, 0.196594, 0.50550085, -0.43453285, -0.16939314, 0.5831832, 0.24943332, 0.13885604, 0.21117187, -0.06706667, 0.13114168, -0.112187296, 0.60787326, 0.36149624, -0.0036314416, -0.39150965, 0.45242903, -0.094242655, 0.22924511, 0.106241874, -0.2820004, 0.14252616, -0.5366891, -0.19625215, 0.573223, -0.011335894, 0.066552445, -0.2067325, -0.16638623, 0.029145854, 0.14591557, -0.43624723, 0.40622994, -0.31213507, -0.16575211, -0.48375443, 0.059880536, 0.5550478, -0.33829212, -0.43843523, -0.2234959, 0.4356992, -0.5218869, 0.016616965, -0.13875516, -0.06112544, 0.19787534, -0.066876404, -0.17839186, 0.18424356, -0.5195903, 0.23983335, -0.40065503, -0.2674168, 0.02312137, -0.031268016, -0.4212654, -0.09580648, 0.09888911, 0.074282385, 0.28791773, 0.1944318, -0.3720164, -0.08774978, -0.10509198, 0.6760327, 0.24872166, 0.45609736, -0.3362187, -0.1548314, -0.3876547, 0.86628264, -0.06653041, -0.039377335, 0.5844154, -0.119861305, -0.0037281886, -0.19092071, 0.10443743, 0.099701576, 0.06198907, 0.19343711, ...]</td>\n",
              "      <td>[0.31448126, -0.121554114, 0.08247549, -0.2760619, 0.3733873, -0.32440537, 0.512353, 0.29917976, 0.33165, -0.5962382, -0.15178914, -0.18281356, -0.004521724, -0.13762881, -0.71652144, 0.2661477, 0.62813956, 0.07576993, 0.211643, -0.019244246, -0.13767402, 0.26902434, -0.1807715, -0.12493794, 0.5865634, 0.44565997, 0.1551201, -0.50668937, -0.07234681, -0.19723226, 0.2535382, 0.08029683, -0.3144923, -0.23710313, -0.45114642, -0.42930883, 0.0638245, -0.043551177, -0.47986308, 0.050400913, -0.89869833, -0.3873329, 0.09137916, -0.37130556, -0.11543198, -0.23006159, 0.21727857, 0.02165594, 0.04199721, 0.30549327, -0.3889436, 0.052285995, -0.62998825, 0.39584112, 0.0876171, 0.15291345, 0.42872998, -0.3561719, -0.3606502, -0.30025852, 0.06064391, 0.14224629, 0.2449498, -0.074792065, 0.34516475, 0.13370314, -0.13369179, 0.029799588, -0.17908564, 0.35993284, -0.4560313, -0.5783877, 0.01950813, 0.21088144, -0.11812239, -0.30393818, -0.31505132, 0.37060997, 0.27440834, 0.006379813, -0.13915879, 0.4192577, -0.06571477, 0.5471825, 0.25351965, -0.26986235, -0.18640971, 0.2856174, -0.44425604, 0.14515904, 0.43338716, -0.53712064, -0.20061633, -0.24079119, -0.07500007, -0.3020068, -0.15244548, 0.20711751, 0.019145463, 0.411512, ...]</td>\n",
              "    </tr>\n",
              "  </tbody>\n",
              "</table>\n",
              "</div>\n",
              "    <div class=\"colab-df-buttons\">\n",
              "\n",
              "  <div class=\"colab-df-container\">\n",
              "    <button class=\"colab-df-convert\" onclick=\"convertToInteractive('df-6b4366d1-8cf6-40d4-8985-f29d3f9a1e65')\"\n",
              "            title=\"Convert this dataframe to an interactive table.\"\n",
              "            style=\"display:none;\">\n",
              "\n",
              "  <svg xmlns=\"http://www.w3.org/2000/svg\" height=\"24px\" viewBox=\"0 -960 960 960\">\n",
              "    <path d=\"M120-120v-720h720v720H120Zm60-500h600v-160H180v160Zm220 220h160v-160H400v160Zm0 220h160v-160H400v160ZM180-400h160v-160H180v160Zm440 0h160v-160H620v160ZM180-180h160v-160H180v160Zm440 0h160v-160H620v160Z\"/>\n",
              "  </svg>\n",
              "    </button>\n",
              "\n",
              "  <style>\n",
              "    .colab-df-container {\n",
              "      display:flex;\n",
              "      gap: 12px;\n",
              "    }\n",
              "\n",
              "    .colab-df-convert {\n",
              "      background-color: #E8F0FE;\n",
              "      border: none;\n",
              "      border-radius: 50%;\n",
              "      cursor: pointer;\n",
              "      display: none;\n",
              "      fill: #1967D2;\n",
              "      height: 32px;\n",
              "      padding: 0 0 0 0;\n",
              "      width: 32px;\n",
              "    }\n",
              "\n",
              "    .colab-df-convert:hover {\n",
              "      background-color: #E2EBFA;\n",
              "      box-shadow: 0px 1px 2px rgba(60, 64, 67, 0.3), 0px 1px 3px 1px rgba(60, 64, 67, 0.15);\n",
              "      fill: #174EA6;\n",
              "    }\n",
              "\n",
              "    .colab-df-buttons div {\n",
              "      margin-bottom: 4px;\n",
              "    }\n",
              "\n",
              "    [theme=dark] .colab-df-convert {\n",
              "      background-color: #3B4455;\n",
              "      fill: #D2E3FC;\n",
              "    }\n",
              "\n",
              "    [theme=dark] .colab-df-convert:hover {\n",
              "      background-color: #434B5C;\n",
              "      box-shadow: 0px 1px 3px 1px rgba(0, 0, 0, 0.15);\n",
              "      filter: drop-shadow(0px 1px 2px rgba(0, 0, 0, 0.3));\n",
              "      fill: #FFFFFF;\n",
              "    }\n",
              "  </style>\n",
              "\n",
              "    <script>\n",
              "      const buttonEl =\n",
              "        document.querySelector('#df-6b4366d1-8cf6-40d4-8985-f29d3f9a1e65 button.colab-df-convert');\n",
              "      buttonEl.style.display =\n",
              "        google.colab.kernel.accessAllowed ? 'block' : 'none';\n",
              "\n",
              "      async function convertToInteractive(key) {\n",
              "        const element = document.querySelector('#df-6b4366d1-8cf6-40d4-8985-f29d3f9a1e65');\n",
              "        const dataTable =\n",
              "          await google.colab.kernel.invokeFunction('convertToInteractive',\n",
              "                                                    [key], {});\n",
              "        if (!dataTable) return;\n",
              "\n",
              "        const docLinkHtml = 'Like what you see? Visit the ' +\n",
              "          '<a target=\"_blank\" href=https://colab.research.google.com/notebooks/data_table.ipynb>data table notebook</a>'\n",
              "          + ' to learn more about interactive tables.';\n",
              "        element.innerHTML = '';\n",
              "        dataTable['output_type'] = 'display_data';\n",
              "        await google.colab.output.renderOutput(dataTable, element);\n",
              "        const docLink = document.createElement('div');\n",
              "        docLink.innerHTML = docLinkHtml;\n",
              "        element.appendChild(docLink);\n",
              "      }\n",
              "    </script>\n",
              "  </div>\n",
              "\n",
              "\n",
              "<div id=\"df-3d604139-3073-40be-b2a4-3f88fb72c433\">\n",
              "  <button class=\"colab-df-quickchart\" onclick=\"quickchart('df-3d604139-3073-40be-b2a4-3f88fb72c433')\"\n",
              "            title=\"Suggest charts\"\n",
              "            style=\"display:none;\">\n",
              "\n",
              "<svg xmlns=\"http://www.w3.org/2000/svg\" height=\"24px\"viewBox=\"0 0 24 24\"\n",
              "     width=\"24px\">\n",
              "    <g>\n",
              "        <path d=\"M19 3H5c-1.1 0-2 .9-2 2v14c0 1.1.9 2 2 2h14c1.1 0 2-.9 2-2V5c0-1.1-.9-2-2-2zM9 17H7v-7h2v7zm4 0h-2V7h2v10zm4 0h-2v-4h2v4z\"/>\n",
              "    </g>\n",
              "</svg>\n",
              "  </button>\n",
              "\n",
              "<style>\n",
              "  .colab-df-quickchart {\n",
              "      --bg-color: #E8F0FE;\n",
              "      --fill-color: #1967D2;\n",
              "      --hover-bg-color: #E2EBFA;\n",
              "      --hover-fill-color: #174EA6;\n",
              "      --disabled-fill-color: #AAA;\n",
              "      --disabled-bg-color: #DDD;\n",
              "  }\n",
              "\n",
              "  [theme=dark] .colab-df-quickchart {\n",
              "      --bg-color: #3B4455;\n",
              "      --fill-color: #D2E3FC;\n",
              "      --hover-bg-color: #434B5C;\n",
              "      --hover-fill-color: #FFFFFF;\n",
              "      --disabled-bg-color: #3B4455;\n",
              "      --disabled-fill-color: #666;\n",
              "  }\n",
              "\n",
              "  .colab-df-quickchart {\n",
              "    background-color: var(--bg-color);\n",
              "    border: none;\n",
              "    border-radius: 50%;\n",
              "    cursor: pointer;\n",
              "    display: none;\n",
              "    fill: var(--fill-color);\n",
              "    height: 32px;\n",
              "    padding: 0;\n",
              "    width: 32px;\n",
              "  }\n",
              "\n",
              "  .colab-df-quickchart:hover {\n",
              "    background-color: var(--hover-bg-color);\n",
              "    box-shadow: 0 1px 2px rgba(60, 64, 67, 0.3), 0 1px 3px 1px rgba(60, 64, 67, 0.15);\n",
              "    fill: var(--button-hover-fill-color);\n",
              "  }\n",
              "\n",
              "  .colab-df-quickchart-complete:disabled,\n",
              "  .colab-df-quickchart-complete:disabled:hover {\n",
              "    background-color: var(--disabled-bg-color);\n",
              "    fill: var(--disabled-fill-color);\n",
              "    box-shadow: none;\n",
              "  }\n",
              "\n",
              "  .colab-df-spinner {\n",
              "    border: 2px solid var(--fill-color);\n",
              "    border-color: transparent;\n",
              "    border-bottom-color: var(--fill-color);\n",
              "    animation:\n",
              "      spin 1s steps(1) infinite;\n",
              "  }\n",
              "\n",
              "  @keyframes spin {\n",
              "    0% {\n",
              "      border-color: transparent;\n",
              "      border-bottom-color: var(--fill-color);\n",
              "      border-left-color: var(--fill-color);\n",
              "    }\n",
              "    20% {\n",
              "      border-color: transparent;\n",
              "      border-left-color: var(--fill-color);\n",
              "      border-top-color: var(--fill-color);\n",
              "    }\n",
              "    30% {\n",
              "      border-color: transparent;\n",
              "      border-left-color: var(--fill-color);\n",
              "      border-top-color: var(--fill-color);\n",
              "      border-right-color: var(--fill-color);\n",
              "    }\n",
              "    40% {\n",
              "      border-color: transparent;\n",
              "      border-right-color: var(--fill-color);\n",
              "      border-top-color: var(--fill-color);\n",
              "    }\n",
              "    60% {\n",
              "      border-color: transparent;\n",
              "      border-right-color: var(--fill-color);\n",
              "    }\n",
              "    80% {\n",
              "      border-color: transparent;\n",
              "      border-right-color: var(--fill-color);\n",
              "      border-bottom-color: var(--fill-color);\n",
              "    }\n",
              "    90% {\n",
              "      border-color: transparent;\n",
              "      border-bottom-color: var(--fill-color);\n",
              "    }\n",
              "  }\n",
              "</style>\n",
              "\n",
              "  <script>\n",
              "    async function quickchart(key) {\n",
              "      const quickchartButtonEl =\n",
              "        document.querySelector('#' + key + ' button');\n",
              "      quickchartButtonEl.disabled = true;  // To prevent multiple clicks.\n",
              "      quickchartButtonEl.classList.add('colab-df-spinner');\n",
              "      try {\n",
              "        const charts = await google.colab.kernel.invokeFunction(\n",
              "            'suggestCharts', [key], {});\n",
              "      } catch (error) {\n",
              "        console.error('Error during call to suggestCharts:', error);\n",
              "      }\n",
              "      quickchartButtonEl.classList.remove('colab-df-spinner');\n",
              "      quickchartButtonEl.classList.add('colab-df-quickchart-complete');\n",
              "    }\n",
              "    (() => {\n",
              "      let quickchartButtonEl =\n",
              "        document.querySelector('#df-3d604139-3073-40be-b2a4-3f88fb72c433 button');\n",
              "      quickchartButtonEl.style.display =\n",
              "        google.colab.kernel.accessAllowed ? 'block' : 'none';\n",
              "    })();\n",
              "  </script>\n",
              "</div>\n",
              "    </div>\n",
              "  </div>\n"
            ],
            "application/vnd.google.colaboratory.intrinsic+json": {
              "type": "dataframe",
              "summary": "{\n  \"name\": \"display(data[['review_text', 'bert_embedding']]\",\n  \"rows\": 2,\n  \"fields\": [\n    {\n      \"column\": 0,\n      \"properties\": {\n        \"dtype\": \"object\",\n        \"semantic_type\": \"\",\n        \"description\": \"\"\n      }\n    },\n    {\n      \"column\": 1,\n      \"properties\": {\n        \"dtype\": \"object\",\n        \"semantic_type\": \"\",\n        \"description\": \"\"\n      }\n    },\n    {\n      \"column\": 2,\n      \"properties\": {\n        \"dtype\": \"object\",\n        \"semantic_type\": \"\",\n        \"description\": \"\"\n      }\n    },\n    {\n      \"column\": 3,\n      \"properties\": {\n        \"dtype\": \"object\",\n        \"semantic_type\": \"\",\n        \"description\": \"\"\n      }\n    },\n    {\n      \"column\": 4,\n      \"properties\": {\n        \"dtype\": \"object\",\n        \"semantic_type\": \"\",\n        \"description\": \"\"\n      }\n    }\n  ]\n}"
            }
          },
          "metadata": {}
        }
      ]
    },
    {
      "cell_type": "markdown",
      "source": [
        "### Train Word2Vec model"
      ],
      "metadata": {
        "id": "5nWmWI9BUbva"
      }
    },
    {
      "cell_type": "code",
      "source": [
        "# Extract the 'review_text' column from the DataFrame to a variable for processing\n",
        "text_data = data['review_text']\n",
        "\n",
        "# Define a function Preprocess text data\n",
        "def preprocess_text(text):\n",
        "\n",
        "    # Convert all characters in the text to lowercase to ensure uniformity\n",
        "    text = text.lower()\n",
        "\n",
        "    # Remove all non-alphabetic characters, keeping spaces\n",
        "    text = re.sub(r'[^a-z\\s]', '', text)\n",
        "\n",
        "    # Tokenize the cleaned text into individual words\n",
        "    tokens = word_tokenize(text)\n",
        "\n",
        "    # Retrieve the set of English stopwords\n",
        "    stop_words = set(stopwords.words('english'))\n",
        "\n",
        "    # Filter out stopwords from tokens\n",
        "    tokens = [word for word in tokens if word not in stop_words]\n",
        "\n",
        "    # Return the list of filtered tokens\n",
        "    return tokens\n",
        "\n",
        "# Apply the preprocessing function to each sentence in the text data\n",
        "preprocessed_text = [preprocess_text(sentence) for sentence in text_data]\n",
        "\n",
        "# Train a Word2Vec model with the preprocessed text\n",
        "word2vec_model = Word2Vec(sentences=preprocessed_text, vector_size=100, window=5, min_count=1, workers=4)\n",
        "# Now we can use word2vec_model to vectorize text as shown in previous examples\n"
      ],
      "metadata": {
        "id": "qOMIYppaPpjG"
      },
      "execution_count": 23,
      "outputs": []
    },
    {
      "cell_type": "markdown",
      "source": [
        "### Use Word2Vec model"
      ],
      "metadata": {
        "id": "1LzNwg58-tIK"
      }
    },
    {
      "cell_type": "code",
      "source": [
        "# Define a function to vectorize text using a trained Word2Vec model\n",
        "def vectorize_text_with_word2vec(text, word2vec_model):\n",
        "    \"\"\"\n",
        "    This function vectorizes a piece of text using a trained Word2Vec model by averaging the vectors of the words in the text\n",
        "    \"\"\"\n",
        "    # Check if the input text is a string\n",
        "    if not isinstance(text, str):\n",
        "\n",
        "        # Return None if input is not a string to indicate error\n",
        "        return None\n",
        "\n",
        "    # Tokenize the text after converting it to lowercase\n",
        "    tokens = word_tokenize(text.lower())\n",
        "\n",
        "    # Filter tokens to ensure they are in the Word2Vec model's vocabulary\n",
        "    tokens = [token for token in tokens if token in word2vec_model.wv.key_to_index]\n",
        "\n",
        "    # Check if there are no valid tokens after filtering\n",
        "    if not tokens:\n",
        "\n",
        "      # Return a zero vector of the model's vector size\n",
        "      return np.zeros(word2vec_model.vector_size)\n",
        "\n",
        "    # Calculate the mean vector by averaging the vectors of the tokens\n",
        "    vector = np.mean([word2vec_model.wv[token] for token in tokens], axis=0)\n",
        "\n",
        "    # Return the averaged vector representation of the text\n",
        "    return vector\n",
        "\n",
        "# Extract the 'review_text' column from the DataFrame to a variable for processing\n",
        "text = data['review_text']\n",
        "\n",
        "# Use .apply() to vectorize each piece of text in the DataFrame's Series\n",
        "vectorized_texts = texts.apply(lambda text: vectorize_text_with_word2vec(text, word2vec_model))\n",
        "# `vectorized_texts` now contains the vectorized representation of each piece of text in the Series.\n",
        "\n",
        "print(vectorized_texts)  # Print the vectorized texts for review\n"
      ],
      "metadata": {
        "colab": {
          "base_uri": "https://localhost:8080/"
        },
        "id": "9E_q6b1c-tuc",
        "outputId": "802c0966-1566-45a9-97cc-3e1f233aa4a7"
      },
      "execution_count": 24,
      "outputs": [
        {
          "output_type": "stream",
          "name": "stdout",
          "text": [
            "0                                 [-0.17983025, 0.20900096, 0.18007076, -0.05505056, 0.13689703, -0.56372046, 0.05483028, 0.79243857, -0.0848952, -0.19619247, -0.2027682, -0.53418994, -0.015119323, 0.24313831, 0.011011173, -0.16380066, 0.028381906, -0.33081722, 0.020336207, -0.524195, 0.18564872, 0.07513388, 0.008626162, -0.08220255, -0.17024049, 0.08738792, -0.31457472, -0.09444319, -0.2913075, -0.045058113, 0.18455759, 0.02857143, 0.24496627, -0.11922023, -0.19600087, 0.3067287, 0.035166055, -0.34513077, -0.3535444, -0.5681062, 0.007466544, -0.23729226, -0.15130335, -0.09110387, 0.43542117, -0.09348773, -0.328953, -0.026732627, 0.16996785, 0.21089205, 0.10342223, -0.27777818, -0.20209214, -0.04069887, -0.11681548, 0.12199128, 0.19435221, 0.032245312, -0.33414918, 0.3375416, 0.014825983, 0.08989349, -0.1278139, 0.06448219, -0.44195303, 0.2058267, 0.16518809, 0.19056793, -0.40702692, 0.5773715, -0.30081323, 0.13477391, 0.2655276, -0.06968811, 0.3601037, 0.17044002, -0.050536197, -0.1387311, -0.34049144, 0.18026395, -0.07757562, 0.034002285, -0.38967457, 0.4430714, -0.24345674, 0.25259942, 0.15116599, 0.4050955, 0.45821264, 0.1235668, 0.4312261, 0.09205977, 0.09915708, 0.18720612, 0.47782436, 0.30834648, 0.17808299, -0.28496677, 0.054262955, -0.03480563]\n",
            "1           [-0.1199716, 0.14107755, 0.11928324, -0.030612309, 0.092901625, -0.3780272, 0.04149779, 0.5320027, -0.061138943, -0.1277949, -0.13495696, -0.36232576, -0.012428932, 0.15760212, 0.0065090484, -0.110093705, 0.019581614, -0.22141185, 0.013397416, -0.35304976, 0.12645884, 0.049363893, 0.009249242, -0.05386675, -0.118690155, 0.058877762, -0.20695482, -0.06729486, -0.19082353, -0.031034851, 0.12706056, 0.014686465, 0.16361842, -0.08111265, -0.13225769, 0.2102662, 0.02376099, -0.22870012, -0.24034196, -0.37995476, 0.0095105115, -0.16266364, -0.097578526, -0.059132393, 0.2914786, -0.060437724, -0.220808, -0.016304627, 0.110190116, 0.14105254, 0.06381585, -0.18438388, -0.13413957, -0.027509812, -0.08151231, 0.08099213, 0.13182944, 0.02150101, -0.22452028, 0.22464697, 0.010872674, 0.06023339, -0.08793137, 0.03985597, -0.2947698, 0.13276987, 0.10966118, 0.13203959, -0.27185988, 0.38305837, -0.20316638, 0.08732026, 0.17614797, -0.040466297, 0.23687744, 0.118345186, -0.035591904, -0.09317154, -0.23133858, 0.1204001, -0.049829483, 0.016716292, -0.26033697, 0.2917149, -0.16684623, 0.16899604, 0.09498425, 0.2704792, 0.30392608, 0.08396463, 0.28466317, 0.06637868, 0.05986054, 0.12573656, 0.3166243, 0.21003214, 0.12209498, -0.19095041, 0.037811, -0.023386091]\n",
            "2                  [-0.13082084, 0.15498672, 0.13342635, -0.030474335, 0.10749614, -0.41212398, 0.029138802, 0.5772212, -0.06940817, -0.13903752, -0.13427463, -0.40250883, -0.007875815, 0.18151696, -0.00331788, -0.12845016, 0.035411954, -0.24956632, 0.026461238, -0.37887055, 0.14433503, 0.049752373, 0.0070258705, -0.0557136, -0.12702604, 0.070739746, -0.21114713, -0.062340602, -0.20768994, -0.032716643, 0.14989683, 0.008553668, 0.16258168, -0.10416045, -0.15218036, 0.2190148, 0.03472489, -0.26620752, -0.26460972, -0.4267295, 0.003396151, -0.18864562, -0.113616265, -0.065205194, 0.3292822, -0.07405, -0.23860724, -0.022333002, 0.10689704, 0.15167165, 0.07314855, -0.20111628, -0.15997772, -0.029866166, -0.09714196, 0.08627267, 0.13980605, 0.02057783, -0.24347852, 0.25519446, 0.013389967, 0.055396613, -0.08672933, 0.044916503, -0.30816147, 0.1404473, 0.1223702, 0.13583678, -0.297614, 0.4281035, -0.23136935, 0.10615509, 0.19995393, -0.038392887, 0.271212, 0.12808837, -0.048344832, -0.08700854, -0.24423932, 0.12723456, -0.065453835, 0.02495182, -0.2914161, 0.32198054, -0.18485473, 0.17216383, 0.10822598, 0.29413518, 0.3285249, 0.08876317, 0.30622673, 0.08274052, 0.07379749, 0.14592126, 0.34380323, 0.23819888, 0.14099218, -0.2000257, 0.043760017, -0.032306716]\n",
            "3                                  [-0.1356538, 0.1694094, 0.13434105, -0.037488915, 0.10690074, -0.4295703, 0.037996095, 0.6154076, -0.0673616, -0.14476696, -0.1492383, -0.41757232, -0.01212794, 0.18413886, 0.008693277, -0.12813357, 0.028068641, -0.25982732, 0.017427022, -0.40479082, 0.14030331, 0.052861124, 0.0067201266, -0.062000938, -0.13015607, 0.06459011, -0.23002438, -0.07483738, -0.22328956, -0.029599335, 0.14798716, 0.013282413, 0.178177, -0.09570883, -0.15123057, 0.236806, 0.028297374, -0.2709646, -0.278109, -0.44091016, 0.00807496, -0.18661103, -0.116109505, -0.06558969, 0.3347692, -0.068491295, -0.2550206, -0.02055493, 0.12616965, 0.1595551, 0.07691668, -0.21287318, -0.15633604, -0.03702544, -0.09203338, 0.09210204, 0.147913, 0.026264805, -0.26029423, 0.25748825, 0.014284087, 0.062419813, -0.098431, 0.050703473, -0.33883065, 0.15543704, 0.13071927, 0.15139519, -0.3160127, 0.4443132, -0.23560917, 0.10106782, 0.19871627, -0.048592556, 0.27612826, 0.13618289, -0.0431755, -0.09667974, -0.260459, 0.1365292, -0.059748165, 0.023394158, -0.30569696, 0.33775795, -0.18860105, 0.1964089, 0.10940794, 0.30656275, 0.36000445, 0.0928888, 0.32657784, 0.07003586, 0.07273442, 0.13948856, 0.3621083, 0.24348815, 0.14402696, -0.2237914, 0.04145639, -0.030570468]\n",
            "4               [-0.14975445, 0.16355254, 0.14422134, -0.04695181, 0.10490607, -0.45176652, 0.043490645, 0.6262856, -0.063185915, -0.14497289, -0.15363662, -0.44068432, -0.024833018, 0.20681761, 0.007894271, -0.1380797, 0.024097355, -0.26325217, 0.01268435, -0.40856463, 0.14944805, 0.04347237, 0.00010889016, -0.071021214, -0.1416117, 0.07384943, -0.2396333, -0.065306395, -0.23446263, -0.03333075, 0.15651675, 0.030904155, 0.19157268, -0.09572312, -0.15673575, 0.24532689, 0.034160983, -0.27599305, -0.285977, -0.45113125, -0.0044283248, -0.19798917, -0.12763742, -0.073623784, 0.3418936, -0.062599055, -0.25560778, -0.02619373, 0.13040677, 0.16514955, 0.08594216, -0.21742262, -0.15670073, -0.026917383, -0.098727554, 0.09627739, 0.1582524, 0.024247007, -0.2723956, 0.28648925, 0.021253448, 0.069361016, -0.1041169, 0.04467679, -0.36045325, 0.16073477, 0.13801458, 0.15117168, -0.3139786, 0.4593471, -0.24401349, 0.10713188, 0.21257178, -0.052021056, 0.29898593, 0.14873463, -0.050345328, -0.11355153, -0.2757545, 0.13684678, -0.05406714, 0.03739674, -0.30800837, 0.35757634, -0.19200161, 0.20545661, 0.11580585, 0.31142756, 0.36860967, 0.09034525, 0.35015368, 0.081630416, 0.08551349, 0.150656, 0.3729821, 0.23623101, 0.14389512, -0.22568256, 0.041572582, -0.032407057]\n",
            "                                                                                                                                                                                                                                                                                                                                                                                                                                                                                                                                                                                                                                                              ...                                                                                                                                                                                                                                                                                                                                                                                                                                                                                                                                                                                                                                                        \n",
            "2496                       [-0.17593713, 0.21611576, 0.17545481, -0.056259967, 0.14253975, -0.56918156, 0.04956658, 0.79913545, -0.08760821, -0.19462828, -0.20152298, -0.5437922, -0.016759647, 0.24387816, 0.013417129, -0.16620842, 0.027365688, -0.33693045, 0.027470453, -0.52910477, 0.187101, 0.06746679, 0.011140686, -0.08412555, -0.17528343, 0.087026216, -0.31256884, -0.096585825, -0.2898749, -0.04097198, 0.18566357, 0.028229956, 0.24551015, -0.12267777, -0.1923271, 0.3049073, 0.034851648, -0.34777054, -0.35668427, -0.5716657, 0.007545218, -0.24039264, -0.1485137, -0.08853698, 0.43670654, -0.09646093, -0.3261377, -0.026437381, 0.17126521, 0.21421021, 0.09868386, -0.2752173, -0.2019234, -0.042160083, -0.111965574, 0.12274762, 0.19538069, 0.033113215, -0.33438456, 0.34554714, 0.01584603, 0.08872958, -0.13422793, 0.06400429, -0.44438815, 0.20658283, 0.17227745, 0.19432688, -0.41027108, 0.58386725, -0.3032797, 0.1315614, 0.26568672, -0.07189931, 0.36044383, 0.17697184, -0.05300918, -0.139307, -0.34092376, 0.18178363, -0.07715291, 0.039900366, -0.3895764, 0.4456613, -0.24598758, 0.25617933, 0.14297473, 0.40731397, 0.4669649, 0.123743035, 0.43299183, 0.09290548, 0.09537898, 0.18881185, 0.47502962, 0.30780238, 0.1788258, -0.28282413, 0.055672713, -0.031523712]\n",
            "2497                     [-0.1355351, 0.16057302, 0.12977408, -0.036203653, 0.102033585, -0.42327738, 0.045278914, 0.5940477, -0.07151291, -0.14136437, -0.15107964, -0.4017569, -0.013636797, 0.18012534, 0.013644433, -0.12452244, 0.020502476, -0.25371283, 0.016320866, -0.39853305, 0.14099135, 0.05584079, 0.014953167, -0.05786955, -0.12785418, 0.0669287, -0.23686121, -0.07760306, -0.2200392, -0.035089698, 0.14824961, 0.019009989, 0.18055627, -0.09333185, -0.14447267, 0.2353654, 0.022963915, -0.2601607, -0.26839942, -0.43218902, 0.010640116, -0.18373108, -0.11339797, -0.06816628, 0.3292719, -0.07169793, -0.25298467, -0.013354828, 0.1280594, 0.15871933, 0.07235965, -0.21206981, -0.15200368, -0.030118724, -0.09034535, 0.09141215, 0.14748016, 0.020028694, -0.25306106, 0.24958548, 0.014974124, 0.06606848, -0.09581142, 0.049131468, -0.3360255, 0.15126309, 0.12202143, 0.14769654, -0.3073459, 0.43094775, -0.2290354, 0.098687515, 0.20069093, -0.05010309, 0.26630715, 0.13159694, -0.03888388, -0.10026551, -0.25470006, 0.13230339, -0.054359667, 0.01795586, -0.29096717, 0.32974908, -0.18473245, 0.1886192, 0.10949241, 0.30525196, 0.34438846, 0.09203624, 0.32187492, 0.07344311, 0.069295, 0.13999584, 0.360023, 0.2363758, 0.13459311, -0.21995094, 0.042565994, -0.02516507]\n",
            "2498        [-0.15892863, 0.18887691, 0.15648015, -0.049430843, 0.12305766, -0.50337654, 0.045242492, 0.7089511, -0.079575785, -0.16696669, -0.17707288, -0.48310605, -0.013148966, 0.21590546, 0.008565245, -0.14723517, 0.028348722, -0.30179438, 0.017819978, -0.4670255, 0.16804884, 0.062796086, 0.008463169, -0.07246966, -0.15366215, 0.0767033, -0.2742883, -0.089931495, -0.26118392, -0.03935637, 0.16608734, 0.023956709, 0.21603246, -0.110304184, -0.17423233, 0.27931976, 0.028950043, -0.31528524, -0.3177024, -0.50995725, 0.011937231, -0.21734321, -0.12757891, -0.078308344, 0.38933015, -0.08062343, -0.2923126, -0.025293546, 0.14432934, 0.19110653, 0.08680397, -0.24548614, -0.17780891, -0.038160216, -0.101270124, 0.107513875, 0.1728262, 0.033382956, -0.29998258, 0.30021837, 0.014886003, 0.08119874, -0.120283425, 0.056236845, -0.39573967, 0.18336543, 0.15072526, 0.17576958, -0.36184898, 0.5148414, -0.2700135, 0.11753129, 0.2359113, -0.060312167, 0.32001773, 0.15759249, -0.04652379, -0.12121335, -0.30397508, 0.1642053, -0.06711233, 0.025700856, -0.34278914, 0.39468938, -0.22055171, 0.22577642, 0.12931699, 0.36126107, 0.41140747, 0.11177253, 0.38138622, 0.08550491, 0.08562768, 0.16733347, 0.42090455, 0.27715498, 0.16007145, -0.25432217, 0.05089538, -0.030813878]\n",
            "2499                      [-0.16488874, 0.20033368, 0.15771368, -0.052859474, 0.13484237, -0.5192379, 0.045649234, 0.73906666, -0.083008654, -0.18015021, -0.18046013, -0.502438, -0.013748382, 0.22108977, 0.012218861, -0.15047279, 0.030093675, -0.31013617, 0.015515822, -0.4888931, 0.16681552, 0.06508352, 0.013934123, -0.07811944, -0.15614207, 0.08304993, -0.2809234, -0.092077956, -0.2751467, -0.041094683, 0.17481104, 0.020848185, 0.21406098, -0.11242998, -0.17813769, 0.28876665, 0.027765855, -0.3206535, -0.33574688, -0.5285111, 0.015676662, -0.22615209, -0.13696787, -0.07921403, 0.40141663, -0.085852206, -0.3039622, -0.023230184, 0.14979902, 0.19468541, 0.09099147, -0.25759226, -0.18855013, -0.041447256, -0.11289058, 0.11514423, 0.18135594, 0.030807659, -0.31148854, 0.3173857, 0.016020024, 0.07926233, -0.11976521, 0.06503932, -0.41122478, 0.19055124, 0.16050667, 0.1853141, -0.38072687, 0.5376016, -0.27457425, 0.12395887, 0.2452087, -0.061776537, 0.3328576, 0.16436744, -0.04282383, -0.1267014, -0.3173769, 0.1716285, -0.068794936, 0.028051049, -0.36237895, 0.4081691, -0.2296119, 0.23318255, 0.1306674, 0.37202492, 0.4270478, 0.107914604, 0.39450794, 0.09015335, 0.08994736, 0.17674842, 0.43866396, 0.28767577, 0.17198472, -0.2650116, 0.056583244, -0.03871489]\n",
            "2500    [-0.12207796, 0.14754365, 0.12310001, -0.03418879, 0.09882485, -0.39710337, 0.038023617, 0.55611867, -0.06418323, -0.13172674, -0.14221556, -0.38023517, -0.014041908, 0.16705208, 0.0075044027, -0.11588012, 0.020095196, -0.23163295, 0.0113222385, -0.3720549, 0.13078634, 0.049725376, 0.009724867, -0.055932187, -0.12316959, 0.05956122, -0.21690497, -0.06913754, -0.20070411, -0.029347062, 0.1318158, 0.013970989, 0.16974618, -0.08421334, -0.13696428, 0.22028361, 0.026477454, -0.23995554, -0.25072572, -0.39906588, 0.009751263, -0.17084382, -0.103088886, -0.062395867, 0.30838943, -0.06532794, -0.23096947, -0.020040054, 0.116130576, 0.14527094, 0.06826342, -0.19605786, -0.13807875, -0.02795219, -0.08579476, 0.08431907, 0.13789758, 0.022305012, -0.23402345, 0.23383646, 0.012218062, 0.060971953, -0.088162504, 0.04178896, -0.30941308, 0.14127825, 0.117724486, 0.1371901, -0.28588977, 0.40122277, -0.21499681, 0.09316054, 0.18702352, -0.04340057, 0.2499717, 0.12520094, -0.0360278, -0.09451858, -0.23890722, 0.12514712, -0.05064313, 0.020374484, -0.27165583, 0.30537993, -0.17377837, 0.1760739, 0.09896094, 0.28229636, 0.3226049, 0.087768614, 0.29964176, 0.068106934, 0.06527201, 0.13039324, 0.3336055, 0.2197363, 0.12797259, -0.19844803, 0.041309092, -0.022939805]\n",
            "Name: review_text, Length: 2501, dtype: object\n"
          ]
        }
      ]
    },
    {
      "cell_type": "markdown",
      "source": [
        "# Advanced Text Preprocessing and Feature Engineering\n",
        "\n"
      ],
      "metadata": {
        "id": "JKzmWnzijrAU"
      }
    },
    {
      "cell_type": "markdown",
      "source": [
        "## Custom Stopword Removal"
      ],
      "metadata": {
        "id": "udfv4ao-kVZk"
      }
    },
    {
      "cell_type": "code",
      "source": [
        "# Define function Removes custom stopwords from a given text\n",
        "def remove_custom_stopwords(text, custom_stopwords):\n",
        "\n",
        "    # Tokenize the input text into individual words\n",
        "    tokens = word_tokenize(text)\n",
        "\n",
        "    # Create a list of tokens that are not in the custom stopwords list, case-insensitively\n",
        "    filtered_tokens = [word for word in tokens if word.lower() not in custom_stopwords]\n",
        "\n",
        "    # Join the filtered tokens back into a string and return it\n",
        "    return ' '.join(filtered_tokens)\n",
        "\n",
        "# Define a list of additional stopwords based on domain knowledge or frequent but less informative words\n",
        "custom_stopwords = ['amazon', 'product', 'really', 'like', 'would', 'buy']\n",
        "\n",
        "# Apply the custom stopword removal function to each review in the dataset, updating the 'processed_reviews' column\n",
        "data['processed_reviews'] = data['review_text'].apply(lambda x: remove_custom_stopwords(x, custom_stopwords))\n"
      ],
      "metadata": {
        "id": "OV1AO-85kIN-"
      },
      "execution_count": 25,
      "outputs": []
    },
    {
      "cell_type": "markdown",
      "source": [
        "## Synonym Handling"
      ],
      "metadata": {
        "id": "2uqdZy6D0r7R"
      }
    },
    {
      "cell_type": "code",
      "source": [
        "# Define a function Replaces words with their most common synonym to reduce feature space\n",
        "def replace_synonyms(text):\n",
        "\n",
        "    # Tokenize the input text into individual words\n",
        "    tokens = word_tokenize(text)\n",
        "\n",
        "    # Initialize an empty list to hold the new tokens after synonym replacement\n",
        "    new_tokens = []\n",
        "\n",
        "    for word in tokens:\n",
        "\n",
        "        # Retrieve a set of synonyms for the current word\n",
        "        synonyms = wordnet.synsets(word)\n",
        "\n",
        "        if synonyms:\n",
        "          # Select the first synonym's first lemma (most common synonym) if synonyms are available\n",
        "          most_common_synonym = synonyms[0].lemmas()[0].name()\n",
        "\n",
        "          # Add the most common synonym to the new tokens list\n",
        "          new_tokens.append(most_common_synonym)\n",
        "\n",
        "        else:\n",
        "\n",
        "          # If no synonyms are found, add the original word to the new tokens list\n",
        "          new_tokens.append(word)\n",
        "\n",
        "    # Join the new tokens back into a string and return it\n",
        "    return ' '.join(new_tokens)\n",
        "\n",
        "# Apply the synonym replacement function to each review in the dataset, updating the 'processed_reviews' column\n",
        "data['processed_reviews'] = data['review_text'].apply(replace_synonyms)\n"
      ],
      "metadata": {
        "id": "IVEF7y5D0sxE"
      },
      "execution_count": 26,
      "outputs": []
    },
    {
      "cell_type": "markdown",
      "source": [
        "## N-Grams"
      ],
      "metadata": {
        "id": "SbMXGPRp1wbr"
      }
    },
    {
      "cell_type": "code",
      "source": [
        "# Import CountVectorizer for text feature extraction\n",
        "from sklearn.feature_extraction.text import CountVectorizer\n",
        "\n",
        "# Initialize CountVectorizer with n-gram range to include both unigrams and bigrams for richer text representation\n",
        "vectorizer = CountVectorizer(ngram_range=(1, 2))\n",
        "\n",
        "# Transform the processed reviews into a sparse matrix of token counts, capturing both unigram and bigram frequencies\n",
        "X = vectorizer.fit_transform(data['processed_reviews'])\n"
      ],
      "metadata": {
        "id": "2uFc9g801zg7"
      },
      "execution_count": 27,
      "outputs": []
    },
    {
      "cell_type": "markdown",
      "source": [
        "## Feature Scaling"
      ],
      "metadata": {
        "id": "ZJz4gSBc2sOR"
      }
    },
    {
      "cell_type": "code",
      "source": [
        "# Import StandardScaler for feature scaling\n",
        "from sklearn.preprocessing import StandardScaler\n",
        "\n",
        "# Initialize a StandardScaler to scale features to zero mean and unit variance\n",
        "scaler = StandardScaler(with_mean=False)\n",
        "\n",
        "# Apply the scaler to the TF-IDF vectors, standardizing them to have zero mean and unit variance\n",
        "tfidf_scaled = scaler.fit_transform(tfidf_vectors)\n"
      ],
      "metadata": {
        "id": "pA_HzuEE2tJN"
      },
      "execution_count": 30,
      "outputs": []
    },
    {
      "cell_type": "markdown",
      "source": [
        "# Model Building and Evaluation"
      ],
      "metadata": {
        "id": "eZcBpz8s3gk5"
      }
    },
    {
      "cell_type": "code",
      "source": [
        "# Import train_test_split to divide data into training and testing sets\n",
        "from sklearn.model_selection import train_test_split\n",
        "\n",
        "# Import LogisticRegression for logistic regression modeling\n",
        "from sklearn.linear_model import LogisticRegression\n",
        "\n",
        "# Import SVC for Support Vector Machine classification\n",
        "from sklearn.svm import SVC\n",
        "\n",
        "# Import RandomForestClassifier for random forest modeling\n",
        "from sklearn.ensemble import RandomForestClassifier\n",
        "\n",
        "# Import metrics for model evaluation\n",
        "from sklearn.metrics import accuracy_score, f1_score, confusion_matrix\n",
        "\n",
        "# Split the standardized TF-IDF vectors and sentiment labels into training and testing sets with a 20% test size\n",
        "X_train, X_test, y_train, y_test = train_test_split(tfidf_scaled, data['sentiment'], test_size=0.2, random_state=42)\n",
        "\n",
        "# Initialize a list of tuples where each tuple contains a model name and its corresponding initialized object\n",
        "models = [\n",
        "\n",
        "    # Logistic regression model\n",
        "    ('Logistic Regression', LogisticRegression()),\n",
        "\n",
        "    # Linear Support Vector Machine model\n",
        "    ('Support Vector Machine', SVC(kernel='linear')),\n",
        "\n",
        "    # Random Forest model\n",
        "    ('Random Forest', RandomForestClassifier())\n",
        "]\n",
        "\n"
      ],
      "metadata": {
        "id": "O6Bk54tc3hMR"
      },
      "execution_count": null,
      "outputs": []
    }
  ]
}