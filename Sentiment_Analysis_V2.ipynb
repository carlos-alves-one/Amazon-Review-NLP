{
  "nbformat": 4,
  "nbformat_minor": 0,
  "metadata": {
    "colab": {
      "provenance": [],
      "toc_visible": true,
      "include_colab_link": true
    },
    "kernelspec": {
      "name": "python3",
      "display_name": "Python 3"
    },
    "language_info": {
      "name": "python"
    },
    "widgets": {
      "application/vnd.jupyter.widget-state+json": {
        "4f501820d86c4ad28d2a41d00dd39625": {
          "model_module": "@jupyter-widgets/controls",
          "model_name": "HBoxModel",
          "model_module_version": "1.5.0",
          "state": {
            "_dom_classes": [],
            "_model_module": "@jupyter-widgets/controls",
            "_model_module_version": "1.5.0",
            "_model_name": "HBoxModel",
            "_view_count": null,
            "_view_module": "@jupyter-widgets/controls",
            "_view_module_version": "1.5.0",
            "_view_name": "HBoxView",
            "box_style": "",
            "children": [
              "IPY_MODEL_b61b0b87405b4bfb944da61517b51ded",
              "IPY_MODEL_24b8910ecdc24545a7385612059b4275",
              "IPY_MODEL_ca40c4be48c64718b2f10ad127a4ab8c"
            ],
            "layout": "IPY_MODEL_3ccc5c90a85749f8b2f8cd8df5da0c2c"
          }
        },
        "b61b0b87405b4bfb944da61517b51ded": {
          "model_module": "@jupyter-widgets/controls",
          "model_name": "HTMLModel",
          "model_module_version": "1.5.0",
          "state": {
            "_dom_classes": [],
            "_model_module": "@jupyter-widgets/controls",
            "_model_module_version": "1.5.0",
            "_model_name": "HTMLModel",
            "_view_count": null,
            "_view_module": "@jupyter-widgets/controls",
            "_view_module_version": "1.5.0",
            "_view_name": "HTMLView",
            "description": "",
            "description_tooltip": null,
            "layout": "IPY_MODEL_a116b53578784c4c8c9abbd57280bd0a",
            "placeholder": "​",
            "style": "IPY_MODEL_ea9b4898727444918da9be916973820b",
            "value": "tokenizer_config.json: 100%"
          }
        },
        "24b8910ecdc24545a7385612059b4275": {
          "model_module": "@jupyter-widgets/controls",
          "model_name": "FloatProgressModel",
          "model_module_version": "1.5.0",
          "state": {
            "_dom_classes": [],
            "_model_module": "@jupyter-widgets/controls",
            "_model_module_version": "1.5.0",
            "_model_name": "FloatProgressModel",
            "_view_count": null,
            "_view_module": "@jupyter-widgets/controls",
            "_view_module_version": "1.5.0",
            "_view_name": "ProgressView",
            "bar_style": "success",
            "description": "",
            "description_tooltip": null,
            "layout": "IPY_MODEL_0d12b89bbe4348999a8c797d4667adfc",
            "max": 48,
            "min": 0,
            "orientation": "horizontal",
            "style": "IPY_MODEL_f28fe866fa29432bb8a905654fe95f13",
            "value": 48
          }
        },
        "ca40c4be48c64718b2f10ad127a4ab8c": {
          "model_module": "@jupyter-widgets/controls",
          "model_name": "HTMLModel",
          "model_module_version": "1.5.0",
          "state": {
            "_dom_classes": [],
            "_model_module": "@jupyter-widgets/controls",
            "_model_module_version": "1.5.0",
            "_model_name": "HTMLModel",
            "_view_count": null,
            "_view_module": "@jupyter-widgets/controls",
            "_view_module_version": "1.5.0",
            "_view_name": "HTMLView",
            "description": "",
            "description_tooltip": null,
            "layout": "IPY_MODEL_a5f855199712432983c7897b1f418714",
            "placeholder": "​",
            "style": "IPY_MODEL_9da906bbd2c4425598c419b035ffa8e1",
            "value": " 48.0/48.0 [00:00&lt;00:00, 2.31kB/s]"
          }
        },
        "3ccc5c90a85749f8b2f8cd8df5da0c2c": {
          "model_module": "@jupyter-widgets/base",
          "model_name": "LayoutModel",
          "model_module_version": "1.2.0",
          "state": {
            "_model_module": "@jupyter-widgets/base",
            "_model_module_version": "1.2.0",
            "_model_name": "LayoutModel",
            "_view_count": null,
            "_view_module": "@jupyter-widgets/base",
            "_view_module_version": "1.2.0",
            "_view_name": "LayoutView",
            "align_content": null,
            "align_items": null,
            "align_self": null,
            "border": null,
            "bottom": null,
            "display": null,
            "flex": null,
            "flex_flow": null,
            "grid_area": null,
            "grid_auto_columns": null,
            "grid_auto_flow": null,
            "grid_auto_rows": null,
            "grid_column": null,
            "grid_gap": null,
            "grid_row": null,
            "grid_template_areas": null,
            "grid_template_columns": null,
            "grid_template_rows": null,
            "height": null,
            "justify_content": null,
            "justify_items": null,
            "left": null,
            "margin": null,
            "max_height": null,
            "max_width": null,
            "min_height": null,
            "min_width": null,
            "object_fit": null,
            "object_position": null,
            "order": null,
            "overflow": null,
            "overflow_x": null,
            "overflow_y": null,
            "padding": null,
            "right": null,
            "top": null,
            "visibility": null,
            "width": null
          }
        },
        "a116b53578784c4c8c9abbd57280bd0a": {
          "model_module": "@jupyter-widgets/base",
          "model_name": "LayoutModel",
          "model_module_version": "1.2.0",
          "state": {
            "_model_module": "@jupyter-widgets/base",
            "_model_module_version": "1.2.0",
            "_model_name": "LayoutModel",
            "_view_count": null,
            "_view_module": "@jupyter-widgets/base",
            "_view_module_version": "1.2.0",
            "_view_name": "LayoutView",
            "align_content": null,
            "align_items": null,
            "align_self": null,
            "border": null,
            "bottom": null,
            "display": null,
            "flex": null,
            "flex_flow": null,
            "grid_area": null,
            "grid_auto_columns": null,
            "grid_auto_flow": null,
            "grid_auto_rows": null,
            "grid_column": null,
            "grid_gap": null,
            "grid_row": null,
            "grid_template_areas": null,
            "grid_template_columns": null,
            "grid_template_rows": null,
            "height": null,
            "justify_content": null,
            "justify_items": null,
            "left": null,
            "margin": null,
            "max_height": null,
            "max_width": null,
            "min_height": null,
            "min_width": null,
            "object_fit": null,
            "object_position": null,
            "order": null,
            "overflow": null,
            "overflow_x": null,
            "overflow_y": null,
            "padding": null,
            "right": null,
            "top": null,
            "visibility": null,
            "width": null
          }
        },
        "ea9b4898727444918da9be916973820b": {
          "model_module": "@jupyter-widgets/controls",
          "model_name": "DescriptionStyleModel",
          "model_module_version": "1.5.0",
          "state": {
            "_model_module": "@jupyter-widgets/controls",
            "_model_module_version": "1.5.0",
            "_model_name": "DescriptionStyleModel",
            "_view_count": null,
            "_view_module": "@jupyter-widgets/base",
            "_view_module_version": "1.2.0",
            "_view_name": "StyleView",
            "description_width": ""
          }
        },
        "0d12b89bbe4348999a8c797d4667adfc": {
          "model_module": "@jupyter-widgets/base",
          "model_name": "LayoutModel",
          "model_module_version": "1.2.0",
          "state": {
            "_model_module": "@jupyter-widgets/base",
            "_model_module_version": "1.2.0",
            "_model_name": "LayoutModel",
            "_view_count": null,
            "_view_module": "@jupyter-widgets/base",
            "_view_module_version": "1.2.0",
            "_view_name": "LayoutView",
            "align_content": null,
            "align_items": null,
            "align_self": null,
            "border": null,
            "bottom": null,
            "display": null,
            "flex": null,
            "flex_flow": null,
            "grid_area": null,
            "grid_auto_columns": null,
            "grid_auto_flow": null,
            "grid_auto_rows": null,
            "grid_column": null,
            "grid_gap": null,
            "grid_row": null,
            "grid_template_areas": null,
            "grid_template_columns": null,
            "grid_template_rows": null,
            "height": null,
            "justify_content": null,
            "justify_items": null,
            "left": null,
            "margin": null,
            "max_height": null,
            "max_width": null,
            "min_height": null,
            "min_width": null,
            "object_fit": null,
            "object_position": null,
            "order": null,
            "overflow": null,
            "overflow_x": null,
            "overflow_y": null,
            "padding": null,
            "right": null,
            "top": null,
            "visibility": null,
            "width": null
          }
        },
        "f28fe866fa29432bb8a905654fe95f13": {
          "model_module": "@jupyter-widgets/controls",
          "model_name": "ProgressStyleModel",
          "model_module_version": "1.5.0",
          "state": {
            "_model_module": "@jupyter-widgets/controls",
            "_model_module_version": "1.5.0",
            "_model_name": "ProgressStyleModel",
            "_view_count": null,
            "_view_module": "@jupyter-widgets/base",
            "_view_module_version": "1.2.0",
            "_view_name": "StyleView",
            "bar_color": null,
            "description_width": ""
          }
        },
        "a5f855199712432983c7897b1f418714": {
          "model_module": "@jupyter-widgets/base",
          "model_name": "LayoutModel",
          "model_module_version": "1.2.0",
          "state": {
            "_model_module": "@jupyter-widgets/base",
            "_model_module_version": "1.2.0",
            "_model_name": "LayoutModel",
            "_view_count": null,
            "_view_module": "@jupyter-widgets/base",
            "_view_module_version": "1.2.0",
            "_view_name": "LayoutView",
            "align_content": null,
            "align_items": null,
            "align_self": null,
            "border": null,
            "bottom": null,
            "display": null,
            "flex": null,
            "flex_flow": null,
            "grid_area": null,
            "grid_auto_columns": null,
            "grid_auto_flow": null,
            "grid_auto_rows": null,
            "grid_column": null,
            "grid_gap": null,
            "grid_row": null,
            "grid_template_areas": null,
            "grid_template_columns": null,
            "grid_template_rows": null,
            "height": null,
            "justify_content": null,
            "justify_items": null,
            "left": null,
            "margin": null,
            "max_height": null,
            "max_width": null,
            "min_height": null,
            "min_width": null,
            "object_fit": null,
            "object_position": null,
            "order": null,
            "overflow": null,
            "overflow_x": null,
            "overflow_y": null,
            "padding": null,
            "right": null,
            "top": null,
            "visibility": null,
            "width": null
          }
        },
        "9da906bbd2c4425598c419b035ffa8e1": {
          "model_module": "@jupyter-widgets/controls",
          "model_name": "DescriptionStyleModel",
          "model_module_version": "1.5.0",
          "state": {
            "_model_module": "@jupyter-widgets/controls",
            "_model_module_version": "1.5.0",
            "_model_name": "DescriptionStyleModel",
            "_view_count": null,
            "_view_module": "@jupyter-widgets/base",
            "_view_module_version": "1.2.0",
            "_view_name": "StyleView",
            "description_width": ""
          }
        },
        "d40d72465cb245efb43cb1cedd05d63e": {
          "model_module": "@jupyter-widgets/controls",
          "model_name": "HBoxModel",
          "model_module_version": "1.5.0",
          "state": {
            "_dom_classes": [],
            "_model_module": "@jupyter-widgets/controls",
            "_model_module_version": "1.5.0",
            "_model_name": "HBoxModel",
            "_view_count": null,
            "_view_module": "@jupyter-widgets/controls",
            "_view_module_version": "1.5.0",
            "_view_name": "HBoxView",
            "box_style": "",
            "children": [
              "IPY_MODEL_fdf1144e6eaa46428c3bcf10730e2d2e",
              "IPY_MODEL_7eb75fd1d89449d59de00d80d8c59542",
              "IPY_MODEL_e73476e134db447fab37e4360c7ae28a"
            ],
            "layout": "IPY_MODEL_33e5b2752d0f4b418e97a0bfe31af19a"
          }
        },
        "fdf1144e6eaa46428c3bcf10730e2d2e": {
          "model_module": "@jupyter-widgets/controls",
          "model_name": "HTMLModel",
          "model_module_version": "1.5.0",
          "state": {
            "_dom_classes": [],
            "_model_module": "@jupyter-widgets/controls",
            "_model_module_version": "1.5.0",
            "_model_name": "HTMLModel",
            "_view_count": null,
            "_view_module": "@jupyter-widgets/controls",
            "_view_module_version": "1.5.0",
            "_view_name": "HTMLView",
            "description": "",
            "description_tooltip": null,
            "layout": "IPY_MODEL_da5c4755d4b54466a8692943ba521c86",
            "placeholder": "​",
            "style": "IPY_MODEL_c4bd10aca5eb48dd92a671dd2b40212a",
            "value": "vocab.txt: 100%"
          }
        },
        "7eb75fd1d89449d59de00d80d8c59542": {
          "model_module": "@jupyter-widgets/controls",
          "model_name": "FloatProgressModel",
          "model_module_version": "1.5.0",
          "state": {
            "_dom_classes": [],
            "_model_module": "@jupyter-widgets/controls",
            "_model_module_version": "1.5.0",
            "_model_name": "FloatProgressModel",
            "_view_count": null,
            "_view_module": "@jupyter-widgets/controls",
            "_view_module_version": "1.5.0",
            "_view_name": "ProgressView",
            "bar_style": "success",
            "description": "",
            "description_tooltip": null,
            "layout": "IPY_MODEL_b573ebd8b7fc47ac93c03630cef40ad6",
            "max": 231508,
            "min": 0,
            "orientation": "horizontal",
            "style": "IPY_MODEL_9da3215a27cf4bdc9c9f08b74692248e",
            "value": 231508
          }
        },
        "e73476e134db447fab37e4360c7ae28a": {
          "model_module": "@jupyter-widgets/controls",
          "model_name": "HTMLModel",
          "model_module_version": "1.5.0",
          "state": {
            "_dom_classes": [],
            "_model_module": "@jupyter-widgets/controls",
            "_model_module_version": "1.5.0",
            "_model_name": "HTMLModel",
            "_view_count": null,
            "_view_module": "@jupyter-widgets/controls",
            "_view_module_version": "1.5.0",
            "_view_name": "HTMLView",
            "description": "",
            "description_tooltip": null,
            "layout": "IPY_MODEL_6042698dc9774111a6a9fe5d1ddd8e2a",
            "placeholder": "​",
            "style": "IPY_MODEL_264d158cf9d642ddbbe852d12f505107",
            "value": " 232k/232k [00:00&lt;00:00, 580kB/s]"
          }
        },
        "33e5b2752d0f4b418e97a0bfe31af19a": {
          "model_module": "@jupyter-widgets/base",
          "model_name": "LayoutModel",
          "model_module_version": "1.2.0",
          "state": {
            "_model_module": "@jupyter-widgets/base",
            "_model_module_version": "1.2.0",
            "_model_name": "LayoutModel",
            "_view_count": null,
            "_view_module": "@jupyter-widgets/base",
            "_view_module_version": "1.2.0",
            "_view_name": "LayoutView",
            "align_content": null,
            "align_items": null,
            "align_self": null,
            "border": null,
            "bottom": null,
            "display": null,
            "flex": null,
            "flex_flow": null,
            "grid_area": null,
            "grid_auto_columns": null,
            "grid_auto_flow": null,
            "grid_auto_rows": null,
            "grid_column": null,
            "grid_gap": null,
            "grid_row": null,
            "grid_template_areas": null,
            "grid_template_columns": null,
            "grid_template_rows": null,
            "height": null,
            "justify_content": null,
            "justify_items": null,
            "left": null,
            "margin": null,
            "max_height": null,
            "max_width": null,
            "min_height": null,
            "min_width": null,
            "object_fit": null,
            "object_position": null,
            "order": null,
            "overflow": null,
            "overflow_x": null,
            "overflow_y": null,
            "padding": null,
            "right": null,
            "top": null,
            "visibility": null,
            "width": null
          }
        },
        "da5c4755d4b54466a8692943ba521c86": {
          "model_module": "@jupyter-widgets/base",
          "model_name": "LayoutModel",
          "model_module_version": "1.2.0",
          "state": {
            "_model_module": "@jupyter-widgets/base",
            "_model_module_version": "1.2.0",
            "_model_name": "LayoutModel",
            "_view_count": null,
            "_view_module": "@jupyter-widgets/base",
            "_view_module_version": "1.2.0",
            "_view_name": "LayoutView",
            "align_content": null,
            "align_items": null,
            "align_self": null,
            "border": null,
            "bottom": null,
            "display": null,
            "flex": null,
            "flex_flow": null,
            "grid_area": null,
            "grid_auto_columns": null,
            "grid_auto_flow": null,
            "grid_auto_rows": null,
            "grid_column": null,
            "grid_gap": null,
            "grid_row": null,
            "grid_template_areas": null,
            "grid_template_columns": null,
            "grid_template_rows": null,
            "height": null,
            "justify_content": null,
            "justify_items": null,
            "left": null,
            "margin": null,
            "max_height": null,
            "max_width": null,
            "min_height": null,
            "min_width": null,
            "object_fit": null,
            "object_position": null,
            "order": null,
            "overflow": null,
            "overflow_x": null,
            "overflow_y": null,
            "padding": null,
            "right": null,
            "top": null,
            "visibility": null,
            "width": null
          }
        },
        "c4bd10aca5eb48dd92a671dd2b40212a": {
          "model_module": "@jupyter-widgets/controls",
          "model_name": "DescriptionStyleModel",
          "model_module_version": "1.5.0",
          "state": {
            "_model_module": "@jupyter-widgets/controls",
            "_model_module_version": "1.5.0",
            "_model_name": "DescriptionStyleModel",
            "_view_count": null,
            "_view_module": "@jupyter-widgets/base",
            "_view_module_version": "1.2.0",
            "_view_name": "StyleView",
            "description_width": ""
          }
        },
        "b573ebd8b7fc47ac93c03630cef40ad6": {
          "model_module": "@jupyter-widgets/base",
          "model_name": "LayoutModel",
          "model_module_version": "1.2.0",
          "state": {
            "_model_module": "@jupyter-widgets/base",
            "_model_module_version": "1.2.0",
            "_model_name": "LayoutModel",
            "_view_count": null,
            "_view_module": "@jupyter-widgets/base",
            "_view_module_version": "1.2.0",
            "_view_name": "LayoutView",
            "align_content": null,
            "align_items": null,
            "align_self": null,
            "border": null,
            "bottom": null,
            "display": null,
            "flex": null,
            "flex_flow": null,
            "grid_area": null,
            "grid_auto_columns": null,
            "grid_auto_flow": null,
            "grid_auto_rows": null,
            "grid_column": null,
            "grid_gap": null,
            "grid_row": null,
            "grid_template_areas": null,
            "grid_template_columns": null,
            "grid_template_rows": null,
            "height": null,
            "justify_content": null,
            "justify_items": null,
            "left": null,
            "margin": null,
            "max_height": null,
            "max_width": null,
            "min_height": null,
            "min_width": null,
            "object_fit": null,
            "object_position": null,
            "order": null,
            "overflow": null,
            "overflow_x": null,
            "overflow_y": null,
            "padding": null,
            "right": null,
            "top": null,
            "visibility": null,
            "width": null
          }
        },
        "9da3215a27cf4bdc9c9f08b74692248e": {
          "model_module": "@jupyter-widgets/controls",
          "model_name": "ProgressStyleModel",
          "model_module_version": "1.5.0",
          "state": {
            "_model_module": "@jupyter-widgets/controls",
            "_model_module_version": "1.5.0",
            "_model_name": "ProgressStyleModel",
            "_view_count": null,
            "_view_module": "@jupyter-widgets/base",
            "_view_module_version": "1.2.0",
            "_view_name": "StyleView",
            "bar_color": null,
            "description_width": ""
          }
        },
        "6042698dc9774111a6a9fe5d1ddd8e2a": {
          "model_module": "@jupyter-widgets/base",
          "model_name": "LayoutModel",
          "model_module_version": "1.2.0",
          "state": {
            "_model_module": "@jupyter-widgets/base",
            "_model_module_version": "1.2.0",
            "_model_name": "LayoutModel",
            "_view_count": null,
            "_view_module": "@jupyter-widgets/base",
            "_view_module_version": "1.2.0",
            "_view_name": "LayoutView",
            "align_content": null,
            "align_items": null,
            "align_self": null,
            "border": null,
            "bottom": null,
            "display": null,
            "flex": null,
            "flex_flow": null,
            "grid_area": null,
            "grid_auto_columns": null,
            "grid_auto_flow": null,
            "grid_auto_rows": null,
            "grid_column": null,
            "grid_gap": null,
            "grid_row": null,
            "grid_template_areas": null,
            "grid_template_columns": null,
            "grid_template_rows": null,
            "height": null,
            "justify_content": null,
            "justify_items": null,
            "left": null,
            "margin": null,
            "max_height": null,
            "max_width": null,
            "min_height": null,
            "min_width": null,
            "object_fit": null,
            "object_position": null,
            "order": null,
            "overflow": null,
            "overflow_x": null,
            "overflow_y": null,
            "padding": null,
            "right": null,
            "top": null,
            "visibility": null,
            "width": null
          }
        },
        "264d158cf9d642ddbbe852d12f505107": {
          "model_module": "@jupyter-widgets/controls",
          "model_name": "DescriptionStyleModel",
          "model_module_version": "1.5.0",
          "state": {
            "_model_module": "@jupyter-widgets/controls",
            "_model_module_version": "1.5.0",
            "_model_name": "DescriptionStyleModel",
            "_view_count": null,
            "_view_module": "@jupyter-widgets/base",
            "_view_module_version": "1.2.0",
            "_view_name": "StyleView",
            "description_width": ""
          }
        },
        "c8589277bd1243f5aae9769e2310dc37": {
          "model_module": "@jupyter-widgets/controls",
          "model_name": "HBoxModel",
          "model_module_version": "1.5.0",
          "state": {
            "_dom_classes": [],
            "_model_module": "@jupyter-widgets/controls",
            "_model_module_version": "1.5.0",
            "_model_name": "HBoxModel",
            "_view_count": null,
            "_view_module": "@jupyter-widgets/controls",
            "_view_module_version": "1.5.0",
            "_view_name": "HBoxView",
            "box_style": "",
            "children": [
              "IPY_MODEL_b325ce838a4c4b999ea95d5b9997b755",
              "IPY_MODEL_8dd10fabf71a452f922e6f9d32c0c37f",
              "IPY_MODEL_0409da2a3ef641dd9fca9eadaf18ef7b"
            ],
            "layout": "IPY_MODEL_f7e82e394b0c430ab05c30ea0de0de76"
          }
        },
        "b325ce838a4c4b999ea95d5b9997b755": {
          "model_module": "@jupyter-widgets/controls",
          "model_name": "HTMLModel",
          "model_module_version": "1.5.0",
          "state": {
            "_dom_classes": [],
            "_model_module": "@jupyter-widgets/controls",
            "_model_module_version": "1.5.0",
            "_model_name": "HTMLModel",
            "_view_count": null,
            "_view_module": "@jupyter-widgets/controls",
            "_view_module_version": "1.5.0",
            "_view_name": "HTMLView",
            "description": "",
            "description_tooltip": null,
            "layout": "IPY_MODEL_4f4a9415b1074e3a800fc9bc26923533",
            "placeholder": "​",
            "style": "IPY_MODEL_adc16f9e9dcc475da68f22529ba9395e",
            "value": "tokenizer.json: 100%"
          }
        },
        "8dd10fabf71a452f922e6f9d32c0c37f": {
          "model_module": "@jupyter-widgets/controls",
          "model_name": "FloatProgressModel",
          "model_module_version": "1.5.0",
          "state": {
            "_dom_classes": [],
            "_model_module": "@jupyter-widgets/controls",
            "_model_module_version": "1.5.0",
            "_model_name": "FloatProgressModel",
            "_view_count": null,
            "_view_module": "@jupyter-widgets/controls",
            "_view_module_version": "1.5.0",
            "_view_name": "ProgressView",
            "bar_style": "success",
            "description": "",
            "description_tooltip": null,
            "layout": "IPY_MODEL_fd8a37919b8d4638bdace47e5a4ad7f4",
            "max": 466062,
            "min": 0,
            "orientation": "horizontal",
            "style": "IPY_MODEL_10ca9896ee4e4e45a8e90c99e4548e18",
            "value": 466062
          }
        },
        "0409da2a3ef641dd9fca9eadaf18ef7b": {
          "model_module": "@jupyter-widgets/controls",
          "model_name": "HTMLModel",
          "model_module_version": "1.5.0",
          "state": {
            "_dom_classes": [],
            "_model_module": "@jupyter-widgets/controls",
            "_model_module_version": "1.5.0",
            "_model_name": "HTMLModel",
            "_view_count": null,
            "_view_module": "@jupyter-widgets/controls",
            "_view_module_version": "1.5.0",
            "_view_name": "HTMLView",
            "description": "",
            "description_tooltip": null,
            "layout": "IPY_MODEL_4bb1f5ff2308461386065ecf8aa015ac",
            "placeholder": "​",
            "style": "IPY_MODEL_dd82de8c468347e2a003e7417e88da30",
            "value": " 466k/466k [00:00&lt;00:00, 778kB/s]"
          }
        },
        "f7e82e394b0c430ab05c30ea0de0de76": {
          "model_module": "@jupyter-widgets/base",
          "model_name": "LayoutModel",
          "model_module_version": "1.2.0",
          "state": {
            "_model_module": "@jupyter-widgets/base",
            "_model_module_version": "1.2.0",
            "_model_name": "LayoutModel",
            "_view_count": null,
            "_view_module": "@jupyter-widgets/base",
            "_view_module_version": "1.2.0",
            "_view_name": "LayoutView",
            "align_content": null,
            "align_items": null,
            "align_self": null,
            "border": null,
            "bottom": null,
            "display": null,
            "flex": null,
            "flex_flow": null,
            "grid_area": null,
            "grid_auto_columns": null,
            "grid_auto_flow": null,
            "grid_auto_rows": null,
            "grid_column": null,
            "grid_gap": null,
            "grid_row": null,
            "grid_template_areas": null,
            "grid_template_columns": null,
            "grid_template_rows": null,
            "height": null,
            "justify_content": null,
            "justify_items": null,
            "left": null,
            "margin": null,
            "max_height": null,
            "max_width": null,
            "min_height": null,
            "min_width": null,
            "object_fit": null,
            "object_position": null,
            "order": null,
            "overflow": null,
            "overflow_x": null,
            "overflow_y": null,
            "padding": null,
            "right": null,
            "top": null,
            "visibility": null,
            "width": null
          }
        },
        "4f4a9415b1074e3a800fc9bc26923533": {
          "model_module": "@jupyter-widgets/base",
          "model_name": "LayoutModel",
          "model_module_version": "1.2.0",
          "state": {
            "_model_module": "@jupyter-widgets/base",
            "_model_module_version": "1.2.0",
            "_model_name": "LayoutModel",
            "_view_count": null,
            "_view_module": "@jupyter-widgets/base",
            "_view_module_version": "1.2.0",
            "_view_name": "LayoutView",
            "align_content": null,
            "align_items": null,
            "align_self": null,
            "border": null,
            "bottom": null,
            "display": null,
            "flex": null,
            "flex_flow": null,
            "grid_area": null,
            "grid_auto_columns": null,
            "grid_auto_flow": null,
            "grid_auto_rows": null,
            "grid_column": null,
            "grid_gap": null,
            "grid_row": null,
            "grid_template_areas": null,
            "grid_template_columns": null,
            "grid_template_rows": null,
            "height": null,
            "justify_content": null,
            "justify_items": null,
            "left": null,
            "margin": null,
            "max_height": null,
            "max_width": null,
            "min_height": null,
            "min_width": null,
            "object_fit": null,
            "object_position": null,
            "order": null,
            "overflow": null,
            "overflow_x": null,
            "overflow_y": null,
            "padding": null,
            "right": null,
            "top": null,
            "visibility": null,
            "width": null
          }
        },
        "adc16f9e9dcc475da68f22529ba9395e": {
          "model_module": "@jupyter-widgets/controls",
          "model_name": "DescriptionStyleModel",
          "model_module_version": "1.5.0",
          "state": {
            "_model_module": "@jupyter-widgets/controls",
            "_model_module_version": "1.5.0",
            "_model_name": "DescriptionStyleModel",
            "_view_count": null,
            "_view_module": "@jupyter-widgets/base",
            "_view_module_version": "1.2.0",
            "_view_name": "StyleView",
            "description_width": ""
          }
        },
        "fd8a37919b8d4638bdace47e5a4ad7f4": {
          "model_module": "@jupyter-widgets/base",
          "model_name": "LayoutModel",
          "model_module_version": "1.2.0",
          "state": {
            "_model_module": "@jupyter-widgets/base",
            "_model_module_version": "1.2.0",
            "_model_name": "LayoutModel",
            "_view_count": null,
            "_view_module": "@jupyter-widgets/base",
            "_view_module_version": "1.2.0",
            "_view_name": "LayoutView",
            "align_content": null,
            "align_items": null,
            "align_self": null,
            "border": null,
            "bottom": null,
            "display": null,
            "flex": null,
            "flex_flow": null,
            "grid_area": null,
            "grid_auto_columns": null,
            "grid_auto_flow": null,
            "grid_auto_rows": null,
            "grid_column": null,
            "grid_gap": null,
            "grid_row": null,
            "grid_template_areas": null,
            "grid_template_columns": null,
            "grid_template_rows": null,
            "height": null,
            "justify_content": null,
            "justify_items": null,
            "left": null,
            "margin": null,
            "max_height": null,
            "max_width": null,
            "min_height": null,
            "min_width": null,
            "object_fit": null,
            "object_position": null,
            "order": null,
            "overflow": null,
            "overflow_x": null,
            "overflow_y": null,
            "padding": null,
            "right": null,
            "top": null,
            "visibility": null,
            "width": null
          }
        },
        "10ca9896ee4e4e45a8e90c99e4548e18": {
          "model_module": "@jupyter-widgets/controls",
          "model_name": "ProgressStyleModel",
          "model_module_version": "1.5.0",
          "state": {
            "_model_module": "@jupyter-widgets/controls",
            "_model_module_version": "1.5.0",
            "_model_name": "ProgressStyleModel",
            "_view_count": null,
            "_view_module": "@jupyter-widgets/base",
            "_view_module_version": "1.2.0",
            "_view_name": "StyleView",
            "bar_color": null,
            "description_width": ""
          }
        },
        "4bb1f5ff2308461386065ecf8aa015ac": {
          "model_module": "@jupyter-widgets/base",
          "model_name": "LayoutModel",
          "model_module_version": "1.2.0",
          "state": {
            "_model_module": "@jupyter-widgets/base",
            "_model_module_version": "1.2.0",
            "_model_name": "LayoutModel",
            "_view_count": null,
            "_view_module": "@jupyter-widgets/base",
            "_view_module_version": "1.2.0",
            "_view_name": "LayoutView",
            "align_content": null,
            "align_items": null,
            "align_self": null,
            "border": null,
            "bottom": null,
            "display": null,
            "flex": null,
            "flex_flow": null,
            "grid_area": null,
            "grid_auto_columns": null,
            "grid_auto_flow": null,
            "grid_auto_rows": null,
            "grid_column": null,
            "grid_gap": null,
            "grid_row": null,
            "grid_template_areas": null,
            "grid_template_columns": null,
            "grid_template_rows": null,
            "height": null,
            "justify_content": null,
            "justify_items": null,
            "left": null,
            "margin": null,
            "max_height": null,
            "max_width": null,
            "min_height": null,
            "min_width": null,
            "object_fit": null,
            "object_position": null,
            "order": null,
            "overflow": null,
            "overflow_x": null,
            "overflow_y": null,
            "padding": null,
            "right": null,
            "top": null,
            "visibility": null,
            "width": null
          }
        },
        "dd82de8c468347e2a003e7417e88da30": {
          "model_module": "@jupyter-widgets/controls",
          "model_name": "DescriptionStyleModel",
          "model_module_version": "1.5.0",
          "state": {
            "_model_module": "@jupyter-widgets/controls",
            "_model_module_version": "1.5.0",
            "_model_name": "DescriptionStyleModel",
            "_view_count": null,
            "_view_module": "@jupyter-widgets/base",
            "_view_module_version": "1.2.0",
            "_view_name": "StyleView",
            "description_width": ""
          }
        },
        "2984df23d2704c43a4040deb953b4802": {
          "model_module": "@jupyter-widgets/controls",
          "model_name": "HBoxModel",
          "model_module_version": "1.5.0",
          "state": {
            "_dom_classes": [],
            "_model_module": "@jupyter-widgets/controls",
            "_model_module_version": "1.5.0",
            "_model_name": "HBoxModel",
            "_view_count": null,
            "_view_module": "@jupyter-widgets/controls",
            "_view_module_version": "1.5.0",
            "_view_name": "HBoxView",
            "box_style": "",
            "children": [
              "IPY_MODEL_6387bc75c5f94960a081afd2c8989e2c",
              "IPY_MODEL_16afd507ebe84e82b8ef2896d2764449",
              "IPY_MODEL_6713d346c052405da57e5e7c9303d1c8"
            ],
            "layout": "IPY_MODEL_f71496bd4bba47dd87c0d58060bd21a0"
          }
        },
        "6387bc75c5f94960a081afd2c8989e2c": {
          "model_module": "@jupyter-widgets/controls",
          "model_name": "HTMLModel",
          "model_module_version": "1.5.0",
          "state": {
            "_dom_classes": [],
            "_model_module": "@jupyter-widgets/controls",
            "_model_module_version": "1.5.0",
            "_model_name": "HTMLModel",
            "_view_count": null,
            "_view_module": "@jupyter-widgets/controls",
            "_view_module_version": "1.5.0",
            "_view_name": "HTMLView",
            "description": "",
            "description_tooltip": null,
            "layout": "IPY_MODEL_9f27865af018429d934c26de6f9661ed",
            "placeholder": "​",
            "style": "IPY_MODEL_18d31ff24b044c66a2f76433b323b46d",
            "value": "config.json: 100%"
          }
        },
        "16afd507ebe84e82b8ef2896d2764449": {
          "model_module": "@jupyter-widgets/controls",
          "model_name": "FloatProgressModel",
          "model_module_version": "1.5.0",
          "state": {
            "_dom_classes": [],
            "_model_module": "@jupyter-widgets/controls",
            "_model_module_version": "1.5.0",
            "_model_name": "FloatProgressModel",
            "_view_count": null,
            "_view_module": "@jupyter-widgets/controls",
            "_view_module_version": "1.5.0",
            "_view_name": "ProgressView",
            "bar_style": "success",
            "description": "",
            "description_tooltip": null,
            "layout": "IPY_MODEL_9e045561e87848de8e43a7b08c777dd1",
            "max": 570,
            "min": 0,
            "orientation": "horizontal",
            "style": "IPY_MODEL_10df8199f1bb4a4680c0aa5ad948fad2",
            "value": 570
          }
        },
        "6713d346c052405da57e5e7c9303d1c8": {
          "model_module": "@jupyter-widgets/controls",
          "model_name": "HTMLModel",
          "model_module_version": "1.5.0",
          "state": {
            "_dom_classes": [],
            "_model_module": "@jupyter-widgets/controls",
            "_model_module_version": "1.5.0",
            "_model_name": "HTMLModel",
            "_view_count": null,
            "_view_module": "@jupyter-widgets/controls",
            "_view_module_version": "1.5.0",
            "_view_name": "HTMLView",
            "description": "",
            "description_tooltip": null,
            "layout": "IPY_MODEL_be412f0250af4a469a1dee0ead439d05",
            "placeholder": "​",
            "style": "IPY_MODEL_831bc9039dda4b23aac62fc8bf4cc815",
            "value": " 570/570 [00:00&lt;00:00, 18.1kB/s]"
          }
        },
        "f71496bd4bba47dd87c0d58060bd21a0": {
          "model_module": "@jupyter-widgets/base",
          "model_name": "LayoutModel",
          "model_module_version": "1.2.0",
          "state": {
            "_model_module": "@jupyter-widgets/base",
            "_model_module_version": "1.2.0",
            "_model_name": "LayoutModel",
            "_view_count": null,
            "_view_module": "@jupyter-widgets/base",
            "_view_module_version": "1.2.0",
            "_view_name": "LayoutView",
            "align_content": null,
            "align_items": null,
            "align_self": null,
            "border": null,
            "bottom": null,
            "display": null,
            "flex": null,
            "flex_flow": null,
            "grid_area": null,
            "grid_auto_columns": null,
            "grid_auto_flow": null,
            "grid_auto_rows": null,
            "grid_column": null,
            "grid_gap": null,
            "grid_row": null,
            "grid_template_areas": null,
            "grid_template_columns": null,
            "grid_template_rows": null,
            "height": null,
            "justify_content": null,
            "justify_items": null,
            "left": null,
            "margin": null,
            "max_height": null,
            "max_width": null,
            "min_height": null,
            "min_width": null,
            "object_fit": null,
            "object_position": null,
            "order": null,
            "overflow": null,
            "overflow_x": null,
            "overflow_y": null,
            "padding": null,
            "right": null,
            "top": null,
            "visibility": null,
            "width": null
          }
        },
        "9f27865af018429d934c26de6f9661ed": {
          "model_module": "@jupyter-widgets/base",
          "model_name": "LayoutModel",
          "model_module_version": "1.2.0",
          "state": {
            "_model_module": "@jupyter-widgets/base",
            "_model_module_version": "1.2.0",
            "_model_name": "LayoutModel",
            "_view_count": null,
            "_view_module": "@jupyter-widgets/base",
            "_view_module_version": "1.2.0",
            "_view_name": "LayoutView",
            "align_content": null,
            "align_items": null,
            "align_self": null,
            "border": null,
            "bottom": null,
            "display": null,
            "flex": null,
            "flex_flow": null,
            "grid_area": null,
            "grid_auto_columns": null,
            "grid_auto_flow": null,
            "grid_auto_rows": null,
            "grid_column": null,
            "grid_gap": null,
            "grid_row": null,
            "grid_template_areas": null,
            "grid_template_columns": null,
            "grid_template_rows": null,
            "height": null,
            "justify_content": null,
            "justify_items": null,
            "left": null,
            "margin": null,
            "max_height": null,
            "max_width": null,
            "min_height": null,
            "min_width": null,
            "object_fit": null,
            "object_position": null,
            "order": null,
            "overflow": null,
            "overflow_x": null,
            "overflow_y": null,
            "padding": null,
            "right": null,
            "top": null,
            "visibility": null,
            "width": null
          }
        },
        "18d31ff24b044c66a2f76433b323b46d": {
          "model_module": "@jupyter-widgets/controls",
          "model_name": "DescriptionStyleModel",
          "model_module_version": "1.5.0",
          "state": {
            "_model_module": "@jupyter-widgets/controls",
            "_model_module_version": "1.5.0",
            "_model_name": "DescriptionStyleModel",
            "_view_count": null,
            "_view_module": "@jupyter-widgets/base",
            "_view_module_version": "1.2.0",
            "_view_name": "StyleView",
            "description_width": ""
          }
        },
        "9e045561e87848de8e43a7b08c777dd1": {
          "model_module": "@jupyter-widgets/base",
          "model_name": "LayoutModel",
          "model_module_version": "1.2.0",
          "state": {
            "_model_module": "@jupyter-widgets/base",
            "_model_module_version": "1.2.0",
            "_model_name": "LayoutModel",
            "_view_count": null,
            "_view_module": "@jupyter-widgets/base",
            "_view_module_version": "1.2.0",
            "_view_name": "LayoutView",
            "align_content": null,
            "align_items": null,
            "align_self": null,
            "border": null,
            "bottom": null,
            "display": null,
            "flex": null,
            "flex_flow": null,
            "grid_area": null,
            "grid_auto_columns": null,
            "grid_auto_flow": null,
            "grid_auto_rows": null,
            "grid_column": null,
            "grid_gap": null,
            "grid_row": null,
            "grid_template_areas": null,
            "grid_template_columns": null,
            "grid_template_rows": null,
            "height": null,
            "justify_content": null,
            "justify_items": null,
            "left": null,
            "margin": null,
            "max_height": null,
            "max_width": null,
            "min_height": null,
            "min_width": null,
            "object_fit": null,
            "object_position": null,
            "order": null,
            "overflow": null,
            "overflow_x": null,
            "overflow_y": null,
            "padding": null,
            "right": null,
            "top": null,
            "visibility": null,
            "width": null
          }
        },
        "10df8199f1bb4a4680c0aa5ad948fad2": {
          "model_module": "@jupyter-widgets/controls",
          "model_name": "ProgressStyleModel",
          "model_module_version": "1.5.0",
          "state": {
            "_model_module": "@jupyter-widgets/controls",
            "_model_module_version": "1.5.0",
            "_model_name": "ProgressStyleModel",
            "_view_count": null,
            "_view_module": "@jupyter-widgets/base",
            "_view_module_version": "1.2.0",
            "_view_name": "StyleView",
            "bar_color": null,
            "description_width": ""
          }
        },
        "be412f0250af4a469a1dee0ead439d05": {
          "model_module": "@jupyter-widgets/base",
          "model_name": "LayoutModel",
          "model_module_version": "1.2.0",
          "state": {
            "_model_module": "@jupyter-widgets/base",
            "_model_module_version": "1.2.0",
            "_model_name": "LayoutModel",
            "_view_count": null,
            "_view_module": "@jupyter-widgets/base",
            "_view_module_version": "1.2.0",
            "_view_name": "LayoutView",
            "align_content": null,
            "align_items": null,
            "align_self": null,
            "border": null,
            "bottom": null,
            "display": null,
            "flex": null,
            "flex_flow": null,
            "grid_area": null,
            "grid_auto_columns": null,
            "grid_auto_flow": null,
            "grid_auto_rows": null,
            "grid_column": null,
            "grid_gap": null,
            "grid_row": null,
            "grid_template_areas": null,
            "grid_template_columns": null,
            "grid_template_rows": null,
            "height": null,
            "justify_content": null,
            "justify_items": null,
            "left": null,
            "margin": null,
            "max_height": null,
            "max_width": null,
            "min_height": null,
            "min_width": null,
            "object_fit": null,
            "object_position": null,
            "order": null,
            "overflow": null,
            "overflow_x": null,
            "overflow_y": null,
            "padding": null,
            "right": null,
            "top": null,
            "visibility": null,
            "width": null
          }
        },
        "831bc9039dda4b23aac62fc8bf4cc815": {
          "model_module": "@jupyter-widgets/controls",
          "model_name": "DescriptionStyleModel",
          "model_module_version": "1.5.0",
          "state": {
            "_model_module": "@jupyter-widgets/controls",
            "_model_module_version": "1.5.0",
            "_model_name": "DescriptionStyleModel",
            "_view_count": null,
            "_view_module": "@jupyter-widgets/base",
            "_view_module_version": "1.2.0",
            "_view_name": "StyleView",
            "description_width": ""
          }
        },
        "1f81ff579d104665ac52c5b471e80840": {
          "model_module": "@jupyter-widgets/controls",
          "model_name": "HBoxModel",
          "model_module_version": "1.5.0",
          "state": {
            "_dom_classes": [],
            "_model_module": "@jupyter-widgets/controls",
            "_model_module_version": "1.5.0",
            "_model_name": "HBoxModel",
            "_view_count": null,
            "_view_module": "@jupyter-widgets/controls",
            "_view_module_version": "1.5.0",
            "_view_name": "HBoxView",
            "box_style": "",
            "children": [
              "IPY_MODEL_b0192d68cc1c4c77935dcca6361ea07e",
              "IPY_MODEL_a3f502d2c5734f96a1459d9aa096d5ca",
              "IPY_MODEL_c59b4f25f32b4ae5bb5cc6838937cac1"
            ],
            "layout": "IPY_MODEL_31608ebe3ce44690b296205019eec3fb"
          }
        },
        "b0192d68cc1c4c77935dcca6361ea07e": {
          "model_module": "@jupyter-widgets/controls",
          "model_name": "HTMLModel",
          "model_module_version": "1.5.0",
          "state": {
            "_dom_classes": [],
            "_model_module": "@jupyter-widgets/controls",
            "_model_module_version": "1.5.0",
            "_model_name": "HTMLModel",
            "_view_count": null,
            "_view_module": "@jupyter-widgets/controls",
            "_view_module_version": "1.5.0",
            "_view_name": "HTMLView",
            "description": "",
            "description_tooltip": null,
            "layout": "IPY_MODEL_fb34a027df434e2894cd0dc9484d904b",
            "placeholder": "​",
            "style": "IPY_MODEL_f8621e15bf7e4c25bcbc71ee517471df",
            "value": "model.safetensors: 100%"
          }
        },
        "a3f502d2c5734f96a1459d9aa096d5ca": {
          "model_module": "@jupyter-widgets/controls",
          "model_name": "FloatProgressModel",
          "model_module_version": "1.5.0",
          "state": {
            "_dom_classes": [],
            "_model_module": "@jupyter-widgets/controls",
            "_model_module_version": "1.5.0",
            "_model_name": "FloatProgressModel",
            "_view_count": null,
            "_view_module": "@jupyter-widgets/controls",
            "_view_module_version": "1.5.0",
            "_view_name": "ProgressView",
            "bar_style": "success",
            "description": "",
            "description_tooltip": null,
            "layout": "IPY_MODEL_133fd4c188674308a3eca234d47436d4",
            "max": 440449768,
            "min": 0,
            "orientation": "horizontal",
            "style": "IPY_MODEL_e9e6801170bb4f329c6af6fb41599553",
            "value": 440449768
          }
        },
        "c59b4f25f32b4ae5bb5cc6838937cac1": {
          "model_module": "@jupyter-widgets/controls",
          "model_name": "HTMLModel",
          "model_module_version": "1.5.0",
          "state": {
            "_dom_classes": [],
            "_model_module": "@jupyter-widgets/controls",
            "_model_module_version": "1.5.0",
            "_model_name": "HTMLModel",
            "_view_count": null,
            "_view_module": "@jupyter-widgets/controls",
            "_view_module_version": "1.5.0",
            "_view_name": "HTMLView",
            "description": "",
            "description_tooltip": null,
            "layout": "IPY_MODEL_cd52346f5fa74bb4af046405699ee9fa",
            "placeholder": "​",
            "style": "IPY_MODEL_50845248e39b4c62b9879a388234a9d4",
            "value": " 440M/440M [00:10&lt;00:00, 53.9MB/s]"
          }
        },
        "31608ebe3ce44690b296205019eec3fb": {
          "model_module": "@jupyter-widgets/base",
          "model_name": "LayoutModel",
          "model_module_version": "1.2.0",
          "state": {
            "_model_module": "@jupyter-widgets/base",
            "_model_module_version": "1.2.0",
            "_model_name": "LayoutModel",
            "_view_count": null,
            "_view_module": "@jupyter-widgets/base",
            "_view_module_version": "1.2.0",
            "_view_name": "LayoutView",
            "align_content": null,
            "align_items": null,
            "align_self": null,
            "border": null,
            "bottom": null,
            "display": null,
            "flex": null,
            "flex_flow": null,
            "grid_area": null,
            "grid_auto_columns": null,
            "grid_auto_flow": null,
            "grid_auto_rows": null,
            "grid_column": null,
            "grid_gap": null,
            "grid_row": null,
            "grid_template_areas": null,
            "grid_template_columns": null,
            "grid_template_rows": null,
            "height": null,
            "justify_content": null,
            "justify_items": null,
            "left": null,
            "margin": null,
            "max_height": null,
            "max_width": null,
            "min_height": null,
            "min_width": null,
            "object_fit": null,
            "object_position": null,
            "order": null,
            "overflow": null,
            "overflow_x": null,
            "overflow_y": null,
            "padding": null,
            "right": null,
            "top": null,
            "visibility": null,
            "width": null
          }
        },
        "fb34a027df434e2894cd0dc9484d904b": {
          "model_module": "@jupyter-widgets/base",
          "model_name": "LayoutModel",
          "model_module_version": "1.2.0",
          "state": {
            "_model_module": "@jupyter-widgets/base",
            "_model_module_version": "1.2.0",
            "_model_name": "LayoutModel",
            "_view_count": null,
            "_view_module": "@jupyter-widgets/base",
            "_view_module_version": "1.2.0",
            "_view_name": "LayoutView",
            "align_content": null,
            "align_items": null,
            "align_self": null,
            "border": null,
            "bottom": null,
            "display": null,
            "flex": null,
            "flex_flow": null,
            "grid_area": null,
            "grid_auto_columns": null,
            "grid_auto_flow": null,
            "grid_auto_rows": null,
            "grid_column": null,
            "grid_gap": null,
            "grid_row": null,
            "grid_template_areas": null,
            "grid_template_columns": null,
            "grid_template_rows": null,
            "height": null,
            "justify_content": null,
            "justify_items": null,
            "left": null,
            "margin": null,
            "max_height": null,
            "max_width": null,
            "min_height": null,
            "min_width": null,
            "object_fit": null,
            "object_position": null,
            "order": null,
            "overflow": null,
            "overflow_x": null,
            "overflow_y": null,
            "padding": null,
            "right": null,
            "top": null,
            "visibility": null,
            "width": null
          }
        },
        "f8621e15bf7e4c25bcbc71ee517471df": {
          "model_module": "@jupyter-widgets/controls",
          "model_name": "DescriptionStyleModel",
          "model_module_version": "1.5.0",
          "state": {
            "_model_module": "@jupyter-widgets/controls",
            "_model_module_version": "1.5.0",
            "_model_name": "DescriptionStyleModel",
            "_view_count": null,
            "_view_module": "@jupyter-widgets/base",
            "_view_module_version": "1.2.0",
            "_view_name": "StyleView",
            "description_width": ""
          }
        },
        "133fd4c188674308a3eca234d47436d4": {
          "model_module": "@jupyter-widgets/base",
          "model_name": "LayoutModel",
          "model_module_version": "1.2.0",
          "state": {
            "_model_module": "@jupyter-widgets/base",
            "_model_module_version": "1.2.0",
            "_model_name": "LayoutModel",
            "_view_count": null,
            "_view_module": "@jupyter-widgets/base",
            "_view_module_version": "1.2.0",
            "_view_name": "LayoutView",
            "align_content": null,
            "align_items": null,
            "align_self": null,
            "border": null,
            "bottom": null,
            "display": null,
            "flex": null,
            "flex_flow": null,
            "grid_area": null,
            "grid_auto_columns": null,
            "grid_auto_flow": null,
            "grid_auto_rows": null,
            "grid_column": null,
            "grid_gap": null,
            "grid_row": null,
            "grid_template_areas": null,
            "grid_template_columns": null,
            "grid_template_rows": null,
            "height": null,
            "justify_content": null,
            "justify_items": null,
            "left": null,
            "margin": null,
            "max_height": null,
            "max_width": null,
            "min_height": null,
            "min_width": null,
            "object_fit": null,
            "object_position": null,
            "order": null,
            "overflow": null,
            "overflow_x": null,
            "overflow_y": null,
            "padding": null,
            "right": null,
            "top": null,
            "visibility": null,
            "width": null
          }
        },
        "e9e6801170bb4f329c6af6fb41599553": {
          "model_module": "@jupyter-widgets/controls",
          "model_name": "ProgressStyleModel",
          "model_module_version": "1.5.0",
          "state": {
            "_model_module": "@jupyter-widgets/controls",
            "_model_module_version": "1.5.0",
            "_model_name": "ProgressStyleModel",
            "_view_count": null,
            "_view_module": "@jupyter-widgets/base",
            "_view_module_version": "1.2.0",
            "_view_name": "StyleView",
            "bar_color": null,
            "description_width": ""
          }
        },
        "cd52346f5fa74bb4af046405699ee9fa": {
          "model_module": "@jupyter-widgets/base",
          "model_name": "LayoutModel",
          "model_module_version": "1.2.0",
          "state": {
            "_model_module": "@jupyter-widgets/base",
            "_model_module_version": "1.2.0",
            "_model_name": "LayoutModel",
            "_view_count": null,
            "_view_module": "@jupyter-widgets/base",
            "_view_module_version": "1.2.0",
            "_view_name": "LayoutView",
            "align_content": null,
            "align_items": null,
            "align_self": null,
            "border": null,
            "bottom": null,
            "display": null,
            "flex": null,
            "flex_flow": null,
            "grid_area": null,
            "grid_auto_columns": null,
            "grid_auto_flow": null,
            "grid_auto_rows": null,
            "grid_column": null,
            "grid_gap": null,
            "grid_row": null,
            "grid_template_areas": null,
            "grid_template_columns": null,
            "grid_template_rows": null,
            "height": null,
            "justify_content": null,
            "justify_items": null,
            "left": null,
            "margin": null,
            "max_height": null,
            "max_width": null,
            "min_height": null,
            "min_width": null,
            "object_fit": null,
            "object_position": null,
            "order": null,
            "overflow": null,
            "overflow_x": null,
            "overflow_y": null,
            "padding": null,
            "right": null,
            "top": null,
            "visibility": null,
            "width": null
          }
        },
        "50845248e39b4c62b9879a388234a9d4": {
          "model_module": "@jupyter-widgets/controls",
          "model_name": "DescriptionStyleModel",
          "model_module_version": "1.5.0",
          "state": {
            "_model_module": "@jupyter-widgets/controls",
            "_model_module_version": "1.5.0",
            "_model_name": "DescriptionStyleModel",
            "_view_count": null,
            "_view_module": "@jupyter-widgets/base",
            "_view_module_version": "1.2.0",
            "_view_name": "StyleView",
            "description_width": ""
          }
        }
      }
    }
  },
  "cells": [
    {
      "cell_type": "markdown",
      "metadata": {
        "id": "view-in-github",
        "colab_type": "text"
      },
      "source": [
        "<a href=\"https://colab.research.google.com/github/carlos-alves-one/-Amazon-Review-NLP/blob/main/Sentiment_Analysis_V2.ipynb\" target=\"_parent\"><img src=\"https://colab.research.google.com/assets/colab-badge.svg\" alt=\"Open In Colab\"/></a>"
      ]
    },
    {
      "cell_type": "markdown",
      "source": [
        "### Goldsmiths University of London\n",
        "### MSc. Data Science and Artificial Intelligence\n",
        "### Module: Natural Language Processing\n",
        "### Author: Carlos Manuel De Oliveira Alves\n",
        "### Student: cdeol003\n",
        "### Coursework Project"
      ],
      "metadata": {
        "id": "GpWkS9g3XYaG"
      }
    },
    {
      "cell_type": "markdown",
      "source": [
        "# Data Collection"
      ],
      "metadata": {
        "id": "LPQR5k8DZBHh"
      }
    },
    {
      "cell_type": "markdown",
      "source": [
        "### Load the data"
      ],
      "metadata": {
        "id": "Rdq1tWxhdNyw"
      }
    },
    {
      "cell_type": "code",
      "source": [
        "# Imports the 'drive' module from 'google.colab' and mounts the Google Drive to\n",
        "# the '/content/drive' directory in the Colab environment.\n",
        "from google.colab import drive\n",
        "drive.mount('/content/drive')\n"
      ],
      "metadata": {
        "colab": {
          "base_uri": "https://localhost:8080/"
        },
        "id": "tAfyl1E4Xhig",
        "outputId": "b4cfcd54-bbda-4894-c020-5f95ef227010"
      },
      "execution_count": 2,
      "outputs": [
        {
          "output_type": "stream",
          "name": "stdout",
          "text": [
            "Mounted at /content/drive\n"
          ]
        }
      ]
    },
    {
      "cell_type": "markdown",
      "source": [
        "Dataset source: https://www.kaggle.com/datasets/akudnaver/amazon-reviews-dataset\n",
        "\n",
        "License: Unknown"
      ],
      "metadata": {
        "id": "UriCgHuhnXaB"
      }
    },
    {
      "cell_type": "code",
      "source": [
        "# Import the pandas library and give it the alias 'pd' for data manipulation and analysis\n",
        "import pandas as pd\n",
        "\n",
        "# Load the dataset Amazon Review Details from Google Drive\n",
        "data_path = '/content/drive/MyDrive/amazon_project/amazon-review-details.csv'\n",
        "data = pd.read_csv(data_path)\n",
        "\n",
        "# Display the first few rows of the dataframe\n",
        "data.head(3).T\n"
      ],
      "metadata": {
        "colab": {
          "base_uri": "https://localhost:8080/",
          "height": 1000
        },
        "id": "ShHZnYEod2V1",
        "outputId": "81b517ec-5ffa-48fa-b3b0-1de852e3e0a2"
      },
      "execution_count": 3,
      "outputs": [
        {
          "output_type": "execute_result",
          "data": {
            "text/plain": [
              "                                                                        0  \\\n",
              "report_date                                                    2019-01-02   \n",
              "online_store                                                  FRESHAMAZON   \n",
              "upc                                                         8718114216478   \n",
              "retailer_product_code                                          B0142CI6FC   \n",
              "brand                                                       Dove Men+Care   \n",
              "category                                                    Personal Care   \n",
              "sub_category                                                         Deos   \n",
              "product_description     Dove Men+Care Extra Fresh Anti-perspirant Deod...   \n",
              "review_date                                                    2019-01-01   \n",
              "review_rating                                                           5   \n",
              "review_title                                       Dove Men’s + Deodorant   \n",
              "review_text             As you get older, you know what you like and w...   \n",
              "is_competitor                                                           0   \n",
              "manufacturer                                              Unilever Global   \n",
              "market                                                                 UK   \n",
              "matched_keywords                                                      NaN   \n",
              "time_of_publication                                                   NaN   \n",
              "url                     http://www.amazon.co.uk/gp/customer-reviews/RE...   \n",
              "review_type                                                       Organic   \n",
              "parent_review                                                       Child   \n",
              "manufacturers_response                                                NaN   \n",
              "dimension1                                                           Deos   \n",
              "dimension2                                 Male Anti-Perspirant Deodorant   \n",
              "dimension3                            COTC Male Anti-Perspirant Deodorant   \n",
              "dimension4                                                            NaN   \n",
              "dimension5                                                            NaN   \n",
              "dimension6                                                            NaN   \n",
              "dimension7                            COTC Male Anti-Perspirant Deodorant   \n",
              "dimension8                                               Core of the Core   \n",
              "verified_purchase                                                    True   \n",
              "helpful_review_count                                                    0   \n",
              "review_hash_id                       3f129b02-ea76-0323-bd59-235d97a4f83f   \n",
              "\n",
              "                                                                        1  \\\n",
              "report_date                                                    2019-01-03   \n",
              "online_store                                                  FRESHAMAZON   \n",
              "upc                                                         5000184201199   \n",
              "retailer_product_code                                          B014DFNNRY   \n",
              "brand                                                             Marmite   \n",
              "category                                                            Foods   \n",
              "sub_category                                                      Savoury   \n",
              "product_description                    Marmite  Spread Yeast Extract 500g   \n",
              "review_date                                                    2019-01-02   \n",
              "review_rating                                                           5   \n",
              "review_title                                   Great for a marmite lover!   \n",
              "review_text             Three gigantic marmite jars that will last pro...   \n",
              "is_competitor                                                           0   \n",
              "manufacturer                                              Unilever Global   \n",
              "market                                                                 UK   \n",
              "matched_keywords                                                      NaN   \n",
              "time_of_publication                                                   NaN   \n",
              "url                     http://www.amazon.co.uk/gp/customer-reviews/R1...   \n",
              "review_type                                                       Organic   \n",
              "parent_review                                                       Child   \n",
              "manufacturers_response                                                NaN   \n",
              "dimension1                                                        Savoury   \n",
              "dimension2                                             COTC Yeast Extract   \n",
              "dimension3                                             COTC Yeast Extract   \n",
              "dimension4                                                            NaN   \n",
              "dimension5                                                            NaN   \n",
              "dimension6                                                            NaN   \n",
              "dimension7                                             COTC Yeast Extract   \n",
              "dimension8                                               Core of the Core   \n",
              "verified_purchase                                                    True   \n",
              "helpful_review_count                                                    0   \n",
              "review_hash_id                       d7f3b9aa-e8b3-626d-683b-374e201c8315   \n",
              "\n",
              "                                                                        2  \n",
              "report_date                                                    2019-01-03  \n",
              "online_store                                                  FRESHAMAZON  \n",
              "upc                                                         5000184201199  \n",
              "retailer_product_code                                          B014DFNNRY  \n",
              "brand                                                             Marmite  \n",
              "category                                                            Foods  \n",
              "sub_category                                                      Savoury  \n",
              "product_description                    Marmite  Spread Yeast Extract 500g  \n",
              "review_date                                                    2019-01-02  \n",
              "review_rating                                                           4  \n",
              "review_title                                                 Vitamin B12.  \n",
              "review_text                                                     Excellent  \n",
              "is_competitor                                                           0  \n",
              "manufacturer                                              Unilever Global  \n",
              "market                                                                 UK  \n",
              "matched_keywords                                                      NaN  \n",
              "time_of_publication                                                   NaN  \n",
              "url                     http://www.amazon.co.uk/gp/customer-reviews/RD...  \n",
              "review_type                                                       Organic  \n",
              "parent_review                                                       Child  \n",
              "manufacturers_response                                                NaN  \n",
              "dimension1                                                        Savoury  \n",
              "dimension2                                             COTC Yeast Extract  \n",
              "dimension3                                             COTC Yeast Extract  \n",
              "dimension4                                                            NaN  \n",
              "dimension5                                                            NaN  \n",
              "dimension6                                                            NaN  \n",
              "dimension7                                             COTC Yeast Extract  \n",
              "dimension8                                               Core of the Core  \n",
              "verified_purchase                                                    True  \n",
              "helpful_review_count                                                    0  \n",
              "review_hash_id                       e58a523d-0155-a366-f107-7ac6817ac3b7  "
            ],
            "text/html": [
              "\n",
              "  <div id=\"df-02654a36-e59f-4f12-b0f2-39383a5b5312\" class=\"colab-df-container\">\n",
              "    <div>\n",
              "<style scoped>\n",
              "    .dataframe tbody tr th:only-of-type {\n",
              "        vertical-align: middle;\n",
              "    }\n",
              "\n",
              "    .dataframe tbody tr th {\n",
              "        vertical-align: top;\n",
              "    }\n",
              "\n",
              "    .dataframe thead th {\n",
              "        text-align: right;\n",
              "    }\n",
              "</style>\n",
              "<table border=\"1\" class=\"dataframe\">\n",
              "  <thead>\n",
              "    <tr style=\"text-align: right;\">\n",
              "      <th></th>\n",
              "      <th>0</th>\n",
              "      <th>1</th>\n",
              "      <th>2</th>\n",
              "    </tr>\n",
              "  </thead>\n",
              "  <tbody>\n",
              "    <tr>\n",
              "      <th>report_date</th>\n",
              "      <td>2019-01-02</td>\n",
              "      <td>2019-01-03</td>\n",
              "      <td>2019-01-03</td>\n",
              "    </tr>\n",
              "    <tr>\n",
              "      <th>online_store</th>\n",
              "      <td>FRESHAMAZON</td>\n",
              "      <td>FRESHAMAZON</td>\n",
              "      <td>FRESHAMAZON</td>\n",
              "    </tr>\n",
              "    <tr>\n",
              "      <th>upc</th>\n",
              "      <td>8718114216478</td>\n",
              "      <td>5000184201199</td>\n",
              "      <td>5000184201199</td>\n",
              "    </tr>\n",
              "    <tr>\n",
              "      <th>retailer_product_code</th>\n",
              "      <td>B0142CI6FC</td>\n",
              "      <td>B014DFNNRY</td>\n",
              "      <td>B014DFNNRY</td>\n",
              "    </tr>\n",
              "    <tr>\n",
              "      <th>brand</th>\n",
              "      <td>Dove Men+Care</td>\n",
              "      <td>Marmite</td>\n",
              "      <td>Marmite</td>\n",
              "    </tr>\n",
              "    <tr>\n",
              "      <th>category</th>\n",
              "      <td>Personal Care</td>\n",
              "      <td>Foods</td>\n",
              "      <td>Foods</td>\n",
              "    </tr>\n",
              "    <tr>\n",
              "      <th>sub_category</th>\n",
              "      <td>Deos</td>\n",
              "      <td>Savoury</td>\n",
              "      <td>Savoury</td>\n",
              "    </tr>\n",
              "    <tr>\n",
              "      <th>product_description</th>\n",
              "      <td>Dove Men+Care Extra Fresh Anti-perspirant Deod...</td>\n",
              "      <td>Marmite  Spread Yeast Extract 500g</td>\n",
              "      <td>Marmite  Spread Yeast Extract 500g</td>\n",
              "    </tr>\n",
              "    <tr>\n",
              "      <th>review_date</th>\n",
              "      <td>2019-01-01</td>\n",
              "      <td>2019-01-02</td>\n",
              "      <td>2019-01-02</td>\n",
              "    </tr>\n",
              "    <tr>\n",
              "      <th>review_rating</th>\n",
              "      <td>5</td>\n",
              "      <td>5</td>\n",
              "      <td>4</td>\n",
              "    </tr>\n",
              "    <tr>\n",
              "      <th>review_title</th>\n",
              "      <td>Dove Men’s + Deodorant</td>\n",
              "      <td>Great for a marmite lover!</td>\n",
              "      <td>Vitamin B12.</td>\n",
              "    </tr>\n",
              "    <tr>\n",
              "      <th>review_text</th>\n",
              "      <td>As you get older, you know what you like and w...</td>\n",
              "      <td>Three gigantic marmite jars that will last pro...</td>\n",
              "      <td>Excellent</td>\n",
              "    </tr>\n",
              "    <tr>\n",
              "      <th>is_competitor</th>\n",
              "      <td>0</td>\n",
              "      <td>0</td>\n",
              "      <td>0</td>\n",
              "    </tr>\n",
              "    <tr>\n",
              "      <th>manufacturer</th>\n",
              "      <td>Unilever Global</td>\n",
              "      <td>Unilever Global</td>\n",
              "      <td>Unilever Global</td>\n",
              "    </tr>\n",
              "    <tr>\n",
              "      <th>market</th>\n",
              "      <td>UK</td>\n",
              "      <td>UK</td>\n",
              "      <td>UK</td>\n",
              "    </tr>\n",
              "    <tr>\n",
              "      <th>matched_keywords</th>\n",
              "      <td>NaN</td>\n",
              "      <td>NaN</td>\n",
              "      <td>NaN</td>\n",
              "    </tr>\n",
              "    <tr>\n",
              "      <th>time_of_publication</th>\n",
              "      <td>NaN</td>\n",
              "      <td>NaN</td>\n",
              "      <td>NaN</td>\n",
              "    </tr>\n",
              "    <tr>\n",
              "      <th>url</th>\n",
              "      <td>http://www.amazon.co.uk/gp/customer-reviews/RE...</td>\n",
              "      <td>http://www.amazon.co.uk/gp/customer-reviews/R1...</td>\n",
              "      <td>http://www.amazon.co.uk/gp/customer-reviews/RD...</td>\n",
              "    </tr>\n",
              "    <tr>\n",
              "      <th>review_type</th>\n",
              "      <td>Organic</td>\n",
              "      <td>Organic</td>\n",
              "      <td>Organic</td>\n",
              "    </tr>\n",
              "    <tr>\n",
              "      <th>parent_review</th>\n",
              "      <td>Child</td>\n",
              "      <td>Child</td>\n",
              "      <td>Child</td>\n",
              "    </tr>\n",
              "    <tr>\n",
              "      <th>manufacturers_response</th>\n",
              "      <td>NaN</td>\n",
              "      <td>NaN</td>\n",
              "      <td>NaN</td>\n",
              "    </tr>\n",
              "    <tr>\n",
              "      <th>dimension1</th>\n",
              "      <td>Deos</td>\n",
              "      <td>Savoury</td>\n",
              "      <td>Savoury</td>\n",
              "    </tr>\n",
              "    <tr>\n",
              "      <th>dimension2</th>\n",
              "      <td>Male Anti-Perspirant Deodorant</td>\n",
              "      <td>COTC Yeast Extract</td>\n",
              "      <td>COTC Yeast Extract</td>\n",
              "    </tr>\n",
              "    <tr>\n",
              "      <th>dimension3</th>\n",
              "      <td>COTC Male Anti-Perspirant Deodorant</td>\n",
              "      <td>COTC Yeast Extract</td>\n",
              "      <td>COTC Yeast Extract</td>\n",
              "    </tr>\n",
              "    <tr>\n",
              "      <th>dimension4</th>\n",
              "      <td>NaN</td>\n",
              "      <td>NaN</td>\n",
              "      <td>NaN</td>\n",
              "    </tr>\n",
              "    <tr>\n",
              "      <th>dimension5</th>\n",
              "      <td>NaN</td>\n",
              "      <td>NaN</td>\n",
              "      <td>NaN</td>\n",
              "    </tr>\n",
              "    <tr>\n",
              "      <th>dimension6</th>\n",
              "      <td>NaN</td>\n",
              "      <td>NaN</td>\n",
              "      <td>NaN</td>\n",
              "    </tr>\n",
              "    <tr>\n",
              "      <th>dimension7</th>\n",
              "      <td>COTC Male Anti-Perspirant Deodorant</td>\n",
              "      <td>COTC Yeast Extract</td>\n",
              "      <td>COTC Yeast Extract</td>\n",
              "    </tr>\n",
              "    <tr>\n",
              "      <th>dimension8</th>\n",
              "      <td>Core of the Core</td>\n",
              "      <td>Core of the Core</td>\n",
              "      <td>Core of the Core</td>\n",
              "    </tr>\n",
              "    <tr>\n",
              "      <th>verified_purchase</th>\n",
              "      <td>True</td>\n",
              "      <td>True</td>\n",
              "      <td>True</td>\n",
              "    </tr>\n",
              "    <tr>\n",
              "      <th>helpful_review_count</th>\n",
              "      <td>0</td>\n",
              "      <td>0</td>\n",
              "      <td>0</td>\n",
              "    </tr>\n",
              "    <tr>\n",
              "      <th>review_hash_id</th>\n",
              "      <td>3f129b02-ea76-0323-bd59-235d97a4f83f</td>\n",
              "      <td>d7f3b9aa-e8b3-626d-683b-374e201c8315</td>\n",
              "      <td>e58a523d-0155-a366-f107-7ac6817ac3b7</td>\n",
              "    </tr>\n",
              "  </tbody>\n",
              "</table>\n",
              "</div>\n",
              "    <div class=\"colab-df-buttons\">\n",
              "\n",
              "  <div class=\"colab-df-container\">\n",
              "    <button class=\"colab-df-convert\" onclick=\"convertToInteractive('df-02654a36-e59f-4f12-b0f2-39383a5b5312')\"\n",
              "            title=\"Convert this dataframe to an interactive table.\"\n",
              "            style=\"display:none;\">\n",
              "\n",
              "  <svg xmlns=\"http://www.w3.org/2000/svg\" height=\"24px\" viewBox=\"0 -960 960 960\">\n",
              "    <path d=\"M120-120v-720h720v720H120Zm60-500h600v-160H180v160Zm220 220h160v-160H400v160Zm0 220h160v-160H400v160ZM180-400h160v-160H180v160Zm440 0h160v-160H620v160ZM180-180h160v-160H180v160Zm440 0h160v-160H620v160Z\"/>\n",
              "  </svg>\n",
              "    </button>\n",
              "\n",
              "  <style>\n",
              "    .colab-df-container {\n",
              "      display:flex;\n",
              "      gap: 12px;\n",
              "    }\n",
              "\n",
              "    .colab-df-convert {\n",
              "      background-color: #E8F0FE;\n",
              "      border: none;\n",
              "      border-radius: 50%;\n",
              "      cursor: pointer;\n",
              "      display: none;\n",
              "      fill: #1967D2;\n",
              "      height: 32px;\n",
              "      padding: 0 0 0 0;\n",
              "      width: 32px;\n",
              "    }\n",
              "\n",
              "    .colab-df-convert:hover {\n",
              "      background-color: #E2EBFA;\n",
              "      box-shadow: 0px 1px 2px rgba(60, 64, 67, 0.3), 0px 1px 3px 1px rgba(60, 64, 67, 0.15);\n",
              "      fill: #174EA6;\n",
              "    }\n",
              "\n",
              "    .colab-df-buttons div {\n",
              "      margin-bottom: 4px;\n",
              "    }\n",
              "\n",
              "    [theme=dark] .colab-df-convert {\n",
              "      background-color: #3B4455;\n",
              "      fill: #D2E3FC;\n",
              "    }\n",
              "\n",
              "    [theme=dark] .colab-df-convert:hover {\n",
              "      background-color: #434B5C;\n",
              "      box-shadow: 0px 1px 3px 1px rgba(0, 0, 0, 0.15);\n",
              "      filter: drop-shadow(0px 1px 2px rgba(0, 0, 0, 0.3));\n",
              "      fill: #FFFFFF;\n",
              "    }\n",
              "  </style>\n",
              "\n",
              "    <script>\n",
              "      const buttonEl =\n",
              "        document.querySelector('#df-02654a36-e59f-4f12-b0f2-39383a5b5312 button.colab-df-convert');\n",
              "      buttonEl.style.display =\n",
              "        google.colab.kernel.accessAllowed ? 'block' : 'none';\n",
              "\n",
              "      async function convertToInteractive(key) {\n",
              "        const element = document.querySelector('#df-02654a36-e59f-4f12-b0f2-39383a5b5312');\n",
              "        const dataTable =\n",
              "          await google.colab.kernel.invokeFunction('convertToInteractive',\n",
              "                                                    [key], {});\n",
              "        if (!dataTable) return;\n",
              "\n",
              "        const docLinkHtml = 'Like what you see? Visit the ' +\n",
              "          '<a target=\"_blank\" href=https://colab.research.google.com/notebooks/data_table.ipynb>data table notebook</a>'\n",
              "          + ' to learn more about interactive tables.';\n",
              "        element.innerHTML = '';\n",
              "        dataTable['output_type'] = 'display_data';\n",
              "        await google.colab.output.renderOutput(dataTable, element);\n",
              "        const docLink = document.createElement('div');\n",
              "        docLink.innerHTML = docLinkHtml;\n",
              "        element.appendChild(docLink);\n",
              "      }\n",
              "    </script>\n",
              "  </div>\n",
              "\n",
              "\n",
              "<div id=\"df-e1b16346-05d0-4298-b1a6-57ca00796c1e\">\n",
              "  <button class=\"colab-df-quickchart\" onclick=\"quickchart('df-e1b16346-05d0-4298-b1a6-57ca00796c1e')\"\n",
              "            title=\"Suggest charts\"\n",
              "            style=\"display:none;\">\n",
              "\n",
              "<svg xmlns=\"http://www.w3.org/2000/svg\" height=\"24px\"viewBox=\"0 0 24 24\"\n",
              "     width=\"24px\">\n",
              "    <g>\n",
              "        <path d=\"M19 3H5c-1.1 0-2 .9-2 2v14c0 1.1.9 2 2 2h14c1.1 0 2-.9 2-2V5c0-1.1-.9-2-2-2zM9 17H7v-7h2v7zm4 0h-2V7h2v10zm4 0h-2v-4h2v4z\"/>\n",
              "    </g>\n",
              "</svg>\n",
              "  </button>\n",
              "\n",
              "<style>\n",
              "  .colab-df-quickchart {\n",
              "      --bg-color: #E8F0FE;\n",
              "      --fill-color: #1967D2;\n",
              "      --hover-bg-color: #E2EBFA;\n",
              "      --hover-fill-color: #174EA6;\n",
              "      --disabled-fill-color: #AAA;\n",
              "      --disabled-bg-color: #DDD;\n",
              "  }\n",
              "\n",
              "  [theme=dark] .colab-df-quickchart {\n",
              "      --bg-color: #3B4455;\n",
              "      --fill-color: #D2E3FC;\n",
              "      --hover-bg-color: #434B5C;\n",
              "      --hover-fill-color: #FFFFFF;\n",
              "      --disabled-bg-color: #3B4455;\n",
              "      --disabled-fill-color: #666;\n",
              "  }\n",
              "\n",
              "  .colab-df-quickchart {\n",
              "    background-color: var(--bg-color);\n",
              "    border: none;\n",
              "    border-radius: 50%;\n",
              "    cursor: pointer;\n",
              "    display: none;\n",
              "    fill: var(--fill-color);\n",
              "    height: 32px;\n",
              "    padding: 0;\n",
              "    width: 32px;\n",
              "  }\n",
              "\n",
              "  .colab-df-quickchart:hover {\n",
              "    background-color: var(--hover-bg-color);\n",
              "    box-shadow: 0 1px 2px rgba(60, 64, 67, 0.3), 0 1px 3px 1px rgba(60, 64, 67, 0.15);\n",
              "    fill: var(--button-hover-fill-color);\n",
              "  }\n",
              "\n",
              "  .colab-df-quickchart-complete:disabled,\n",
              "  .colab-df-quickchart-complete:disabled:hover {\n",
              "    background-color: var(--disabled-bg-color);\n",
              "    fill: var(--disabled-fill-color);\n",
              "    box-shadow: none;\n",
              "  }\n",
              "\n",
              "  .colab-df-spinner {\n",
              "    border: 2px solid var(--fill-color);\n",
              "    border-color: transparent;\n",
              "    border-bottom-color: var(--fill-color);\n",
              "    animation:\n",
              "      spin 1s steps(1) infinite;\n",
              "  }\n",
              "\n",
              "  @keyframes spin {\n",
              "    0% {\n",
              "      border-color: transparent;\n",
              "      border-bottom-color: var(--fill-color);\n",
              "      border-left-color: var(--fill-color);\n",
              "    }\n",
              "    20% {\n",
              "      border-color: transparent;\n",
              "      border-left-color: var(--fill-color);\n",
              "      border-top-color: var(--fill-color);\n",
              "    }\n",
              "    30% {\n",
              "      border-color: transparent;\n",
              "      border-left-color: var(--fill-color);\n",
              "      border-top-color: var(--fill-color);\n",
              "      border-right-color: var(--fill-color);\n",
              "    }\n",
              "    40% {\n",
              "      border-color: transparent;\n",
              "      border-right-color: var(--fill-color);\n",
              "      border-top-color: var(--fill-color);\n",
              "    }\n",
              "    60% {\n",
              "      border-color: transparent;\n",
              "      border-right-color: var(--fill-color);\n",
              "    }\n",
              "    80% {\n",
              "      border-color: transparent;\n",
              "      border-right-color: var(--fill-color);\n",
              "      border-bottom-color: var(--fill-color);\n",
              "    }\n",
              "    90% {\n",
              "      border-color: transparent;\n",
              "      border-bottom-color: var(--fill-color);\n",
              "    }\n",
              "  }\n",
              "</style>\n",
              "\n",
              "  <script>\n",
              "    async function quickchart(key) {\n",
              "      const quickchartButtonEl =\n",
              "        document.querySelector('#' + key + ' button');\n",
              "      quickchartButtonEl.disabled = true;  // To prevent multiple clicks.\n",
              "      quickchartButtonEl.classList.add('colab-df-spinner');\n",
              "      try {\n",
              "        const charts = await google.colab.kernel.invokeFunction(\n",
              "            'suggestCharts', [key], {});\n",
              "      } catch (error) {\n",
              "        console.error('Error during call to suggestCharts:', error);\n",
              "      }\n",
              "      quickchartButtonEl.classList.remove('colab-df-spinner');\n",
              "      quickchartButtonEl.classList.add('colab-df-quickchart-complete');\n",
              "    }\n",
              "    (() => {\n",
              "      let quickchartButtonEl =\n",
              "        document.querySelector('#df-e1b16346-05d0-4298-b1a6-57ca00796c1e button');\n",
              "      quickchartButtonEl.style.display =\n",
              "        google.colab.kernel.accessAllowed ? 'block' : 'none';\n",
              "    })();\n",
              "  </script>\n",
              "</div>\n",
              "    </div>\n",
              "  </div>\n"
            ],
            "application/vnd.google.colaboratory.intrinsic+json": {
              "type": "dataframe",
              "variable_name": "data"
            }
          },
          "metadata": {},
          "execution_count": 3
        }
      ]
    },
    {
      "cell_type": "markdown",
      "source": [
        "# Data Preprocessing"
      ],
      "metadata": {
        "id": "SrPP-SNcMjXo"
      }
    },
    {
      "cell_type": "markdown",
      "source": [
        "The dataset contains multiple columns, but for our sentiment analysis, we will primarily focus on the 'review_rating' as our target variable and the text of the reviews for our feature.\n",
        "\n",
        "**Tasks :**\n",
        "\n",
        "- Select relevant columns ('review_rating' and the review text column).\n",
        "\n",
        "- Handle missing values if necessary.\n",
        "\n",
        "- Convert ratings to a binary sentiment (positive or negative).\n",
        "\n",
        "- Preprocess the text data (tokenization, lowercasing, removing stop words, etc.).\n"
      ],
      "metadata": {
        "id": "o3bn9Q3dQdYo"
      }
    },
    {
      "cell_type": "markdown",
      "source": [
        "## Import Libraries and Packages"
      ],
      "metadata": {
        "id": "2uwanN2KSCrg"
      }
    },
    {
      "cell_type": "code",
      "source": [
        "# Importing the 'stopwords' collection from the nltk.corpus module\n",
        "from nltk.corpus import stopwords\n",
        "\n",
        "# Imports the regular expression module for pattern matching in strings\n",
        "import re\n",
        "\n",
        "# Importing the 'word_tokenize' and 'sent_tokenize' functions from nltk.tokenize for tokenizing strings into words\n",
        "from nltk.tokenize import word_tokenize, sent_tokenize\n",
        "\n",
        "# Importing the nltk module, which is a suite of libraries for natural language processing\n",
        "import nltk\n",
        "\n",
        "# Downloading the 'punkt' tokenizer models, used by nltk for sentence tokenization\n",
        "nltk.download('punkt')\n",
        "\n",
        "# Downloading the 'stopwords' dataset, which contains lists of common stopwords in various languages\n",
        "nltk.download('stopwords')\n",
        "\n",
        "# Importing lemmatizer and stemmer for text normalization\n",
        "from nltk.stem import WordNetLemmatizer, PorterStemmer\n",
        "\n",
        "# Importing WordNet, a lexical database for the English language\n",
        "from nltk.corpus import wordnet\n",
        "\n",
        "# Import Word2Vec model from gensim library\n",
        "from gensim.models import Word2Vec\n",
        "\n",
        "# Import NumPy for numerical and array operations\n",
        "import numpy as np"
      ],
      "metadata": {
        "colab": {
          "base_uri": "https://localhost:8080/"
        },
        "id": "UTI5ftMGSP2o",
        "outputId": "b2c6e214-d1b6-4608-fe46-2b3594b96c7a"
      },
      "execution_count": 4,
      "outputs": [
        {
          "output_type": "stream",
          "name": "stderr",
          "text": [
            "[nltk_data] Downloading package punkt to /root/nltk_data...\n",
            "[nltk_data]   Unzipping tokenizers/punkt.zip.\n",
            "[nltk_data] Downloading package stopwords to /root/nltk_data...\n",
            "[nltk_data]   Unzipping corpora/stopwords.zip.\n"
          ]
        }
      ]
    },
    {
      "cell_type": "markdown",
      "source": [
        "## Function for Cleaning & Preprocessing"
      ],
      "metadata": {
        "id": "86W50sqyTReK"
      }
    },
    {
      "cell_type": "code",
      "source": [
        "# Declare function for data cleaning and preprocessing\n",
        "def preprocess_text(text):\n",
        "\n",
        "    # Lowercasing\n",
        "    text = text.lower()\n",
        "\n",
        "    # Remove punctuation and numbers\n",
        "    text = re.sub(r'[^a-z\\s]', '', text)\n",
        "\n",
        "    # Tokenization\n",
        "    tokens = word_tokenize(text)\n",
        "\n",
        "    # Remove stopwords\n",
        "    stop_words = set(stopwords.words('english'))\n",
        "    tokens = [word for word in tokens if word not in stop_words]\n",
        "\n",
        "    # Returns a string where all elements in the list 'tokens'\n",
        "    # are concatenated into a single string, separated by spaces\n",
        "    return ' '.join(tokens)\n"
      ],
      "metadata": {
        "id": "PNSN1xizUhNw"
      },
      "execution_count": 5,
      "outputs": []
    },
    {
      "cell_type": "markdown",
      "source": [
        "## Preprocessing the Review Text"
      ],
      "metadata": {
        "id": "iLzzODO_Vgjg"
      }
    },
    {
      "cell_type": "code",
      "source": [
        "# Apply preprocessing to the review text\n",
        "data['processed_text'] = data['review_text'].apply(preprocess_text)\n"
      ],
      "metadata": {
        "id": "b_S20BBOVoj-"
      },
      "execution_count": 6,
      "outputs": []
    },
    {
      "cell_type": "markdown",
      "source": [
        "## Create Column Binary Sentiment"
      ],
      "metadata": {
        "id": "qo7uqeAdV3dB"
      }
    },
    {
      "cell_type": "code",
      "source": [
        "# Convert ratings to binary sentiment\n",
        "sentiment_mapping = {r: 1 if r > 3 else 0 for r in data['review_rating']}\n",
        "data['sentiment'] = data['review_rating'].map(sentiment_mapping)\n"
      ],
      "metadata": {
        "id": "rY0j9M-7Pw16"
      },
      "execution_count": 7,
      "outputs": []
    },
    {
      "cell_type": "markdown",
      "source": [
        "## Display Columns Preprocessed"
      ],
      "metadata": {
        "id": "WamVnz8-YUBD"
      }
    },
    {
      "cell_type": "code",
      "source": [
        "# Set the display option for max column width\n",
        "pd.set_option('display.max_colwidth', None)\n",
        "\n",
        "# Display the columns relevant to check results\n",
        "print(data[['review_rating', 'review_text', 'processed_text', 'sentiment']].head(3).T)\n"
      ],
      "metadata": {
        "colab": {
          "base_uri": "https://localhost:8080/"
        },
        "id": "f0h1bcK0XpxM",
        "outputId": "61072848-7124-4088-ccf6-b8be1cb68237"
      },
      "execution_count": 8,
      "outputs": [
        {
          "output_type": "stream",
          "name": "stdout",
          "text": [
            "                                                                                                                                                                                                                         0  \\\n",
            "review_rating                                                                                                                                                                                                            5   \n",
            "review_text     As you get older, you know what you like and what is suitable for your body. I like all Dove products. Gives you that fresh all over, wide awake feeling and no dandruff or flakey skin. No smelly a/pits!   \n",
            "processed_text                                                                                       get older know like suitable body like dove products gives fresh wide awake feeling dandruff flakey skin smelly apits   \n",
            "sentiment                                                                                                                                                                                                                1   \n",
            "\n",
            "                                                                                                                                                                                              1  \\\n",
            "review_rating                                                                                                                                                                                 5   \n",
            "review_text     Three gigantic marmite jars that will last probably a whole life! What else would you possibly wish for? Order came in time, when mentioned, safely packed. Very happy with it.   \n",
            "processed_text                                                      three gigantic marmite jars last probably whole life else would possibly wish order came time mentioned safely packed happy   \n",
            "sentiment                                                                                                                                                                                     1   \n",
            "\n",
            "                        2  \n",
            "review_rating           4  \n",
            "review_text     Excellent  \n",
            "processed_text  excellent  \n",
            "sentiment               1  \n"
          ]
        }
      ]
    },
    {
      "cell_type": "markdown",
      "source": [
        "The displayed results from the dataset reveal that the preprocessing steps effectively distilled key sentiment-related content from the original reviews, with all three examples showing high review ratings indicative of positive sentiments. The processed reviews retain critical information, focusing on aspects directly related to user experiences and satisfaction, while extraneous details are omitted. Sentiment labels consistently assigned as `1` align with the positive nature of the review ratings and the processed texts, indicating a successful preprocessing and sentiment labelling effort. This suggests that the data is well-prepared for further sentiment analysis tasks, with the preprocessing ensuring that models or analyses are based on relevant, succinct representations of the original reviews, accurately reflecting their positive sentiments."
      ],
      "metadata": {
        "id": "Jwk03d7iftrw"
      }
    },
    {
      "cell_type": "markdown",
      "source": [
        "## Extensive Data Inspection"
      ],
      "metadata": {
        "id": "-8lYSFw-8c8D"
      }
    },
    {
      "cell_type": "markdown",
      "source": [
        "### Check Missing Values\n",
        "\n",
        "> Check for missing values or inconsistent data entries"
      ],
      "metadata": {
        "id": "q-uCn_H18Nsn"
      }
    },
    {
      "cell_type": "code",
      "source": [
        "# Checking for missing values in 'review_rating' and 'review_text' columns\n",
        "missing_values = data[['review_rating', 'review_text']].isnull().sum()\n",
        "\n",
        "# Printing results in an aligned manner\n",
        "print(\"Missing values in selected columns:\")\n",
        "for column, value in missing_values.items():\n",
        "    print(f\"{column:15}= {value}\")\n"
      ],
      "metadata": {
        "colab": {
          "base_uri": "https://localhost:8080/"
        },
        "id": "nXbTFHjE8RCT",
        "outputId": "c17b8b60-e83f-4546-da1e-f4886133f56b"
      },
      "execution_count": 9,
      "outputs": [
        {
          "output_type": "stream",
          "name": "stdout",
          "text": [
            "Missing values in selected columns:\n",
            "review_rating  = 0\n",
            "review_text    = 0\n"
          ]
        }
      ]
    },
    {
      "cell_type": "markdown",
      "source": [
        "The analysis confirms that the `review_rating` and `review_text` columns have no missing values, a crucial advantage for sentiment analysis. This completeness ensures the dataset is ready for sentiment analysis without needing data imputation or streamlining preprocessing like text cleaning and tokenization. It provides a solid model training and evaluation foundation, enhancing analysis reliability. The absence of missing values in these key columns simplifies project workflows and focuses on core analytical and modelling tasks."
      ],
      "metadata": {
        "id": "Uao-1Kyp_13t"
      }
    },
    {
      "cell_type": "code",
      "source": [
        "# Assuming 'review_rating' should be between 1 and 5\n",
        "# Checking for any ratings outside this range\n",
        "invalid_ratings = data[(data['review_rating'] < 1) | (data['review_rating'] > 5)]\n",
        "\n",
        "# Printing only the relevant columns: 'review_text' and 'review_rating'\n",
        "print(\"Invalid ratings:\\n\", invalid_ratings[['review_text', 'review_rating']])\n"
      ],
      "metadata": {
        "colab": {
          "base_uri": "https://localhost:8080/"
        },
        "id": "DCTmlendDtM8",
        "outputId": "1a9fb332-5c9c-4972-c77a-f5a43b70bc3f"
      },
      "execution_count": 10,
      "outputs": [
        {
          "output_type": "stream",
          "name": "stdout",
          "text": [
            "Invalid ratings:\n",
            " Empty DataFrame\n",
            "Columns: [review_text, review_rating]\n",
            "Index: []\n"
          ]
        }
      ]
    },
    {
      "cell_type": "markdown",
      "source": [
        "The `review_rating` column analysis reveals that all ratings fall within the expected range of 1 to 5, indicating no invalid ratings in the dataset. This finding underscores the high quality of the dataset regarding rating data integrity. It eliminates the need for data cleaning steps for correcting or removing out-of-range ratings. Consequently, the dataset is well-prepared for further processing and analysis, particularly sentiment analysis, where these ratings can be directly utilized or transformed into categorical sentiment labels. This ensures a reliable foundation for the project's analytical and modelling endeavours."
      ],
      "metadata": {
        "id": "FMbmlrIzC0Rk"
      }
    },
    {
      "cell_type": "markdown",
      "source": [
        "### Data Distribution\n",
        "\n",
        "> Explore data distribution, such as the number of positive vs negative reviews."
      ],
      "metadata": {
        "id": "5QaZSFodEWd2"
      }
    },
    {
      "cell_type": "code",
      "source": [
        "# Define positive (e.g., ratings 4 and 5) and negative (e.g., ratings 1 and 2) reviews\n",
        "data['review_sentiment'] = data['review_rating'].apply(lambda x: 'Positive' if x > 3 else ('Negative' if x < 3 else 'Neutral'))\n",
        "\n",
        "# Count the number of positive vs. negative reviews\n",
        "sentiment_distribution = data['review_sentiment'].value_counts()\n",
        "\n",
        "print(sentiment_distribution)\n"
      ],
      "metadata": {
        "colab": {
          "base_uri": "https://localhost:8080/"
        },
        "id": "IBbg82PBEdcF",
        "outputId": "092ee500-80ae-4213-8081-97ab09a4908c"
      },
      "execution_count": 11,
      "outputs": [
        {
          "output_type": "stream",
          "name": "stdout",
          "text": [
            "Positive    2167\n",
            "Negative     227\n",
            "Neutral      107\n",
            "Name: review_sentiment, dtype: int64\n"
          ]
        }
      ]
    },
    {
      "cell_type": "markdown",
      "source": [
        "The dataset analyzed shows a dominant number of positive reviews (2,167) compared to negative (227) and neutral (107) reviews, indicating a general customer satisfaction or potential review collection bias. Positive reviews significantly outweigh negative and neutral ones, suggesting clear sentiment trends among reviewers, with few adopting a neutral stance. This imbalance highlights the importance of considering data diversity in sentiment analysis to avoid model biases toward positive outcomes."
      ],
      "metadata": {
        "id": "Q3c45-XnFu2U"
      }
    },
    {
      "cell_type": "markdown",
      "source": [
        "## Text Normalization\n"
      ],
      "metadata": {
        "id": "BNcyVLwTG7E_"
      }
    },
    {
      "cell_type": "markdown",
      "source": [
        "### Lemmatization and Stemming\n",
        "\n",
        "- Adding lemmatization and stemming. Lemmatization converts a word to its base form with a proper dictionary meaning, whereas stemming trims words to their root form, which might not be a valid word itself."
      ],
      "metadata": {
        "id": "qoTrzSE_PKWq"
      }
    },
    {
      "cell_type": "code",
      "source": [
        "# Ensure necessary NLTK resources are downloaded\n",
        "nltk.download('punkt')\n",
        "nltk.download('averaged_perceptron_tagger')\n",
        "nltk.download('omw-1.4')  # Make sure WordNet is up-to-date\n",
        "nltk.download('wordnet')\n"
      ],
      "metadata": {
        "colab": {
          "base_uri": "https://localhost:8080/"
        },
        "id": "Wn_mPVS_HG93",
        "outputId": "9282a418-0d3c-479b-f352-0afcbd7c7c94"
      },
      "execution_count": 12,
      "outputs": [
        {
          "output_type": "stream",
          "name": "stderr",
          "text": [
            "[nltk_data] Downloading package punkt to /root/nltk_data...\n",
            "[nltk_data]   Package punkt is already up-to-date!\n",
            "[nltk_data] Downloading package averaged_perceptron_tagger to\n",
            "[nltk_data]     /root/nltk_data...\n",
            "[nltk_data]   Unzipping taggers/averaged_perceptron_tagger.zip.\n",
            "[nltk_data] Downloading package omw-1.4 to /root/nltk_data...\n",
            "[nltk_data] Downloading package wordnet to /root/nltk_data...\n"
          ]
        },
        {
          "output_type": "execute_result",
          "data": {
            "text/plain": [
              "True"
            ]
          },
          "metadata": {},
          "execution_count": 12
        }
      ]
    },
    {
      "cell_type": "code",
      "source": [
        "# Initialize the Lemmatizer and Stemmer\n",
        "lemmatizer = WordNetLemmatizer()\n",
        "stemmer = PorterStemmer()\n"
      ],
      "metadata": {
        "id": "BupUvAigMc7N"
      },
      "execution_count": 13,
      "outputs": []
    },
    {
      "cell_type": "code",
      "source": [
        "# Defines a function to map NLTK part-of-speech tags to WordNet part-of-speech tags\n",
        "def nltk_tag_to_wordnet_tag(nltk_tag):\n",
        "\n",
        "    if nltk_tag.startswith('J'):\n",
        "        return wordnet.ADJ\n",
        "        # If the tag starts with 'J', it's an adjective in NLTK, so return the WordNet tag for adjective\n",
        "\n",
        "    elif nltk_tag.startswith('V'):\n",
        "        return wordnet.VERB\n",
        "        # If the tag starts with 'V', it's a verb, so return the WordNet tag for verb\n",
        "\n",
        "    elif nltk_tag.startswith('N'):\n",
        "        return wordnet.NOUN\n",
        "        # If the tag starts with 'N', it's a noun, so return the WordNet tag for noun\n",
        "\n",
        "    elif nltk_tag.startswith('R'):\n",
        "        return wordnet.ADV\n",
        "        # If the tag starts with 'R', it's an adverb, so return the WordNet tag for adverb\n",
        "\n",
        "    else:\n",
        "        return None\n",
        "        # If the NLTK tag doesn't start with J, V, N, or R, return None as it doesn't match any WordNet tag categories\n"
      ],
      "metadata": {
        "id": "nWB6XRDuMrxn"
      },
      "execution_count": 14,
      "outputs": []
    },
    {
      "cell_type": "code",
      "source": [
        "# Defines a function to lemmatize each word in a sentence\n",
        "def lemmatize_sentence(sentence):\n",
        "\n",
        "    words = word_tokenize(sentence)\n",
        "    # Tokenizes the sentence into individual words\n",
        "\n",
        "    lemmatized_words = []\n",
        "    # Initializes an empty list to store the lemmatized words\n",
        "\n",
        "    for word, tag in nltk.pos_tag(words):\n",
        "        # Loops through each word and its part-of-speech tag\n",
        "\n",
        "        wordnet_tag = nltk_tag_to_wordnet_tag(tag)\n",
        "        # Converts the POS tag into a WordNet POS tag\n",
        "\n",
        "        if wordnet_tag is None:\n",
        "            # If there's no corresponding WordNet tag, keep the word as is\n",
        "            lemmatized_words.append(word)\n",
        "        else:\n",
        "            # If there is a corresponding WordNet tag, lemmatize the word\n",
        "            lemmatized_words.append(lemmatizer.lemmatize(word, wordnet_tag))\n",
        "\n",
        "    return ' '.join(lemmatized_words)\n",
        "    # Joins the list of lemmatized words into a single string and returns it\n"
      ],
      "metadata": {
        "id": "ruJGhiqsM3LP"
      },
      "execution_count": 15,
      "outputs": []
    },
    {
      "cell_type": "code",
      "source": [
        "# Defines a function to stem each word in a sentence\n",
        "def stem_sentence(sentence):\n",
        "\n",
        "    words = word_tokenize(sentence)\n",
        "    # Tokenizes the sentence into individual words\n",
        "\n",
        "    stemmed_words = [stemmer.stem(word) for word in words]\n",
        "    # Uses a list comprehension to apply the stemmer to each word in the list of words\n",
        "\n",
        "    return ' '.join(stemmed_words)\n",
        "    # Joins the list of stemmed words into a single string and returns it\n"
      ],
      "metadata": {
        "id": "E0de5E6TZX7q"
      },
      "execution_count": 16,
      "outputs": []
    },
    {
      "cell_type": "code",
      "source": [
        "# Apply Lemmatization and Stemming to the review_text column\n",
        "data['lemmatized_review'] = data['review_text'].apply(lemmatize_sentence)\n",
        "data['stemmed_review'] = data['review_text'].apply(stem_sentence)\n",
        "\n",
        "# Display the first few rows to verify\n",
        "print(data[['review_text', 'lemmatized_review', 'stemmed_review']].head())\n"
      ],
      "metadata": {
        "colab": {
          "base_uri": "https://localhost:8080/"
        },
        "id": "_kUy3SqmZyPV",
        "outputId": "4621787c-07d5-47ca-8972-c09fd9ec0274"
      },
      "execution_count": 17,
      "outputs": [
        {
          "output_type": "stream",
          "name": "stdout",
          "text": [
            "                                                                                                                                                                                                  review_text  \\\n",
            "0  As you get older, you know what you like and what is suitable for your body. I like all Dove products. Gives you that fresh all over, wide awake feeling and no dandruff or flakey skin. No smelly a/pits!   \n",
            "1                             Three gigantic marmite jars that will last probably a whole life! What else would you possibly wish for? Order came in time, when mentioned, safely packed. Very happy with it.   \n",
            "2                                                                                                                                                                                                   Excellent   \n",
            "3                                                                                                                                                                  A great flavour top - up for slow cooking.   \n",
            "4                                                                                                                                                                                   Does what is says it does   \n",
            "\n",
            "                                                                                                                                                                                               lemmatized_review  \\\n",
            "0  As you get old , you know what you like and what be suitable for your body . I like all Dove product . Gives you that fresh all over , wide awake feeling and no dandruff or flakey skin . No smelly a/pits !   \n",
            "1                               Three gigantic marmite jar that will last probably a whole life ! What else would you possibly wish for ? Order come in time , when mention , safely pack . Very happy with it .   \n",
            "2                                                                                                                                                                                                      Excellent   \n",
            "3                                                                                                                                                                    A great flavour top - up for slow cooking .   \n",
            "4                                                                                                                                                                                         Does what be say it do   \n",
            "\n",
            "                                                                                                                                                                                             stemmed_review  \n",
            "0  as you get older , you know what you like and what is suitabl for your bodi . i like all dove product . give you that fresh all over , wide awak feel and no dandruff or flakey skin . no smelli a/pit !  \n",
            "1                                  three gigant marmit jar that will last probabl a whole life ! what els would you possibl wish for ? order came in time , when mention , safe pack . veri happi with it .  \n",
            "2                                                                                                                                                                                                     excel  \n",
            "3                                                                                                                                                                  a great flavour top - up for slow cook .  \n",
            "4                                                                                                                                                                                    doe what is say it doe  \n"
          ]
        }
      ]
    },
    {
      "cell_type": "markdown",
      "source": [
        "The results demonstrate the application of lemmatization and stemming on review texts, highlighting key differences. Lemmatization retains words in a form closer to their lexicographic roots, ensuring grammatical correctness and preserving the original meaning. Stemming simplifies words more aggressively to their stem forms, often leading to non-words, but helps consolidate word variations. Lemmatization is preferable for tasks requiring semantic accuracy and grammatical integrity while stemming is beneficial for search and indexing applications where speed and matching word variations are prioritized. Both techniques reduce the complexity of natural language data, aiding in text analysis by decreasing the number of unique words."
      ],
      "metadata": {
        "id": "rSuIsjTBcwzX"
      }
    },
    {
      "cell_type": "markdown",
      "source": [
        "### Handling Negations\n",
        "\n",
        "Sometimes, negations (like \"not bad\") can be crucial for sentiment analysis. Define a strategy to handle such cases."
      ],
      "metadata": {
        "id": "D-yvGY-VawEr"
      }
    },
    {
      "cell_type": "code",
      "source": [
        "# Define a function to handle negations\n",
        "def handle_negations(text):\n",
        "\n",
        "    # Pattern to identify negations followed by an alphanumeric word\n",
        "    negation_pattern = re.compile(r'\\b(not|no|never|n\\'t)\\s([a-zA-Z]+)')\n",
        "\n",
        "    # Replace the identified pattern with the combined form (e.g., \"not_good\")\n",
        "    modified_text = negation_pattern.sub(lambda x: x.group(1) + '_' + x.group(2), text)\n",
        "\n",
        "    return modified_text\n"
      ],
      "metadata": {
        "id": "CXmqJv6OazJT"
      },
      "execution_count": 18,
      "outputs": []
    },
    {
      "cell_type": "code",
      "source": [
        "# Apply the function to the 'review_text' column\n",
        "data['handled_negations'] = data['review_text'].apply(handle_negations)\n",
        "\n",
        "# Display the first few rows to verify the changes\n",
        "print(data[['review_text', 'handled_negations']].head())\n"
      ],
      "metadata": {
        "colab": {
          "base_uri": "https://localhost:8080/"
        },
        "id": "qwxsITH0ejAB",
        "outputId": "ec5659f8-5fea-4746-b253-ef7726990dae"
      },
      "execution_count": 19,
      "outputs": [
        {
          "output_type": "stream",
          "name": "stdout",
          "text": [
            "                                                                                                                                                                                                  review_text  \\\n",
            "0  As you get older, you know what you like and what is suitable for your body. I like all Dove products. Gives you that fresh all over, wide awake feeling and no dandruff or flakey skin. No smelly a/pits!   \n",
            "1                             Three gigantic marmite jars that will last probably a whole life! What else would you possibly wish for? Order came in time, when mentioned, safely packed. Very happy with it.   \n",
            "2                                                                                                                                                                                                   Excellent   \n",
            "3                                                                                                                                                                  A great flavour top - up for slow cooking.   \n",
            "4                                                                                                                                                                                   Does what is says it does   \n",
            "\n",
            "                                                                                                                                                                                            handled_negations  \n",
            "0  As you get older, you know what you like and what is suitable for your body. I like all Dove products. Gives you that fresh all over, wide awake feeling and no_dandruff or flakey skin. No smelly a/pits!  \n",
            "1                             Three gigantic marmite jars that will last probably a whole life! What else would you possibly wish for? Order came in time, when mentioned, safely packed. Very happy with it.  \n",
            "2                                                                                                                                                                                                   Excellent  \n",
            "3                                                                                                                                                                  A great flavour top - up for slow cooking.  \n",
            "4                                                                                                                                                                                   Does what is says it does  \n"
          ]
        }
      ]
    },
    {
      "cell_type": "markdown",
      "source": [
        "The function for handling negations within the dataset's `review_text` column successfully identifies and processes negations by merging them with the following word (e.g., \"no dandruff\" becomes \"no_dandruff\"). This method is selectively applied, altering the text only where negations are present and leaving other parts of the review unchanged. Such targeted modification is crucial for sentiment analysis, as it preserves the original sentiment's context, particularly in cases where negations can significantly alter the sentiment conveyed. This preprocessing step enhances the dataset's readiness for sentiment analysis by ensuring that negations' nuanced effects are accurately represented, thereby improving the analysis's overall accuracy and reliability."
      ],
      "metadata": {
        "id": "-SxUe9rMgyvG"
      }
    },
    {
      "cell_type": "markdown",
      "source": [
        "## Text Vectorization\n",
        "\n",
        "Converting text data into a format suitable for machine learning models. Common approaches are TF-IDF (Term Frequency-Inverse Document Frequency) using word embeddings from models like Word2Vec and BERT (🤗 Transformers)."
      ],
      "metadata": {
        "id": "OvmnWiw9pC40"
      }
    },
    {
      "cell_type": "markdown",
      "source": [
        "### TF-IDF Vectorization\n"
      ],
      "metadata": {
        "id": "mEdvmwjXqdVW"
      }
    },
    {
      "cell_type": "code",
      "source": [
        "# Import TF-IDF Vectorizer from scikit-learn for text vectorization\n",
        "from sklearn.feature_extraction.text import TfidfVectorizer\n",
        "\n",
        "# Extract the 'processed_text' column from the DataFrame to a variable for processing\n",
        "texts = data['processed_text']\n",
        "\n",
        "# Initialize the TF-IDF Vectorizer\n",
        "tfidf_vectorizer = TfidfVectorizer()\n",
        "\n",
        "# Fit the vectorizer to the text data and transform the texts into TF-IDF vectors\n",
        "tfidf_vectors = tfidf_vectorizer.fit_transform(texts)\n",
        "# tfidf_vectors is a sparse matrix with TF-IDF values. It can be used for machine learning models\n"
      ],
      "metadata": {
        "id": "pTBHWxAxqmni"
      },
      "execution_count": 20,
      "outputs": []
    },
    {
      "cell_type": "markdown",
      "source": [
        "### BERT (🤗 Transformers) Embedding\n",
        "\n",
        "**BERT (requires a GPU for faster results)**"
      ],
      "metadata": {
        "id": "MLWUNoqKtKh8"
      }
    },
    {
      "cell_type": "code",
      "source": [
        "# Import BERT tokenizer and model from the Hugging Face Transformers library for NLP tasks\n",
        "from transformers import BertTokenizer, BertModel\n",
        "\n",
        "# Import PyTorch, a deep learning library used for working with BERT and other transformers models\n",
        "import torch\n",
        "\n",
        "# Defines a function to get BERT embeddings for a given text\n",
        "def get_bert_embeddings(text, tokenizer, model):\n",
        "\n",
        "    # Disables gradient calculations to save memory and computations\n",
        "    with torch.no_grad():\n",
        "\n",
        "        # Tokenizes the text, adding padding and truncation, and converts to PyTorch tensors\n",
        "        inputs = tokenizer(text, padding=True, truncation=True, return_tensors='pt')\n",
        "\n",
        "        # Feeds the tokenized inputs into the BERT model to get the output\n",
        "        outputs = model(**inputs)\n",
        "\n",
        "        # Averages the last hidden state across all tokens and removes extra dimensions\n",
        "        embeddings = outputs.last_hidden_state.mean(dim=1).squeeze().numpy()\n",
        "\n",
        "    # Returns the computed embeddings\n",
        "    return embeddings\n",
        "\n",
        "# Initialize BERT tokenizer and model\n",
        "bert_tokenizer = BertTokenizer.from_pretrained('bert-base-uncased')\n",
        "bert_model = BertModel.from_pretrained('bert-base-uncased')\n",
        "bert_embeddings = data['processed_text'].apply(get_bert_embeddings, args=(bert_tokenizer, bert_model))\n"
      ],
      "metadata": {
        "colab": {
          "base_uri": "https://localhost:8080/",
          "height": 281,
          "referenced_widgets": [
            "4f501820d86c4ad28d2a41d00dd39625",
            "b61b0b87405b4bfb944da61517b51ded",
            "24b8910ecdc24545a7385612059b4275",
            "ca40c4be48c64718b2f10ad127a4ab8c",
            "3ccc5c90a85749f8b2f8cd8df5da0c2c",
            "a116b53578784c4c8c9abbd57280bd0a",
            "ea9b4898727444918da9be916973820b",
            "0d12b89bbe4348999a8c797d4667adfc",
            "f28fe866fa29432bb8a905654fe95f13",
            "a5f855199712432983c7897b1f418714",
            "9da906bbd2c4425598c419b035ffa8e1",
            "d40d72465cb245efb43cb1cedd05d63e",
            "fdf1144e6eaa46428c3bcf10730e2d2e",
            "7eb75fd1d89449d59de00d80d8c59542",
            "e73476e134db447fab37e4360c7ae28a",
            "33e5b2752d0f4b418e97a0bfe31af19a",
            "da5c4755d4b54466a8692943ba521c86",
            "c4bd10aca5eb48dd92a671dd2b40212a",
            "b573ebd8b7fc47ac93c03630cef40ad6",
            "9da3215a27cf4bdc9c9f08b74692248e",
            "6042698dc9774111a6a9fe5d1ddd8e2a",
            "264d158cf9d642ddbbe852d12f505107",
            "c8589277bd1243f5aae9769e2310dc37",
            "b325ce838a4c4b999ea95d5b9997b755",
            "8dd10fabf71a452f922e6f9d32c0c37f",
            "0409da2a3ef641dd9fca9eadaf18ef7b",
            "f7e82e394b0c430ab05c30ea0de0de76",
            "4f4a9415b1074e3a800fc9bc26923533",
            "adc16f9e9dcc475da68f22529ba9395e",
            "fd8a37919b8d4638bdace47e5a4ad7f4",
            "10ca9896ee4e4e45a8e90c99e4548e18",
            "4bb1f5ff2308461386065ecf8aa015ac",
            "dd82de8c468347e2a003e7417e88da30",
            "2984df23d2704c43a4040deb953b4802",
            "6387bc75c5f94960a081afd2c8989e2c",
            "16afd507ebe84e82b8ef2896d2764449",
            "6713d346c052405da57e5e7c9303d1c8",
            "f71496bd4bba47dd87c0d58060bd21a0",
            "9f27865af018429d934c26de6f9661ed",
            "18d31ff24b044c66a2f76433b323b46d",
            "9e045561e87848de8e43a7b08c777dd1",
            "10df8199f1bb4a4680c0aa5ad948fad2",
            "be412f0250af4a469a1dee0ead439d05",
            "831bc9039dda4b23aac62fc8bf4cc815",
            "1f81ff579d104665ac52c5b471e80840",
            "b0192d68cc1c4c77935dcca6361ea07e",
            "a3f502d2c5734f96a1459d9aa096d5ca",
            "c59b4f25f32b4ae5bb5cc6838937cac1",
            "31608ebe3ce44690b296205019eec3fb",
            "fb34a027df434e2894cd0dc9484d904b",
            "f8621e15bf7e4c25bcbc71ee517471df",
            "133fd4c188674308a3eca234d47436d4",
            "e9e6801170bb4f329c6af6fb41599553",
            "cd52346f5fa74bb4af046405699ee9fa",
            "50845248e39b4c62b9879a388234a9d4"
          ]
        },
        "id": "ZcpAvJxJtLfL",
        "outputId": "620e95a6-5f00-452e-e636-afebfe0eccc7"
      },
      "execution_count": 21,
      "outputs": [
        {
          "output_type": "stream",
          "name": "stderr",
          "text": [
            "/usr/local/lib/python3.10/dist-packages/huggingface_hub/utils/_token.py:88: UserWarning: \n",
            "The secret `HF_TOKEN` does not exist in your Colab secrets.\n",
            "To authenticate with the Hugging Face Hub, create a token in your settings tab (https://huggingface.co/settings/tokens), set it as secret in your Google Colab and restart your session.\n",
            "You will be able to reuse this secret in all of your notebooks.\n",
            "Please note that authentication is recommended but still optional to access public models or datasets.\n",
            "  warnings.warn(\n"
          ]
        },
        {
          "output_type": "display_data",
          "data": {
            "text/plain": [
              "tokenizer_config.json:   0%|          | 0.00/48.0 [00:00<?, ?B/s]"
            ],
            "application/vnd.jupyter.widget-view+json": {
              "version_major": 2,
              "version_minor": 0,
              "model_id": "4f501820d86c4ad28d2a41d00dd39625"
            }
          },
          "metadata": {}
        },
        {
          "output_type": "display_data",
          "data": {
            "text/plain": [
              "vocab.txt:   0%|          | 0.00/232k [00:00<?, ?B/s]"
            ],
            "application/vnd.jupyter.widget-view+json": {
              "version_major": 2,
              "version_minor": 0,
              "model_id": "d40d72465cb245efb43cb1cedd05d63e"
            }
          },
          "metadata": {}
        },
        {
          "output_type": "display_data",
          "data": {
            "text/plain": [
              "tokenizer.json:   0%|          | 0.00/466k [00:00<?, ?B/s]"
            ],
            "application/vnd.jupyter.widget-view+json": {
              "version_major": 2,
              "version_minor": 0,
              "model_id": "c8589277bd1243f5aae9769e2310dc37"
            }
          },
          "metadata": {}
        },
        {
          "output_type": "display_data",
          "data": {
            "text/plain": [
              "config.json:   0%|          | 0.00/570 [00:00<?, ?B/s]"
            ],
            "application/vnd.jupyter.widget-view+json": {
              "version_major": 2,
              "version_minor": 0,
              "model_id": "2984df23d2704c43a4040deb953b4802"
            }
          },
          "metadata": {}
        },
        {
          "output_type": "display_data",
          "data": {
            "text/plain": [
              "model.safetensors:   0%|          | 0.00/440M [00:00<?, ?B/s]"
            ],
            "application/vnd.jupyter.widget-view+json": {
              "version_major": 2,
              "version_minor": 0,
              "model_id": "1f81ff579d104665ac52c5b471e80840"
            }
          },
          "metadata": {}
        }
      ]
    },
    {
      "cell_type": "markdown",
      "source": [
        "### Train Word2Vec model"
      ],
      "metadata": {
        "id": "5nWmWI9BUbva"
      }
    },
    {
      "cell_type": "code",
      "source": [
        "# Define a function to convert text into a vector using a Word2Vec model\n",
        "def vectorize_with_word2vec(text, model):\n",
        "\n",
        "    # Split the text into individual words (tokens)\n",
        "    tokens = text.split()\n",
        "\n",
        "    # For each token in the text, get its vector from the model if it exists in the model's vocabulary\n",
        "    vectors = [model.wv[t] for t in tokens if t in model.wv]\n",
        "\n",
        "    # Return the mean of all word vectors if there are any, otherwise return a zero vector of the model's vector size\n",
        "    return np.mean(vectors, axis=0) if vectors else np.zeros(model.vector_size)\n",
        "\n",
        "# Train a Word2Vec model (or load a pre-trained one)\n",
        "word2vec_model = Word2Vec(data['processed_text'], vector_size=100, window=5, min_count=1)\n",
        "word2vec_vectors = data['processed_text'].apply(vectorize_with_word2vec, args=(word2vec_model,))\n"
      ],
      "metadata": {
        "id": "qOMIYppaPpjG",
        "colab": {
          "base_uri": "https://localhost:8080/"
        },
        "outputId": "eba04d7d-bbca-4762-8db4-37ec2c89df2a"
      },
      "execution_count": 22,
      "outputs": [
        {
          "output_type": "stream",
          "name": "stderr",
          "text": [
            "WARNING:gensim.models.word2vec:Each 'sentences' item should be a list of words (usually unicode strings). First item here is instead plain <class 'str'>.\n"
          ]
        }
      ]
    },
    {
      "cell_type": "markdown",
      "source": [
        "# Models Building and Evaluation"
      ],
      "metadata": {
        "id": "up-WLMgFmwL_"
      }
    },
    {
      "cell_type": "markdown",
      "source": [
        "## TF-IDF Vectorization"
      ],
      "metadata": {
        "id": "Gkrjkd9mm__Z"
      }
    },
    {
      "cell_type": "markdown",
      "source": [
        "### Import Scikit-Learn Libraries"
      ],
      "metadata": {
        "id": "7BT1w-OJqFGW"
      }
    },
    {
      "cell_type": "code",
      "source": [
        "# Import the TfidfVectorizer class for converting a collection of raw documents into a matrix of TF-IDF features\n",
        "from sklearn.feature_extraction.text import TfidfVectorizer\n",
        "\n",
        "# Import the train_test_split function for splitting a dataset into training and testing subsets\n",
        "from sklearn.model_selection import train_test_split\n",
        "\n",
        "# Import the LogisticRegression class for performing logistic regression\n",
        "from sklearn.linear_model import LogisticRegression\n",
        "\n",
        "# Import the SVC (Support Vector Classifier) class for performing support vector machine classification\n",
        "from sklearn.svm import SVC\n",
        "\n",
        "# Import accuracy_score, f1_score, and confusion_matrix for evaluating the model's performance\n",
        "from sklearn.metrics import accuracy_score, f1_score, confusion_matrix\n"
      ],
      "metadata": {
        "id": "ZxAFDFvZm-1B"
      },
      "execution_count": 23,
      "outputs": []
    },
    {
      "cell_type": "markdown",
      "source": [
        "### Slipt the Data and use Logistic Regression"
      ],
      "metadata": {
        "id": "wlx0Ei03qma6"
      }
    },
    {
      "cell_type": "code",
      "source": [
        "# Use train_test_split to divide the data into training and testing sets, specifying the size of the test set and a random state for reproducibility\n",
        "X_train, X_test, y_train, y_test = train_test_split(tfidf_vectors, data['sentiment'], test_size=0.2, random_state=42)\n",
        "\n",
        "# Initialize the LogisticRegression model\n",
        "model = LogisticRegression()\n"
      ],
      "metadata": {
        "id": "xrS-XbzHqyPo"
      },
      "execution_count": 24,
      "outputs": []
    },
    {
      "cell_type": "markdown",
      "source": [
        "### Train the Model and store prediction"
      ],
      "metadata": {
        "id": "JKgY7R9BrPCp"
      }
    },
    {
      "cell_type": "code",
      "source": [
        "# Train the model using the training data.\n",
        "model.fit(X_train, y_train)\n",
        "\n",
        "# Predict the sentiment for the test data.\n",
        "y_pred = model.predict(X_test)\n"
      ],
      "metadata": {
        "id": "TNU4KgYkrZ4a"
      },
      "execution_count": 25,
      "outputs": []
    },
    {
      "cell_type": "markdown",
      "source": [
        "### Evaluate the Model"
      ],
      "metadata": {
        "id": "dZrVWHUIru4d"
      }
    },
    {
      "cell_type": "code",
      "source": [
        "# Calculate the accuracy of the model predictions.\n",
        "accuracy = accuracy_score(y_test, y_pred)\n",
        "\n",
        "# Calculate the F1 score of the model predictions.\n",
        "f1 = f1_score(y_test, y_pred)\n",
        "\n",
        "# Generate the confusion matrix for the model predictions.\n",
        "cm = confusion_matrix(y_test, y_pred)\n"
      ],
      "metadata": {
        "id": "PwT9vd1Ur1R1"
      },
      "execution_count": 26,
      "outputs": []
    },
    {
      "cell_type": "markdown",
      "source": [
        "### Print the Evaluation Metrics"
      ],
      "metadata": {
        "id": "JW6pwd5SsM-2"
      }
    },
    {
      "cell_type": "code",
      "source": [
        "# Print the accuracy of the model\n",
        "print(\"\\nAccuracy:\", accuracy)\n",
        "\n",
        "# Print the F1 score of the model\n",
        "print(\"\\nF1-Score:\", f1)\n",
        "\n",
        "# Print the confusion matrix of the model predictions\n",
        "print(\"\\nConfusion Matrix:\\n\", cm)\n"
      ],
      "metadata": {
        "colab": {
          "base_uri": "https://localhost:8080/"
        },
        "id": "SgeRiXiQsUuH",
        "outputId": "7e3f227b-5b1c-44e1-b855-3e93bbdaee95"
      },
      "execution_count": 27,
      "outputs": [
        {
          "output_type": "stream",
          "name": "stdout",
          "text": [
            "\n",
            "Accuracy: 0.8822355289421158\n",
            "\n",
            "F1-Score: 0.9363538295577131\n",
            "\n",
            "Confusion Matrix:\n",
            " [[  8  59]\n",
            " [  0 434]]\n"
          ]
        }
      ]
    },
    {
      "cell_type": "markdown",
      "source": [
        "## BERT (🤗 Transformers) Embedding"
      ],
      "metadata": {
        "id": "KqZ83QpmnzEt"
      }
    },
    {
      "cell_type": "markdown",
      "source": [
        "### Import Scikit-Learn Libraries"
      ],
      "metadata": {
        "id": "mjFw3hnw8xVP"
      }
    },
    {
      "cell_type": "code",
      "source": [
        "# Import the PyTorch library for deep learning\n",
        "import torch\n",
        "\n",
        "# Import BERT tokenizer and model from the transformers library\n",
        "from transformers import BertTokenizer, BertModel\n",
        "\n",
        "# Import function to split data into training and testing sets\n",
        "from sklearn.model_selection import train_test_split\n",
        "\n",
        "# Import the Logistic Regression model from scikit-learn\n",
        "from sklearn.linear_model import LogisticRegression\n",
        "\n",
        "# Import evaluation metrics from scikit-learn\n",
        "from sklearn.metrics import accuracy_score, f1_score, confusion_matrix\n",
        "\n",
        "# Import the NumPy library for numerical operations\n",
        "import numpy as np\n"
      ],
      "metadata": {
        "id": "cnHS-BhG80h1"
      },
      "execution_count": 28,
      "outputs": []
    },
    {
      "cell_type": "markdown",
      "source": [
        "### Slipt the Data and use Logistic Regression"
      ],
      "metadata": {
        "id": "1wD2BEjP9NFu"
      }
    },
    {
      "cell_type": "code",
      "source": [
        "# Convert each BERT embedding to a NumPy array to ensure consistent data type and shape\n",
        "bert_embeddings_np = [np.array(embedding) for embedding in bert_embeddings]\n",
        "\n",
        "# Calculate the length of each embedding to check for consistency\n",
        "embedding_lengths = [len(embedding) for embedding in bert_embeddings_np]\n",
        "\n",
        "# Check if all embeddings have the same length, ensuring data uniformity\n",
        "if len(set(embedding_lengths)) == 1:\n",
        "\n",
        "    # Stack embeddings vertically to create a 2D array suitable for model input\n",
        "    X = np.vstack(bert_embeddings_np)\n",
        "\n",
        "else:\n",
        "    # Raise an error if embeddings are of different lengths, indicating inconsistency\n",
        "    raise ValueError(\"Not all embeddings are of the same length.\")\n",
        "\n",
        "y = data['sentiment']  # Extract sentiment labels from the dataset\n",
        "\n",
        "# Split the dataset into training and testing sets with a test size of 20% and a fixed random state for reproducibility\n",
        "X_train, X_test, y_train, y_test = train_test_split(X, y, test_size=0.2, random_state=42)\n",
        "\n",
        "# Initialize the Logistic Regression model with an increased number of iterations for convergence\n",
        "model = LogisticRegression(max_iter=1000)\n"
      ],
      "metadata": {
        "id": "gVQ0mHu89PBH"
      },
      "execution_count": 29,
      "outputs": []
    },
    {
      "cell_type": "markdown",
      "source": [
        "### Train the Model and store prediction"
      ],
      "metadata": {
        "id": "LIDSivxS9gG8"
      }
    },
    {
      "cell_type": "code",
      "source": [
        "# Train the model using the training data\n",
        "model.fit(X_train, y_train)\n",
        "\n",
        "# Use the trained model to predict sentiment labels for the test set\n",
        "y_pred = model.predict(X_test)\n"
      ],
      "metadata": {
        "id": "6Kp_d3qA9h6N"
      },
      "execution_count": 30,
      "outputs": []
    },
    {
      "cell_type": "markdown",
      "source": [
        "### Evaluate the Model"
      ],
      "metadata": {
        "id": "4pyNTWGO91Tv"
      }
    },
    {
      "cell_type": "code",
      "source": [
        "# Calculate the accuracy of the predictions\n",
        "accuracy = accuracy_score(y_test, y_pred)\n",
        "# Calculate the F1 score with a weighted average to account for label imbalance\n",
        "f1 = f1_score(y_test, y_pred, average='weighted')\n",
        "# Generate a confusion matrix to evaluate the model's performance\n",
        "cm = confusion_matrix(y_test, y_pred)\n"
      ],
      "metadata": {
        "id": "gJwldvWF94oO"
      },
      "execution_count": 31,
      "outputs": []
    },
    {
      "cell_type": "markdown",
      "source": [
        "### Print the Evaluation Metrics"
      ],
      "metadata": {
        "id": "d1xisz7Q-Gs6"
      }
    },
    {
      "cell_type": "code",
      "source": [
        "print(\"Accuracy:\", accuracy)\n",
        "print(\"F1-Score:\", f1)\n",
        "print(\"Confusion Matrix:\\n\", cm)\n"
      ],
      "metadata": {
        "colab": {
          "base_uri": "https://localhost:8080/"
        },
        "id": "9OAOKkqD-JVA",
        "outputId": "66983d32-865f-4b66-82f5-83beee980bc4"
      },
      "execution_count": 32,
      "outputs": [
        {
          "output_type": "stream",
          "name": "stdout",
          "text": [
            "Accuracy: 0.9261477045908184\n",
            "F1-Score: 0.9201575943646121\n",
            "Confusion Matrix:\n",
            " [[ 38  29]\n",
            " [  8 426]]\n"
          ]
        }
      ]
    },
    {
      "cell_type": "markdown",
      "source": [
        "## Text Vectorization"
      ],
      "metadata": {
        "id": "EIV7Q3gm_ND0"
      }
    },
    {
      "cell_type": "markdown",
      "source": [
        "### Import Scikit-Learn Libraries"
      ],
      "metadata": {
        "id": "WTxIMGr6_RsF"
      }
    },
    {
      "cell_type": "code",
      "source": [
        "# Imports the TF-IDF Vectorizer from scikit-learn\n",
        "from sklearn.feature_extraction.text import TfidfVectorizer\n",
        "\n",
        "# Imports function to split datasets into training and testing sets\n",
        "from sklearn.model_selection import train_test_split\n"
      ],
      "metadata": {
        "id": "m1XNfzDT_TQp"
      },
      "execution_count": 33,
      "outputs": []
    },
    {
      "cell_type": "markdown",
      "source": [
        "### Slipt the Data and use Logistic Regression"
      ],
      "metadata": {
        "id": "jTNiGg6wOoDI"
      }
    },
    {
      "cell_type": "code",
      "source": [
        "# Extracts the column of preprocessed texts from the DataFrame\n",
        "texts = data['processed_text']\n",
        "\n",
        "# Extracts the sentiment labels column from the DataFrame\n",
        "labels = data['sentiment']\n",
        "\n",
        "# Split the data into training and testing sets\n",
        "X_train, X_test, y_train, y_test = train_test_split(tfidf_vectors, labels, test_size=0.2, random_state=42)  # Splits the dataset\n",
        "\n",
        "# Initialize the Logistic Regression model\n",
        "lr_model = LogisticRegression()  # Creates an instance of the Logistic Regression model\n"
      ],
      "metadata": {
        "id": "VTPWdw8dOpr2"
      },
      "execution_count": 34,
      "outputs": []
    },
    {
      "cell_type": "markdown",
      "source": [
        "### Train the Model and store prediction"
      ],
      "metadata": {
        "id": "_x2ZdQqGO7kj"
      }
    },
    {
      "cell_type": "code",
      "source": [
        "# Train the model with the training data\n",
        "lr_model.fit(X_train, y_train)  # Fits the model to the training data\n",
        "\n",
        "# Predict the sentiment labels for the testing data\n",
        "y_pred = lr_model.predict(X_test)  # Predicts sentiment labels for the test set\n"
      ],
      "metadata": {
        "id": "Vx8TemMKO9Mi"
      },
      "execution_count": 35,
      "outputs": []
    },
    {
      "cell_type": "markdown",
      "source": [
        "### Evaluate the Model"
      ],
      "metadata": {
        "id": "NCPddXF_PLtb"
      }
    },
    {
      "cell_type": "code",
      "source": [
        "# Calculates the accuracy of the predictions\n",
        "accuracy = accuracy_score(y_test, y_pred)\n",
        "\n",
        "# Calculates the F1 score with a weighted average\n",
        "f1 = f1_score(y_test, y_pred, average='weighted')\n",
        "\n",
        "# Generates the confusion matrix for the predictions\n",
        "conf_matrix = confusion_matrix(y_test, y_pred)\n"
      ],
      "metadata": {
        "id": "FdvT-jZ8PNqF"
      },
      "execution_count": 36,
      "outputs": []
    },
    {
      "cell_type": "markdown",
      "source": [
        "### Print the Evaluation Metrics"
      ],
      "metadata": {
        "id": "BQU3VqWePeDE"
      }
    },
    {
      "cell_type": "code",
      "source": [
        "# Prints the accuracy of the model\n",
        "print(f\"Accuracy: {accuracy}\")\n",
        "\n",
        "# Prints the F1 score of the model\n",
        "print(f\"F1 Score: {f1}\")\n",
        "\n",
        " # Indicates the next line will print the confusion matrix\n",
        "print(\"Confusion Matrix:\")\n",
        "\n",
        "# Prints the confusion matrix\n",
        "print(conf_matrix)\n"
      ],
      "metadata": {
        "colab": {
          "base_uri": "https://localhost:8080/"
        },
        "id": "qas2xMNFPhV4",
        "outputId": "6c04421b-1ae3-4689-e262-0fe600ac84f2"
      },
      "execution_count": 37,
      "outputs": [
        {
          "output_type": "stream",
          "name": "stdout",
          "text": [
            "Accuracy: 0.8822355289421158\n",
            "F1 Score: 0.8396624657911793\n",
            "Confusion Matrix:\n",
            "[[  8  59]\n",
            " [  0 434]]\n"
          ]
        }
      ]
    },
    {
      "cell_type": "markdown",
      "source": [
        "# Advanced Text Preprocessing and Feature Engineering\n",
        "\n"
      ],
      "metadata": {
        "id": "JKzmWnzijrAU"
      }
    },
    {
      "cell_type": "markdown",
      "source": [
        "## Custom Stopword Removal"
      ],
      "metadata": {
        "id": "udfv4ao-kVZk"
      }
    },
    {
      "cell_type": "code",
      "source": [
        "# Define function Removes custom stopwords from a given text\n",
        "def remove_custom_stopwords(text, custom_stopwords):\n",
        "\n",
        "    # Tokenize the input text into individual words\n",
        "    tokens = word_tokenize(text)\n",
        "\n",
        "    # Create a list of tokens that are not in the custom stopwords list, case-insensitively\n",
        "    filtered_tokens = [word for word in tokens if word.lower() not in custom_stopwords]\n",
        "\n",
        "    # Join the filtered tokens back into a string and return it\n",
        "    return ' '.join(filtered_tokens)\n",
        "\n",
        "# Define a list of additional stopwords based on domain knowledge or frequent but less informative words\n",
        "custom_stopwords = ['amazon', 'product', 'really', 'like', 'would', 'buy']\n",
        "\n",
        "# Apply the custom stopword removal function to each review in the dataset, updating the 'processed_reviews' column\n",
        "data['processed_reviews'] = data['review_text'].apply(lambda x: remove_custom_stopwords(x, custom_stopwords))\n"
      ],
      "metadata": {
        "id": "OV1AO-85kIN-"
      },
      "execution_count": 38,
      "outputs": []
    },
    {
      "cell_type": "markdown",
      "source": [
        "## Synonym Handling"
      ],
      "metadata": {
        "id": "2uqdZy6D0r7R"
      }
    },
    {
      "cell_type": "code",
      "source": [
        "# Define a function Replaces words with their most common synonym to reduce feature space\n",
        "def replace_synonyms(text):\n",
        "\n",
        "    # Tokenize the input text into individual words\n",
        "    tokens = word_tokenize(text)\n",
        "\n",
        "    # Initialize an empty list to hold the new tokens after synonym replacement\n",
        "    new_tokens = []\n",
        "\n",
        "    for word in tokens:\n",
        "\n",
        "        # Retrieve a set of synonyms for the current word\n",
        "        synonyms = wordnet.synsets(word)\n",
        "\n",
        "        if synonyms:\n",
        "          # Select the first synonym's first lemma (most common synonym) if synonyms are available\n",
        "          most_common_synonym = synonyms[0].lemmas()[0].name()\n",
        "\n",
        "          # Add the most common synonym to the new tokens list\n",
        "          new_tokens.append(most_common_synonym)\n",
        "\n",
        "        else:\n",
        "\n",
        "          # If no synonyms are found, add the original word to the new tokens list\n",
        "          new_tokens.append(word)\n",
        "\n",
        "    # Join the new tokens back into a string and return it\n",
        "    return ' '.join(new_tokens)\n",
        "\n",
        "# Apply the synonym replacement function to each review in the dataset, updating the 'processed_reviews' column\n",
        "data['processed_reviews'] = data['review_text'].apply(replace_synonyms)\n"
      ],
      "metadata": {
        "id": "IVEF7y5D0sxE"
      },
      "execution_count": 39,
      "outputs": []
    },
    {
      "cell_type": "markdown",
      "source": [
        "## N-Grams"
      ],
      "metadata": {
        "id": "SbMXGPRp1wbr"
      }
    },
    {
      "cell_type": "code",
      "source": [
        "# Import CountVectorizer for text feature extraction\n",
        "from sklearn.feature_extraction.text import CountVectorizer\n",
        "\n",
        "# Initialize CountVectorizer with n-gram range to include both unigrams and bigrams for richer text representation\n",
        "vectorizer = CountVectorizer(ngram_range=(1, 2))\n",
        "\n",
        "# Transform the processed reviews into a sparse matrix of token counts, capturing both unigram and bigram frequencies\n",
        "X = vectorizer.fit_transform(data['processed_reviews'])\n"
      ],
      "metadata": {
        "id": "2uFc9g801zg7"
      },
      "execution_count": 40,
      "outputs": []
    },
    {
      "cell_type": "markdown",
      "source": [
        "## Feature Scaling"
      ],
      "metadata": {
        "id": "ZJz4gSBc2sOR"
      }
    },
    {
      "cell_type": "code",
      "source": [
        "# Import StandardScaler for feature scaling\n",
        "from sklearn.preprocessing import StandardScaler\n",
        "\n",
        "# Initialize a StandardScaler to scale features to zero mean and unit variance\n",
        "scaler = StandardScaler(with_mean=False)\n",
        "\n",
        "# Apply the scaler to the TF-IDF vectors, standardizing them to have zero mean and unit variance\n",
        "tfidf_scaled = scaler.fit_transform(tfidf_vectors)\n"
      ],
      "metadata": {
        "id": "pA_HzuEE2tJN"
      },
      "execution_count": 41,
      "outputs": []
    },
    {
      "cell_type": "markdown",
      "source": [
        "# Models Building and Evaluation"
      ],
      "metadata": {
        "id": "eZcBpz8s3gk5"
      }
    },
    {
      "cell_type": "code",
      "source": [
        "# Import train_test_split to divide data into training and testing sets\n",
        "from sklearn.model_selection import train_test_split\n",
        "\n",
        "# Import LogisticRegression for logistic regression modeling\n",
        "from sklearn.linear_model import LogisticRegression\n",
        "\n",
        "# Import SVC for Support Vector Machine classification\n",
        "from sklearn.svm import SVC\n",
        "\n",
        "# Import RandomForestClassifier for random forest modeling\n",
        "from sklearn.ensemble import RandomForestClassifier\n",
        "\n",
        "# Import metrics for model evaluation\n",
        "from sklearn.metrics import accuracy_score, f1_score, confusion_matrix\n",
        "\n",
        "# Split the standardized TF-IDF vectors and sentiment labels into training and testing sets with a 20% test size\n",
        "X_train, X_test, y_train, y_test = train_test_split(tfidf_scaled, data['sentiment'], test_size=0.2, random_state=42)\n",
        "\n",
        "# Initialize a list of tuples where each tuple contains a model name and its corresponding initialized object\n",
        "models = [\n",
        "\n",
        "    # Logistic regression model\n",
        "    ('Logistic Regression', LogisticRegression()),\n",
        "\n",
        "    # Linear Support Vector Machine model\n",
        "    ('Support Vector Machine', SVC(kernel='linear')),\n",
        "\n",
        "    # Random Forest model\n",
        "    ('Random Forest', RandomForestClassifier())\n",
        "]\n",
        "\n",
        "# Loop through each model to train and evaluate them on the test data\n",
        "for name, model in models:\n",
        "\n",
        "    # Train the model on the training set\n",
        "    model.fit(X_train, y_train)\n",
        "\n",
        "    # Predict sentiment labels for the test set\n",
        "    y_pred = model.predict(X_test)\n",
        "\n",
        "    # Calculate the accuracy of the model\n",
        "    accuracy = accuracy_score(y_test, y_pred)\n",
        "\n",
        "    # Calculate the F1 score of the model\n",
        "    f1 = f1_score(y_test, y_pred)\n",
        "\n",
        "    # Print the model's name along with its accuracy and F1 score for evaluation\n",
        "    print(f\"{name}: Accuracy = {accuracy:.2f}, F1-score = {f1:.2f}\")\n",
        "\n",
        "    # Print the confusion matrix to understand the model's performance in detail\n",
        "    print(confusion_matrix(y_test, y_pred))\n"
      ],
      "metadata": {
        "colab": {
          "base_uri": "https://localhost:8080/"
        },
        "id": "O6Bk54tc3hMR",
        "outputId": "638c4468-bd20-421f-87aa-6c4b0b90a582"
      },
      "execution_count": 42,
      "outputs": [
        {
          "output_type": "stream",
          "name": "stdout",
          "text": [
            "Logistic Regression: Accuracy = 0.92, F1-score = 0.95\n",
            "[[ 30  37]\n",
            " [  5 429]]\n",
            "Support Vector Machine: Accuracy = 0.91, F1-score = 0.95\n",
            "[[ 32  35]\n",
            " [  8 426]]\n",
            "Random Forest: Accuracy = 0.92, F1-score = 0.96\n",
            "[[ 29  38]\n",
            " [  0 434]]\n"
          ]
        }
      ]
    },
    {
      "cell_type": "markdown",
      "source": [
        "## ROC Curve and AUC metrics"
      ],
      "metadata": {
        "id": "DVvaTU2iwi3N"
      }
    },
    {
      "cell_type": "code",
      "source": [
        "# Import matplotlib's pyplot for plotting graphs\n",
        "import matplotlib.pyplot as plt\n",
        "\n",
        "# Import ROC curve and AUC metrics from scikit-learn\n",
        "from sklearn.metrics import roc_curve, auc\n",
        "\n",
        "# Import LogisticRegression for logistic regression modeling\n",
        "from sklearn.linear_model import LogisticRegression\n",
        "\n",
        "# Import Support Vector Machine classifier from scikit-learn\n",
        "from sklearn.svm import SVC\n",
        "\n",
        "# Import Random Forest classifier from scikit-learn\n",
        "from sklearn.ensemble import RandomForestClassifier\n",
        "\n",
        "# Define a list of tuples where each tuple contains a model name and its corresponding initialized object\n",
        "models = [\n",
        "\n",
        "    # Logistic regression model\n",
        "    ('Logistic Regression', LogisticRegression()),\n",
        "\n",
        "    # Linear Support Vector Machine model\n",
        "    ('Support Vector Machine', SVC(probability=True)),\n",
        "\n",
        "    # Random Forest model\n",
        "    ('Random Forest', RandomForestClassifier())\n",
        "]\n",
        "\n",
        "# Loop through each model tuple\n",
        "for name, model in models:\n",
        "\n",
        "    # Fit the model to the training data\n",
        "    model.fit(X_train, y_train)\n",
        "\n",
        "    # Predict the probabilities for the positive class for binary classification\n",
        "    y_prob = model.predict_proba(X_test)[:, 1]\n",
        "\n",
        "    # Compute the ROC curve using the true labels and predicted probabilities\n",
        "    fpr, tpr, thresholds = roc_curve(y_test, y_prob)\n",
        "\n",
        "    # Compute the Area Under the ROC Curve (AUC) score\n",
        "    roc_auc = auc(fpr, tpr)\n",
        "\n",
        "    # Create a new figure with a specified size\n",
        "    plt.figure(figsize=(8, 6))\n",
        "\n",
        "    # Plot the ROC curve and include the AUC score in the label\n",
        "    plt.plot(fpr, tpr, label=f'{name} (AUC = {roc_auc:.2f})')\n",
        "\n",
        "    # Plot the random classifier line for reference\n",
        "    plt.plot([0, 1], [0, 1], 'k--')\n",
        "\n",
        "    # Set the x-axis limits from 0 to 1\n",
        "    plt.xlim([0.0, 1.0])\n",
        "\n",
        "    # Set the y-axis limits from 0 to 1.05\n",
        "    plt.ylim([0.0, 1.05])\n",
        "\n",
        "    # Set the x-axis label\n",
        "    plt.xlabel('False Positive Rate')\n",
        "\n",
        "    # Set the y-axis label\n",
        "    plt.ylabel('True Positive Rate')\n",
        "\n",
        "    # Set the plot title with the model name\n",
        "    plt.title(f'ROC Curve: {name}')\n",
        "\n",
        "    # Add a legend to the plot in the lower right corner\n",
        "    plt.legend(loc=\"lower right\")\n",
        "\n",
        "    # Display the plot\n",
        "    plt.show()\n",
        "\n",
        "    # Print a newline for a line break between each ROC curve visualization\n",
        "    print(\"\\n\")\n"
      ],
      "metadata": {
        "colab": {
          "base_uri": "https://localhost:8080/",
          "height": 1000
        },
        "id": "8WcA2R3swmsr",
        "outputId": "6db3093d-1a56-4c92-a7e1-564320881e04"
      },
      "execution_count": 50,
      "outputs": [
        {
          "output_type": "display_data",
          "data": {
            "text/plain": [
              "<Figure size 800x600 with 1 Axes>"
            ],
            "image/png": "[encoded data removed]"
          },
          "metadata": {}
        },
        {
          "output_type": "stream",
          "name": "stdout",
          "text": [
            "\n",
            "\n"
          ]
        },
        {
          "output_type": "display_data",
          "data": {
            "text/plain": [
              "<Figure size 800x600 with 1 Axes>"
            ],
            "image/png": "[encoded data removed]"
          },
          "metadata": {}
        },
        {
          "output_type": "stream",
          "name": "stdout",
          "text": [
            "\n",
            "\n"
          ]
        },
        {
          "output_type": "display_data",
          "data": {
            "text/plain": [
              "<Figure size 800x600 with 1 Axes>"
            ],
            "image/png": "[encoded data removed]"
          },
          "metadata": {}
        },
        {
          "output_type": "stream",
          "name": "stdout",
          "text": [
            "\n",
            "\n"
          ]
        }
      ]
    }
  ]
}